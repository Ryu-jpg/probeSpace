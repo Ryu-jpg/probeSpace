{
 "cells": [
  {
   "cell_type": "markdown",
   "metadata": {
    "id": "kTi7Is-0Uu7m"
   },
   "source": [
    "# データのロード\n",
    "まずはデータを読み込んで見ましょう。csvデータの読み込みは複数のやり方がありえますが、pandasのread_csv関数はその中でも機能が豊富で、扱いやすいためこれを使います。\n",
    "これを使うと、csvデータを読み込み、pandas.DataFrameにして返してくれます。"
   ]
  },
  {
   "cell_type": "code",
   "execution_count": 69,
   "metadata": {},
   "outputs": [],
   "source": [
    "import numpy as np\n",
    "import pandas as pd\n",
    "import pandas_profiling as pdp\n",
    "import matplotlib.pyplot as plt\n",
    "%matplotlib inline\n",
    "from mpl_toolkits.mplot3d import Axes3D\n",
    "import seaborn as sns\n",
    "import pickle\n",
    "from sklearn.model_selection import train_test_split,GridSearchCV\n",
    "from sklearn.decomposition import PCA\n",
    "from sklearn.manifold import TSNE\n",
    "from sklearn.preprocessing import StandardScaler\n",
    "from sklearn.ensemble import RandomForestRegressor\n",
    "from sklearn.metrics import r2_score\n",
    "from sklearn.metrics import mean_absolute_error\n",
    "import xgboost as xgb\n",
    "import lightgbm as lgb\n",
    "import warnings\n",
    "warnings.simplefilter('ignore')"
   ]
  },
  {
   "cell_type": "code",
   "execution_count": 136,
   "metadata": {
    "colab": {
     "base_uri": "https://localhost:8080/"
    },
    "executionInfo": {
     "elapsed": 3233,
     "status": "ok",
     "timestamp": 1619347309720,
     "user": {
      "displayName": "リュウイチ",
      "photoUrl": "https://lh3.googleusercontent.com/a-/AOh14GgpfSmscxJ-11scyWjhwzMwqt6MwzUnP-eb4LKWyg=s64",
      "userId": "09516200488397919357"
     },
     "user_tz": -540
    },
    "id": "HRP_nWzSIWTG",
    "outputId": "27977b77-7a05-4bdf-d77b-eac381287098"
   },
   "outputs": [
    {
     "name": "stdout",
     "output_type": "stream",
     "text": [
      "(20400, 23)\n",
      "(33808, 13)\n",
      "    totalPitchingCount  B  S  O     b1     b2     b3  pitcher pitcherHand  \\\n",
      "id                                                                          \n",
      "0                    2  1  0  0  False  False  False    遠藤 淳志           R   \n",
      "1                    1  0  0  0  False  False  False  バンデンハーク           R   \n",
      "2                    7  3  2  2   True  False  False     スアレス           R   \n",
      "3                    1  0  0  2   True  False  False      クック           R   \n",
      "4                    2  0  0  2  False  False  False    則本 昂大           R   \n",
      "\n",
      "   batter batterHand    gameID inning  \n",
      "id                                     \n",
      "0    乙坂 智          L  20202564    2回表  \n",
      "1   西川 遥輝          L  20202106    3回裏  \n",
      "2   堂林 翔太          R  20203305    9回裏  \n",
      "3   井領 雅貴          L  20202650    3回裏  \n",
      "4   安達 了一          R  20202339    2回表  \n"
     ]
    }
   ],
   "source": [
    "#データの読み込みと前処理\n",
    "import pandas as pd\n",
    "train = pd.read_csv(\"train_data.csv\", index_col='id')\n",
    "test = pd.read_csv(\"test_data.csv\", index_col='id')\n",
    "game = pd.read_csv(\"game_info.csv\")\n",
    "target = train['y']\n",
    "game = game.drop('Unnamed: 0',axis=1)\n",
    "print(train.shape)\n",
    "print(test.shape)\n",
    "print(test.head())"
   ]
  },
  {
   "cell_type": "code",
   "execution_count": 153,
   "metadata": {
    "colab": {
     "base_uri": "https://localhost:8080/"
    },
    "executionInfo": {
     "elapsed": 939,
     "status": "ok",
     "timestamp": 1619347313104,
     "user": {
      "displayName": "リュウイチ",
      "photoUrl": "https://lh3.googleusercontent.com/a-/AOh14GgpfSmscxJ-11scyWjhwzMwqt6MwzUnP-eb4LKWyg=s64",
      "userId": "09516200488397919357"
     },
     "user_tz": -540
    },
    "id": "vECQAEhgt-KC",
    "outputId": "5e62cec9-b832-4498-e837-0741e76e4179"
   },
   "outputs": [
    {
     "name": "stdout",
     "output_type": "stream",
     "text": [
      "<class 'pandas.core.frame.DataFrame'>\n",
      "Int64Index: 20400 entries, 0 to 20399\n",
      "Data columns (total 33 columns):\n",
      " #   Column              Non-Null Count  Dtype \n",
      "---  ------              --------------  ----- \n",
      " 0   totalPitchingCount  20400 non-null  int64 \n",
      " 1   B                   20400 non-null  int64 \n",
      " 2   S                   20400 non-null  int64 \n",
      " 3   O                   20400 non-null  int64 \n",
      " 4   b1                  20400 non-null  bool  \n",
      " 5   b2                  20400 non-null  bool  \n",
      " 6   b3                  20400 non-null  bool  \n",
      " 7   pitcher             20400 non-null  object\n",
      " 8   pitcherHand         20355 non-null  object\n",
      " 9   batter              20400 non-null  object\n",
      " 10  batterHand          20355 non-null  object\n",
      " 11  gameID              20400 non-null  int64 \n",
      " 12  inning              20400 non-null  object\n",
      " 13  y                   20400 non-null  int64 \n",
      " 14  bottomTeam_x        20400 non-null  object\n",
      " 15  bgBottom_x          20400 non-null  int64 \n",
      " 16  topTeam_x           20400 non-null  object\n",
      " 17  place_x             20400 non-null  object\n",
      " 18  bgTop_x             20400 non-null  int64 \n",
      " 19  startTime_x         20400 non-null  object\n",
      " 20  bottomTeam_y        20400 non-null  object\n",
      " 21  bgBottom_y          20400 non-null  int64 \n",
      " 22  topTeam_y           20400 non-null  object\n",
      " 23  place_y             20400 non-null  object\n",
      " 24  startDayTime_x      20400 non-null  object\n",
      " 25  bgTop_y             20400 non-null  int64 \n",
      " 26  startTime_y         20400 non-null  object\n",
      " 27  bottomTeam          20400 non-null  object\n",
      " 28  bgBottom            20400 non-null  int64 \n",
      " 29  topTeam             20400 non-null  object\n",
      " 30  place               20400 non-null  object\n",
      " 31  startDayTime_y      20400 non-null  object\n",
      " 32  bgTop               20400 non-null  int64 \n",
      "dtypes: bool(3), int64(12), object(18)\n",
      "memory usage: 4.9+ MB\n",
      "None\n"
     ]
    }
   ],
   "source": [
    "train = pd.merge(train, game, on='gameID')\n",
    "test = pd.merge(test, game, on='gameID')\n",
    "#print(test.info())\n",
    "print(train.info())"
   ]
  },
  {
   "cell_type": "code",
   "execution_count": 132,
   "metadata": {
    "colab": {
     "base_uri": "https://localhost:8080/",
     "height": 289
    },
    "executionInfo": {
     "elapsed": 908,
     "status": "ok",
     "timestamp": 1619347320175,
     "user": {
      "displayName": "リュウイチ",
      "photoUrl": "https://lh3.googleusercontent.com/a-/AOh14GgpfSmscxJ-11scyWjhwzMwqt6MwzUnP-eb4LKWyg=s64",
      "userId": "09516200488397919357"
     },
     "user_tz": -540
    },
    "id": "ESMlUlcWwfLI",
    "outputId": "93c1fb3d-e779-4c9d-efb5-4c9d07cb8e79"
   },
   "outputs": [
    {
     "data": {
      "text/html": [
       "<div>\n",
       "<style scoped>\n",
       "    .dataframe tbody tr th:only-of-type {\n",
       "        vertical-align: middle;\n",
       "    }\n",
       "\n",
       "    .dataframe tbody tr th {\n",
       "        vertical-align: top;\n",
       "    }\n",
       "\n",
       "    .dataframe thead th {\n",
       "        text-align: right;\n",
       "    }\n",
       "</style>\n",
       "<table border=\"1\" class=\"dataframe\">\n",
       "  <thead>\n",
       "    <tr style=\"text-align: right;\">\n",
       "      <th></th>\n",
       "      <th>totalPitchingCount</th>\n",
       "      <th>B</th>\n",
       "      <th>S</th>\n",
       "      <th>O</th>\n",
       "      <th>b1</th>\n",
       "      <th>b2</th>\n",
       "      <th>b3</th>\n",
       "      <th>pitcher</th>\n",
       "      <th>pitcherHand</th>\n",
       "      <th>batter</th>\n",
       "      <th>batterHand</th>\n",
       "      <th>gameID</th>\n",
       "      <th>inning</th>\n",
       "      <th>startTime</th>\n",
       "      <th>bottomTeam</th>\n",
       "      <th>bgBottom</th>\n",
       "      <th>topTeam</th>\n",
       "      <th>place</th>\n",
       "      <th>startDayTime</th>\n",
       "      <th>bgTop</th>\n",
       "    </tr>\n",
       "  </thead>\n",
       "  <tbody>\n",
       "    <tr>\n",
       "      <th>0</th>\n",
       "      <td>2</td>\n",
       "      <td>1</td>\n",
       "      <td>0</td>\n",
       "      <td>0</td>\n",
       "      <td>False</td>\n",
       "      <td>False</td>\n",
       "      <td>False</td>\n",
       "      <td>遠藤 淳志</td>\n",
       "      <td>R</td>\n",
       "      <td>乙坂 智</td>\n",
       "      <td>L</td>\n",
       "      <td>20202564</td>\n",
       "      <td>2回表</td>\n",
       "      <td>13:30</td>\n",
       "      <td>広島</td>\n",
       "      <td>6</td>\n",
       "      <td>DeNA</td>\n",
       "      <td>マツダスタジアム</td>\n",
       "      <td>2020-09-06 13:30:00</td>\n",
       "      <td>3</td>\n",
       "    </tr>\n",
       "    <tr>\n",
       "      <th>1</th>\n",
       "      <td>4</td>\n",
       "      <td>1</td>\n",
       "      <td>2</td>\n",
       "      <td>1</td>\n",
       "      <td>False</td>\n",
       "      <td>False</td>\n",
       "      <td>False</td>\n",
       "      <td>京山 将弥</td>\n",
       "      <td>R</td>\n",
       "      <td>ピレラ</td>\n",
       "      <td>R</td>\n",
       "      <td>20202564</td>\n",
       "      <td>3回裏</td>\n",
       "      <td>13:30</td>\n",
       "      <td>広島</td>\n",
       "      <td>6</td>\n",
       "      <td>DeNA</td>\n",
       "      <td>マツダスタジアム</td>\n",
       "      <td>2020-09-06 13:30:00</td>\n",
       "      <td>3</td>\n",
       "    </tr>\n",
       "    <tr>\n",
       "      <th>2</th>\n",
       "      <td>2</td>\n",
       "      <td>0</td>\n",
       "      <td>1</td>\n",
       "      <td>2</td>\n",
       "      <td>True</td>\n",
       "      <td>False</td>\n",
       "      <td>False</td>\n",
       "      <td>京山 将弥</td>\n",
       "      <td>R</td>\n",
       "      <td>大盛 穂</td>\n",
       "      <td>L</td>\n",
       "      <td>20202564</td>\n",
       "      <td>4回裏</td>\n",
       "      <td>13:30</td>\n",
       "      <td>広島</td>\n",
       "      <td>6</td>\n",
       "      <td>DeNA</td>\n",
       "      <td>マツダスタジアム</td>\n",
       "      <td>2020-09-06 13:30:00</td>\n",
       "      <td>3</td>\n",
       "    </tr>\n",
       "    <tr>\n",
       "      <th>3</th>\n",
       "      <td>5</td>\n",
       "      <td>2</td>\n",
       "      <td>2</td>\n",
       "      <td>1</td>\n",
       "      <td>False</td>\n",
       "      <td>False</td>\n",
       "      <td>False</td>\n",
       "      <td>京山 将弥</td>\n",
       "      <td>R</td>\n",
       "      <td>鈴木 誠也</td>\n",
       "      <td>R</td>\n",
       "      <td>20202564</td>\n",
       "      <td>5回裏</td>\n",
       "      <td>13:30</td>\n",
       "      <td>広島</td>\n",
       "      <td>6</td>\n",
       "      <td>DeNA</td>\n",
       "      <td>マツダスタジアム</td>\n",
       "      <td>2020-09-06 13:30:00</td>\n",
       "      <td>3</td>\n",
       "    </tr>\n",
       "    <tr>\n",
       "      <th>4</th>\n",
       "      <td>1</td>\n",
       "      <td>0</td>\n",
       "      <td>0</td>\n",
       "      <td>0</td>\n",
       "      <td>False</td>\n",
       "      <td>False</td>\n",
       "      <td>False</td>\n",
       "      <td>遠藤 淳志</td>\n",
       "      <td>R</td>\n",
       "      <td>梶谷 隆幸</td>\n",
       "      <td>L</td>\n",
       "      <td>20202564</td>\n",
       "      <td>1回表</td>\n",
       "      <td>13:30</td>\n",
       "      <td>広島</td>\n",
       "      <td>6</td>\n",
       "      <td>DeNA</td>\n",
       "      <td>マツダスタジアム</td>\n",
       "      <td>2020-09-06 13:30:00</td>\n",
       "      <td>3</td>\n",
       "    </tr>\n",
       "  </tbody>\n",
       "</table>\n",
       "</div>"
      ],
      "text/plain": [
       "   totalPitchingCount  B  S  O     b1     b2     b3 pitcher pitcherHand  \\\n",
       "0                   2  1  0  0  False  False  False   遠藤 淳志           R   \n",
       "1                   4  1  2  1  False  False  False   京山 将弥           R   \n",
       "2                   2  0  1  2   True  False  False   京山 将弥           R   \n",
       "3                   5  2  2  1  False  False  False   京山 将弥           R   \n",
       "4                   1  0  0  0  False  False  False   遠藤 淳志           R   \n",
       "\n",
       "  batter batterHand    gameID inning startTime bottomTeam  bgBottom topTeam  \\\n",
       "0   乙坂 智          L  20202564    2回表     13:30         広島         6    DeNA   \n",
       "1    ピレラ          R  20202564    3回裏     13:30         広島         6    DeNA   \n",
       "2   大盛 穂          L  20202564    4回裏     13:30         広島         6    DeNA   \n",
       "3  鈴木 誠也          R  20202564    5回裏     13:30         広島         6    DeNA   \n",
       "4  梶谷 隆幸          L  20202564    1回表     13:30         広島         6    DeNA   \n",
       "\n",
       "      place         startDayTime  bgTop  \n",
       "0  マツダスタジアム  2020-09-06 13:30:00      3  \n",
       "1  マツダスタジアム  2020-09-06 13:30:00      3  \n",
       "2  マツダスタジアム  2020-09-06 13:30:00      3  \n",
       "3  マツダスタジアム  2020-09-06 13:30:00      3  \n",
       "4  マツダスタジアム  2020-09-06 13:30:00      3  "
      ]
     },
     "execution_count": 132,
     "metadata": {},
     "output_type": "execute_result"
    }
   ],
   "source": [
    "test.head()\n",
    "#train.head()\n",
    "#test.info()\n",
    "#train.info()"
   ]
  },
  {
   "cell_type": "code",
   "execution_count": 84,
   "metadata": {
    "colab": {
     "base_uri": "https://localhost:8080/"
    },
    "executionInfo": {
     "elapsed": 1129,
     "status": "ok",
     "timestamp": 1619347323900,
     "user": {
      "displayName": "リュウイチ",
      "photoUrl": "https://lh3.googleusercontent.com/a-/AOh14GgpfSmscxJ-11scyWjhwzMwqt6MwzUnP-eb4LKWyg=s64",
      "userId": "09516200488397919357"
     },
     "user_tz": -540
    },
    "id": "OV12HYAXPwef",
    "outputId": "3bae85f5-76da-46d2-aaac-abab59bc294f"
   },
   "outputs": [
    {
     "name": "stdout",
     "output_type": "stream",
     "text": [
      "       totalPitchingCount  B  S  O     b1     b2     b3 pitcher pitcherHand  \\\n",
      "0                       1  0  0  0  False  False  False   今永 昇太           L   \n",
      "1                       2  1  0  0  False  False  False   今永 昇太           L   \n",
      "2                       3  1  1  0  False  False  False   今永 昇太           L   \n",
      "3                       4  2  1  0  False  False  False   今永 昇太           L   \n",
      "4                       5  2  2  0  False  False  False   今永 昇太           L   \n",
      "...                   ... .. .. ..    ...    ...    ...     ...         ...   \n",
      "20152                   2  1  0  2  False  False  False    森 唯斗           R   \n",
      "20153                   3  1  1  2  False  False  False    森 唯斗           R   \n",
      "20154                   4  2  1  2  False  False  False    森 唯斗           R   \n",
      "20155                   5  2  2  2  False  False  False    森 唯斗           R   \n",
      "20156                   6  3  2  2  False  False  False    森 唯斗           R   \n",
      "\n",
      "      batter  ... battingType  isOuts  y startTime bottomTeam bgBottom  \\\n",
      "0        ピレラ  ...         NaN     NaN  0     18:00       DeNA        3   \n",
      "1        ピレラ  ...         NaN     NaN  1     18:00       DeNA        3   \n",
      "2        ピレラ  ...         NaN     NaN  0     18:00       DeNA        3   \n",
      "3        ピレラ  ...         NaN     NaN  2     18:00       DeNA        3   \n",
      "4        ピレラ  ...           G   False  4     18:00       DeNA        3   \n",
      "...      ...  ...         ...     ... ..       ...        ...      ...   \n",
      "20152  大田 泰示  ...         NaN     NaN  2     18:00       日本ハム        8   \n",
      "20153  大田 泰示  ...         NaN     NaN  0     18:00       日本ハム        8   \n",
      "20154  大田 泰示  ...         NaN     NaN  1     18:00       日本ハム        8   \n",
      "20155  大田 泰示  ...         NaN     NaN  0     18:00       日本ハム        8   \n",
      "20156  大田 泰示  ...         NaN    True  1     18:00       日本ハム        8   \n",
      "\n",
      "       topTeam  place         startDayTime  bgTop  \n",
      "0           広島     横浜  2020-06-19 18:00:00      6  \n",
      "1           広島     横浜  2020-06-19 18:00:00      6  \n",
      "2           広島     横浜  2020-06-19 18:00:00      6  \n",
      "3           広島     横浜  2020-06-19 18:00:00      6  \n",
      "4           広島     横浜  2020-06-19 18:00:00      6  \n",
      "...        ...    ...                  ...    ...  \n",
      "20152   ソフトバンク  札幌ドーム  2020-06-30 18:00:00     12  \n",
      "20153   ソフトバンク  札幌ドーム  2020-06-30 18:00:00     12  \n",
      "20154   ソフトバンク  札幌ドーム  2020-06-30 18:00:00     12  \n",
      "20155   ソフトバンク  札幌ドーム  2020-06-30 18:00:00     12  \n",
      "20156   ソフトバンク  札幌ドーム  2020-06-30 18:00:00     12  \n",
      "\n",
      "[17136 rows x 30 columns]\n"
     ]
    }
   ],
   "source": [
    "#重複データの表示\n",
    "#print(train[train_data.duplicated()])\n",
    "\n",
    "#重複データの削除\n",
    "#2040-3264=\n",
    "train = train.drop_duplicates()\n",
    "print(train)"
   ]
  },
  {
   "cell_type": "code",
   "execution_count": 85,
   "metadata": {
    "colab": {
     "base_uri": "https://localhost:8080/"
    },
    "executionInfo": {
     "elapsed": 1371,
     "status": "ok",
     "timestamp": 1619318444353,
     "user": {
      "displayName": "リュウイチ",
      "photoUrl": "https://lh3.googleusercontent.com/a-/AOh14GgpfSmscxJ-11scyWjhwzMwqt6MwzUnP-eb4LKWyg=s64",
      "userId": "09516200488397919357"
     },
     "user_tz": -540
    },
    "id": "oSXebNBtRviI",
    "outputId": "e4013f70-b5ec-44ae-d2ab-118885397598"
   },
   "outputs": [
    {
     "name": "stdout",
     "output_type": "stream",
     "text": [
      "(17136, 30)\n"
     ]
    }
   ],
   "source": [
    "print(train.shape)"
   ]
  },
  {
   "cell_type": "code",
   "execution_count": 86,
   "metadata": {
    "colab": {
     "base_uri": "https://localhost:8080/",
     "height": 210
    },
    "executionInfo": {
     "elapsed": 715,
     "status": "ok",
     "timestamp": 1619319992033,
     "user": {
      "displayName": "リュウイチ",
      "photoUrl": "https://lh3.googleusercontent.com/a-/AOh14GgpfSmscxJ-11scyWjhwzMwqt6MwzUnP-eb4LKWyg=s64",
      "userId": "09516200488397919357"
     },
     "user_tz": -540
    },
    "id": "3uwlC2nm5nOn",
    "outputId": "b07e6f43-84b8-4acd-de60-149fcb8fca8d"
   },
   "outputs": [
    {
     "data": {
      "text/html": [
       "<div>\n",
       "<style scoped>\n",
       "    .dataframe tbody tr th:only-of-type {\n",
       "        vertical-align: middle;\n",
       "    }\n",
       "\n",
       "    .dataframe tbody tr th {\n",
       "        vertical-align: top;\n",
       "    }\n",
       "\n",
       "    .dataframe thead th {\n",
       "        text-align: right;\n",
       "    }\n",
       "</style>\n",
       "<table border=\"1\" class=\"dataframe\">\n",
       "  <thead>\n",
       "    <tr style=\"text-align: right;\">\n",
       "      <th></th>\n",
       "      <th>pitcher</th>\n",
       "      <th>pitcherHand</th>\n",
       "      <th>batter</th>\n",
       "      <th>batterHand</th>\n",
       "      <th>inning</th>\n",
       "      <th>pitchType</th>\n",
       "      <th>speed</th>\n",
       "      <th>ballPositionLabel</th>\n",
       "      <th>ballY</th>\n",
       "      <th>dir</th>\n",
       "      <th>battingType</th>\n",
       "      <th>isOuts</th>\n",
       "      <th>startTime</th>\n",
       "      <th>bottomTeam</th>\n",
       "      <th>topTeam</th>\n",
       "      <th>place</th>\n",
       "      <th>startDayTime</th>\n",
       "    </tr>\n",
       "  </thead>\n",
       "  <tbody>\n",
       "    <tr>\n",
       "      <th>count</th>\n",
       "      <td>17136</td>\n",
       "      <td>17105</td>\n",
       "      <td>17136</td>\n",
       "      <td>17105</td>\n",
       "      <td>17136</td>\n",
       "      <td>17136</td>\n",
       "      <td>17136</td>\n",
       "      <td>17136</td>\n",
       "      <td>17136</td>\n",
       "      <td>3094</td>\n",
       "      <td>3094</td>\n",
       "      <td>4356</td>\n",
       "      <td>17136</td>\n",
       "      <td>17136</td>\n",
       "      <td>17136</td>\n",
       "      <td>17136</td>\n",
       "      <td>17136</td>\n",
       "    </tr>\n",
       "    <tr>\n",
       "      <th>unique</th>\n",
       "      <td>188</td>\n",
       "      <td>2</td>\n",
       "      <td>236</td>\n",
       "      <td>2</td>\n",
       "      <td>18</td>\n",
       "      <td>9</td>\n",
       "      <td>71</td>\n",
       "      <td>12</td>\n",
       "      <td>11</td>\n",
       "      <td>26</td>\n",
       "      <td>5</td>\n",
       "      <td>2</td>\n",
       "      <td>3</td>\n",
       "      <td>10</td>\n",
       "      <td>10</td>\n",
       "      <td>10</td>\n",
       "      <td>14</td>\n",
       "    </tr>\n",
       "    <tr>\n",
       "      <th>top</th>\n",
       "      <td>大瀬良 大地</td>\n",
       "      <td>R</td>\n",
       "      <td>西川 遥輝</td>\n",
       "      <td>R</td>\n",
       "      <td>4回裏</td>\n",
       "      <td>ストレート</td>\n",
       "      <td>144km/h</td>\n",
       "      <td>外角低め</td>\n",
       "      <td>K</td>\n",
       "      <td>I</td>\n",
       "      <td>G</td>\n",
       "      <td>True</td>\n",
       "      <td>18:00</td>\n",
       "      <td>西武</td>\n",
       "      <td>阪神</td>\n",
       "      <td>メットライフ</td>\n",
       "      <td>2020-06-20 14:00:00</td>\n",
       "    </tr>\n",
       "    <tr>\n",
       "      <th>freq</th>\n",
       "      <td>248</td>\n",
       "      <td>12078</td>\n",
       "      <td>224</td>\n",
       "      <td>9019</td>\n",
       "      <td>1045</td>\n",
       "      <td>7081</td>\n",
       "      <td>823</td>\n",
       "      <td>3754</td>\n",
       "      <td>2610</td>\n",
       "      <td>164</td>\n",
       "      <td>1425</td>\n",
       "      <td>2947</td>\n",
       "      <td>10521</td>\n",
       "      <td>3006</td>\n",
       "      <td>2816</td>\n",
       "      <td>3006</td>\n",
       "      <td>1848</td>\n",
       "    </tr>\n",
       "  </tbody>\n",
       "</table>\n",
       "</div>"
      ],
      "text/plain": [
       "       pitcher pitcherHand batter batterHand inning pitchType    speed  \\\n",
       "count    17136       17105  17136      17105  17136     17136    17136   \n",
       "unique     188           2    236          2     18         9       71   \n",
       "top     大瀬良 大地           R  西川 遥輝          R    4回裏     ストレート  144km/h   \n",
       "freq       248       12078    224       9019   1045      7081      823   \n",
       "\n",
       "       ballPositionLabel  ballY   dir battingType isOuts startTime bottomTeam  \\\n",
       "count              17136  17136  3094        3094   4356     17136      17136   \n",
       "unique                12     11    26           5      2         3         10   \n",
       "top                 外角低め      K     I           G   True     18:00         西武   \n",
       "freq                3754   2610   164        1425   2947     10521       3006   \n",
       "\n",
       "       topTeam   place         startDayTime  \n",
       "count    17136   17136                17136  \n",
       "unique      10      10                   14  \n",
       "top         阪神  メットライフ  2020-06-20 14:00:00  \n",
       "freq      2816    3006                 1848  "
      ]
     },
     "execution_count": 86,
     "metadata": {},
     "output_type": "execute_result"
    }
   ],
   "source": [
    "#カテゴリ変数の確認\n",
    "cat_cols = [col for col in train.columns[:29] if train[col].dtype in ['O']]\n",
    "train[cat_cols].describe() \n",
    "#cat_cols = [col for col in test.columns[:19] if test[col].dtype in ['O']]\n",
    "#test[cat_cols].describe() "
   ]
  },
  {
   "cell_type": "code",
   "execution_count": 89,
   "metadata": {},
   "outputs": [
    {
     "data": {
      "text/html": [
       "<div>\n",
       "<style scoped>\n",
       "    .dataframe tbody tr th:only-of-type {\n",
       "        vertical-align: middle;\n",
       "    }\n",
       "\n",
       "    .dataframe tbody tr th {\n",
       "        vertical-align: top;\n",
       "    }\n",
       "\n",
       "    .dataframe thead th {\n",
       "        text-align: right;\n",
       "    }\n",
       "</style>\n",
       "<table border=\"1\" class=\"dataframe\">\n",
       "  <thead>\n",
       "    <tr style=\"text-align: right;\">\n",
       "      <th></th>\n",
       "      <th>totalPitchingCount</th>\n",
       "      <th>B</th>\n",
       "      <th>S</th>\n",
       "      <th>O</th>\n",
       "      <th>gameID</th>\n",
       "      <th>ballX</th>\n",
       "      <th>dist</th>\n",
       "      <th>y</th>\n",
       "      <th>bgBottom</th>\n",
       "      <th>bgTop</th>\n",
       "    </tr>\n",
       "  </thead>\n",
       "  <tbody>\n",
       "    <tr>\n",
       "      <th>count</th>\n",
       "      <td>17136.000000</td>\n",
       "      <td>17136.000000</td>\n",
       "      <td>17136.000000</td>\n",
       "      <td>17136.000000</td>\n",
       "      <td>1.713600e+04</td>\n",
       "      <td>17136.000000</td>\n",
       "      <td>4356.000000</td>\n",
       "      <td>17136.00000</td>\n",
       "      <td>17136.000000</td>\n",
       "      <td>17136.000000</td>\n",
       "    </tr>\n",
       "    <tr>\n",
       "      <th>mean</th>\n",
       "      <td>2.931664</td>\n",
       "      <td>0.908322</td>\n",
       "      <td>0.880369</td>\n",
       "      <td>1.018557</td>\n",
       "      <td>2.020215e+07</td>\n",
       "      <td>11.554038</td>\n",
       "      <td>40.218756</td>\n",
       "      <td>1.26138</td>\n",
       "      <td>5.765815</td>\n",
       "      <td>7.321604</td>\n",
       "    </tr>\n",
       "    <tr>\n",
       "      <th>std</th>\n",
       "      <td>1.768198</td>\n",
       "      <td>0.967067</td>\n",
       "      <td>0.822600</td>\n",
       "      <td>0.820588</td>\n",
       "      <td>1.725055e+01</td>\n",
       "      <td>6.096338</td>\n",
       "      <td>36.485231</td>\n",
       "      <td>1.33110</td>\n",
       "      <td>3.623813</td>\n",
       "      <td>3.078760</td>\n",
       "    </tr>\n",
       "    <tr>\n",
       "      <th>min</th>\n",
       "      <td>1.000000</td>\n",
       "      <td>0.000000</td>\n",
       "      <td>0.000000</td>\n",
       "      <td>0.000000</td>\n",
       "      <td>2.020212e+07</td>\n",
       "      <td>1.000000</td>\n",
       "      <td>0.000000</td>\n",
       "      <td>0.00000</td>\n",
       "      <td>1.000000</td>\n",
       "      <td>1.000000</td>\n",
       "    </tr>\n",
       "    <tr>\n",
       "      <th>25%</th>\n",
       "      <td>1.000000</td>\n",
       "      <td>0.000000</td>\n",
       "      <td>0.000000</td>\n",
       "      <td>0.000000</td>\n",
       "      <td>2.020213e+07</td>\n",
       "      <td>7.000000</td>\n",
       "      <td>0.000000</td>\n",
       "      <td>0.00000</td>\n",
       "      <td>2.000000</td>\n",
       "      <td>5.000000</td>\n",
       "    </tr>\n",
       "    <tr>\n",
       "      <th>50%</th>\n",
       "      <td>3.000000</td>\n",
       "      <td>1.000000</td>\n",
       "      <td>1.000000</td>\n",
       "      <td>1.000000</td>\n",
       "      <td>2.020215e+07</td>\n",
       "      <td>12.000000</td>\n",
       "      <td>37.300000</td>\n",
       "      <td>1.00000</td>\n",
       "      <td>7.000000</td>\n",
       "      <td>8.000000</td>\n",
       "    </tr>\n",
       "    <tr>\n",
       "      <th>75%</th>\n",
       "      <td>4.000000</td>\n",
       "      <td>2.000000</td>\n",
       "      <td>2.000000</td>\n",
       "      <td>2.000000</td>\n",
       "      <td>2.020216e+07</td>\n",
       "      <td>16.000000</td>\n",
       "      <td>64.550000</td>\n",
       "      <td>2.00000</td>\n",
       "      <td>9.000000</td>\n",
       "      <td>10.000000</td>\n",
       "    </tr>\n",
       "    <tr>\n",
       "      <th>max</th>\n",
       "      <td>17.000000</td>\n",
       "      <td>3.000000</td>\n",
       "      <td>2.000000</td>\n",
       "      <td>2.000000</td>\n",
       "      <td>2.020218e+07</td>\n",
       "      <td>21.000000</td>\n",
       "      <td>136.600000</td>\n",
       "      <td>7.00000</td>\n",
       "      <td>12.000000</td>\n",
       "      <td>12.000000</td>\n",
       "    </tr>\n",
       "  </tbody>\n",
       "</table>\n",
       "</div>"
      ],
      "text/plain": [
       "       totalPitchingCount             B             S             O  \\\n",
       "count        17136.000000  17136.000000  17136.000000  17136.000000   \n",
       "mean             2.931664      0.908322      0.880369      1.018557   \n",
       "std              1.768198      0.967067      0.822600      0.820588   \n",
       "min              1.000000      0.000000      0.000000      0.000000   \n",
       "25%              1.000000      0.000000      0.000000      0.000000   \n",
       "50%              3.000000      1.000000      1.000000      1.000000   \n",
       "75%              4.000000      2.000000      2.000000      2.000000   \n",
       "max             17.000000      3.000000      2.000000      2.000000   \n",
       "\n",
       "             gameID         ballX         dist            y      bgBottom  \\\n",
       "count  1.713600e+04  17136.000000  4356.000000  17136.00000  17136.000000   \n",
       "mean   2.020215e+07     11.554038    40.218756      1.26138      5.765815   \n",
       "std    1.725055e+01      6.096338    36.485231      1.33110      3.623813   \n",
       "min    2.020212e+07      1.000000     0.000000      0.00000      1.000000   \n",
       "25%    2.020213e+07      7.000000     0.000000      0.00000      2.000000   \n",
       "50%    2.020215e+07     12.000000    37.300000      1.00000      7.000000   \n",
       "75%    2.020216e+07     16.000000    64.550000      2.00000      9.000000   \n",
       "max    2.020218e+07     21.000000   136.600000      7.00000     12.000000   \n",
       "\n",
       "              bgTop  \n",
       "count  17136.000000  \n",
       "mean       7.321604  \n",
       "std        3.078760  \n",
       "min        1.000000  \n",
       "25%        5.000000  \n",
       "50%        8.000000  \n",
       "75%       10.000000  \n",
       "max       12.000000  "
      ]
     },
     "execution_count": 89,
     "metadata": {},
     "output_type": "execute_result"
    }
   ],
   "source": [
    "#量的変数の偏りチェック\n",
    "train.describe()\n"
   ]
  },
  {
   "cell_type": "code",
   "execution_count": 15,
   "metadata": {},
   "outputs": [
    {
     "data": {
      "text/plain": [
       "(array([7429.,    0.,    0., 5290.,    0.,    0., 2976.,    0.,    0.,\n",
       "        1441.]),\n",
       " array([0. , 0.3, 0.6, 0.9, 1.2, 1.5, 1.8, 2.1, 2.4, 2.7, 3. ]),\n",
       " <a list of 10 Patch objects>)"
      ]
     },
     "execution_count": 15,
     "metadata": {},
     "output_type": "execute_result"
    },
    {
     "data": {
      "image/png": "[encoded data removed]",
      "text/plain": [
       "<Figure size 432x288 with 1 Axes>"
      ]
     },
     "metadata": {
      "needs_background": "light"
     },
     "output_type": "display_data"
    }
   ],
   "source": [
    "plt.hist(train[\"totalPitchingCount\"])"
   ]
  },
  {
   "cell_type": "code",
   "execution_count": 16,
   "metadata": {},
   "outputs": [
    {
     "data": {
      "text/plain": [
       "(array([7429.,    0.,    0., 5290.,    0.,    0., 2976.,    0.,    0.,\n",
       "        1441.]),\n",
       " array([0. , 0.3, 0.6, 0.9, 1.2, 1.5, 1.8, 2.1, 2.4, 2.7, 3. ]),\n",
       " <a list of 10 Patch objects>)"
      ]
     },
     "execution_count": 16,
     "metadata": {},
     "output_type": "execute_result"
    },
    {
     "data": {
      "image/png": "[encoded data removed]",
      "text/plain": [
       "<Figure size 432x288 with 1 Axes>"
      ]
     },
     "metadata": {
      "needs_background": "light"
     },
     "output_type": "display_data"
    }
   ],
   "source": [
    "plt.hist(train[\"B\"])"
   ]
  },
  {
   "cell_type": "markdown",
   "metadata": {
    "id": "IvT7_-f6yp1o"
   },
   "source": [
    "plt.hist(train[\"S\"])"
   ]
  },
  {
   "cell_type": "code",
   "execution_count": 18,
   "metadata": {},
   "outputs": [
    {
     "data": {
      "text/plain": [
       "(array([5613.,    0.,    0.,    0.,    0., 5592.,    0.,    0.,    0.,\n",
       "        5931.]),\n",
       " array([0. , 0.2, 0.4, 0.6, 0.8, 1. , 1.2, 1.4, 1.6, 1.8, 2. ]),\n",
       " <a list of 10 Patch objects>)"
      ]
     },
     "execution_count": 18,
     "metadata": {},
     "output_type": "execute_result"
    },
    {
     "data": {
      "image/png": "[encoded data removed]",
      "text/plain": [
       "<Figure size 432x288 with 1 Axes>"
      ]
     },
     "metadata": {
      "needs_background": "light"
     },
     "output_type": "display_data"
    }
   ],
   "source": [
    "plt.hist(train[\"O\"])"
   ]
  },
  {
   "cell_type": "code",
   "execution_count": null,
   "metadata": {},
   "outputs": [],
   "source": [
    "plt.hist(train[\"S\"])"
   ]
  },
  {
   "cell_type": "code",
   "execution_count": 19,
   "metadata": {},
   "outputs": [
    {
     "data": {
      "text/plain": [
       "(array([1689., 1215., 1018., 1680., 1603., 2190., 1850., 1820., 1232.,\n",
       "        2839.]),\n",
       " array([ 1.,  3.,  5.,  7.,  9., 11., 13., 15., 17., 19., 21.]),\n",
       " <a list of 10 Patch objects>)"
      ]
     },
     "execution_count": 19,
     "metadata": {},
     "output_type": "execute_result"
    },
    {
     "data": {
      "image/png": "[encoded data removed]",
      "text/plain": [
       "<Figure size 432x288 with 1 Axes>"
      ]
     },
     "metadata": {
      "needs_background": "light"
     },
     "output_type": "display_data"
    }
   ],
   "source": [
    "plt.hist(train[\"ballX\"])"
   ]
  },
  {
   "cell_type": "code",
   "execution_count": 20,
   "metadata": {},
   "outputs": [
    {
     "data": {
      "text/plain": [
       "(array([1308., 1403., 1257., 2145., 2415., 2265.,  799., 1590., 2610.,\n",
       "        1344.]),\n",
       " array([ 0.,  1.,  2.,  3.,  4.,  5.,  6.,  7.,  8.,  9., 10.]),\n",
       " <a list of 10 Patch objects>)"
      ]
     },
     "execution_count": 20,
     "metadata": {},
     "output_type": "execute_result"
    },
    {
     "data": {
      "image/png": "[encoded data removed]",
      "text/plain": [
       "<Figure size 432x288 with 1 Axes>"
      ]
     },
     "metadata": {
      "needs_background": "light"
     },
     "output_type": "display_data"
    }
   ],
   "source": [
    "plt.hist(train[\"ballY\"])"
   ]
  },
  {
   "cell_type": "code",
   "execution_count": 21,
   "metadata": {},
   "outputs": [
    {
     "data": {
      "text/plain": [
       "(array([4611., 2593., 1167.,    0.,    0., 3006.,  243., 1641., 2130.,\n",
       "        1745.]),\n",
       " array([ 1. ,  2.1,  3.2,  4.3,  5.4,  6.5,  7.6,  8.7,  9.8, 10.9, 12. ]),\n",
       " <a list of 10 Patch objects>)"
      ]
     },
     "execution_count": 21,
     "metadata": {},
     "output_type": "execute_result"
    },
    {
     "data": {
      "image/png": "[encoded data removed]",
      "text/plain": [
       "<Figure size 432x288 with 1 Axes>"
      ]
     },
     "metadata": {
      "needs_background": "light"
     },
     "output_type": "display_data"
    }
   ],
   "source": [
    "plt.hist(train[\"bgBottom\"])"
   ]
  },
  {
   "cell_type": "code",
   "execution_count": 22,
   "metadata": {},
   "outputs": [
    {
     "data": {
      "text/plain": [
       "(array([1377.,  260.,  995.,  473.,  227.,  262.,  249.,  289.,  172.,\n",
       "          52.]),\n",
       " array([  0.  ,  13.66,  27.32,  40.98,  54.64,  68.3 ,  81.96,  95.62,\n",
       "        109.28, 122.94, 136.6 ]),\n",
       " <a list of 10 Patch objects>)"
      ]
     },
     "execution_count": 22,
     "metadata": {},
     "output_type": "execute_result"
    },
    {
     "data": {
      "image/png": "[encoded data removed]",
      "text/plain": [
       "<Figure size 432x288 with 1 Axes>"
      ]
     },
     "metadata": {
      "needs_background": "light"
     },
     "output_type": "display_data"
    }
   ],
   "source": [
    "plt.hist(train[\"dist\"])"
   ]
  },
  {
   "cell_type": "code",
   "execution_count": 23,
   "metadata": {},
   "outputs": [
    {
     "data": {
      "text/plain": [
       "(array([ 909.,  300., 1745., 2816., 2601.,    0., 2730., 1203.,  861.,\n",
       "        3971.]),\n",
       " array([ 1. ,  2.1,  3.2,  4.3,  5.4,  6.5,  7.6,  8.7,  9.8, 10.9, 12. ]),\n",
       " <a list of 10 Patch objects>)"
      ]
     },
     "execution_count": 23,
     "metadata": {},
     "output_type": "execute_result"
    },
    {
     "data": {
      "image/png": "[encoded data removed]",
      "text/plain": [
       "<Figure size 432x288 with 1 Axes>"
      ]
     },
     "metadata": {
      "needs_background": "light"
     },
     "output_type": "display_data"
    }
   ],
   "source": [
    "plt.hist(train[\"plt.figure(figsize=\"])"
   ]
  },
  {
   "cell_type": "code",
   "execution_count": 46,
   "metadata": {},
   "outputs": [
    {
     "data": {
      "image/png": "[encoded data removed]",
      "text/plain": [
       "<Figure size 1200x1000 with 9 Axes>"
      ]
     },
     "metadata": {
      "needs_background": "light"
     },
     "output_type": "display_data"
    }
   ],
   "source": [
    "fig = plt.figure(figsize=(12,10), dpi = 100) #figsize:グラフを描くスペースを作成  横縦を(float, float)で指定。 dpi:整数で指定。台紙figreのfigsize*dpiが画像サイズになる。\n",
    "\n",
    "ax1 = fig.add_subplot(3, 4, 1) #2行4列の行列で、左上から数えて1番目に描画する\n",
    "ax1.hist(train.bgBottom,color=\"red\")\n",
    "ax1.set_title('bgBottom')\n",
    "\n",
    "ax2 = fig.add_subplot(3, 4, 2) #1行2列の行列で、左上から数えて2番目に描画する\n",
    "ax2.hist(train.dist)\n",
    "ax2.set_title('dist batting distance')\n",
    "ax2 = fig.add_subplot(3, 4, 5) #1行2列の行列で、左上から数えて2番目に描画する\n",
    "ax2.hist(train.B)\n",
    "ax2.set_title('B')\n",
    "ax2 = fig.add_subplot(3, 4, 6) #1行2列の行列で、左上から数えて2番目に描画する\n",
    "ax2.hist(train.B)\n",
    "ax2.set_title('O')\n",
    "ax2 = fig.add_subplot(3, 4, 7) #1行2列の行列で、左上から数えて2番目に描画する\n",
    "ax2.hist(train.B)\n",
    "ax2.set_title('S:strike')\n",
    "ax2 = fig.add_subplot(3, 4, 8) #1行2列の行列で、左上から数えて2番目に描画する\n",
    "ax2.hist(train.totalPitchingCount)\n",
    "ax2.set_title('totalPitchingCount')\n",
    "ax2 = fig.add_subplot(3, 4, 9) #1行2列の行列で、左上から数えて2番目に描画する\n",
    "ax2.hist(train.ballX)\n",
    "ax2.set_title('ballX')\n",
    "ax2 = fig.add_subplot(3, 4, 10) #1行2列の行列で、左上から数えて2番目に描画する\n",
    "ax2.hist(train.bgBottom)\n",
    "ax2.set_title('bgBottom')\n",
    "ax2 = fig.add_subplot(3, 4, 11) #1行2列の行列で、左上から数えて2番目に描画する\n",
    "ax2.hist(train.bgTop)\n",
    "ax2.set_title('bgTop')\n",
    "\n",
    "plt.show()"
   ]
  },
  {
   "cell_type": "code",
   "execution_count": 105,
   "metadata": {},
   "outputs": [
    {
     "data": {
      "text/html": [
       "<div>\n",
       "<style scoped>\n",
       "    .dataframe tbody tr th:only-of-type {\n",
       "        vertical-align: middle;\n",
       "    }\n",
       "\n",
       "    .dataframe tbody tr th {\n",
       "        vertical-align: top;\n",
       "    }\n",
       "\n",
       "    .dataframe thead th {\n",
       "        text-align: right;\n",
       "    }\n",
       "</style>\n",
       "<table border=\"1\" class=\"dataframe\">\n",
       "  <thead>\n",
       "    <tr style=\"text-align: right;\">\n",
       "      <th></th>\n",
       "      <th>totalPitchingCount</th>\n",
       "      <th>B</th>\n",
       "      <th>S</th>\n",
       "      <th>O</th>\n",
       "      <th>gameID</th>\n",
       "      <th>ballX</th>\n",
       "      <th>y</th>\n",
       "    </tr>\n",
       "    <tr>\n",
       "      <th>id</th>\n",
       "      <th></th>\n",
       "      <th></th>\n",
       "      <th></th>\n",
       "      <th></th>\n",
       "      <th></th>\n",
       "      <th></th>\n",
       "      <th></th>\n",
       "    </tr>\n",
       "  </thead>\n",
       "  <tbody>\n",
       "    <tr>\n",
       "      <th>0</th>\n",
       "      <td>1</td>\n",
       "      <td>0</td>\n",
       "      <td>0</td>\n",
       "      <td>0</td>\n",
       "      <td>20202173</td>\n",
       "      <td>17</td>\n",
       "      <td>0</td>\n",
       "    </tr>\n",
       "    <tr>\n",
       "      <th>1</th>\n",
       "      <td>2</td>\n",
       "      <td>1</td>\n",
       "      <td>0</td>\n",
       "      <td>0</td>\n",
       "      <td>20202173</td>\n",
       "      <td>14</td>\n",
       "      <td>1</td>\n",
       "    </tr>\n",
       "    <tr>\n",
       "      <th>2</th>\n",
       "      <td>3</td>\n",
       "      <td>1</td>\n",
       "      <td>1</td>\n",
       "      <td>0</td>\n",
       "      <td>20202173</td>\n",
       "      <td>8</td>\n",
       "      <td>0</td>\n",
       "    </tr>\n",
       "    <tr>\n",
       "      <th>3</th>\n",
       "      <td>4</td>\n",
       "      <td>2</td>\n",
       "      <td>1</td>\n",
       "      <td>0</td>\n",
       "      <td>20202173</td>\n",
       "      <td>21</td>\n",
       "      <td>2</td>\n",
       "    </tr>\n",
       "    <tr>\n",
       "      <th>4</th>\n",
       "      <td>5</td>\n",
       "      <td>2</td>\n",
       "      <td>2</td>\n",
       "      <td>0</td>\n",
       "      <td>20202173</td>\n",
       "      <td>7</td>\n",
       "      <td>4</td>\n",
       "    </tr>\n",
       "    <tr>\n",
       "      <th>...</th>\n",
       "      <td>...</td>\n",
       "      <td>...</td>\n",
       "      <td>...</td>\n",
       "      <td>...</td>\n",
       "      <td>...</td>\n",
       "      <td>...</td>\n",
       "      <td>...</td>\n",
       "    </tr>\n",
       "    <tr>\n",
       "      <th>20395</th>\n",
       "      <td>2</td>\n",
       "      <td>1</td>\n",
       "      <td>0</td>\n",
       "      <td>2</td>\n",
       "      <td>20202118</td>\n",
       "      <td>7</td>\n",
       "      <td>2</td>\n",
       "    </tr>\n",
       "    <tr>\n",
       "      <th>20396</th>\n",
       "      <td>3</td>\n",
       "      <td>1</td>\n",
       "      <td>1</td>\n",
       "      <td>2</td>\n",
       "      <td>20202118</td>\n",
       "      <td>12</td>\n",
       "      <td>0</td>\n",
       "    </tr>\n",
       "    <tr>\n",
       "      <th>20397</th>\n",
       "      <td>4</td>\n",
       "      <td>2</td>\n",
       "      <td>1</td>\n",
       "      <td>2</td>\n",
       "      <td>20202118</td>\n",
       "      <td>10</td>\n",
       "      <td>1</td>\n",
       "    </tr>\n",
       "    <tr>\n",
       "      <th>20398</th>\n",
       "      <td>5</td>\n",
       "      <td>2</td>\n",
       "      <td>2</td>\n",
       "      <td>2</td>\n",
       "      <td>20202118</td>\n",
       "      <td>12</td>\n",
       "      <td>0</td>\n",
       "    </tr>\n",
       "    <tr>\n",
       "      <th>20399</th>\n",
       "      <td>6</td>\n",
       "      <td>3</td>\n",
       "      <td>2</td>\n",
       "      <td>2</td>\n",
       "      <td>20202118</td>\n",
       "      <td>6</td>\n",
       "      <td>1</td>\n",
       "    </tr>\n",
       "  </tbody>\n",
       "</table>\n",
       "<p>20400 rows × 7 columns</p>\n",
       "</div>"
      ],
      "text/plain": [
       "       totalPitchingCount  B  S  O    gameID  ballX  y\n",
       "id                                                    \n",
       "0                       1  0  0  0  20202173     17  0\n",
       "1                       2  1  0  0  20202173     14  1\n",
       "2                       3  1  1  0  20202173      8  0\n",
       "3                       4  2  1  0  20202173     21  2\n",
       "4                       5  2  2  0  20202173      7  4\n",
       "...                   ... .. .. ..       ...    ... ..\n",
       "20395                   2  1  0  2  20202118      7  2\n",
       "20396                   3  1  1  2  20202118     12  0\n",
       "20397                   4  2  1  2  20202118     10  1\n",
       "20398                   5  2  2  2  20202118     12  0\n",
       "20399                   6  3  2  2  20202118      6  1\n",
       "\n",
       "[20400 rows x 7 columns]"
      ]
     },
     "execution_count": 105,
     "metadata": {},
     "output_type": "execute_result"
    }
   ],
   "source": [
    "num_data=train.select_dtypes(include='int64') #int64型のデータを集計\n",
    "num_data"
   ]
  },
  {
   "cell_type": "code",
   "execution_count": 106,
   "metadata": {},
   "outputs": [
    {
     "data": {
      "text/html": [
       "<div>\n",
       "<style scoped>\n",
       "    .dataframe tbody tr th:only-of-type {\n",
       "        vertical-align: middle;\n",
       "    }\n",
       "\n",
       "    .dataframe tbody tr th {\n",
       "        vertical-align: top;\n",
       "    }\n",
       "\n",
       "    .dataframe thead th {\n",
       "        text-align: right;\n",
       "    }\n",
       "</style>\n",
       "<table border=\"1\" class=\"dataframe\">\n",
       "  <thead>\n",
       "    <tr style=\"text-align: right;\">\n",
       "      <th></th>\n",
       "      <th>pitcher</th>\n",
       "      <th>pitcherHand</th>\n",
       "      <th>batter</th>\n",
       "      <th>batterHand</th>\n",
       "      <th>inning</th>\n",
       "      <th>pitchType</th>\n",
       "      <th>speed</th>\n",
       "      <th>ballPositionLabel</th>\n",
       "      <th>ballY</th>\n",
       "      <th>dir</th>\n",
       "      <th>battingType</th>\n",
       "      <th>isOuts</th>\n",
       "    </tr>\n",
       "    <tr>\n",
       "      <th>id</th>\n",
       "      <th></th>\n",
       "      <th></th>\n",
       "      <th></th>\n",
       "      <th></th>\n",
       "      <th></th>\n",
       "      <th></th>\n",
       "      <th></th>\n",
       "      <th></th>\n",
       "      <th></th>\n",
       "      <th></th>\n",
       "      <th></th>\n",
       "      <th></th>\n",
       "    </tr>\n",
       "  </thead>\n",
       "  <tbody>\n",
       "    <tr>\n",
       "      <th>0</th>\n",
       "      <td>今永 昇太</td>\n",
       "      <td>L</td>\n",
       "      <td>ピレラ</td>\n",
       "      <td>R</td>\n",
       "      <td>1回表</td>\n",
       "      <td>ストレート</td>\n",
       "      <td>149km/h</td>\n",
       "      <td>内角低め</td>\n",
       "      <td>J</td>\n",
       "      <td>NaN</td>\n",
       "      <td>NaN</td>\n",
       "      <td>NaN</td>\n",
       "    </tr>\n",
       "    <tr>\n",
       "      <th>1</th>\n",
       "      <td>今永 昇太</td>\n",
       "      <td>L</td>\n",
       "      <td>ピレラ</td>\n",
       "      <td>R</td>\n",
       "      <td>1回表</td>\n",
       "      <td>ストレート</td>\n",
       "      <td>149km/h</td>\n",
       "      <td>内角低め</td>\n",
       "      <td>I</td>\n",
       "      <td>NaN</td>\n",
       "      <td>NaN</td>\n",
       "      <td>NaN</td>\n",
       "    </tr>\n",
       "    <tr>\n",
       "      <th>2</th>\n",
       "      <td>今永 昇太</td>\n",
       "      <td>L</td>\n",
       "      <td>ピレラ</td>\n",
       "      <td>R</td>\n",
       "      <td>1回表</td>\n",
       "      <td>チェンジアップ</td>\n",
       "      <td>137km/h</td>\n",
       "      <td>外角高め</td>\n",
       "      <td>D</td>\n",
       "      <td>NaN</td>\n",
       "      <td>NaN</td>\n",
       "      <td>NaN</td>\n",
       "    </tr>\n",
       "    <tr>\n",
       "      <th>3</th>\n",
       "      <td>今永 昇太</td>\n",
       "      <td>L</td>\n",
       "      <td>ピレラ</td>\n",
       "      <td>R</td>\n",
       "      <td>1回表</td>\n",
       "      <td>スライダー</td>\n",
       "      <td>138km/h</td>\n",
       "      <td>内角中心</td>\n",
       "      <td>G</td>\n",
       "      <td>NaN</td>\n",
       "      <td>NaN</td>\n",
       "      <td>NaN</td>\n",
       "    </tr>\n",
       "    <tr>\n",
       "      <th>4</th>\n",
       "      <td>今永 昇太</td>\n",
       "      <td>L</td>\n",
       "      <td>ピレラ</td>\n",
       "      <td>R</td>\n",
       "      <td>1回表</td>\n",
       "      <td>チェンジアップ</td>\n",
       "      <td>136km/h</td>\n",
       "      <td>外角中心</td>\n",
       "      <td>F</td>\n",
       "      <td>S</td>\n",
       "      <td>G</td>\n",
       "      <td>False</td>\n",
       "    </tr>\n",
       "    <tr>\n",
       "      <th>...</th>\n",
       "      <td>...</td>\n",
       "      <td>...</td>\n",
       "      <td>...</td>\n",
       "      <td>...</td>\n",
       "      <td>...</td>\n",
       "      <td>...</td>\n",
       "      <td>...</td>\n",
       "      <td>...</td>\n",
       "      <td>...</td>\n",
       "      <td>...</td>\n",
       "      <td>...</td>\n",
       "      <td>...</td>\n",
       "    </tr>\n",
       "    <tr>\n",
       "      <th>20395</th>\n",
       "      <td>森 唯斗</td>\n",
       "      <td>R</td>\n",
       "      <td>大田 泰示</td>\n",
       "      <td>R</td>\n",
       "      <td>9回裏</td>\n",
       "      <td>カットファストボール</td>\n",
       "      <td>143km/h</td>\n",
       "      <td>外角中心</td>\n",
       "      <td>F</td>\n",
       "      <td>NaN</td>\n",
       "      <td>NaN</td>\n",
       "      <td>NaN</td>\n",
       "    </tr>\n",
       "    <tr>\n",
       "      <th>20396</th>\n",
       "      <td>森 唯斗</td>\n",
       "      <td>R</td>\n",
       "      <td>大田 泰示</td>\n",
       "      <td>R</td>\n",
       "      <td>9回裏</td>\n",
       "      <td>カーブ</td>\n",
       "      <td>120km/h</td>\n",
       "      <td>真ん中低め</td>\n",
       "      <td>K</td>\n",
       "      <td>NaN</td>\n",
       "      <td>NaN</td>\n",
       "      <td>NaN</td>\n",
       "    </tr>\n",
       "    <tr>\n",
       "      <th>20397</th>\n",
       "      <td>森 唯斗</td>\n",
       "      <td>R</td>\n",
       "      <td>大田 泰示</td>\n",
       "      <td>R</td>\n",
       "      <td>9回裏</td>\n",
       "      <td>カーブ</td>\n",
       "      <td>120km/h</td>\n",
       "      <td>真ん中低め</td>\n",
       "      <td>H</td>\n",
       "      <td>NaN</td>\n",
       "      <td>NaN</td>\n",
       "      <td>NaN</td>\n",
       "    </tr>\n",
       "    <tr>\n",
       "      <th>20398</th>\n",
       "      <td>森 唯斗</td>\n",
       "      <td>R</td>\n",
       "      <td>大田 泰示</td>\n",
       "      <td>R</td>\n",
       "      <td>9回裏</td>\n",
       "      <td>フォーク</td>\n",
       "      <td>131km/h</td>\n",
       "      <td>真ん中低め</td>\n",
       "      <td>K</td>\n",
       "      <td>NaN</td>\n",
       "      <td>NaN</td>\n",
       "      <td>NaN</td>\n",
       "    </tr>\n",
       "    <tr>\n",
       "      <th>20399</th>\n",
       "      <td>森 唯斗</td>\n",
       "      <td>R</td>\n",
       "      <td>大田 泰示</td>\n",
       "      <td>R</td>\n",
       "      <td>9回裏</td>\n",
       "      <td>カットファストボール</td>\n",
       "      <td>143km/h</td>\n",
       "      <td>外角中心</td>\n",
       "      <td>E</td>\n",
       "      <td>NaN</td>\n",
       "      <td>NaN</td>\n",
       "      <td>True</td>\n",
       "    </tr>\n",
       "  </tbody>\n",
       "</table>\n",
       "<p>20400 rows × 12 columns</p>\n",
       "</div>"
      ],
      "text/plain": [
       "      pitcher pitcherHand batter batterHand inning   pitchType    speed  \\\n",
       "id                                                                        \n",
       "0       今永 昇太           L    ピレラ          R    1回表       ストレート  149km/h   \n",
       "1       今永 昇太           L    ピレラ          R    1回表       ストレート  149km/h   \n",
       "2       今永 昇太           L    ピレラ          R    1回表     チェンジアップ  137km/h   \n",
       "3       今永 昇太           L    ピレラ          R    1回表       スライダー  138km/h   \n",
       "4       今永 昇太           L    ピレラ          R    1回表     チェンジアップ  136km/h   \n",
       "...       ...         ...    ...        ...    ...         ...      ...   \n",
       "20395    森 唯斗           R  大田 泰示          R    9回裏  カットファストボール  143km/h   \n",
       "20396    森 唯斗           R  大田 泰示          R    9回裏         カーブ  120km/h   \n",
       "20397    森 唯斗           R  大田 泰示          R    9回裏         カーブ  120km/h   \n",
       "20398    森 唯斗           R  大田 泰示          R    9回裏        フォーク  131km/h   \n",
       "20399    森 唯斗           R  大田 泰示          R    9回裏  カットファストボール  143km/h   \n",
       "\n",
       "      ballPositionLabel ballY  dir battingType isOuts  \n",
       "id                                                     \n",
       "0                  内角低め     J  NaN         NaN    NaN  \n",
       "1                  内角低め     I  NaN         NaN    NaN  \n",
       "2                  外角高め     D  NaN         NaN    NaN  \n",
       "3                  内角中心     G  NaN         NaN    NaN  \n",
       "4                  外角中心     F    S           G  False  \n",
       "...                 ...   ...  ...         ...    ...  \n",
       "20395              外角中心     F  NaN         NaN    NaN  \n",
       "20396             真ん中低め     K  NaN         NaN    NaN  \n",
       "20397             真ん中低め     H  NaN         NaN    NaN  \n",
       "20398             真ん中低め     K  NaN         NaN    NaN  \n",
       "20399              外角中心     E  NaN         NaN   True  \n",
       "\n",
       "[20400 rows x 12 columns]"
      ]
     },
     "execution_count": 106,
     "metadata": {},
     "output_type": "execute_result"
    }
   ],
   "source": [
    "obj_data=train.select_dtypes(include='object') #object型のデータを集計\n",
    "obj_data\n"
   ]
  },
  {
   "cell_type": "markdown",
   "metadata": {},
   "source": [
    "##欠損値の有無による分類\n",
    "---\n",
    "\n",
    "欠損値がある量的変数、質的変数を見る"
   ]
  },
  {
   "cell_type": "code",
   "execution_count": 52,
   "metadata": {},
   "outputs": [
    {
     "data": {
      "text/plain": [
       "totalPitchingCount    0\n",
       "B                     0\n",
       "S                     0\n",
       "O                     0\n",
       "gameID                0\n",
       "ballX                 0\n",
       "y                     0\n",
       "bgBottom              0\n",
       "bgTop                 0\n",
       "dtype: int64"
      ]
     },
     "execution_count": 52,
     "metadata": {},
     "output_type": "execute_result"
    }
   ],
   "source": [
    "num_data.isnull().sum()"
   ]
  },
  {
   "cell_type": "code",
   "execution_count": 53,
   "metadata": {},
   "outputs": [
    {
     "data": {
      "text/plain": [
       "pitcher                  0\n",
       "pitcherHand             31\n",
       "batter                   0\n",
       "batterHand              31\n",
       "inning                   0\n",
       "pitchType                0\n",
       "speed                    0\n",
       "ballPositionLabel        0\n",
       "ballY                    0\n",
       "dir                  14042\n",
       "battingType          14042\n",
       "isOuts               12780\n",
       "startTime                0\n",
       "bottomTeam               0\n",
       "topTeam                  0\n",
       "place                    0\n",
       "startDayTime             0\n",
       "dtype: int64"
      ]
     },
     "execution_count": 53,
     "metadata": {},
     "output_type": "execute_result"
    }
   ],
   "source": [
    "obj_data.isnull().sum()"
   ]
  },
  {
   "cell_type": "code",
   "execution_count": 107,
   "metadata": {},
   "outputs": [
    {
     "data": {
      "text/plain": [
       "Index(['pitcherHand', 'batterHand', 'dir', 'battingType', 'isOuts'], dtype='object')"
      ]
     },
     "execution_count": 107,
     "metadata": {},
     "output_type": "execute_result"
    }
   ],
   "source": [
    "lostlist=obj_data.columns[obj_data.isnull().sum()!=0] #0でないものを論理式で表現\n",
    "lostlist"
   ]
  },
  {
   "cell_type": "code",
   "execution_count": 108,
   "metadata": {},
   "outputs": [
    {
     "data": {
      "text/plain": [
       "Index(['pitcher', 'batter', 'inning', 'pitchType', 'speed',\n",
       "       'ballPositionLabel', 'ballY'],\n",
       "      dtype='object')"
      ]
     },
     "execution_count": 108,
     "metadata": {},
     "output_type": "execute_result"
    }
   ],
   "source": [
    "complist=obj_data.columns[obj_data.isnull().sum()==0] #0であるものを論理式で表現\n",
    "complist"
   ]
  },
  {
   "cell_type": "code",
   "execution_count": 109,
   "metadata": {},
   "outputs": [
    {
     "data": {
      "text/html": [
       "<div>\n",
       "<style scoped>\n",
       "    .dataframe tbody tr th:only-of-type {\n",
       "        vertical-align: middle;\n",
       "    }\n",
       "\n",
       "    .dataframe tbody tr th {\n",
       "        vertical-align: top;\n",
       "    }\n",
       "\n",
       "    .dataframe thead th {\n",
       "        text-align: right;\n",
       "    }\n",
       "</style>\n",
       "<table border=\"1\" class=\"dataframe\">\n",
       "  <thead>\n",
       "    <tr style=\"text-align: right;\">\n",
       "      <th></th>\n",
       "      <th>pitcherHand</th>\n",
       "      <th>batterHand</th>\n",
       "      <th>dir</th>\n",
       "      <th>battingType</th>\n",
       "      <th>isOuts</th>\n",
       "    </tr>\n",
       "    <tr>\n",
       "      <th>id</th>\n",
       "      <th></th>\n",
       "      <th></th>\n",
       "      <th></th>\n",
       "      <th></th>\n",
       "      <th></th>\n",
       "    </tr>\n",
       "  </thead>\n",
       "  <tbody>\n",
       "    <tr>\n",
       "      <th>0</th>\n",
       "      <td>L</td>\n",
       "      <td>R</td>\n",
       "      <td>NaN</td>\n",
       "      <td>NaN</td>\n",
       "      <td>NaN</td>\n",
       "    </tr>\n",
       "    <tr>\n",
       "      <th>1</th>\n",
       "      <td>L</td>\n",
       "      <td>R</td>\n",
       "      <td>NaN</td>\n",
       "      <td>NaN</td>\n",
       "      <td>NaN</td>\n",
       "    </tr>\n",
       "    <tr>\n",
       "      <th>2</th>\n",
       "      <td>L</td>\n",
       "      <td>R</td>\n",
       "      <td>NaN</td>\n",
       "      <td>NaN</td>\n",
       "      <td>NaN</td>\n",
       "    </tr>\n",
       "    <tr>\n",
       "      <th>3</th>\n",
       "      <td>L</td>\n",
       "      <td>R</td>\n",
       "      <td>NaN</td>\n",
       "      <td>NaN</td>\n",
       "      <td>NaN</td>\n",
       "    </tr>\n",
       "    <tr>\n",
       "      <th>4</th>\n",
       "      <td>L</td>\n",
       "      <td>R</td>\n",
       "      <td>S</td>\n",
       "      <td>G</td>\n",
       "      <td>False</td>\n",
       "    </tr>\n",
       "    <tr>\n",
       "      <th>...</th>\n",
       "      <td>...</td>\n",
       "      <td>...</td>\n",
       "      <td>...</td>\n",
       "      <td>...</td>\n",
       "      <td>...</td>\n",
       "    </tr>\n",
       "    <tr>\n",
       "      <th>20395</th>\n",
       "      <td>R</td>\n",
       "      <td>R</td>\n",
       "      <td>NaN</td>\n",
       "      <td>NaN</td>\n",
       "      <td>NaN</td>\n",
       "    </tr>\n",
       "    <tr>\n",
       "      <th>20396</th>\n",
       "      <td>R</td>\n",
       "      <td>R</td>\n",
       "      <td>NaN</td>\n",
       "      <td>NaN</td>\n",
       "      <td>NaN</td>\n",
       "    </tr>\n",
       "    <tr>\n",
       "      <th>20397</th>\n",
       "      <td>R</td>\n",
       "      <td>R</td>\n",
       "      <td>NaN</td>\n",
       "      <td>NaN</td>\n",
       "      <td>NaN</td>\n",
       "    </tr>\n",
       "    <tr>\n",
       "      <th>20398</th>\n",
       "      <td>R</td>\n",
       "      <td>R</td>\n",
       "      <td>NaN</td>\n",
       "      <td>NaN</td>\n",
       "      <td>NaN</td>\n",
       "    </tr>\n",
       "    <tr>\n",
       "      <th>20399</th>\n",
       "      <td>R</td>\n",
       "      <td>R</td>\n",
       "      <td>NaN</td>\n",
       "      <td>NaN</td>\n",
       "      <td>True</td>\n",
       "    </tr>\n",
       "  </tbody>\n",
       "</table>\n",
       "<p>20400 rows × 5 columns</p>\n",
       "</div>"
      ],
      "text/plain": [
       "      pitcherHand batterHand  dir battingType isOuts\n",
       "id                                                  \n",
       "0               L          R  NaN         NaN    NaN\n",
       "1               L          R  NaN         NaN    NaN\n",
       "2               L          R  NaN         NaN    NaN\n",
       "3               L          R  NaN         NaN    NaN\n",
       "4               L          R    S           G  False\n",
       "...           ...        ...  ...         ...    ...\n",
       "20395           R          R  NaN         NaN    NaN\n",
       "20396           R          R  NaN         NaN    NaN\n",
       "20397           R          R  NaN         NaN    NaN\n",
       "20398           R          R  NaN         NaN    NaN\n",
       "20399           R          R  NaN         NaN   True\n",
       "\n",
       "[20400 rows x 5 columns]"
      ]
     },
     "execution_count": 109,
     "metadata": {},
     "output_type": "execute_result"
    }
   ],
   "source": [
    "#欠損値だけのオブジェクト作る\n",
    "lost_obj_data=train[lostlist]\n",
    "lost_obj_data"
   ]
  },
  {
   "cell_type": "code",
   "execution_count": 110,
   "metadata": {},
   "outputs": [
    {
     "data": {
      "text/html": [
       "<div>\n",
       "<style scoped>\n",
       "    .dataframe tbody tr th:only-of-type {\n",
       "        vertical-align: middle;\n",
       "    }\n",
       "\n",
       "    .dataframe tbody tr th {\n",
       "        vertical-align: top;\n",
       "    }\n",
       "\n",
       "    .dataframe thead th {\n",
       "        text-align: right;\n",
       "    }\n",
       "</style>\n",
       "<table border=\"1\" class=\"dataframe\">\n",
       "  <thead>\n",
       "    <tr style=\"text-align: right;\">\n",
       "      <th></th>\n",
       "      <th>pitcher</th>\n",
       "      <th>batter</th>\n",
       "      <th>inning</th>\n",
       "      <th>pitchType</th>\n",
       "      <th>speed</th>\n",
       "      <th>ballPositionLabel</th>\n",
       "      <th>ballY</th>\n",
       "    </tr>\n",
       "    <tr>\n",
       "      <th>id</th>\n",
       "      <th></th>\n",
       "      <th></th>\n",
       "      <th></th>\n",
       "      <th></th>\n",
       "      <th></th>\n",
       "      <th></th>\n",
       "      <th></th>\n",
       "    </tr>\n",
       "  </thead>\n",
       "  <tbody>\n",
       "    <tr>\n",
       "      <th>0</th>\n",
       "      <td>今永 昇太</td>\n",
       "      <td>ピレラ</td>\n",
       "      <td>1回表</td>\n",
       "      <td>ストレート</td>\n",
       "      <td>149km/h</td>\n",
       "      <td>内角低め</td>\n",
       "      <td>J</td>\n",
       "    </tr>\n",
       "    <tr>\n",
       "      <th>1</th>\n",
       "      <td>今永 昇太</td>\n",
       "      <td>ピレラ</td>\n",
       "      <td>1回表</td>\n",
       "      <td>ストレート</td>\n",
       "      <td>149km/h</td>\n",
       "      <td>内角低め</td>\n",
       "      <td>I</td>\n",
       "    </tr>\n",
       "    <tr>\n",
       "      <th>2</th>\n",
       "      <td>今永 昇太</td>\n",
       "      <td>ピレラ</td>\n",
       "      <td>1回表</td>\n",
       "      <td>チェンジアップ</td>\n",
       "      <td>137km/h</td>\n",
       "      <td>外角高め</td>\n",
       "      <td>D</td>\n",
       "    </tr>\n",
       "    <tr>\n",
       "      <th>3</th>\n",
       "      <td>今永 昇太</td>\n",
       "      <td>ピレラ</td>\n",
       "      <td>1回表</td>\n",
       "      <td>スライダー</td>\n",
       "      <td>138km/h</td>\n",
       "      <td>内角中心</td>\n",
       "      <td>G</td>\n",
       "    </tr>\n",
       "    <tr>\n",
       "      <th>4</th>\n",
       "      <td>今永 昇太</td>\n",
       "      <td>ピレラ</td>\n",
       "      <td>1回表</td>\n",
       "      <td>チェンジアップ</td>\n",
       "      <td>136km/h</td>\n",
       "      <td>外角中心</td>\n",
       "      <td>F</td>\n",
       "    </tr>\n",
       "    <tr>\n",
       "      <th>...</th>\n",
       "      <td>...</td>\n",
       "      <td>...</td>\n",
       "      <td>...</td>\n",
       "      <td>...</td>\n",
       "      <td>...</td>\n",
       "      <td>...</td>\n",
       "      <td>...</td>\n",
       "    </tr>\n",
       "    <tr>\n",
       "      <th>20395</th>\n",
       "      <td>森 唯斗</td>\n",
       "      <td>大田 泰示</td>\n",
       "      <td>9回裏</td>\n",
       "      <td>カットファストボール</td>\n",
       "      <td>143km/h</td>\n",
       "      <td>外角中心</td>\n",
       "      <td>F</td>\n",
       "    </tr>\n",
       "    <tr>\n",
       "      <th>20396</th>\n",
       "      <td>森 唯斗</td>\n",
       "      <td>大田 泰示</td>\n",
       "      <td>9回裏</td>\n",
       "      <td>カーブ</td>\n",
       "      <td>120km/h</td>\n",
       "      <td>真ん中低め</td>\n",
       "      <td>K</td>\n",
       "    </tr>\n",
       "    <tr>\n",
       "      <th>20397</th>\n",
       "      <td>森 唯斗</td>\n",
       "      <td>大田 泰示</td>\n",
       "      <td>9回裏</td>\n",
       "      <td>カーブ</td>\n",
       "      <td>120km/h</td>\n",
       "      <td>真ん中低め</td>\n",
       "      <td>H</td>\n",
       "    </tr>\n",
       "    <tr>\n",
       "      <th>20398</th>\n",
       "      <td>森 唯斗</td>\n",
       "      <td>大田 泰示</td>\n",
       "      <td>9回裏</td>\n",
       "      <td>フォーク</td>\n",
       "      <td>131km/h</td>\n",
       "      <td>真ん中低め</td>\n",
       "      <td>K</td>\n",
       "    </tr>\n",
       "    <tr>\n",
       "      <th>20399</th>\n",
       "      <td>森 唯斗</td>\n",
       "      <td>大田 泰示</td>\n",
       "      <td>9回裏</td>\n",
       "      <td>カットファストボール</td>\n",
       "      <td>143km/h</td>\n",
       "      <td>外角中心</td>\n",
       "      <td>E</td>\n",
       "    </tr>\n",
       "  </tbody>\n",
       "</table>\n",
       "<p>20400 rows × 7 columns</p>\n",
       "</div>"
      ],
      "text/plain": [
       "      pitcher batter inning   pitchType    speed ballPositionLabel ballY\n",
       "id                                                                      \n",
       "0       今永 昇太    ピレラ    1回表       ストレート  149km/h              内角低め     J\n",
       "1       今永 昇太    ピレラ    1回表       ストレート  149km/h              内角低め     I\n",
       "2       今永 昇太    ピレラ    1回表     チェンジアップ  137km/h              外角高め     D\n",
       "3       今永 昇太    ピレラ    1回表       スライダー  138km/h              内角中心     G\n",
       "4       今永 昇太    ピレラ    1回表     チェンジアップ  136km/h              外角中心     F\n",
       "...       ...    ...    ...         ...      ...               ...   ...\n",
       "20395    森 唯斗  大田 泰示    9回裏  カットファストボール  143km/h              外角中心     F\n",
       "20396    森 唯斗  大田 泰示    9回裏         カーブ  120km/h             真ん中低め     K\n",
       "20397    森 唯斗  大田 泰示    9回裏         カーブ  120km/h             真ん中低め     H\n",
       "20398    森 唯斗  大田 泰示    9回裏        フォーク  131km/h             真ん中低め     K\n",
       "20399    森 唯斗  大田 泰示    9回裏  カットファストボール  143km/h              外角中心     E\n",
       "\n",
       "[20400 rows x 7 columns]"
      ]
     },
     "execution_count": 110,
     "metadata": {},
     "output_type": "execute_result"
    }
   ],
   "source": [
    "#質的変数も欠損値だけのオブジェクトを作成する\n",
    "comp_obj_data=train[complist]\n",
    "comp_obj_data"
   ]
  },
  {
   "cell_type": "markdown",
   "metadata": {},
   "source": [
    "## 分析方針の決定\n",
    "---\n",
    "ここから回帰編３を参考に"
   ]
  },
  {
   "cell_type": "code",
   "execution_count": 60,
   "metadata": {},
   "outputs": [
    {
     "data": {
      "text/plain": [
       "0        0\n",
       "1        1\n",
       "2        0\n",
       "3        2\n",
       "4        4\n",
       "        ..\n",
       "20152    2\n",
       "20153    0\n",
       "20154    1\n",
       "20155    0\n",
       "20156    1\n",
       "Name: y, Length: 17136, dtype: int64"
      ]
     },
     "execution_count": 60,
     "metadata": {},
     "output_type": "execute_result"
    }
   ],
   "source": [
    "y_target = num_data['y']\n",
    "y_target"
   ]
  },
  {
   "cell_type": "code",
   "execution_count": 61,
   "metadata": {},
   "outputs": [
    {
     "name": "stdout",
     "output_type": "stream",
     "text": [
      "['totalPitchingCount', 'B', 'S', 'O', 'gameID', 'ballX', 'bgBottom', 'bgTop']\n"
     ]
    }
   ],
   "source": [
    "col = num_data.columns.tolist() #変数のリストを取得\n",
    "col.remove('y') #yを削除\n",
    "print(col)"
   ]
  },
  {
   "cell_type": "code",
   "execution_count": 62,
   "metadata": {},
   "outputs": [
    {
     "data": {
      "text/html": [
       "<div>\n",
       "<style scoped>\n",
       "    .dataframe tbody tr th:only-of-type {\n",
       "        vertical-align: middle;\n",
       "    }\n",
       "\n",
       "    .dataframe tbody tr th {\n",
       "        vertical-align: top;\n",
       "    }\n",
       "\n",
       "    .dataframe thead th {\n",
       "        text-align: right;\n",
       "    }\n",
       "</style>\n",
       "<table border=\"1\" class=\"dataframe\">\n",
       "  <thead>\n",
       "    <tr style=\"text-align: right;\">\n",
       "      <th></th>\n",
       "      <th>totalPitchingCount</th>\n",
       "      <th>B</th>\n",
       "      <th>S</th>\n",
       "      <th>O</th>\n",
       "      <th>gameID</th>\n",
       "      <th>ballX</th>\n",
       "      <th>bgBottom</th>\n",
       "      <th>bgTop</th>\n",
       "    </tr>\n",
       "  </thead>\n",
       "  <tbody>\n",
       "    <tr>\n",
       "      <th>0</th>\n",
       "      <td>1</td>\n",
       "      <td>0</td>\n",
       "      <td>0</td>\n",
       "      <td>0</td>\n",
       "      <td>20202173</td>\n",
       "      <td>17</td>\n",
       "      <td>3</td>\n",
       "      <td>6</td>\n",
       "    </tr>\n",
       "    <tr>\n",
       "      <th>1</th>\n",
       "      <td>2</td>\n",
       "      <td>1</td>\n",
       "      <td>0</td>\n",
       "      <td>0</td>\n",
       "      <td>20202173</td>\n",
       "      <td>14</td>\n",
       "      <td>3</td>\n",
       "      <td>6</td>\n",
       "    </tr>\n",
       "    <tr>\n",
       "      <th>2</th>\n",
       "      <td>3</td>\n",
       "      <td>1</td>\n",
       "      <td>1</td>\n",
       "      <td>0</td>\n",
       "      <td>20202173</td>\n",
       "      <td>8</td>\n",
       "      <td>3</td>\n",
       "      <td>6</td>\n",
       "    </tr>\n",
       "    <tr>\n",
       "      <th>3</th>\n",
       "      <td>4</td>\n",
       "      <td>2</td>\n",
       "      <td>1</td>\n",
       "      <td>0</td>\n",
       "      <td>20202173</td>\n",
       "      <td>21</td>\n",
       "      <td>3</td>\n",
       "      <td>6</td>\n",
       "    </tr>\n",
       "    <tr>\n",
       "      <th>4</th>\n",
       "      <td>5</td>\n",
       "      <td>2</td>\n",
       "      <td>2</td>\n",
       "      <td>0</td>\n",
       "      <td>20202173</td>\n",
       "      <td>7</td>\n",
       "      <td>3</td>\n",
       "      <td>6</td>\n",
       "    </tr>\n",
       "    <tr>\n",
       "      <th>...</th>\n",
       "      <td>...</td>\n",
       "      <td>...</td>\n",
       "      <td>...</td>\n",
       "      <td>...</td>\n",
       "      <td>...</td>\n",
       "      <td>...</td>\n",
       "      <td>...</td>\n",
       "      <td>...</td>\n",
       "    </tr>\n",
       "    <tr>\n",
       "      <th>20152</th>\n",
       "      <td>2</td>\n",
       "      <td>1</td>\n",
       "      <td>0</td>\n",
       "      <td>2</td>\n",
       "      <td>20202118</td>\n",
       "      <td>7</td>\n",
       "      <td>8</td>\n",
       "      <td>12</td>\n",
       "    </tr>\n",
       "    <tr>\n",
       "      <th>20153</th>\n",
       "      <td>3</td>\n",
       "      <td>1</td>\n",
       "      <td>1</td>\n",
       "      <td>2</td>\n",
       "      <td>20202118</td>\n",
       "      <td>12</td>\n",
       "      <td>8</td>\n",
       "      <td>12</td>\n",
       "    </tr>\n",
       "    <tr>\n",
       "      <th>20154</th>\n",
       "      <td>4</td>\n",
       "      <td>2</td>\n",
       "      <td>1</td>\n",
       "      <td>2</td>\n",
       "      <td>20202118</td>\n",
       "      <td>10</td>\n",
       "      <td>8</td>\n",
       "      <td>12</td>\n",
       "    </tr>\n",
       "    <tr>\n",
       "      <th>20155</th>\n",
       "      <td>5</td>\n",
       "      <td>2</td>\n",
       "      <td>2</td>\n",
       "      <td>2</td>\n",
       "      <td>20202118</td>\n",
       "      <td>12</td>\n",
       "      <td>8</td>\n",
       "      <td>12</td>\n",
       "    </tr>\n",
       "    <tr>\n",
       "      <th>20156</th>\n",
       "      <td>6</td>\n",
       "      <td>3</td>\n",
       "      <td>2</td>\n",
       "      <td>2</td>\n",
       "      <td>20202118</td>\n",
       "      <td>6</td>\n",
       "      <td>8</td>\n",
       "      <td>12</td>\n",
       "    </tr>\n",
       "  </tbody>\n",
       "</table>\n",
       "<p>17136 rows × 8 columns</p>\n",
       "</div>"
      ],
      "text/plain": [
       "       totalPitchingCount  B  S  O    gameID  ballX  bgBottom  bgTop\n",
       "0                       1  0  0  0  20202173     17         3      6\n",
       "1                       2  1  0  0  20202173     14         3      6\n",
       "2                       3  1  1  0  20202173      8         3      6\n",
       "3                       4  2  1  0  20202173     21         3      6\n",
       "4                       5  2  2  0  20202173      7         3      6\n",
       "...                   ... .. .. ..       ...    ...       ...    ...\n",
       "20152                   2  1  0  2  20202118      7         8     12\n",
       "20153                   3  1  1  2  20202118     12         8     12\n",
       "20154                   4  2  1  2  20202118     10         8     12\n",
       "20155                   5  2  2  2  20202118     12         8     12\n",
       "20156                   6  3  2  2  20202118      6         8     12\n",
       "\n",
       "[17136 rows x 8 columns]"
      ]
     },
     "execution_count": 62,
     "metadata": {},
     "output_type": "execute_result"
    }
   ],
   "source": [
    "#yがない量的変数のオブジェクトデータを作成する\n",
    "x_explanatory = num_data[col]\n",
    "x_explanatory"
   ]
  },
  {
   "cell_type": "code",
   "execution_count": 63,
   "metadata": {},
   "outputs": [],
   "source": [
    "x_train,x_test,y_train, y_test = train_test_split(x_explanatory, y_target, random_state = 1)"
   ]
  },
  {
   "cell_type": "markdown",
   "metadata": {},
   "source": [
    "## . 量的変数だけで、ランダムフォレストモデルの構築\n",
    "---\n",
    "ここからモデル構築"
   ]
  },
  {
   "cell_type": "code",
   "execution_count": 64,
   "metadata": {},
   "outputs": [
    {
     "data": {
      "text/plain": [
       "RandomForestRegressor(bootstrap=True, ccp_alpha=0.0, criterion='mse',\n",
       "                      max_depth=None, max_features='auto', max_leaf_nodes=None,\n",
       "                      max_samples=None, min_impurity_decrease=0.0,\n",
       "                      min_impurity_split=None, min_samples_leaf=1,\n",
       "                      min_samples_split=2, min_weight_fraction_leaf=0.0,\n",
       "                      n_estimators=100, n_jobs=None, oob_score=False,\n",
       "                      random_state=None, verbose=0, warm_start=False)"
      ]
     },
     "execution_count": 64,
     "metadata": {},
     "output_type": "execute_result"
    }
   ],
   "source": [
    "#ランダムフォレストの学習\n",
    "rf_model = RandomForestRegressor()\n",
    "rf_model.fit(x_train,y_train)"
   ]
  },
  {
   "cell_type": "code",
   "execution_count": 65,
   "metadata": {},
   "outputs": [
    {
     "data": {
      "text/plain": [
       "array([1.39133333, 1.145     , 1.66166667, ..., 1.83166667, 2.84133333,\n",
       "       0.71666667])"
      ]
     },
     "execution_count": 65,
     "metadata": {},
     "output_type": "execute_result"
    }
   ],
   "source": [
    "#予測モデルの評価\n",
    "rf_pred = rf_model.predict(x_test)\n",
    "rf_pred"
   ]
  },
  {
   "cell_type": "code",
   "execution_count": 70,
   "metadata": {},
   "outputs": [
    {
     "data": {
      "text/plain": [
       "0.9687564628415469"
      ]
     },
     "execution_count": 70,
     "metadata": {},
     "output_type": "execute_result"
    }
   ],
   "source": [
    "mean_absolute_error(y_test, rf_pred)"
   ]
  },
  {
   "cell_type": "code",
   "execution_count": 71,
   "metadata": {},
   "outputs": [
    {
     "data": {
      "text/plain": [
       "0.00871603223325601"
      ]
     },
     "execution_count": 71,
     "metadata": {},
     "output_type": "execute_result"
    }
   ],
   "source": [
    "r2_score(y_test, rf_pred)"
   ]
  },
  {
   "cell_type": "code",
   "execution_count": 72,
   "metadata": {},
   "outputs": [
    {
     "name": "stdout",
     "output_type": "stream",
     "text": [
      "1.3278840990319372\n"
     ]
    }
   ],
   "source": [
    "from sklearn.metrics import mean_squared_error\n",
    "import numpy as np\n",
    "mse = mean_squared_error(y_test, rf_pred)\n",
    "rmse = np.sqrt(mse)\n",
    "print(rmse)"
   ]
  },
  {
   "cell_type": "markdown",
   "metadata": {},
   "source": [
    "## 量的変数だけで、予測モデルと結果の可視化\n",
    "---\n",
    "ここから可視化"
   ]
  },
  {
   "cell_type": "code",
   "execution_count": 73,
   "metadata": {},
   "outputs": [
    {
     "data": {
      "image/png": "[encoded data removed]",
      "text/plain": [
       "<Figure size 432x288 with 1 Axes>"
      ]
     },
     "metadata": {
      "needs_background": "light"
     },
     "output_type": "display_data"
    }
   ],
   "source": [
    "# y = xの関数になるか？\n",
    "\n",
    "plt.scatter(y_test,rf_pred)\n",
    "\n",
    "plt.title(\"predicted_data & test_data\")\n",
    "plt.xlabel(\"test_data\")\n",
    "plt.ylabel(\"predicted_data\")\n",
    "\n",
    "plt.grid(True)"
   ]
  },
  {
   "cell_type": "code",
   "execution_count": 74,
   "metadata": {},
   "outputs": [
    {
     "data": {
      "image/png": "[encoded data removed]",
      "text/plain": [
       "<Figure size 432x288 with 1 Axes>"
      ]
     },
     "metadata": {
      "needs_background": "light"
     },
     "output_type": "display_data"
    }
   ],
   "source": [
    "#残渣プロット\n",
    "plt.scatter(rf_pred, rf_pred - y_test, color = 'blue')      # 残差をプロット \n",
    "plt.hlines(y = 0, xmin = min(rf_pred), xmax = max(rf_pred), color = 'black') # x軸に沿った直線をプロット\n",
    "plt.title('Residual Plot')                                # 図のタイトル\n",
    "plt.xlabel('Predicted Values')                            # x軸のラベル\n",
    "plt.ylabel('Residuals')                                   # y軸のラベル\n",
    "plt.grid()                                                # グリッド線を表示\n",
    "\n",
    "plt.show()                                               # 図の表示"
   ]
  },
  {
   "cell_type": "code",
   "execution_count": 75,
   "metadata": {},
   "outputs": [],
   "source": [
    "with open('rf_model.pkl', mode='wb') as f:\n",
    "    pickle.dump(rf_model, f)"
   ]
  },
  {
   "cell_type": "markdown",
   "metadata": {},
   "source": [
    "##量的変数だけで、データクレンジング\n",
    "---\n",
    "回帰編４を参考\n"
   ]
  },
  {
   "cell_type": "markdown",
   "metadata": {},
   "source": [
    "**データの説明**\n",
    "\n",
    "- `totalPitchingCount`：各打席の投球が何球目か\n",
    "- `B` `S` `O`:ボールカウント、ストライクカウント、アウトカウント\n",
    "- `b1` `b2` `b3`:1塁にランナーがいるか、2塁にランナーがいるか、3塁にランナーがいるか\n",
    "\n",
    "\n",
    "- `pitcher`：ピッチャー名（NaNを含む）\n",
    "- `pitcherHand`：右投げか左投げか\n",
    "- `pitchType`：球種\n",
    "- `pitchType`：打球方向(A-Z)\n",
    "\n",
    "- `batter`：バッター名（NaNを含む）\n",
    "- `batterHand`：右打ちか左打ちか\n",
    "- `battingType`：打球種類(B:バント, G:ゴロ, P:ポップフライ, F:フライ, L:ライナー)\n",
    "\n",
    "- `isOuts`：isOuts\n",
    "\n",
    "- `gameID`：試合ID\n",
    "- `place`：試合会場\n",
    "- `inning`：イニング　一回表\n",
    "- `startDayTime`：試合開始日時\n",
    "- `startTime`：\t試合開始時間\n",
    "- `topTeam`：先攻チーム名\n",
    "- `bottomTeam`：後攻チーム名\n",
    "- `bgBottom`：試合ID\n",
    "\t\t\t\t\t\t"
   ]
  },
  {
   "cell_type": "code",
   "execution_count": 111,
   "metadata": {},
   "outputs": [
    {
     "data": {
      "text/plain": [
       "Index(['totalPitchingCount', 'B', 'S', 'O', 'b1', 'b2', 'b3', 'pitcher',\n",
       "       'pitcherHand', 'batter', 'batterHand', 'gameID', 'inning'],\n",
       "      dtype='object')"
      ]
     },
     "execution_count": 111,
     "metadata": {},
     "output_type": "execute_result"
    }
   ],
   "source": [
    "test.columns"
   ]
  },
  {
   "cell_type": "code",
   "execution_count": 112,
   "metadata": {},
   "outputs": [
    {
     "data": {
      "text/plain": [
       "Index(['totalPitchingCount', 'B', 'S', 'O', 'gameID', 'ballX', 'bgBottom',\n",
       "       'bgTop'],\n",
       "      dtype='object')"
      ]
     },
     "execution_count": 112,
     "metadata": {},
     "output_type": "execute_result"
    }
   ],
   "source": [
    "x_explanatory.columns"
   ]
  },
  {
   "cell_type": "code",
   "execution_count": 117,
   "metadata": {},
   "outputs": [
    {
     "data": {
      "text/plain": [
       "Index(['totalPitchingCount', 'B', 'S', 'O', 'b1', 'b2', 'b3', 'pitcher',\n",
       "       'pitcherHand', 'batter', 'batterHand', 'gameID', 'inning', 'startTime',\n",
       "       'bottomTeam', 'bgBottom', 'topTeam', 'place', 'startDayTime', 'bgTop'],\n",
       "      dtype='object')"
      ]
     },
     "execution_count": 117,
     "metadata": {},
     "output_type": "execute_result"
    }
   ],
   "source": [
    "test.columns\n"
   ]
  },
  {
   "cell_type": "markdown",
   "metadata": {},
   "source": [
    "下記を削除\n",
    "- 値が1つしかない量的変数\n",
    "- サンプルごとに固有の値を持つ量的変数\n",
    "- trainにあってtestにないカラム"
   ]
  },
  {
   "cell_type": "code",
   "execution_count": 154,
   "metadata": {},
   "outputs": [
    {
     "ename": "KeyError",
     "evalue": "\"['pitchType' 'speed' 'ballPositionLabel' 'ballX' 'ballY' 'dir' 'dist'\\n 'battingType' 'isOuts'] not found in axis\"",
     "output_type": "error",
     "traceback": [
      "\u001b[1;31m---------------------------------------------------------------------------\u001b[0m",
      "\u001b[1;31mKeyError\u001b[0m                                  Traceback (most recent call last)",
      "\u001b[1;32m<ipython-input-154-0b06d2ddc07d>\u001b[0m in \u001b[0;36m<module>\u001b[1;34m\u001b[0m\n\u001b[0;32m      1\u001b[0m \u001b[1;31m# trainにあってtestにないカラム\u001b[0m\u001b[1;33m\u001b[0m\u001b[1;33m\u001b[0m\u001b[1;33m\u001b[0m\u001b[0m\n\u001b[0;32m      2\u001b[0m \u001b[0mdrop_cols\u001b[0m \u001b[1;33m=\u001b[0m \u001b[1;33m[\u001b[0m\u001b[1;34m'pitchType'\u001b[0m\u001b[1;33m,\u001b[0m\u001b[1;34m'speed'\u001b[0m\u001b[1;33m,\u001b[0m\u001b[1;34m'ballPositionLabel'\u001b[0m\u001b[1;33m,\u001b[0m\u001b[1;34m'ballX'\u001b[0m\u001b[1;33m,\u001b[0m\u001b[1;34m'ballY'\u001b[0m\u001b[1;33m,\u001b[0m\u001b[1;34m'dir'\u001b[0m\u001b[1;33m,\u001b[0m\u001b[1;34m'dist'\u001b[0m\u001b[1;33m,\u001b[0m\u001b[1;34m'battingType'\u001b[0m\u001b[1;33m,\u001b[0m\u001b[1;34m'isOuts'\u001b[0m\u001b[1;33m]\u001b[0m\u001b[1;33m\u001b[0m\u001b[1;33m\u001b[0m\u001b[0m\n\u001b[1;32m----> 3\u001b[1;33m \u001b[0mtrain\u001b[0m \u001b[1;33m=\u001b[0m \u001b[0mtrain\u001b[0m\u001b[1;33m.\u001b[0m\u001b[0mdrop\u001b[0m\u001b[1;33m(\u001b[0m\u001b[0mdrop_cols\u001b[0m\u001b[1;33m,\u001b[0m \u001b[0maxis\u001b[0m\u001b[1;33m=\u001b[0m\u001b[1;34m'columns'\u001b[0m\u001b[1;33m)\u001b[0m\u001b[1;33m\u001b[0m\u001b[1;33m\u001b[0m\u001b[0m\n\u001b[0m",
      "\u001b[1;32mC:\\ProgramData\\Anaconda3\\lib\\site-packages\\pandas\\core\\frame.py\u001b[0m in \u001b[0;36mdrop\u001b[1;34m(self, labels, axis, index, columns, level, inplace, errors)\u001b[0m\n\u001b[0;32m   3995\u001b[0m             \u001b[0mlevel\u001b[0m\u001b[1;33m=\u001b[0m\u001b[0mlevel\u001b[0m\u001b[1;33m,\u001b[0m\u001b[1;33m\u001b[0m\u001b[1;33m\u001b[0m\u001b[0m\n\u001b[0;32m   3996\u001b[0m             \u001b[0minplace\u001b[0m\u001b[1;33m=\u001b[0m\u001b[0minplace\u001b[0m\u001b[1;33m,\u001b[0m\u001b[1;33m\u001b[0m\u001b[1;33m\u001b[0m\u001b[0m\n\u001b[1;32m-> 3997\u001b[1;33m             \u001b[0merrors\u001b[0m\u001b[1;33m=\u001b[0m\u001b[0merrors\u001b[0m\u001b[1;33m,\u001b[0m\u001b[1;33m\u001b[0m\u001b[1;33m\u001b[0m\u001b[0m\n\u001b[0m\u001b[0;32m   3998\u001b[0m         )\n\u001b[0;32m   3999\u001b[0m \u001b[1;33m\u001b[0m\u001b[0m\n",
      "\u001b[1;32mC:\\ProgramData\\Anaconda3\\lib\\site-packages\\pandas\\core\\generic.py\u001b[0m in \u001b[0;36mdrop\u001b[1;34m(self, labels, axis, index, columns, level, inplace, errors)\u001b[0m\n\u001b[0;32m   3934\u001b[0m         \u001b[1;32mfor\u001b[0m \u001b[0maxis\u001b[0m\u001b[1;33m,\u001b[0m \u001b[0mlabels\u001b[0m \u001b[1;32min\u001b[0m \u001b[0maxes\u001b[0m\u001b[1;33m.\u001b[0m\u001b[0mitems\u001b[0m\u001b[1;33m(\u001b[0m\u001b[1;33m)\u001b[0m\u001b[1;33m:\u001b[0m\u001b[1;33m\u001b[0m\u001b[1;33m\u001b[0m\u001b[0m\n\u001b[0;32m   3935\u001b[0m             \u001b[1;32mif\u001b[0m \u001b[0mlabels\u001b[0m \u001b[1;32mis\u001b[0m \u001b[1;32mnot\u001b[0m \u001b[1;32mNone\u001b[0m\u001b[1;33m:\u001b[0m\u001b[1;33m\u001b[0m\u001b[1;33m\u001b[0m\u001b[0m\n\u001b[1;32m-> 3936\u001b[1;33m                 \u001b[0mobj\u001b[0m \u001b[1;33m=\u001b[0m \u001b[0mobj\u001b[0m\u001b[1;33m.\u001b[0m\u001b[0m_drop_axis\u001b[0m\u001b[1;33m(\u001b[0m\u001b[0mlabels\u001b[0m\u001b[1;33m,\u001b[0m \u001b[0maxis\u001b[0m\u001b[1;33m,\u001b[0m \u001b[0mlevel\u001b[0m\u001b[1;33m=\u001b[0m\u001b[0mlevel\u001b[0m\u001b[1;33m,\u001b[0m \u001b[0merrors\u001b[0m\u001b[1;33m=\u001b[0m\u001b[0merrors\u001b[0m\u001b[1;33m)\u001b[0m\u001b[1;33m\u001b[0m\u001b[1;33m\u001b[0m\u001b[0m\n\u001b[0m\u001b[0;32m   3937\u001b[0m \u001b[1;33m\u001b[0m\u001b[0m\n\u001b[0;32m   3938\u001b[0m         \u001b[1;32mif\u001b[0m \u001b[0minplace\u001b[0m\u001b[1;33m:\u001b[0m\u001b[1;33m\u001b[0m\u001b[1;33m\u001b[0m\u001b[0m\n",
      "\u001b[1;32mC:\\ProgramData\\Anaconda3\\lib\\site-packages\\pandas\\core\\generic.py\u001b[0m in \u001b[0;36m_drop_axis\u001b[1;34m(self, labels, axis, level, errors)\u001b[0m\n\u001b[0;32m   3968\u001b[0m                 \u001b[0mnew_axis\u001b[0m \u001b[1;33m=\u001b[0m \u001b[0maxis\u001b[0m\u001b[1;33m.\u001b[0m\u001b[0mdrop\u001b[0m\u001b[1;33m(\u001b[0m\u001b[0mlabels\u001b[0m\u001b[1;33m,\u001b[0m \u001b[0mlevel\u001b[0m\u001b[1;33m=\u001b[0m\u001b[0mlevel\u001b[0m\u001b[1;33m,\u001b[0m \u001b[0merrors\u001b[0m\u001b[1;33m=\u001b[0m\u001b[0merrors\u001b[0m\u001b[1;33m)\u001b[0m\u001b[1;33m\u001b[0m\u001b[1;33m\u001b[0m\u001b[0m\n\u001b[0;32m   3969\u001b[0m             \u001b[1;32melse\u001b[0m\u001b[1;33m:\u001b[0m\u001b[1;33m\u001b[0m\u001b[1;33m\u001b[0m\u001b[0m\n\u001b[1;32m-> 3970\u001b[1;33m                 \u001b[0mnew_axis\u001b[0m \u001b[1;33m=\u001b[0m \u001b[0maxis\u001b[0m\u001b[1;33m.\u001b[0m\u001b[0mdrop\u001b[0m\u001b[1;33m(\u001b[0m\u001b[0mlabels\u001b[0m\u001b[1;33m,\u001b[0m \u001b[0merrors\u001b[0m\u001b[1;33m=\u001b[0m\u001b[0merrors\u001b[0m\u001b[1;33m)\u001b[0m\u001b[1;33m\u001b[0m\u001b[1;33m\u001b[0m\u001b[0m\n\u001b[0m\u001b[0;32m   3971\u001b[0m             \u001b[0mresult\u001b[0m \u001b[1;33m=\u001b[0m \u001b[0mself\u001b[0m\u001b[1;33m.\u001b[0m\u001b[0mreindex\u001b[0m\u001b[1;33m(\u001b[0m\u001b[1;33m**\u001b[0m\u001b[1;33m{\u001b[0m\u001b[0maxis_name\u001b[0m\u001b[1;33m:\u001b[0m \u001b[0mnew_axis\u001b[0m\u001b[1;33m}\u001b[0m\u001b[1;33m)\u001b[0m\u001b[1;33m\u001b[0m\u001b[1;33m\u001b[0m\u001b[0m\n\u001b[0;32m   3972\u001b[0m \u001b[1;33m\u001b[0m\u001b[0m\n",
      "\u001b[1;32mC:\\ProgramData\\Anaconda3\\lib\\site-packages\\pandas\\core\\indexes\\base.py\u001b[0m in \u001b[0;36mdrop\u001b[1;34m(self, labels, errors)\u001b[0m\n\u001b[0;32m   5016\u001b[0m         \u001b[1;32mif\u001b[0m \u001b[0mmask\u001b[0m\u001b[1;33m.\u001b[0m\u001b[0many\u001b[0m\u001b[1;33m(\u001b[0m\u001b[1;33m)\u001b[0m\u001b[1;33m:\u001b[0m\u001b[1;33m\u001b[0m\u001b[1;33m\u001b[0m\u001b[0m\n\u001b[0;32m   5017\u001b[0m             \u001b[1;32mif\u001b[0m \u001b[0merrors\u001b[0m \u001b[1;33m!=\u001b[0m \u001b[1;34m\"ignore\"\u001b[0m\u001b[1;33m:\u001b[0m\u001b[1;33m\u001b[0m\u001b[1;33m\u001b[0m\u001b[0m\n\u001b[1;32m-> 5018\u001b[1;33m                 \u001b[1;32mraise\u001b[0m \u001b[0mKeyError\u001b[0m\u001b[1;33m(\u001b[0m\u001b[1;34mf\"{labels[mask]} not found in axis\"\u001b[0m\u001b[1;33m)\u001b[0m\u001b[1;33m\u001b[0m\u001b[1;33m\u001b[0m\u001b[0m\n\u001b[0m\u001b[0;32m   5019\u001b[0m             \u001b[0mindexer\u001b[0m \u001b[1;33m=\u001b[0m \u001b[0mindexer\u001b[0m\u001b[1;33m[\u001b[0m\u001b[1;33m~\u001b[0m\u001b[0mmask\u001b[0m\u001b[1;33m]\u001b[0m\u001b[1;33m\u001b[0m\u001b[1;33m\u001b[0m\u001b[0m\n\u001b[0;32m   5020\u001b[0m         \u001b[1;32mreturn\u001b[0m \u001b[0mself\u001b[0m\u001b[1;33m.\u001b[0m\u001b[0mdelete\u001b[0m\u001b[1;33m(\u001b[0m\u001b[0mindexer\u001b[0m\u001b[1;33m)\u001b[0m\u001b[1;33m\u001b[0m\u001b[1;33m\u001b[0m\u001b[0m\n",
      "\u001b[1;31mKeyError\u001b[0m: \"['pitchType' 'speed' 'ballPositionLabel' 'ballX' 'ballY' 'dir' 'dist'\\n 'battingType' 'isOuts'] not found in axis\""
     ]
    }
   ],
   "source": [
    "# trainにあってtestにないカラム\n",
    "drop_cols = ['pitchType','speed','ballPositionLabel','ballX','ballY','dir','dist','battingType','isOuts']\n",
    "train = train.drop(drop_cols, axis='columns')"
   ]
  },
  {
   "cell_type": "code",
   "execution_count": 141,
   "metadata": {},
   "outputs": [],
   "source": [
    "#サンプルごとに固有の値を持つ質的変数 時系列データの削除\n",
    "drop_cols = ['startDayTime','startTime']\n",
    "#train = train.drop(drop_cols, axis='columns')\n",
    "test = test.drop(drop_cols,axis='columns')"
   ]
  },
  {
   "cell_type": "code",
   "execution_count": 145,
   "metadata": {},
   "outputs": [
    {
     "data": {
      "text/plain": [
       "Index(['totalPitchingCount', 'B', 'S', 'O', 'b1', 'b2', 'b3', 'pitcher',\n",
       "       'pitcherHand', 'batter', 'batterHand', 'gameID', 'inning', 'y',\n",
       "       'bottomTeam', 'bgBottom', 'topTeam', 'place', 'bgTop'],\n",
       "      dtype='object')"
      ]
     },
     "execution_count": 145,
     "metadata": {},
     "output_type": "execute_result"
    }
   ],
   "source": [
    "train.columns"
   ]
  },
  {
   "cell_type": "code",
   "execution_count": 143,
   "metadata": {},
   "outputs": [
    {
     "data": {
      "text/plain": [
       "Index(['totalPitchingCount', 'B', 'S', 'O', 'b1', 'b2', 'b3', 'pitcher',\n",
       "       'pitcherHand', 'batter', 'batterHand', 'gameID', 'inning', 'bottomTeam',\n",
       "       'bgBottom', 'topTeam', 'place', 'bgTop'],\n",
       "      dtype='object')"
      ]
     },
     "execution_count": 143,
     "metadata": {},
     "output_type": "execute_result"
    }
   ],
   "source": [
    "test.columns"
   ]
  },
  {
   "cell_type": "code",
   "execution_count": 147,
   "metadata": {},
   "outputs": [
    {
     "data": {
      "text/plain": [
       "森下 暢仁    375\n",
       "柳 裕也     354\n",
       "梅津 晃大    316\n",
       "濱口 遥大    309\n",
       "與座 海人    305\n",
       "        ... \n",
       "鍵谷 陽平     20\n",
       "武藤 祐太     16\n",
       "エドワーズ     14\n",
       "ヒギンス      14\n",
       "大西 広樹     12\n",
       "Name: pitcher, Length: 188, dtype: int64"
      ]
     },
     "execution_count": 147,
     "metadata": {},
     "output_type": "execute_result"
    }
   ],
   "source": [
    "train[\"pitcher\"].value_counts()"
   ]
  },
  {
   "cell_type": "code",
   "execution_count": 148,
   "metadata": {},
   "outputs": [
    {
     "data": {
      "text/plain": [
       "5     3410\n",
       "8     3042\n",
       "6     2916\n",
       "12    2569\n",
       "11    2519\n",
       "4     1745\n",
       "9     1522\n",
       "1     1216\n",
       "10     861\n",
       "3      600\n",
       "Name: bgTop, dtype: int64"
      ]
     },
     "execution_count": 148,
     "metadata": {},
     "output_type": "execute_result"
    }
   ],
   "source": [
    "train[\"bgTop\"].value_counts()"
   ]
  },
  {
   "cell_type": "code",
   "execution_count": 149,
   "metadata": {},
   "outputs": [
    {
     "data": {
      "text/plain": [
       "西川 遥輝    265\n",
       "梶谷 隆幸    254\n",
       "近藤 健介    246\n",
       "ソト       237\n",
       "中田 翔     237\n",
       "        ... \n",
       "井野 卓       3\n",
       "佐野 皓大      3\n",
       "上田 剛史      2\n",
       "ガルシア       2\n",
       "蝦名 達夫      1\n",
       "Name: batter, Length: 236, dtype: int64"
      ]
     },
     "execution_count": 149,
     "metadata": {},
     "output_type": "execute_result"
    }
   ],
   "source": [
    "train[\"batter\"].value_counts()"
   ]
  },
  {
   "cell_type": "code",
   "execution_count": 150,
   "metadata": {},
   "outputs": [
    {
     "data": {
      "text/plain": [
       "西武        3602\n",
       "ヤクルト      2918\n",
       "DeNA      2897\n",
       "楽天        2761\n",
       "巨人        2300\n",
       "ロッテ       1919\n",
       "中日        1772\n",
       "ソフトバンク     884\n",
       "オリックス      861\n",
       "日本ハム       486\n",
       "Name: bottomTeam, dtype: int64"
      ]
     },
     "execution_count": 150,
     "metadata": {},
     "output_type": "execute_result"
    }
   ],
   "source": [
    "train[\"bottomTeam\"].value_counts()"
   ]
  },
  {
   "cell_type": "code",
   "execution_count": 151,
   "metadata": {},
   "outputs": [
    {
     "data": {
      "text/plain": [
       "阪神        3410\n",
       "日本ハム      3042\n",
       "広島        2916\n",
       "ソフトバンク    2569\n",
       "オリックス     2519\n",
       "中日        1745\n",
       "ロッテ       1522\n",
       "巨人        1216\n",
       "楽天         861\n",
       "DeNA       600\n",
       "Name: topTeam, dtype: int64"
      ]
     },
     "execution_count": 151,
     "metadata": {},
     "output_type": "execute_result"
    }
   ],
   "source": [
    "train[\"topTeam\"].value_counts()"
   ]
  },
  {
   "cell_type": "code",
   "execution_count": null,
   "metadata": {},
   "outputs": [],
   "source": []
  }
 ],
 "metadata": {
  "colab": {
   "authorship_tag": "ABX9TyPQGTQepWPyEYi/498kk0FZ",
   "mount_file_id": "1c3Ho576UNgaujfdeswIFZkRJ10kEncPQ",
   "name": "ProbeSpaceプロ野球v2.ipynb",
   "provenance": [],
   "toc_visible": true
  },
  "kernelspec": {
   "display_name": "Python 3",
   "language": "python",
   "name": "python3"
  },
  "language_info": {
   "codemirror_mode": {
    "name": "ipython",
    "version": 3
   },
   "file_extension": ".py",
   "mimetype": "text/x-python",
   "name": "python",
   "nbconvert_exporter": "python",
   "pygments_lexer": "ipython3",
   "version": "3.8.8"
  }
 },
 "nbformat": 4,
 "nbformat_minor": 4
}
