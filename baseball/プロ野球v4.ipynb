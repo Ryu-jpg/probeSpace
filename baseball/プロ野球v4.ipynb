{
 "cells": [
  {
   "cell_type": "markdown",
   "metadata": {
    "id": "kTi7Is-0Uu7m"
   },
   "source": [
    "# データのロード\n",
    "まずはデータを読み込んで見ましょう。csvデータの読み込みは複数のやり方がありえますが、pandasのread_csv関数はその中でも機能が豊富で、扱いやすいためこれを使います。\n",
    "これを使うと、csvデータを読み込み、pandas.DataFrameにして返してくれます。"
   ]
  },
  {
   "cell_type": "code",
   "execution_count": 1,
   "metadata": {},
   "outputs": [
    {
     "ename": "ModuleNotFoundError",
     "evalue": "No module named 'xgboost'",
     "output_type": "error",
     "traceback": [
      "\u001b[1;31m---------------------------------------------------------------------------\u001b[0m",
      "\u001b[1;31mModuleNotFoundError\u001b[0m                       Traceback (most recent call last)",
      "\u001b[1;32m<ipython-input-1-524e5795c83a>\u001b[0m in \u001b[0;36m<module>\u001b[1;34m\u001b[0m\n\u001b[0;32m     14\u001b[0m \u001b[1;32mfrom\u001b[0m \u001b[0msklearn\u001b[0m\u001b[1;33m.\u001b[0m\u001b[0mmetrics\u001b[0m \u001b[1;32mimport\u001b[0m \u001b[0mr2_score\u001b[0m\u001b[1;33m\u001b[0m\u001b[1;33m\u001b[0m\u001b[0m\n\u001b[0;32m     15\u001b[0m \u001b[1;32mfrom\u001b[0m \u001b[0msklearn\u001b[0m\u001b[1;33m.\u001b[0m\u001b[0mmetrics\u001b[0m \u001b[1;32mimport\u001b[0m \u001b[0mmean_absolute_error\u001b[0m\u001b[1;33m\u001b[0m\u001b[1;33m\u001b[0m\u001b[0m\n\u001b[1;32m---> 16\u001b[1;33m \u001b[1;32mimport\u001b[0m \u001b[0mxgboost\u001b[0m \u001b[1;32mas\u001b[0m \u001b[0mxgb\u001b[0m\u001b[1;33m\u001b[0m\u001b[1;33m\u001b[0m\u001b[0m\n\u001b[0m\u001b[0;32m     17\u001b[0m \u001b[1;31m#import lightgbm as lgb\u001b[0m\u001b[1;33m\u001b[0m\u001b[1;33m\u001b[0m\u001b[1;33m\u001b[0m\u001b[0m\n\u001b[0;32m     18\u001b[0m \u001b[1;32mfrom\u001b[0m \u001b[0moptuna\u001b[0m\u001b[1;33m.\u001b[0m\u001b[0mintegration\u001b[0m \u001b[1;32mimport\u001b[0m \u001b[0mlightgbm\u001b[0m \u001b[1;32mas\u001b[0m \u001b[0mgbm\u001b[0m\u001b[1;33m\u001b[0m\u001b[1;33m\u001b[0m\u001b[0m\n",
      "\u001b[1;31mModuleNotFoundError\u001b[0m: No module named 'xgboost'"
     ]
    }
   ],
   "source": [
    "import numpy as np\n",
    "import pandas as pd\n",
    "import pandas_profiling as pdp\n",
    "import matplotlib.pyplot as plt\n",
    "%matplotlib inline\n",
    "from mpl_toolkits.mplot3d import Axes3D\n",
    "import seaborn as sns\n",
    "import pickle\n",
    "from sklearn.model_selection import train_test_split,GridSearchCV\n",
    "from sklearn.decomposition import PCA\n",
    "from sklearn.manifold import TSNE\n",
    "from sklearn.preprocessing import StandardScaler\n",
    "from sklearn.ensemble import RandomForestClassifier\n",
    "from sklearn.metrics import r2_score\n",
    "from sklearn.metrics import mean_absolute_error\n",
    "import xgboost as xgb\n",
    "#import lightgbm as lgb\n",
    "from optuna.integration import lightgbm as gbm\n",
    "import warnings\n",
    "warnings.simplefilter('ignore')"
   ]
  },
  {
   "cell_type": "code",
   "execution_count": 3,
   "metadata": {},
   "outputs": [
    {
     "name": "stdout",
     "output_type": "stream",
     "text": [
      "Requirement already satisfied: optuna in c:\\programdata\\anaconda3\\lib\\site-packages (2.7.0)\n",
      "Requirement already satisfied: tqdm in c:\\programdata\\anaconda3\\lib\\site-packages (from optuna) (4.59.0)\n",
      "Requirement already satisfied: numpy in c:\\programdata\\anaconda3\\lib\\site-packages (from optuna) (1.20.1)\n",
      "Requirement already satisfied: sqlalchemy>=1.1.0 in c:\\programdata\\anaconda3\\lib\\site-packages (from optuna) (1.4.7)\n",
      "Requirement already satisfied: colorlog in c:\\programdata\\anaconda3\\lib\\site-packages (from optuna) (5.0.1)\n",
      "Requirement already satisfied: alembic in c:\\programdata\\anaconda3\\lib\\site-packages (from optuna) (1.5.8)\n",
      "Requirement already satisfied: scipy!=1.4.0 in c:\\programdata\\anaconda3\\lib\\site-packages (from optuna) (1.6.2)\n",
      "Requirement already satisfied: packaging>=20.0 in c:\\programdata\\anaconda3\\lib\\site-packages (from optuna) (20.9)\n",
      "Requirement already satisfied: cliff in c:\\programdata\\anaconda3\\lib\\site-packages (from optuna) (3.7.0)\n",
      "Requirement already satisfied: cmaes>=0.8.2 in c:\\programdata\\anaconda3\\lib\\site-packages (from optuna) (0.8.2)\n",
      "Requirement already satisfied: pyparsing>=2.0.2 in c:\\programdata\\anaconda3\\lib\\site-packages (from packaging>=20.0->optuna) (2.4.7)\n",
      "Requirement already satisfied: importlib-metadata in c:\\programdata\\anaconda3\\lib\\site-packages (from sqlalchemy>=1.1.0->optuna) (4.0.1)\n",
      "Requirement already satisfied: greenlet!=0.4.17 in c:\\programdata\\anaconda3\\lib\\site-packages (from sqlalchemy>=1.1.0->optuna) (1.0.0)\n",
      "Requirement already satisfied: python-dateutil in c:\\programdata\\anaconda3\\lib\\site-packages (from alembic->optuna) (2.8.1)\n",
      "Requirement already satisfied: Mako in c:\\programdata\\anaconda3\\lib\\site-packages (from alembic->optuna) (1.1.4)\n",
      "Requirement already satisfied: python-editor>=0.3 in c:\\programdata\\anaconda3\\lib\\site-packages (from alembic->optuna) (1.0.4)\n",
      "Requirement already satisfied: PyYAML>=3.12 in c:\\programdata\\anaconda3\\lib\\site-packages (from cliff->optuna) (5.4.1)\n",
      "Requirement already satisfied: PrettyTable>=0.7.2 in c:\\programdata\\anaconda3\\lib\\site-packages (from cliff->optuna) (2.1.0)\n",
      "Requirement already satisfied: pbr!=2.1.0,>=2.0.0 in c:\\programdata\\anaconda3\\lib\\site-packages (from cliff->optuna) (5.6.0)\n",
      "Requirement already satisfied: cmd2>=1.0.0 in c:\\programdata\\anaconda3\\lib\\site-packages (from cliff->optuna) (1.5.0)\n",
      "Requirement already satisfied: stevedore>=2.0.1 in c:\\programdata\\anaconda3\\lib\\site-packages (from cliff->optuna) (3.3.0)\n",
      "Requirement already satisfied: pyperclip>=1.6 in c:\\programdata\\anaconda3\\lib\\site-packages (from cmd2>=1.0.0->cliff->optuna) (1.8.2)\n",
      "Requirement already satisfied: attrs>=16.3.0 in c:\\programdata\\anaconda3\\lib\\site-packages (from cmd2>=1.0.0->cliff->optuna) (20.3.0)\n",
      "Requirement already satisfied: pyreadline in c:\\programdata\\anaconda3\\lib\\site-packages (from cmd2>=1.0.0->cliff->optuna) (2.1)\n",
      "Requirement already satisfied: wcwidth>=0.1.7 in c:\\programdata\\anaconda3\\lib\\site-packages (from cmd2>=1.0.0->cliff->optuna) (0.2.5)\n",
      "Requirement already satisfied: colorama>=0.3.7 in c:\\programdata\\anaconda3\\lib\\site-packages (from cmd2>=1.0.0->cliff->optuna) (0.4.4)\n",
      "Requirement already satisfied: zipp>=0.5 in c:\\programdata\\anaconda3\\lib\\site-packages (from importlib-metadata->sqlalchemy>=1.1.0->optuna) (3.4.1)\n",
      "Requirement already satisfied: typing-extensions>=3.6.4 in c:\\programdata\\anaconda3\\lib\\site-packages (from importlib-metadata->sqlalchemy>=1.1.0->optuna) (3.7.4.3)\n",
      "Requirement already satisfied: MarkupSafe>=0.9.2 in c:\\programdata\\anaconda3\\lib\\site-packages (from Mako->alembic->optuna) (1.1.1)\n",
      "Requirement already satisfied: six>=1.5 in c:\\programdata\\anaconda3\\lib\\site-packages (from python-dateutil->alembic->optuna) (1.15.0)\n"
     ]
    }
   ],
   "source": [
    "!pip install optuna"
   ]
  },
  {
   "cell_type": "code",
   "execution_count": 4,
   "metadata": {
    "colab": {
     "base_uri": "https://localhost:8080/"
    },
    "executionInfo": {
     "elapsed": 3233,
     "status": "ok",
     "timestamp": 1619347309720,
     "user": {
      "displayName": "リュウイチ",
      "photoUrl": "https://lh3.googleusercontent.com/a-/AOh14GgpfSmscxJ-11scyWjhwzMwqt6MwzUnP-eb4LKWyg=s64",
      "userId": "09516200488397919357"
     },
     "user_tz": -540
    },
    "id": "HRP_nWzSIWTG",
    "outputId": "27977b77-7a05-4bdf-d77b-eac381287098"
   },
   "outputs": [
    {
     "name": "stdout",
     "output_type": "stream",
     "text": [
      "(20400, 23)\n",
      "(33808, 13)\n",
      "    totalPitchingCount  B  S  O     b1     b2     b3  pitcher pitcherHand  \\\n",
      "id                                                                          \n",
      "0                    2  1  0  0  False  False  False    遠藤 淳志           R   \n",
      "1                    1  0  0  0  False  False  False  バンデンハーク           R   \n",
      "2                    7  3  2  2   True  False  False     スアレス           R   \n",
      "3                    1  0  0  2   True  False  False      クック           R   \n",
      "4                    2  0  0  2  False  False  False    則本 昂大           R   \n",
      "\n",
      "   batter batterHand    gameID inning  \n",
      "id                                     \n",
      "0    乙坂 智          L  20202564    2回表  \n",
      "1   西川 遥輝          L  20202106    3回裏  \n",
      "2   堂林 翔太          R  20203305    9回裏  \n",
      "3   井領 雅貴          L  20202650    3回裏  \n",
      "4   安達 了一          R  20202339    2回表  \n"
     ]
    }
   ],
   "source": [
    "#データの読み込みと前処理\n",
    "import pandas as pd\n",
    "train = pd.read_csv(\"train_data.csv\", index_col='id')\n",
    "test = pd.read_csv(\"test_data.csv\", index_col='id')\n",
    "game = pd.read_csv(\"game_info.csv\")\n",
    "target = train['y']\n",
    "game = game.drop('Unnamed: 0',axis=1)\n",
    "print(train.shape)\n",
    "print(test.shape)\n",
    "print(test.head())\n",
    "\n"
   ]
  },
  {
   "cell_type": "code",
   "execution_count": 5,
   "metadata": {},
   "outputs": [
    {
     "data": {
      "text/plain": [
       "id\n",
       "0        0\n",
       "1        1\n",
       "2        0\n",
       "3        2\n",
       "4        4\n",
       "        ..\n",
       "20395    2\n",
       "20396    0\n",
       "20397    1\n",
       "20398    0\n",
       "20399    1\n",
       "Name: y, Length: 20400, dtype: int64"
      ]
     },
     "execution_count": 5,
     "metadata": {},
     "output_type": "execute_result"
    }
   ],
   "source": [
    "train['y']"
   ]
  },
  {
   "cell_type": "code",
   "execution_count": 6,
   "metadata": {
    "colab": {
     "base_uri": "https://localhost:8080/"
    },
    "executionInfo": {
     "elapsed": 939,
     "status": "ok",
     "timestamp": 1619347313104,
     "user": {
      "displayName": "リュウイチ",
      "photoUrl": "https://lh3.googleusercontent.com/a-/AOh14GgpfSmscxJ-11scyWjhwzMwqt6MwzUnP-eb4LKWyg=s64",
      "userId": "09516200488397919357"
     },
     "user_tz": -540
    },
    "id": "vECQAEhgt-KC",
    "outputId": "5e62cec9-b832-4498-e837-0741e76e4179"
   },
   "outputs": [],
   "source": [
    "train = pd.merge(train, game, on='gameID')\n",
    "test = pd.merge(test, game, on='gameID')"
   ]
  },
  {
   "cell_type": "code",
   "execution_count": 7,
   "metadata": {},
   "outputs": [],
   "source": [
    "num_data=train.select_dtypes(include='int64')\n",
    "obj_data=train.select_dtypes(include='object')\n",
    "lostlist=obj_data.columns[obj_data.isnull().sum()!=0]\n",
    "complist=obj_data.columns[obj_data.isnull().sum()==0]\n",
    "lost_obj_data=obj_data[lostlist]\n",
    "comp_obj_data=obj_data[complist]"
   ]
  },
  {
   "cell_type": "code",
   "execution_count": 8,
   "metadata": {},
   "outputs": [
    {
     "data": {
      "text/plain": [
       "0        0\n",
       "1        1\n",
       "2        0\n",
       "3        2\n",
       "4        4\n",
       "        ..\n",
       "20395    2\n",
       "20396    0\n",
       "20397    1\n",
       "20398    0\n",
       "20399    1\n",
       "Name: y, Length: 20400, dtype: int64"
      ]
     },
     "execution_count": 8,
     "metadata": {},
     "output_type": "execute_result"
    }
   ],
   "source": [
    "train['y']"
   ]
  },
  {
   "cell_type": "code",
   "execution_count": 9,
   "metadata": {},
   "outputs": [
    {
     "data": {
      "text/plain": [
       "pitcher                  0\n",
       "pitcherHand             45\n",
       "batter                   0\n",
       "batterHand              45\n",
       "inning                   0\n",
       "pitchType                0\n",
       "speed                    0\n",
       "ballPositionLabel        0\n",
       "ballY                    0\n",
       "dir                  16758\n",
       "battingType          16758\n",
       "isOuts               15234\n",
       "startTime                0\n",
       "bottomTeam               0\n",
       "topTeam                  0\n",
       "place                    0\n",
       "startDayTime             0\n",
       "dtype: int64"
      ]
     },
     "execution_count": 9,
     "metadata": {},
     "output_type": "execute_result"
    }
   ],
   "source": [
    "obj_data.isnull().sum()"
   ]
  },
  {
   "cell_type": "code",
   "execution_count": 10,
   "metadata": {},
   "outputs": [
    {
     "data": {
      "text/plain": [
       "Index(['pitcherHand', 'batterHand', 'dir', 'battingType', 'isOuts'], dtype='object')"
      ]
     },
     "execution_count": 10,
     "metadata": {},
     "output_type": "execute_result"
    }
   ],
   "source": [
    "lostlist"
   ]
  },
  {
   "cell_type": "code",
   "execution_count": 11,
   "metadata": {
    "colab": {
     "base_uri": "https://localhost:8080/"
    },
    "executionInfo": {
     "elapsed": 1129,
     "status": "ok",
     "timestamp": 1619347323900,
     "user": {
      "displayName": "リュウイチ",
      "photoUrl": "https://lh3.googleusercontent.com/a-/AOh14GgpfSmscxJ-11scyWjhwzMwqt6MwzUnP-eb4LKWyg=s64",
      "userId": "09516200488397919357"
     },
     "user_tz": -540
    },
    "id": "OV12HYAXPwef",
    "outputId": "3bae85f5-76da-46d2-aaac-abab59bc294f"
   },
   "outputs": [
    {
     "name": "stdout",
     "output_type": "stream",
     "text": [
      "       totalPitchingCount  B  S  O     b1     b2     b3 pitcher pitcherHand  \\\n",
      "0                       1  0  0  0  False  False  False   今永 昇太           L   \n",
      "1                       2  1  0  0  False  False  False   今永 昇太           L   \n",
      "2                       3  1  1  0  False  False  False   今永 昇太           L   \n",
      "3                       4  2  1  0  False  False  False   今永 昇太           L   \n",
      "4                       5  2  2  0  False  False  False   今永 昇太           L   \n",
      "...                   ... .. .. ..    ...    ...    ...     ...         ...   \n",
      "20152                   2  1  0  2  False  False  False    森 唯斗           R   \n",
      "20153                   3  1  1  2  False  False  False    森 唯斗           R   \n",
      "20154                   4  2  1  2  False  False  False    森 唯斗           R   \n",
      "20155                   5  2  2  2  False  False  False    森 唯斗           R   \n",
      "20156                   6  3  2  2  False  False  False    森 唯斗           R   \n",
      "\n",
      "      batter  ... battingType  isOuts  y startTime bottomTeam bgBottom  \\\n",
      "0        ピレラ  ...         NaN     NaN  0     18:00       DeNA        3   \n",
      "1        ピレラ  ...         NaN     NaN  1     18:00       DeNA        3   \n",
      "2        ピレラ  ...         NaN     NaN  0     18:00       DeNA        3   \n",
      "3        ピレラ  ...         NaN     NaN  2     18:00       DeNA        3   \n",
      "4        ピレラ  ...           G   False  4     18:00       DeNA        3   \n",
      "...      ...  ...         ...     ... ..       ...        ...      ...   \n",
      "20152  大田 泰示  ...         NaN     NaN  2     18:00       日本ハム        8   \n",
      "20153  大田 泰示  ...         NaN     NaN  0     18:00       日本ハム        8   \n",
      "20154  大田 泰示  ...         NaN     NaN  1     18:00       日本ハム        8   \n",
      "20155  大田 泰示  ...         NaN     NaN  0     18:00       日本ハム        8   \n",
      "20156  大田 泰示  ...         NaN    True  1     18:00       日本ハム        8   \n",
      "\n",
      "       topTeam  place         startDayTime  bgTop  \n",
      "0           広島     横浜  2020-06-19 18:00:00      6  \n",
      "1           広島     横浜  2020-06-19 18:00:00      6  \n",
      "2           広島     横浜  2020-06-19 18:00:00      6  \n",
      "3           広島     横浜  2020-06-19 18:00:00      6  \n",
      "4           広島     横浜  2020-06-19 18:00:00      6  \n",
      "...        ...    ...                  ...    ...  \n",
      "20152   ソフトバンク  札幌ドーム  2020-06-30 18:00:00     12  \n",
      "20153   ソフトバンク  札幌ドーム  2020-06-30 18:00:00     12  \n",
      "20154   ソフトバンク  札幌ドーム  2020-06-30 18:00:00     12  \n",
      "20155   ソフトバンク  札幌ドーム  2020-06-30 18:00:00     12  \n",
      "20156   ソフトバンク  札幌ドーム  2020-06-30 18:00:00     12  \n",
      "\n",
      "[17136 rows x 30 columns]\n"
     ]
    }
   ],
   "source": [
    "#重複データの表示\n",
    "#print(train[train_data.duplicated()])\n",
    "\n",
    "#重複データの削除\n",
    "#2040-3264=\n",
    "train = train.drop_duplicates()\n",
    "print(train)"
   ]
  },
  {
   "cell_type": "markdown",
   "metadata": {},
   "source": [
    "##量的変数だけで、データクレンジング\n",
    "---\n",
    "回帰編４を参考\n"
   ]
  },
  {
   "cell_type": "markdown",
   "metadata": {},
   "source": [
    "**データの説明**\n",
    "\n",
    "- `totalPitchingCount`：各打席の投球が何球目か\n",
    "- `B` `S` `O`:ボールカウント、ストライクカウント、アウトカウント\n",
    "- `b1` `b2` `b3`:1塁にランナーがいるか、2塁にランナーがいるか、3塁にランナーがいるか\n",
    "\n",
    "\n",
    "- `pitcher`：ピッチャー名（NaNを含む）\n",
    "- `pitcherHand`：右投げか左投げかdd\n",
    "- `pitchType`：球種\n",
    "- `pitchType`：打球方向(A-Z)\n",
    "\n",
    "- `batter`：バッター名（NaNを含む）\n",
    "- `batterHand`：右打ちか左打ちか\n",
    "- `battingType`：打球種類(B:バント, G:ゴロ, P:ポップフライ, F:フライ, L:ライナー)\n",
    "\n",
    "- `isOuts`：isOuts\n",
    "\n",
    "- `gameID`：試合ID\n",
    "- `place`：試合会場\n",
    "- `inning`：イニング　一回表\n",
    "- `startDayTime`：試合開始日時\n",
    "- `startTime`：\t試合開始時間\n",
    "- `topTeam`：先攻チーム名\n",
    "- `bottomTeam`：後攻チーム名\n",
    "- `bgBottom`：試合ID\n",
    "\t\t\t\t\t\t"
   ]
  },
  {
   "cell_type": "markdown",
   "metadata": {},
   "source": [
    "下記を削除\n",
    "- 値が1つしかない量的変数\n",
    "- サンプルごとに固有の値を持つ量的変数\n",
    "- trainにあってtestにないカラム"
   ]
  },
  {
   "cell_type": "code",
   "execution_count": 12,
   "metadata": {},
   "outputs": [],
   "source": [
    "# trainにあってtestにないカラムを削除\n",
    "drop_cols = ['pitchType','speed','ballPositionLabel','ballX','ballY','dir','dist','battingType','isOuts']\n",
    "train = train.drop(drop_cols, axis='columns')\n"
   ]
  },
  {
   "cell_type": "code",
   "execution_count": 13,
   "metadata": {},
   "outputs": [],
   "source": [
    "#サンプルごとに固有の値を持つ質的変数 時系列データの削除\n",
    "drop_cols = ['startDayTime','startTime']\n",
    "train = train.drop(drop_cols, axis='columns')\n",
    "test = test.drop(drop_cols,axis='columns')"
   ]
  },
  {
   "cell_type": "code",
   "execution_count": 14,
   "metadata": {},
   "outputs": [
    {
     "data": {
      "text/plain": [
       "0        0\n",
       "1        1\n",
       "2        0\n",
       "3        2\n",
       "4        4\n",
       "        ..\n",
       "20152    2\n",
       "20153    0\n",
       "20154    1\n",
       "20155    0\n",
       "20156    1\n",
       "Name: y, Length: 17136, dtype: int64"
      ]
     },
     "execution_count": 14,
     "metadata": {},
     "output_type": "execute_result"
    }
   ],
   "source": [
    "train['y']"
   ]
  },
  {
   "cell_type": "code",
   "execution_count": 15,
   "metadata": {},
   "outputs": [
    {
     "data": {
      "text/plain": [
       "Index(['totalPitchingCount', 'B', 'S', 'O', 'b1', 'b2', 'b3', 'pitcher',\n",
       "       'pitcherHand', 'batter', 'batterHand', 'gameID', 'inning', 'y',\n",
       "       'bottomTeam', 'bgBottom', 'topTeam', 'place', 'bgTop'],\n",
       "      dtype='object')"
      ]
     },
     "execution_count": 15,
     "metadata": {},
     "output_type": "execute_result"
    }
   ],
   "source": [
    "train.columns"
   ]
  },
  {
   "cell_type": "code",
   "execution_count": 16,
   "metadata": {},
   "outputs": [
    {
     "data": {
      "text/plain": [
       "Index(['totalPitchingCount', 'B', 'S', 'O', 'b1', 'b2', 'b3', 'pitcher',\n",
       "       'pitcherHand', 'batter', 'batterHand', 'gameID', 'inning', 'bottomTeam',\n",
       "       'bgBottom', 'topTeam', 'place', 'bgTop'],\n",
       "      dtype='object')"
      ]
     },
     "execution_count": 16,
     "metadata": {},
     "output_type": "execute_result"
    }
   ],
   "source": [
    "test.columns"
   ]
  },
  {
   "cell_type": "markdown",
   "metadata": {},
   "source": [
    "## 質的データの整理　欠損値がある部分"
   ]
  },
  {
   "cell_type": "code",
   "execution_count": 17,
   "metadata": {},
   "outputs": [
    {
     "data": {
      "text/plain": [
       "Index(['pitcherHand', 'batterHand', 'dir', 'battingType', 'isOuts'], dtype='object')"
      ]
     },
     "execution_count": 17,
     "metadata": {},
     "output_type": "execute_result"
    }
   ],
   "source": [
    "lostlist"
   ]
  },
  {
   "cell_type": "code",
   "execution_count": 18,
   "metadata": {},
   "outputs": [
    {
     "data": {
      "text/plain": [
       "R    12078\n",
       "L     5027\n",
       "Name: pitcherHand, dtype: int64"
      ]
     },
     "execution_count": 18,
     "metadata": {},
     "output_type": "execute_result"
    }
   ],
   "source": [
    "train[\"pitcherHand\"].value_counts()"
   ]
  },
  {
   "cell_type": "code",
   "execution_count": 19,
   "metadata": {},
   "outputs": [
    {
     "data": {
      "text/plain": [
       "R    9019\n",
       "L    8086\n",
       "Name: batterHand, dtype: int64"
      ]
     },
     "execution_count": 19,
     "metadata": {},
     "output_type": "execute_result"
    }
   ],
   "source": [
    "train[\"batterHand\"].value_counts()"
   ]
  },
  {
   "cell_type": "code",
   "execution_count": 20,
   "metadata": {},
   "outputs": [
    {
     "data": {
      "text/plain": [
       "0        False\n",
       "1        False\n",
       "2        False\n",
       "3        False\n",
       "4        False\n",
       "         ...  \n",
       "20152    False\n",
       "20153    False\n",
       "20154    False\n",
       "20155    False\n",
       "20156    False\n",
       "Name: pitcherHand, Length: 17136, dtype: bool"
      ]
     },
     "execution_count": 20,
     "metadata": {},
     "output_type": "execute_result"
    }
   ],
   "source": [
    "train['pitcherHand'].isnull()"
   ]
  },
  {
   "cell_type": "code",
   "execution_count": 21,
   "metadata": {},
   "outputs": [
    {
     "data": {
      "text/html": [
       "<div>\n",
       "<style scoped>\n",
       "    .dataframe tbody tr th:only-of-type {\n",
       "        vertical-align: middle;\n",
       "    }\n",
       "\n",
       "    .dataframe tbody tr th {\n",
       "        vertical-align: top;\n",
       "    }\n",
       "\n",
       "    .dataframe thead th {\n",
       "        text-align: right;\n",
       "    }\n",
       "</style>\n",
       "<table border=\"1\" class=\"dataframe\">\n",
       "  <thead>\n",
       "    <tr style=\"text-align: right;\">\n",
       "      <th></th>\n",
       "      <th>totalPitchingCount</th>\n",
       "      <th>B</th>\n",
       "      <th>S</th>\n",
       "      <th>O</th>\n",
       "      <th>b1</th>\n",
       "      <th>b2</th>\n",
       "      <th>b3</th>\n",
       "      <th>pitcher</th>\n",
       "      <th>pitcherHand</th>\n",
       "      <th>batter</th>\n",
       "      <th>batterHand</th>\n",
       "      <th>gameID</th>\n",
       "      <th>inning</th>\n",
       "      <th>y</th>\n",
       "      <th>bottomTeam</th>\n",
       "      <th>bgBottom</th>\n",
       "      <th>topTeam</th>\n",
       "      <th>place</th>\n",
       "      <th>bgTop</th>\n",
       "    </tr>\n",
       "  </thead>\n",
       "  <tbody>\n",
       "    <tr>\n",
       "      <th>986</th>\n",
       "      <td>1</td>\n",
       "      <td>0</td>\n",
       "      <td>0</td>\n",
       "      <td>2</td>\n",
       "      <td>True</td>\n",
       "      <td>False</td>\n",
       "      <td>True</td>\n",
       "      <td>東浜 巨</td>\n",
       "      <td>NaN</td>\n",
       "      <td>角中 勝也</td>\n",
       "      <td>NaN</td>\n",
       "      <td>20202170</td>\n",
       "      <td>3回表</td>\n",
       "      <td>1</td>\n",
       "      <td>ソフトバンク</td>\n",
       "      <td>12</td>\n",
       "      <td>ロッテ</td>\n",
       "      <td>PayPayドーム</td>\n",
       "      <td>9</td>\n",
       "    </tr>\n",
       "    <tr>\n",
       "      <th>987</th>\n",
       "      <td>2</td>\n",
       "      <td>0</td>\n",
       "      <td>1</td>\n",
       "      <td>2</td>\n",
       "      <td>True</td>\n",
       "      <td>False</td>\n",
       "      <td>True</td>\n",
       "      <td>東浜 巨</td>\n",
       "      <td>NaN</td>\n",
       "      <td>角中 勝也</td>\n",
       "      <td>NaN</td>\n",
       "      <td>20202170</td>\n",
       "      <td>3回表</td>\n",
       "      <td>0</td>\n",
       "      <td>ソフトバンク</td>\n",
       "      <td>12</td>\n",
       "      <td>ロッテ</td>\n",
       "      <td>PayPayドーム</td>\n",
       "      <td>9</td>\n",
       "    </tr>\n",
       "    <tr>\n",
       "      <th>988</th>\n",
       "      <td>3</td>\n",
       "      <td>1</td>\n",
       "      <td>1</td>\n",
       "      <td>2</td>\n",
       "      <td>True</td>\n",
       "      <td>False</td>\n",
       "      <td>True</td>\n",
       "      <td>東浜 巨</td>\n",
       "      <td>NaN</td>\n",
       "      <td>角中 勝也</td>\n",
       "      <td>NaN</td>\n",
       "      <td>20202170</td>\n",
       "      <td>3回表</td>\n",
       "      <td>1</td>\n",
       "      <td>ソフトバンク</td>\n",
       "      <td>12</td>\n",
       "      <td>ロッテ</td>\n",
       "      <td>PayPayドーム</td>\n",
       "      <td>9</td>\n",
       "    </tr>\n",
       "    <tr>\n",
       "      <th>2975</th>\n",
       "      <td>1</td>\n",
       "      <td>0</td>\n",
       "      <td>0</td>\n",
       "      <td>2</td>\n",
       "      <td>True</td>\n",
       "      <td>False</td>\n",
       "      <td>True</td>\n",
       "      <td>松井 裕樹</td>\n",
       "      <td>NaN</td>\n",
       "      <td>大城 滉二</td>\n",
       "      <td>NaN</td>\n",
       "      <td>20202165</td>\n",
       "      <td>1回裏</td>\n",
       "      <td>0</td>\n",
       "      <td>オリックス</td>\n",
       "      <td>11</td>\n",
       "      <td>楽天</td>\n",
       "      <td>京セラD大阪</td>\n",
       "      <td>10</td>\n",
       "    </tr>\n",
       "    <tr>\n",
       "      <th>2976</th>\n",
       "      <td>2</td>\n",
       "      <td>1</td>\n",
       "      <td>0</td>\n",
       "      <td>2</td>\n",
       "      <td>True</td>\n",
       "      <td>False</td>\n",
       "      <td>True</td>\n",
       "      <td>松井 裕樹</td>\n",
       "      <td>NaN</td>\n",
       "      <td>大城 滉二</td>\n",
       "      <td>NaN</td>\n",
       "      <td>20202165</td>\n",
       "      <td>1回裏</td>\n",
       "      <td>1</td>\n",
       "      <td>オリックス</td>\n",
       "      <td>11</td>\n",
       "      <td>楽天</td>\n",
       "      <td>京セラD大阪</td>\n",
       "      <td>10</td>\n",
       "    </tr>\n",
       "    <tr>\n",
       "      <th>2977</th>\n",
       "      <td>3</td>\n",
       "      <td>1</td>\n",
       "      <td>1</td>\n",
       "      <td>2</td>\n",
       "      <td>True</td>\n",
       "      <td>False</td>\n",
       "      <td>True</td>\n",
       "      <td>松井 裕樹</td>\n",
       "      <td>NaN</td>\n",
       "      <td>大城 滉二</td>\n",
       "      <td>NaN</td>\n",
       "      <td>20202165</td>\n",
       "      <td>1回裏</td>\n",
       "      <td>2</td>\n",
       "      <td>オリックス</td>\n",
       "      <td>11</td>\n",
       "      <td>楽天</td>\n",
       "      <td>京セラD大阪</td>\n",
       "      <td>10</td>\n",
       "    </tr>\n",
       "    <tr>\n",
       "      <th>3910</th>\n",
       "      <td>1</td>\n",
       "      <td>0</td>\n",
       "      <td>0</td>\n",
       "      <td>2</td>\n",
       "      <td>True</td>\n",
       "      <td>False</td>\n",
       "      <td>False</td>\n",
       "      <td>サンチェス</td>\n",
       "      <td>NaN</td>\n",
       "      <td>糸原 健斗</td>\n",
       "      <td>NaN</td>\n",
       "      <td>20202163</td>\n",
       "      <td>3回表</td>\n",
       "      <td>1</td>\n",
       "      <td>巨人</td>\n",
       "      <td>1</td>\n",
       "      <td>阪神</td>\n",
       "      <td>東京ドーム</td>\n",
       "      <td>5</td>\n",
       "    </tr>\n",
       "    <tr>\n",
       "      <th>3911</th>\n",
       "      <td>3</td>\n",
       "      <td>0</td>\n",
       "      <td>1</td>\n",
       "      <td>2</td>\n",
       "      <td>True</td>\n",
       "      <td>False</td>\n",
       "      <td>False</td>\n",
       "      <td>サンチェス</td>\n",
       "      <td>NaN</td>\n",
       "      <td>糸原 健斗</td>\n",
       "      <td>NaN</td>\n",
       "      <td>20202163</td>\n",
       "      <td>3回表</td>\n",
       "      <td>1</td>\n",
       "      <td>巨人</td>\n",
       "      <td>1</td>\n",
       "      <td>阪神</td>\n",
       "      <td>東京ドーム</td>\n",
       "      <td>5</td>\n",
       "    </tr>\n",
       "    <tr>\n",
       "      <th>3912</th>\n",
       "      <td>4</td>\n",
       "      <td>1</td>\n",
       "      <td>2</td>\n",
       "      <td>2</td>\n",
       "      <td>True</td>\n",
       "      <td>False</td>\n",
       "      <td>False</td>\n",
       "      <td>サンチェス</td>\n",
       "      <td>NaN</td>\n",
       "      <td>糸原 健斗</td>\n",
       "      <td>NaN</td>\n",
       "      <td>20202163</td>\n",
       "      <td>3回表</td>\n",
       "      <td>2</td>\n",
       "      <td>巨人</td>\n",
       "      <td>1</td>\n",
       "      <td>阪神</td>\n",
       "      <td>東京ドーム</td>\n",
       "      <td>5</td>\n",
       "    </tr>\n",
       "    <tr>\n",
       "      <th>3913</th>\n",
       "      <td>5</td>\n",
       "      <td>1</td>\n",
       "      <td>2</td>\n",
       "      <td>2</td>\n",
       "      <td>True</td>\n",
       "      <td>False</td>\n",
       "      <td>False</td>\n",
       "      <td>サンチェス</td>\n",
       "      <td>NaN</td>\n",
       "      <td>糸原 健斗</td>\n",
       "      <td>NaN</td>\n",
       "      <td>20202163</td>\n",
       "      <td>3回表</td>\n",
       "      <td>0</td>\n",
       "      <td>巨人</td>\n",
       "      <td>1</td>\n",
       "      <td>阪神</td>\n",
       "      <td>東京ドーム</td>\n",
       "      <td>5</td>\n",
       "    </tr>\n",
       "    <tr>\n",
       "      <th>5924</th>\n",
       "      <td>1</td>\n",
       "      <td>0</td>\n",
       "      <td>0</td>\n",
       "      <td>2</td>\n",
       "      <td>True</td>\n",
       "      <td>False</td>\n",
       "      <td>False</td>\n",
       "      <td>戸郷 翔征</td>\n",
       "      <td>NaN</td>\n",
       "      <td>安部 友裕</td>\n",
       "      <td>NaN</td>\n",
       "      <td>20202157</td>\n",
       "      <td>3回表</td>\n",
       "      <td>0</td>\n",
       "      <td>巨人</td>\n",
       "      <td>1</td>\n",
       "      <td>広島</td>\n",
       "      <td>東京ドーム</td>\n",
       "      <td>6</td>\n",
       "    </tr>\n",
       "    <tr>\n",
       "      <th>5925</th>\n",
       "      <td>2</td>\n",
       "      <td>1</td>\n",
       "      <td>0</td>\n",
       "      <td>2</td>\n",
       "      <td>True</td>\n",
       "      <td>False</td>\n",
       "      <td>False</td>\n",
       "      <td>戸郷 翔征</td>\n",
       "      <td>NaN</td>\n",
       "      <td>安部 友裕</td>\n",
       "      <td>NaN</td>\n",
       "      <td>20202157</td>\n",
       "      <td>3回表</td>\n",
       "      <td>1</td>\n",
       "      <td>巨人</td>\n",
       "      <td>1</td>\n",
       "      <td>広島</td>\n",
       "      <td>東京ドーム</td>\n",
       "      <td>6</td>\n",
       "    </tr>\n",
       "    <tr>\n",
       "      <th>5926</th>\n",
       "      <td>3</td>\n",
       "      <td>1</td>\n",
       "      <td>1</td>\n",
       "      <td>2</td>\n",
       "      <td>True</td>\n",
       "      <td>False</td>\n",
       "      <td>False</td>\n",
       "      <td>戸郷 翔征</td>\n",
       "      <td>NaN</td>\n",
       "      <td>安部 友裕</td>\n",
       "      <td>NaN</td>\n",
       "      <td>20202157</td>\n",
       "      <td>3回表</td>\n",
       "      <td>3</td>\n",
       "      <td>巨人</td>\n",
       "      <td>1</td>\n",
       "      <td>広島</td>\n",
       "      <td>東京ドーム</td>\n",
       "      <td>6</td>\n",
       "    </tr>\n",
       "    <tr>\n",
       "      <th>8184</th>\n",
       "      <td>1</td>\n",
       "      <td>0</td>\n",
       "      <td>0</td>\n",
       "      <td>2</td>\n",
       "      <td>True</td>\n",
       "      <td>False</td>\n",
       "      <td>False</td>\n",
       "      <td>石川 柊太</td>\n",
       "      <td>NaN</td>\n",
       "      <td>源田 壮亮</td>\n",
       "      <td>NaN</td>\n",
       "      <td>20202147</td>\n",
       "      <td>2回裏</td>\n",
       "      <td>0</td>\n",
       "      <td>西武</td>\n",
       "      <td>7</td>\n",
       "      <td>ソフトバンク</td>\n",
       "      <td>メットライフ</td>\n",
       "      <td>12</td>\n",
       "    </tr>\n",
       "    <tr>\n",
       "      <th>10105</th>\n",
       "      <td>1</td>\n",
       "      <td>0</td>\n",
       "      <td>0</td>\n",
       "      <td>2</td>\n",
       "      <td>True</td>\n",
       "      <td>False</td>\n",
       "      <td>False</td>\n",
       "      <td>塩見 貴洋</td>\n",
       "      <td>NaN</td>\n",
       "      <td>近藤 健介</td>\n",
       "      <td>NaN</td>\n",
       "      <td>20202142</td>\n",
       "      <td>3回表</td>\n",
       "      <td>2</td>\n",
       "      <td>楽天</td>\n",
       "      <td>10</td>\n",
       "      <td>日本ハム</td>\n",
       "      <td>楽天生命パーク</td>\n",
       "      <td>8</td>\n",
       "    </tr>\n",
       "    <tr>\n",
       "      <th>10106</th>\n",
       "      <td>2</td>\n",
       "      <td>0</td>\n",
       "      <td>1</td>\n",
       "      <td>2</td>\n",
       "      <td>True</td>\n",
       "      <td>False</td>\n",
       "      <td>False</td>\n",
       "      <td>塩見 貴洋</td>\n",
       "      <td>NaN</td>\n",
       "      <td>近藤 健介</td>\n",
       "      <td>NaN</td>\n",
       "      <td>20202142</td>\n",
       "      <td>3回表</td>\n",
       "      <td>0</td>\n",
       "      <td>楽天</td>\n",
       "      <td>10</td>\n",
       "      <td>日本ハム</td>\n",
       "      <td>楽天生命パーク</td>\n",
       "      <td>8</td>\n",
       "    </tr>\n",
       "    <tr>\n",
       "      <th>10107</th>\n",
       "      <td>3</td>\n",
       "      <td>1</td>\n",
       "      <td>1</td>\n",
       "      <td>2</td>\n",
       "      <td>True</td>\n",
       "      <td>False</td>\n",
       "      <td>False</td>\n",
       "      <td>塩見 貴洋</td>\n",
       "      <td>NaN</td>\n",
       "      <td>近藤 健介</td>\n",
       "      <td>NaN</td>\n",
       "      <td>20202142</td>\n",
       "      <td>3回表</td>\n",
       "      <td>0</td>\n",
       "      <td>楽天</td>\n",
       "      <td>10</td>\n",
       "      <td>日本ハム</td>\n",
       "      <td>楽天生命パーク</td>\n",
       "      <td>8</td>\n",
       "    </tr>\n",
       "    <tr>\n",
       "      <th>15265</th>\n",
       "      <td>1</td>\n",
       "      <td>0</td>\n",
       "      <td>0</td>\n",
       "      <td>2</td>\n",
       "      <td>True</td>\n",
       "      <td>False</td>\n",
       "      <td>False</td>\n",
       "      <td>中田 賢一</td>\n",
       "      <td>NaN</td>\n",
       "      <td>ソト</td>\n",
       "      <td>NaN</td>\n",
       "      <td>20202126</td>\n",
       "      <td>4回裏</td>\n",
       "      <td>0</td>\n",
       "      <td>DeNA</td>\n",
       "      <td>3</td>\n",
       "      <td>阪神</td>\n",
       "      <td>横浜</td>\n",
       "      <td>5</td>\n",
       "    </tr>\n",
       "    <tr>\n",
       "      <th>15266</th>\n",
       "      <td>2</td>\n",
       "      <td>1</td>\n",
       "      <td>0</td>\n",
       "      <td>2</td>\n",
       "      <td>True</td>\n",
       "      <td>False</td>\n",
       "      <td>False</td>\n",
       "      <td>中田 賢一</td>\n",
       "      <td>NaN</td>\n",
       "      <td>ソト</td>\n",
       "      <td>NaN</td>\n",
       "      <td>20202126</td>\n",
       "      <td>4回裏</td>\n",
       "      <td>2</td>\n",
       "      <td>DeNA</td>\n",
       "      <td>3</td>\n",
       "      <td>阪神</td>\n",
       "      <td>横浜</td>\n",
       "      <td>5</td>\n",
       "    </tr>\n",
       "    <tr>\n",
       "      <th>15267</th>\n",
       "      <td>3</td>\n",
       "      <td>1</td>\n",
       "      <td>1</td>\n",
       "      <td>2</td>\n",
       "      <td>True</td>\n",
       "      <td>False</td>\n",
       "      <td>False</td>\n",
       "      <td>中田 賢一</td>\n",
       "      <td>NaN</td>\n",
       "      <td>ソト</td>\n",
       "      <td>NaN</td>\n",
       "      <td>20202126</td>\n",
       "      <td>4回裏</td>\n",
       "      <td>1</td>\n",
       "      <td>DeNA</td>\n",
       "      <td>3</td>\n",
       "      <td>阪神</td>\n",
       "      <td>横浜</td>\n",
       "      <td>5</td>\n",
       "    </tr>\n",
       "    <tr>\n",
       "      <th>15865</th>\n",
       "      <td>1</td>\n",
       "      <td>0</td>\n",
       "      <td>0</td>\n",
       "      <td>2</td>\n",
       "      <td>True</td>\n",
       "      <td>False</td>\n",
       "      <td>False</td>\n",
       "      <td>二保 旭</td>\n",
       "      <td>NaN</td>\n",
       "      <td>金子 侑司</td>\n",
       "      <td>NaN</td>\n",
       "      <td>20202123</td>\n",
       "      <td>4回裏</td>\n",
       "      <td>0</td>\n",
       "      <td>西武</td>\n",
       "      <td>7</td>\n",
       "      <td>ソフトバンク</td>\n",
       "      <td>メットライフ</td>\n",
       "      <td>12</td>\n",
       "    </tr>\n",
       "    <tr>\n",
       "      <th>15866</th>\n",
       "      <td>2</td>\n",
       "      <td>1</td>\n",
       "      <td>0</td>\n",
       "      <td>2</td>\n",
       "      <td>True</td>\n",
       "      <td>False</td>\n",
       "      <td>False</td>\n",
       "      <td>二保 旭</td>\n",
       "      <td>NaN</td>\n",
       "      <td>金子 侑司</td>\n",
       "      <td>NaN</td>\n",
       "      <td>20202123</td>\n",
       "      <td>4回裏</td>\n",
       "      <td>2</td>\n",
       "      <td>西武</td>\n",
       "      <td>7</td>\n",
       "      <td>ソフトバンク</td>\n",
       "      <td>メットライフ</td>\n",
       "      <td>12</td>\n",
       "    </tr>\n",
       "    <tr>\n",
       "      <th>17068</th>\n",
       "      <td>1</td>\n",
       "      <td>0</td>\n",
       "      <td>0</td>\n",
       "      <td>2</td>\n",
       "      <td>True</td>\n",
       "      <td>False</td>\n",
       "      <td>True</td>\n",
       "      <td>山本 由伸</td>\n",
       "      <td>NaN</td>\n",
       "      <td>荻野 貴司</td>\n",
       "      <td>NaN</td>\n",
       "      <td>20202122</td>\n",
       "      <td>4回裏</td>\n",
       "      <td>1</td>\n",
       "      <td>ロッテ</td>\n",
       "      <td>9</td>\n",
       "      <td>オリックス</td>\n",
       "      <td>ZOZOマリン</td>\n",
       "      <td>11</td>\n",
       "    </tr>\n",
       "    <tr>\n",
       "      <th>17069</th>\n",
       "      <td>2</td>\n",
       "      <td>0</td>\n",
       "      <td>1</td>\n",
       "      <td>2</td>\n",
       "      <td>True</td>\n",
       "      <td>False</td>\n",
       "      <td>True</td>\n",
       "      <td>山本 由伸</td>\n",
       "      <td>NaN</td>\n",
       "      <td>荻野 貴司</td>\n",
       "      <td>NaN</td>\n",
       "      <td>20202122</td>\n",
       "      <td>4回裏</td>\n",
       "      <td>0</td>\n",
       "      <td>ロッテ</td>\n",
       "      <td>9</td>\n",
       "      <td>オリックス</td>\n",
       "      <td>ZOZOマリン</td>\n",
       "      <td>11</td>\n",
       "    </tr>\n",
       "    <tr>\n",
       "      <th>17070</th>\n",
       "      <td>3</td>\n",
       "      <td>1</td>\n",
       "      <td>1</td>\n",
       "      <td>2</td>\n",
       "      <td>True</td>\n",
       "      <td>False</td>\n",
       "      <td>True</td>\n",
       "      <td>山本 由伸</td>\n",
       "      <td>NaN</td>\n",
       "      <td>荻野 貴司</td>\n",
       "      <td>NaN</td>\n",
       "      <td>20202122</td>\n",
       "      <td>4回裏</td>\n",
       "      <td>2</td>\n",
       "      <td>ロッテ</td>\n",
       "      <td>9</td>\n",
       "      <td>オリックス</td>\n",
       "      <td>ZOZOマリン</td>\n",
       "      <td>11</td>\n",
       "    </tr>\n",
       "    <tr>\n",
       "      <th>17071</th>\n",
       "      <td>4</td>\n",
       "      <td>1</td>\n",
       "      <td>2</td>\n",
       "      <td>2</td>\n",
       "      <td>True</td>\n",
       "      <td>False</td>\n",
       "      <td>True</td>\n",
       "      <td>山本 由伸</td>\n",
       "      <td>NaN</td>\n",
       "      <td>荻野 貴司</td>\n",
       "      <td>NaN</td>\n",
       "      <td>20202122</td>\n",
       "      <td>4回裏</td>\n",
       "      <td>2</td>\n",
       "      <td>ロッテ</td>\n",
       "      <td>9</td>\n",
       "      <td>オリックス</td>\n",
       "      <td>ZOZOマリン</td>\n",
       "      <td>11</td>\n",
       "    </tr>\n",
       "    <tr>\n",
       "      <th>18688</th>\n",
       "      <td>1</td>\n",
       "      <td>0</td>\n",
       "      <td>0</td>\n",
       "      <td>2</td>\n",
       "      <td>True</td>\n",
       "      <td>False</td>\n",
       "      <td>False</td>\n",
       "      <td>高橋 光成</td>\n",
       "      <td>NaN</td>\n",
       "      <td>ジョーンズ</td>\n",
       "      <td>NaN</td>\n",
       "      <td>20202116</td>\n",
       "      <td>1回表</td>\n",
       "      <td>0</td>\n",
       "      <td>西武</td>\n",
       "      <td>7</td>\n",
       "      <td>オリックス</td>\n",
       "      <td>メットライフ</td>\n",
       "      <td>11</td>\n",
       "    </tr>\n",
       "    <tr>\n",
       "      <th>18689</th>\n",
       "      <td>2</td>\n",
       "      <td>1</td>\n",
       "      <td>0</td>\n",
       "      <td>2</td>\n",
       "      <td>True</td>\n",
       "      <td>False</td>\n",
       "      <td>False</td>\n",
       "      <td>高橋 光成</td>\n",
       "      <td>NaN</td>\n",
       "      <td>ジョーンズ</td>\n",
       "      <td>NaN</td>\n",
       "      <td>20202116</td>\n",
       "      <td>1回表</td>\n",
       "      <td>1</td>\n",
       "      <td>西武</td>\n",
       "      <td>7</td>\n",
       "      <td>オリックス</td>\n",
       "      <td>メットライフ</td>\n",
       "      <td>11</td>\n",
       "    </tr>\n",
       "    <tr>\n",
       "      <th>18690</th>\n",
       "      <td>3</td>\n",
       "      <td>1</td>\n",
       "      <td>1</td>\n",
       "      <td>2</td>\n",
       "      <td>True</td>\n",
       "      <td>False</td>\n",
       "      <td>False</td>\n",
       "      <td>高橋 光成</td>\n",
       "      <td>NaN</td>\n",
       "      <td>ジョーンズ</td>\n",
       "      <td>NaN</td>\n",
       "      <td>20202116</td>\n",
       "      <td>1回表</td>\n",
       "      <td>1</td>\n",
       "      <td>西武</td>\n",
       "      <td>7</td>\n",
       "      <td>オリックス</td>\n",
       "      <td>メットライフ</td>\n",
       "      <td>11</td>\n",
       "    </tr>\n",
       "    <tr>\n",
       "      <th>18691</th>\n",
       "      <td>4</td>\n",
       "      <td>1</td>\n",
       "      <td>2</td>\n",
       "      <td>2</td>\n",
       "      <td>True</td>\n",
       "      <td>False</td>\n",
       "      <td>False</td>\n",
       "      <td>高橋 光成</td>\n",
       "      <td>NaN</td>\n",
       "      <td>ジョーンズ</td>\n",
       "      <td>NaN</td>\n",
       "      <td>20202116</td>\n",
       "      <td>1回表</td>\n",
       "      <td>2</td>\n",
       "      <td>西武</td>\n",
       "      <td>7</td>\n",
       "      <td>オリックス</td>\n",
       "      <td>メットライフ</td>\n",
       "      <td>11</td>\n",
       "    </tr>\n",
       "    <tr>\n",
       "      <th>18846</th>\n",
       "      <td>1</td>\n",
       "      <td>0</td>\n",
       "      <td>0</td>\n",
       "      <td>2</td>\n",
       "      <td>True</td>\n",
       "      <td>False</td>\n",
       "      <td>False</td>\n",
       "      <td>神戸 文也</td>\n",
       "      <td>NaN</td>\n",
       "      <td>森 友哉</td>\n",
       "      <td>NaN</td>\n",
       "      <td>20202116</td>\n",
       "      <td>5回裏</td>\n",
       "      <td>0</td>\n",
       "      <td>西武</td>\n",
       "      <td>7</td>\n",
       "      <td>オリックス</td>\n",
       "      <td>メットライフ</td>\n",
       "      <td>11</td>\n",
       "    </tr>\n",
       "  </tbody>\n",
       "</table>\n",
       "</div>"
      ],
      "text/plain": [
       "       totalPitchingCount  B  S  O    b1     b2     b3 pitcher pitcherHand  \\\n",
       "986                     1  0  0  2  True  False   True    東浜 巨         NaN   \n",
       "987                     2  0  1  2  True  False   True    東浜 巨         NaN   \n",
       "988                     3  1  1  2  True  False   True    東浜 巨         NaN   \n",
       "2975                    1  0  0  2  True  False   True   松井 裕樹         NaN   \n",
       "2976                    2  1  0  2  True  False   True   松井 裕樹         NaN   \n",
       "2977                    3  1  1  2  True  False   True   松井 裕樹         NaN   \n",
       "3910                    1  0  0  2  True  False  False   サンチェス         NaN   \n",
       "3911                    3  0  1  2  True  False  False   サンチェス         NaN   \n",
       "3912                    4  1  2  2  True  False  False   サンチェス         NaN   \n",
       "3913                    5  1  2  2  True  False  False   サンチェス         NaN   \n",
       "5924                    1  0  0  2  True  False  False   戸郷 翔征         NaN   \n",
       "5925                    2  1  0  2  True  False  False   戸郷 翔征         NaN   \n",
       "5926                    3  1  1  2  True  False  False   戸郷 翔征         NaN   \n",
       "8184                    1  0  0  2  True  False  False   石川 柊太         NaN   \n",
       "10105                   1  0  0  2  True  False  False   塩見 貴洋         NaN   \n",
       "10106                   2  0  1  2  True  False  False   塩見 貴洋         NaN   \n",
       "10107                   3  1  1  2  True  False  False   塩見 貴洋         NaN   \n",
       "15265                   1  0  0  2  True  False  False   中田 賢一         NaN   \n",
       "15266                   2  1  0  2  True  False  False   中田 賢一         NaN   \n",
       "15267                   3  1  1  2  True  False  False   中田 賢一         NaN   \n",
       "15865                   1  0  0  2  True  False  False    二保 旭         NaN   \n",
       "15866                   2  1  0  2  True  False  False    二保 旭         NaN   \n",
       "17068                   1  0  0  2  True  False   True   山本 由伸         NaN   \n",
       "17069                   2  0  1  2  True  False   True   山本 由伸         NaN   \n",
       "17070                   3  1  1  2  True  False   True   山本 由伸         NaN   \n",
       "17071                   4  1  2  2  True  False   True   山本 由伸         NaN   \n",
       "18688                   1  0  0  2  True  False  False   高橋 光成         NaN   \n",
       "18689                   2  1  0  2  True  False  False   高橋 光成         NaN   \n",
       "18690                   3  1  1  2  True  False  False   高橋 光成         NaN   \n",
       "18691                   4  1  2  2  True  False  False   高橋 光成         NaN   \n",
       "18846                   1  0  0  2  True  False  False   神戸 文也         NaN   \n",
       "\n",
       "      batter batterHand    gameID inning  y bottomTeam  bgBottom topTeam  \\\n",
       "986    角中 勝也        NaN  20202170    3回表  1     ソフトバンク        12     ロッテ   \n",
       "987    角中 勝也        NaN  20202170    3回表  0     ソフトバンク        12     ロッテ   \n",
       "988    角中 勝也        NaN  20202170    3回表  1     ソフトバンク        12     ロッテ   \n",
       "2975   大城 滉二        NaN  20202165    1回裏  0      オリックス        11      楽天   \n",
       "2976   大城 滉二        NaN  20202165    1回裏  1      オリックス        11      楽天   \n",
       "2977   大城 滉二        NaN  20202165    1回裏  2      オリックス        11      楽天   \n",
       "3910   糸原 健斗        NaN  20202163    3回表  1         巨人         1      阪神   \n",
       "3911   糸原 健斗        NaN  20202163    3回表  1         巨人         1      阪神   \n",
       "3912   糸原 健斗        NaN  20202163    3回表  2         巨人         1      阪神   \n",
       "3913   糸原 健斗        NaN  20202163    3回表  0         巨人         1      阪神   \n",
       "5924   安部 友裕        NaN  20202157    3回表  0         巨人         1      広島   \n",
       "5925   安部 友裕        NaN  20202157    3回表  1         巨人         1      広島   \n",
       "5926   安部 友裕        NaN  20202157    3回表  3         巨人         1      広島   \n",
       "8184   源田 壮亮        NaN  20202147    2回裏  0         西武         7  ソフトバンク   \n",
       "10105  近藤 健介        NaN  20202142    3回表  2         楽天        10    日本ハム   \n",
       "10106  近藤 健介        NaN  20202142    3回表  0         楽天        10    日本ハム   \n",
       "10107  近藤 健介        NaN  20202142    3回表  0         楽天        10    日本ハム   \n",
       "15265     ソト        NaN  20202126    4回裏  0       DeNA         3      阪神   \n",
       "15266     ソト        NaN  20202126    4回裏  2       DeNA         3      阪神   \n",
       "15267     ソト        NaN  20202126    4回裏  1       DeNA         3      阪神   \n",
       "15865  金子 侑司        NaN  20202123    4回裏  0         西武         7  ソフトバンク   \n",
       "15866  金子 侑司        NaN  20202123    4回裏  2         西武         7  ソフトバンク   \n",
       "17068  荻野 貴司        NaN  20202122    4回裏  1        ロッテ         9   オリックス   \n",
       "17069  荻野 貴司        NaN  20202122    4回裏  0        ロッテ         9   オリックス   \n",
       "17070  荻野 貴司        NaN  20202122    4回裏  2        ロッテ         9   オリックス   \n",
       "17071  荻野 貴司        NaN  20202122    4回裏  2        ロッテ         9   オリックス   \n",
       "18688  ジョーンズ        NaN  20202116    1回表  0         西武         7   オリックス   \n",
       "18689  ジョーンズ        NaN  20202116    1回表  1         西武         7   オリックス   \n",
       "18690  ジョーンズ        NaN  20202116    1回表  1         西武         7   オリックス   \n",
       "18691  ジョーンズ        NaN  20202116    1回表  2         西武         7   オリックス   \n",
       "18846   森 友哉        NaN  20202116    5回裏  0         西武         7   オリックス   \n",
       "\n",
       "           place  bgTop  \n",
       "986    PayPayドーム      9  \n",
       "987    PayPayドーム      9  \n",
       "988    PayPayドーム      9  \n",
       "2975      京セラD大阪     10  \n",
       "2976      京セラD大阪     10  \n",
       "2977      京セラD大阪     10  \n",
       "3910       東京ドーム      5  \n",
       "3911       東京ドーム      5  \n",
       "3912       東京ドーム      5  \n",
       "3913       東京ドーム      5  \n",
       "5924       東京ドーム      6  \n",
       "5925       東京ドーム      6  \n",
       "5926       東京ドーム      6  \n",
       "8184      メットライフ     12  \n",
       "10105    楽天生命パーク      8  \n",
       "10106    楽天生命パーク      8  \n",
       "10107    楽天生命パーク      8  \n",
       "15265         横浜      5  \n",
       "15266         横浜      5  \n",
       "15267         横浜      5  \n",
       "15865     メットライフ     12  \n",
       "15866     メットライフ     12  \n",
       "17068    ZOZOマリン     11  \n",
       "17069    ZOZOマリン     11  \n",
       "17070    ZOZOマリン     11  \n",
       "17071    ZOZOマリン     11  \n",
       "18688     メットライフ     11  \n",
       "18689     メットライフ     11  \n",
       "18690     メットライフ     11  \n",
       "18691     メットライフ     11  \n",
       "18846     メットライフ     11  "
      ]
     },
     "execution_count": 21,
     "metadata": {},
     "output_type": "execute_result"
    }
   ],
   "source": [
    "#train[train['pitcherHand'].isnull()]\n",
    "train[train['batterHand'].isnull()]"
   ]
  },
  {
   "cell_type": "code",
   "execution_count": 22,
   "metadata": {},
   "outputs": [
    {
     "name": "stdout",
     "output_type": "stream",
     "text": [
      "Index(['ジョーンズ', '糸原 健斗', '荻野 貴司', '角中 勝也', '大城 滉二', 'ソト', '近藤 健介', '安部 友裕',\n",
      "       '金子 侑司', '森 友哉', '源田 壮亮'],\n",
      "      dtype='object')\n"
     ]
    }
   ],
   "source": [
    "train_test= train[train['batterHand'].isnull()]\n",
    "batters= train_test['batter'].value_counts()\n",
    "##Index(['高橋 光成', 'サンチェス', '山本 由伸', '松井 裕樹', '戸郷 翔征', '中田 賢一', '東浜 巨', '塩見 貴洋','二保 旭', '石川 柊太', '神戸 文也'],dtype='object')\n",
    "#print(pitchers.index)\n",
    "print(batters.index)\n"
   ]
  },
  {
   "cell_type": "code",
   "execution_count": 946,
   "metadata": {},
   "outputs": [],
   "source": [
    "#ピッチャーの投げる手のnullを補完\n",
    "com_train= train[train['pitcherHand'].isnull()]\n",
    "for index, row in train.iterrows():    \n",
    "    #print(index, row)\n",
    "    #print(row.at['pitcher'] )\n",
    "    if row.at['pitcher'] in pitchers.index:\n",
    "        if row.at['pitcher'] in ['松井 裕樹','塩見 貴洋']:\n",
    "            #print(row.at['pitcher'])\n",
    "            train.at['pitcherHand'] ='L'\n",
    "           # print(row.at['pitcherHand'])\n",
    "        if row.at['pitcher'] in ['神戸 文也','石川 柊太','高橋 光成','中田 賢一','サンチェス','山本 由伸','戸郷 翔征','東浜 巨','二保 旭']:\n",
    "            #print(row.at['pitcher'])\n",
    "            train.at['pitcherHand'] ='R'\n",
    "            #print(row.at['pitcherHand'])\n",
    "#for rt in com_train:\n",
    "#    print(rt)"
   ]
  },
  {
   "cell_type": "code",
   "execution_count": 947,
   "metadata": {},
   "outputs": [],
   "source": [
    "#バッターの打つ手のnullを補完\n",
    "# yにbatterHand Lが混ざってしまう。\n",
    "train_test= train[train['batterHand'].isnull()]\n",
    "batters= train_test['batter'].value_counts()\n",
    "com_train= train[train['batter'].isnull()]\n",
    "\n",
    "for index, row in train.iterrows():    \n",
    "    if row.at['batter'] in batters.index:\n",
    "        if row.at['batter'] in ['糸原 健斗','角中 勝也','近藤 健介','安部 友裕','金子 侑司','森 友哉','源田 壮亮']:\n",
    "            train.at['batterHand'] ='L'\n",
    "        if row.at['batter'] in ['荻野 貴司','ジョーンズ','大城 滉二','ソト']:\n",
    "            train.at['batterHand'] ='R'\n"
   ]
  },
  {
   "cell_type": "code",
   "execution_count": 23,
   "metadata": {},
   "outputs": [
    {
     "data": {
      "text/plain": [
       "0        0\n",
       "1        1\n",
       "2        0\n",
       "3        2\n",
       "4        4\n",
       "        ..\n",
       "20152    2\n",
       "20153    0\n",
       "20154    1\n",
       "20155    0\n",
       "20156    1\n",
       "Name: y, Length: 17136, dtype: int64"
      ]
     },
     "execution_count": 23,
     "metadata": {},
     "output_type": "execute_result"
    }
   ],
   "source": [
    "train['y']"
   ]
  },
  {
   "cell_type": "code",
   "execution_count": 24,
   "metadata": {},
   "outputs": [
    {
     "ename": "NameError",
     "evalue": "name 'imp_data' is not defined",
     "output_type": "error",
     "traceback": [
      "\u001b[1;31m---------------------------------------------------------------------------\u001b[0m",
      "\u001b[1;31mNameError\u001b[0m                                 Traceback (most recent call last)",
      "\u001b[1;32m<ipython-input-24-261e339b4b84>\u001b[0m in \u001b[0;36m<module>\u001b[1;34m\u001b[0m\n\u001b[1;32m----> 1\u001b[1;33m \u001b[0mimp_data\u001b[0m\u001b[1;33m.\u001b[0m\u001b[0misnull\u001b[0m\u001b[1;33m(\u001b[0m\u001b[1;33m)\u001b[0m\u001b[1;33m.\u001b[0m\u001b[0msum\u001b[0m\u001b[1;33m(\u001b[0m\u001b[1;33m)\u001b[0m\u001b[1;33m\u001b[0m\u001b[1;33m\u001b[0m\u001b[0m\n\u001b[0m",
      "\u001b[1;31mNameError\u001b[0m: name 'imp_data' is not defined"
     ]
    }
   ],
   "source": [
    "imp_data.isnull().sum()"
   ]
  },
  {
   "cell_type": "code",
   "execution_count": 1016,
   "metadata": {},
   "outputs": [
    {
     "data": {
      "text/plain": [
       "0        0\n",
       "1        1\n",
       "2        0\n",
       "3        2\n",
       "4        4\n",
       "        ..\n",
       "20152    2\n",
       "20153    0\n",
       "20154    1\n",
       "20155    0\n",
       "20156    1\n",
       "Name: y, Length: 17136, dtype: int64"
      ]
     },
     "execution_count": 1016,
     "metadata": {},
     "output_type": "execute_result"
    }
   ],
   "source": [
    "train['y']"
   ]
  },
  {
   "cell_type": "code",
   "execution_count": 25,
   "metadata": {},
   "outputs": [],
   "source": [
    "del train['pitcherHand']\n",
    "del test['pitcherHand']\n",
    "del train['batterHand']\n",
    "del test['batterHand']"
   ]
  },
  {
   "cell_type": "code",
   "execution_count": 26,
   "metadata": {},
   "outputs": [
    {
     "data": {
      "text/html": [
       "<div>\n",
       "<style scoped>\n",
       "    .dataframe tbody tr th:only-of-type {\n",
       "        vertical-align: middle;\n",
       "    }\n",
       "\n",
       "    .dataframe tbody tr th {\n",
       "        vertical-align: top;\n",
       "    }\n",
       "\n",
       "    .dataframe thead th {\n",
       "        text-align: right;\n",
       "    }\n",
       "</style>\n",
       "<table border=\"1\" class=\"dataframe\">\n",
       "  <thead>\n",
       "    <tr style=\"text-align: right;\">\n",
       "      <th></th>\n",
       "      <th>totalPitchingCount</th>\n",
       "      <th>B</th>\n",
       "      <th>S</th>\n",
       "      <th>O</th>\n",
       "      <th>b1</th>\n",
       "      <th>b2</th>\n",
       "      <th>b3</th>\n",
       "      <th>pitcher</th>\n",
       "      <th>batter</th>\n",
       "      <th>gameID</th>\n",
       "      <th>inning</th>\n",
       "      <th>y</th>\n",
       "      <th>bottomTeam</th>\n",
       "      <th>bgBottom</th>\n",
       "      <th>topTeam</th>\n",
       "      <th>place</th>\n",
       "      <th>bgTop</th>\n",
       "    </tr>\n",
       "  </thead>\n",
       "  <tbody>\n",
       "    <tr>\n",
       "      <th>0</th>\n",
       "      <td>1</td>\n",
       "      <td>0</td>\n",
       "      <td>0</td>\n",
       "      <td>0</td>\n",
       "      <td>False</td>\n",
       "      <td>False</td>\n",
       "      <td>False</td>\n",
       "      <td>今永 昇太</td>\n",
       "      <td>ピレラ</td>\n",
       "      <td>20202173</td>\n",
       "      <td>1回表</td>\n",
       "      <td>0</td>\n",
       "      <td>DeNA</td>\n",
       "      <td>3</td>\n",
       "      <td>広島</td>\n",
       "      <td>横浜</td>\n",
       "      <td>6</td>\n",
       "    </tr>\n",
       "    <tr>\n",
       "      <th>1</th>\n",
       "      <td>2</td>\n",
       "      <td>1</td>\n",
       "      <td>0</td>\n",
       "      <td>0</td>\n",
       "      <td>False</td>\n",
       "      <td>False</td>\n",
       "      <td>False</td>\n",
       "      <td>今永 昇太</td>\n",
       "      <td>ピレラ</td>\n",
       "      <td>20202173</td>\n",
       "      <td>1回表</td>\n",
       "      <td>1</td>\n",
       "      <td>DeNA</td>\n",
       "      <td>3</td>\n",
       "      <td>広島</td>\n",
       "      <td>横浜</td>\n",
       "      <td>6</td>\n",
       "    </tr>\n",
       "    <tr>\n",
       "      <th>2</th>\n",
       "      <td>3</td>\n",
       "      <td>1</td>\n",
       "      <td>1</td>\n",
       "      <td>0</td>\n",
       "      <td>False</td>\n",
       "      <td>False</td>\n",
       "      <td>False</td>\n",
       "      <td>今永 昇太</td>\n",
       "      <td>ピレラ</td>\n",
       "      <td>20202173</td>\n",
       "      <td>1回表</td>\n",
       "      <td>0</td>\n",
       "      <td>DeNA</td>\n",
       "      <td>3</td>\n",
       "      <td>広島</td>\n",
       "      <td>横浜</td>\n",
       "      <td>6</td>\n",
       "    </tr>\n",
       "    <tr>\n",
       "      <th>3</th>\n",
       "      <td>4</td>\n",
       "      <td>2</td>\n",
       "      <td>1</td>\n",
       "      <td>0</td>\n",
       "      <td>False</td>\n",
       "      <td>False</td>\n",
       "      <td>False</td>\n",
       "      <td>今永 昇太</td>\n",
       "      <td>ピレラ</td>\n",
       "      <td>20202173</td>\n",
       "      <td>1回表</td>\n",
       "      <td>2</td>\n",
       "      <td>DeNA</td>\n",
       "      <td>3</td>\n",
       "      <td>広島</td>\n",
       "      <td>横浜</td>\n",
       "      <td>6</td>\n",
       "    </tr>\n",
       "    <tr>\n",
       "      <th>4</th>\n",
       "      <td>5</td>\n",
       "      <td>2</td>\n",
       "      <td>2</td>\n",
       "      <td>0</td>\n",
       "      <td>False</td>\n",
       "      <td>False</td>\n",
       "      <td>False</td>\n",
       "      <td>今永 昇太</td>\n",
       "      <td>ピレラ</td>\n",
       "      <td>20202173</td>\n",
       "      <td>1回表</td>\n",
       "      <td>4</td>\n",
       "      <td>DeNA</td>\n",
       "      <td>3</td>\n",
       "      <td>広島</td>\n",
       "      <td>横浜</td>\n",
       "      <td>6</td>\n",
       "    </tr>\n",
       "    <tr>\n",
       "      <th>...</th>\n",
       "      <td>...</td>\n",
       "      <td>...</td>\n",
       "      <td>...</td>\n",
       "      <td>...</td>\n",
       "      <td>...</td>\n",
       "      <td>...</td>\n",
       "      <td>...</td>\n",
       "      <td>...</td>\n",
       "      <td>...</td>\n",
       "      <td>...</td>\n",
       "      <td>...</td>\n",
       "      <td>...</td>\n",
       "      <td>...</td>\n",
       "      <td>...</td>\n",
       "      <td>...</td>\n",
       "      <td>...</td>\n",
       "      <td>...</td>\n",
       "    </tr>\n",
       "    <tr>\n",
       "      <th>20152</th>\n",
       "      <td>2</td>\n",
       "      <td>1</td>\n",
       "      <td>0</td>\n",
       "      <td>2</td>\n",
       "      <td>False</td>\n",
       "      <td>False</td>\n",
       "      <td>False</td>\n",
       "      <td>森 唯斗</td>\n",
       "      <td>大田 泰示</td>\n",
       "      <td>20202118</td>\n",
       "      <td>9回裏</td>\n",
       "      <td>2</td>\n",
       "      <td>日本ハム</td>\n",
       "      <td>8</td>\n",
       "      <td>ソフトバンク</td>\n",
       "      <td>札幌ドーム</td>\n",
       "      <td>12</td>\n",
       "    </tr>\n",
       "    <tr>\n",
       "      <th>20153</th>\n",
       "      <td>3</td>\n",
       "      <td>1</td>\n",
       "      <td>1</td>\n",
       "      <td>2</td>\n",
       "      <td>False</td>\n",
       "      <td>False</td>\n",
       "      <td>False</td>\n",
       "      <td>森 唯斗</td>\n",
       "      <td>大田 泰示</td>\n",
       "      <td>20202118</td>\n",
       "      <td>9回裏</td>\n",
       "      <td>0</td>\n",
       "      <td>日本ハム</td>\n",
       "      <td>8</td>\n",
       "      <td>ソフトバンク</td>\n",
       "      <td>札幌ドーム</td>\n",
       "      <td>12</td>\n",
       "    </tr>\n",
       "    <tr>\n",
       "      <th>20154</th>\n",
       "      <td>4</td>\n",
       "      <td>2</td>\n",
       "      <td>1</td>\n",
       "      <td>2</td>\n",
       "      <td>False</td>\n",
       "      <td>False</td>\n",
       "      <td>False</td>\n",
       "      <td>森 唯斗</td>\n",
       "      <td>大田 泰示</td>\n",
       "      <td>20202118</td>\n",
       "      <td>9回裏</td>\n",
       "      <td>1</td>\n",
       "      <td>日本ハム</td>\n",
       "      <td>8</td>\n",
       "      <td>ソフトバンク</td>\n",
       "      <td>札幌ドーム</td>\n",
       "      <td>12</td>\n",
       "    </tr>\n",
       "    <tr>\n",
       "      <th>20155</th>\n",
       "      <td>5</td>\n",
       "      <td>2</td>\n",
       "      <td>2</td>\n",
       "      <td>2</td>\n",
       "      <td>False</td>\n",
       "      <td>False</td>\n",
       "      <td>False</td>\n",
       "      <td>森 唯斗</td>\n",
       "      <td>大田 泰示</td>\n",
       "      <td>20202118</td>\n",
       "      <td>9回裏</td>\n",
       "      <td>0</td>\n",
       "      <td>日本ハム</td>\n",
       "      <td>8</td>\n",
       "      <td>ソフトバンク</td>\n",
       "      <td>札幌ドーム</td>\n",
       "      <td>12</td>\n",
       "    </tr>\n",
       "    <tr>\n",
       "      <th>20156</th>\n",
       "      <td>6</td>\n",
       "      <td>3</td>\n",
       "      <td>2</td>\n",
       "      <td>2</td>\n",
       "      <td>False</td>\n",
       "      <td>False</td>\n",
       "      <td>False</td>\n",
       "      <td>森 唯斗</td>\n",
       "      <td>大田 泰示</td>\n",
       "      <td>20202118</td>\n",
       "      <td>9回裏</td>\n",
       "      <td>1</td>\n",
       "      <td>日本ハム</td>\n",
       "      <td>8</td>\n",
       "      <td>ソフトバンク</td>\n",
       "      <td>札幌ドーム</td>\n",
       "      <td>12</td>\n",
       "    </tr>\n",
       "  </tbody>\n",
       "</table>\n",
       "<p>17136 rows × 17 columns</p>\n",
       "</div>"
      ],
      "text/plain": [
       "       totalPitchingCount  B  S  O     b1     b2     b3 pitcher batter  \\\n",
       "0                       1  0  0  0  False  False  False   今永 昇太    ピレラ   \n",
       "1                       2  1  0  0  False  False  False   今永 昇太    ピレラ   \n",
       "2                       3  1  1  0  False  False  False   今永 昇太    ピレラ   \n",
       "3                       4  2  1  0  False  False  False   今永 昇太    ピレラ   \n",
       "4                       5  2  2  0  False  False  False   今永 昇太    ピレラ   \n",
       "...                   ... .. .. ..    ...    ...    ...     ...    ...   \n",
       "20152                   2  1  0  2  False  False  False    森 唯斗  大田 泰示   \n",
       "20153                   3  1  1  2  False  False  False    森 唯斗  大田 泰示   \n",
       "20154                   4  2  1  2  False  False  False    森 唯斗  大田 泰示   \n",
       "20155                   5  2  2  2  False  False  False    森 唯斗  大田 泰示   \n",
       "20156                   6  3  2  2  False  False  False    森 唯斗  大田 泰示   \n",
       "\n",
       "         gameID inning  y bottomTeam  bgBottom topTeam  place  bgTop  \n",
       "0      20202173    1回表  0       DeNA         3      広島     横浜      6  \n",
       "1      20202173    1回表  1       DeNA         3      広島     横浜      6  \n",
       "2      20202173    1回表  0       DeNA         3      広島     横浜      6  \n",
       "3      20202173    1回表  2       DeNA         3      広島     横浜      6  \n",
       "4      20202173    1回表  4       DeNA         3      広島     横浜      6  \n",
       "...         ...    ... ..        ...       ...     ...    ...    ...  \n",
       "20152  20202118    9回裏  2       日本ハム         8  ソフトバンク  札幌ドーム     12  \n",
       "20153  20202118    9回裏  0       日本ハム         8  ソフトバンク  札幌ドーム     12  \n",
       "20154  20202118    9回裏  1       日本ハム         8  ソフトバンク  札幌ドーム     12  \n",
       "20155  20202118    9回裏  0       日本ハム         8  ソフトバンク  札幌ドーム     12  \n",
       "20156  20202118    9回裏  1       日本ハム         8  ソフトバンク  札幌ドーム     12  \n",
       "\n",
       "[17136 rows x 17 columns]"
      ]
     },
     "execution_count": 26,
     "metadata": {},
     "output_type": "execute_result"
    }
   ],
   "source": [
    "\n",
    "imp_data = train\n",
    "imp_data"
   ]
  },
  {
   "cell_type": "code",
   "execution_count": 27,
   "metadata": {},
   "outputs": [
    {
     "data": {
      "text/html": [
       "<div>\n",
       "<style scoped>\n",
       "    .dataframe tbody tr th:only-of-type {\n",
       "        vertical-align: middle;\n",
       "    }\n",
       "\n",
       "    .dataframe tbody tr th {\n",
       "        vertical-align: top;\n",
       "    }\n",
       "\n",
       "    .dataframe thead th {\n",
       "        text-align: right;\n",
       "    }\n",
       "</style>\n",
       "<table border=\"1\" class=\"dataframe\">\n",
       "  <thead>\n",
       "    <tr style=\"text-align: right;\">\n",
       "      <th></th>\n",
       "      <th>totalPitchingCount</th>\n",
       "      <th>B</th>\n",
       "      <th>S</th>\n",
       "      <th>O</th>\n",
       "      <th>b1</th>\n",
       "      <th>b2</th>\n",
       "      <th>b3</th>\n",
       "      <th>pitcher</th>\n",
       "      <th>batter</th>\n",
       "      <th>gameID</th>\n",
       "      <th>inning</th>\n",
       "      <th>bottomTeam</th>\n",
       "      <th>bgBottom</th>\n",
       "      <th>topTeam</th>\n",
       "      <th>place</th>\n",
       "      <th>bgTop</th>\n",
       "    </tr>\n",
       "  </thead>\n",
       "  <tbody>\n",
       "    <tr>\n",
       "      <th>0</th>\n",
       "      <td>2</td>\n",
       "      <td>1</td>\n",
       "      <td>0</td>\n",
       "      <td>0</td>\n",
       "      <td>False</td>\n",
       "      <td>False</td>\n",
       "      <td>False</td>\n",
       "      <td>遠藤 淳志</td>\n",
       "      <td>乙坂 智</td>\n",
       "      <td>20202564</td>\n",
       "      <td>2回表</td>\n",
       "      <td>広島</td>\n",
       "      <td>6</td>\n",
       "      <td>DeNA</td>\n",
       "      <td>マツダスタジアム</td>\n",
       "      <td>3</td>\n",
       "    </tr>\n",
       "    <tr>\n",
       "      <th>1</th>\n",
       "      <td>4</td>\n",
       "      <td>1</td>\n",
       "      <td>2</td>\n",
       "      <td>1</td>\n",
       "      <td>False</td>\n",
       "      <td>False</td>\n",
       "      <td>False</td>\n",
       "      <td>京山 将弥</td>\n",
       "      <td>ピレラ</td>\n",
       "      <td>20202564</td>\n",
       "      <td>3回裏</td>\n",
       "      <td>広島</td>\n",
       "      <td>6</td>\n",
       "      <td>DeNA</td>\n",
       "      <td>マツダスタジアム</td>\n",
       "      <td>3</td>\n",
       "    </tr>\n",
       "    <tr>\n",
       "      <th>2</th>\n",
       "      <td>2</td>\n",
       "      <td>0</td>\n",
       "      <td>1</td>\n",
       "      <td>2</td>\n",
       "      <td>True</td>\n",
       "      <td>False</td>\n",
       "      <td>False</td>\n",
       "      <td>京山 将弥</td>\n",
       "      <td>大盛 穂</td>\n",
       "      <td>20202564</td>\n",
       "      <td>4回裏</td>\n",
       "      <td>広島</td>\n",
       "      <td>6</td>\n",
       "      <td>DeNA</td>\n",
       "      <td>マツダスタジアム</td>\n",
       "      <td>3</td>\n",
       "    </tr>\n",
       "    <tr>\n",
       "      <th>3</th>\n",
       "      <td>5</td>\n",
       "      <td>2</td>\n",
       "      <td>2</td>\n",
       "      <td>1</td>\n",
       "      <td>False</td>\n",
       "      <td>False</td>\n",
       "      <td>False</td>\n",
       "      <td>京山 将弥</td>\n",
       "      <td>鈴木 誠也</td>\n",
       "      <td>20202564</td>\n",
       "      <td>5回裏</td>\n",
       "      <td>広島</td>\n",
       "      <td>6</td>\n",
       "      <td>DeNA</td>\n",
       "      <td>マツダスタジアム</td>\n",
       "      <td>3</td>\n",
       "    </tr>\n",
       "    <tr>\n",
       "      <th>4</th>\n",
       "      <td>1</td>\n",
       "      <td>0</td>\n",
       "      <td>0</td>\n",
       "      <td>0</td>\n",
       "      <td>False</td>\n",
       "      <td>False</td>\n",
       "      <td>False</td>\n",
       "      <td>遠藤 淳志</td>\n",
       "      <td>梶谷 隆幸</td>\n",
       "      <td>20202564</td>\n",
       "      <td>1回表</td>\n",
       "      <td>広島</td>\n",
       "      <td>6</td>\n",
       "      <td>DeNA</td>\n",
       "      <td>マツダスタジアム</td>\n",
       "      <td>3</td>\n",
       "    </tr>\n",
       "    <tr>\n",
       "      <th>...</th>\n",
       "      <td>...</td>\n",
       "      <td>...</td>\n",
       "      <td>...</td>\n",
       "      <td>...</td>\n",
       "      <td>...</td>\n",
       "      <td>...</td>\n",
       "      <td>...</td>\n",
       "      <td>...</td>\n",
       "      <td>...</td>\n",
       "      <td>...</td>\n",
       "      <td>...</td>\n",
       "      <td>...</td>\n",
       "      <td>...</td>\n",
       "      <td>...</td>\n",
       "      <td>...</td>\n",
       "      <td>...</td>\n",
       "    </tr>\n",
       "    <tr>\n",
       "      <th>33803</th>\n",
       "      <td>3</td>\n",
       "      <td>1</td>\n",
       "      <td>1</td>\n",
       "      <td>2</td>\n",
       "      <td>True</td>\n",
       "      <td>True</td>\n",
       "      <td>False</td>\n",
       "      <td>吉見 一起</td>\n",
       "      <td>吉川 尚輝</td>\n",
       "      <td>20202097</td>\n",
       "      <td>1回裏</td>\n",
       "      <td>巨人</td>\n",
       "      <td>1</td>\n",
       "      <td>中日</td>\n",
       "      <td>東京ドーム</td>\n",
       "      <td>4</td>\n",
       "    </tr>\n",
       "    <tr>\n",
       "      <th>33804</th>\n",
       "      <td>7</td>\n",
       "      <td>3</td>\n",
       "      <td>2</td>\n",
       "      <td>2</td>\n",
       "      <td>False</td>\n",
       "      <td>False</td>\n",
       "      <td>False</td>\n",
       "      <td>ゴンサレス</td>\n",
       "      <td>重信 慎之介</td>\n",
       "      <td>20202097</td>\n",
       "      <td>6回裏</td>\n",
       "      <td>巨人</td>\n",
       "      <td>1</td>\n",
       "      <td>中日</td>\n",
       "      <td>東京ドーム</td>\n",
       "      <td>4</td>\n",
       "    </tr>\n",
       "    <tr>\n",
       "      <th>33805</th>\n",
       "      <td>1</td>\n",
       "      <td>0</td>\n",
       "      <td>0</td>\n",
       "      <td>1</td>\n",
       "      <td>False</td>\n",
       "      <td>True</td>\n",
       "      <td>False</td>\n",
       "      <td>祖父江 大輔</td>\n",
       "      <td>北村 拓己</td>\n",
       "      <td>20202097</td>\n",
       "      <td>7回裏</td>\n",
       "      <td>巨人</td>\n",
       "      <td>1</td>\n",
       "      <td>中日</td>\n",
       "      <td>東京ドーム</td>\n",
       "      <td>4</td>\n",
       "    </tr>\n",
       "    <tr>\n",
       "      <th>33806</th>\n",
       "      <td>1</td>\n",
       "      <td>0</td>\n",
       "      <td>0</td>\n",
       "      <td>1</td>\n",
       "      <td>True</td>\n",
       "      <td>False</td>\n",
       "      <td>False</td>\n",
       "      <td>田口 麗斗</td>\n",
       "      <td>阿部 寿樹</td>\n",
       "      <td>20202097</td>\n",
       "      <td>2回表</td>\n",
       "      <td>巨人</td>\n",
       "      <td>1</td>\n",
       "      <td>中日</td>\n",
       "      <td>東京ドーム</td>\n",
       "      <td>4</td>\n",
       "    </tr>\n",
       "    <tr>\n",
       "      <th>33807</th>\n",
       "      <td>3</td>\n",
       "      <td>0</td>\n",
       "      <td>2</td>\n",
       "      <td>1</td>\n",
       "      <td>False</td>\n",
       "      <td>False</td>\n",
       "      <td>False</td>\n",
       "      <td>鍬原 拓也</td>\n",
       "      <td>阿部 寿樹</td>\n",
       "      <td>20202097</td>\n",
       "      <td>5回表</td>\n",
       "      <td>巨人</td>\n",
       "      <td>1</td>\n",
       "      <td>中日</td>\n",
       "      <td>東京ドーム</td>\n",
       "      <td>4</td>\n",
       "    </tr>\n",
       "  </tbody>\n",
       "</table>\n",
       "<p>33808 rows × 16 columns</p>\n",
       "</div>"
      ],
      "text/plain": [
       "       totalPitchingCount  B  S  O     b1     b2     b3 pitcher  batter  \\\n",
       "0                       2  1  0  0  False  False  False   遠藤 淳志    乙坂 智   \n",
       "1                       4  1  2  1  False  False  False   京山 将弥     ピレラ   \n",
       "2                       2  0  1  2   True  False  False   京山 将弥    大盛 穂   \n",
       "3                       5  2  2  1  False  False  False   京山 将弥   鈴木 誠也   \n",
       "4                       1  0  0  0  False  False  False   遠藤 淳志   梶谷 隆幸   \n",
       "...                   ... .. .. ..    ...    ...    ...     ...     ...   \n",
       "33803                   3  1  1  2   True   True  False   吉見 一起   吉川 尚輝   \n",
       "33804                   7  3  2  2  False  False  False   ゴンサレス  重信 慎之介   \n",
       "33805                   1  0  0  1  False   True  False  祖父江 大輔   北村 拓己   \n",
       "33806                   1  0  0  1   True  False  False   田口 麗斗   阿部 寿樹   \n",
       "33807                   3  0  2  1  False  False  False   鍬原 拓也   阿部 寿樹   \n",
       "\n",
       "         gameID inning bottomTeam  bgBottom topTeam     place  bgTop  \n",
       "0      20202564    2回表         広島         6    DeNA  マツダスタジアム      3  \n",
       "1      20202564    3回裏         広島         6    DeNA  マツダスタジアム      3  \n",
       "2      20202564    4回裏         広島         6    DeNA  マツダスタジアム      3  \n",
       "3      20202564    5回裏         広島         6    DeNA  マツダスタジアム      3  \n",
       "4      20202564    1回表         広島         6    DeNA  マツダスタジアム      3  \n",
       "...         ...    ...        ...       ...     ...       ...    ...  \n",
       "33803  20202097    1回裏         巨人         1      中日     東京ドーム      4  \n",
       "33804  20202097    6回裏         巨人         1      中日     東京ドーム      4  \n",
       "33805  20202097    7回裏         巨人         1      中日     東京ドーム      4  \n",
       "33806  20202097    2回表         巨人         1      中日     東京ドーム      4  \n",
       "33807  20202097    5回表         巨人         1      中日     東京ドーム      4  \n",
       "\n",
       "[33808 rows x 16 columns]"
      ]
     },
     "execution_count": 27,
     "metadata": {},
     "output_type": "execute_result"
    }
   ],
   "source": [
    "test"
   ]
  },
  {
   "cell_type": "code",
   "execution_count": 28,
   "metadata": {},
   "outputs": [],
   "source": [
    "with open('imp_data.csv', mode='wb') as f:\n",
    "    pickle.dump(imp_data, f)"
   ]
  },
  {
   "cell_type": "code",
   "execution_count": 29,
   "metadata": {},
   "outputs": [],
   "source": [
    "with open('imp_data.csv', mode='rb') as f:\n",
    "    imp_data = pickle.load(f)"
   ]
  },
  {
   "cell_type": "markdown",
   "metadata": {},
   "source": [
    "## 質的変数の数値化(エンコーディング)"
   ]
  },
  {
   "cell_type": "code",
   "execution_count": 30,
   "metadata": {},
   "outputs": [
    {
     "data": {
      "text/html": [
       "<div>\n",
       "<style scoped>\n",
       "    .dataframe tbody tr th:only-of-type {\n",
       "        vertical-align: middle;\n",
       "    }\n",
       "\n",
       "    .dataframe tbody tr th {\n",
       "        vertical-align: top;\n",
       "    }\n",
       "\n",
       "    .dataframe thead th {\n",
       "        text-align: right;\n",
       "    }\n",
       "</style>\n",
       "<table border=\"1\" class=\"dataframe\">\n",
       "  <thead>\n",
       "    <tr style=\"text-align: right;\">\n",
       "      <th></th>\n",
       "      <th>pitcher</th>\n",
       "      <th>batter</th>\n",
       "      <th>inning</th>\n",
       "      <th>bottomTeam</th>\n",
       "      <th>topTeam</th>\n",
       "      <th>place</th>\n",
       "    </tr>\n",
       "  </thead>\n",
       "  <tbody>\n",
       "    <tr>\n",
       "      <th>count</th>\n",
       "      <td>17136</td>\n",
       "      <td>17136</td>\n",
       "      <td>17136</td>\n",
       "      <td>17136</td>\n",
       "      <td>17136</td>\n",
       "      <td>17136</td>\n",
       "    </tr>\n",
       "    <tr>\n",
       "      <th>unique</th>\n",
       "      <td>188</td>\n",
       "      <td>236</td>\n",
       "      <td>18</td>\n",
       "      <td>10</td>\n",
       "      <td>10</td>\n",
       "      <td>10</td>\n",
       "    </tr>\n",
       "    <tr>\n",
       "      <th>top</th>\n",
       "      <td>大瀬良 大地</td>\n",
       "      <td>西川 遥輝</td>\n",
       "      <td>4回裏</td>\n",
       "      <td>西武</td>\n",
       "      <td>阪神</td>\n",
       "      <td>メットライフ</td>\n",
       "    </tr>\n",
       "    <tr>\n",
       "      <th>freq</th>\n",
       "      <td>248</td>\n",
       "      <td>224</td>\n",
       "      <td>1045</td>\n",
       "      <td>3006</td>\n",
       "      <td>2816</td>\n",
       "      <td>3006</td>\n",
       "    </tr>\n",
       "  </tbody>\n",
       "</table>\n",
       "</div>"
      ],
      "text/plain": [
       "       pitcher batter inning bottomTeam topTeam   place\n",
       "count    17136  17136  17136      17136   17136   17136\n",
       "unique     188    236     18         10      10      10\n",
       "top     大瀬良 大地  西川 遥輝    4回裏         西武      阪神  メットライフ\n",
       "freq       248    224   1045       3006    2816    3006"
      ]
     },
     "execution_count": 30,
     "metadata": {},
     "output_type": "execute_result"
    }
   ],
   "source": [
    "#カテゴリ変数の確認\n",
    "cat_cols = [col for col in imp_data.columns[:29] if imp_data[col].dtype in ['O']]\n",
    "imp_data[cat_cols].describe() "
   ]
  },
  {
   "cell_type": "code",
   "execution_count": 31,
   "metadata": {},
   "outputs": [
    {
     "data": {
      "text/plain": [
       "Index(['totalPitchingCount', 'B', 'S', 'O', 'b1', 'b2', 'b3', 'pitcher',\n",
       "       'batter', 'gameID', 'inning', 'bottomTeam', 'bgBottom', 'topTeam',\n",
       "       'place', 'bgTop'],\n",
       "      dtype='object')"
      ]
     },
     "execution_count": 31,
     "metadata": {},
     "output_type": "execute_result"
    }
   ],
   "source": [
    "test.columns"
   ]
  },
  {
   "cell_type": "code",
   "execution_count": 32,
   "metadata": {},
   "outputs": [
    {
     "data": {
      "text/plain": [
       "Index(['totalPitchingCount', 'B', 'S', 'O', 'b1', 'b2', 'b3', 'pitcher',\n",
       "       'batter', 'gameID', 'inning', 'y', 'bottomTeam', 'bgBottom', 'topTeam',\n",
       "       'place', 'bgTop'],\n",
       "      dtype='object')"
      ]
     },
     "execution_count": 32,
     "metadata": {},
     "output_type": "execute_result"
    }
   ],
   "source": [
    "imp_data.columns"
   ]
  },
  {
   "cell_type": "code",
   "execution_count": 33,
   "metadata": {},
   "outputs": [
    {
     "name": "stdout",
     "output_type": "stream",
     "text": [
      "<class 'pandas.core.frame.DataFrame'>\n",
      "Int64Index: 17136 entries, 0 to 20156\n",
      "Data columns (total 17 columns):\n",
      " #   Column              Non-Null Count  Dtype \n",
      "---  ------              --------------  ----- \n",
      " 0   totalPitchingCount  17136 non-null  int64 \n",
      " 1   B                   17136 non-null  int64 \n",
      " 2   S                   17136 non-null  int64 \n",
      " 3   O                   17136 non-null  int64 \n",
      " 4   b1                  17136 non-null  bool  \n",
      " 5   b2                  17136 non-null  bool  \n",
      " 6   b3                  17136 non-null  bool  \n",
      " 7   pitcher             17136 non-null  object\n",
      " 8   batter              17136 non-null  object\n",
      " 9   gameID              17136 non-null  int64 \n",
      " 10  inning              17136 non-null  object\n",
      " 11  y                   17136 non-null  int64 \n",
      " 12  bottomTeam          17136 non-null  object\n",
      " 13  bgBottom            17136 non-null  int64 \n",
      " 14  topTeam             17136 non-null  object\n",
      " 15  place               17136 non-null  object\n",
      " 16  bgTop               17136 non-null  int64 \n",
      "dtypes: bool(3), int64(8), object(6)\n",
      "memory usage: 2.0+ MB\n"
     ]
    }
   ],
   "source": [
    "#test.info()\n",
    "imp_data.info()"
   ]
  },
  {
   "cell_type": "code",
   "execution_count": 34,
   "metadata": {},
   "outputs": [],
   "source": [
    "#欠損値の補完\n",
    "test[\"pitcher\"].fillna(\"NA\",inplace = True)\n",
    "test[\"batter\"].fillna(\"NA\",inplace = True)"
   ]
  },
  {
   "cell_type": "code",
   "execution_count": 35,
   "metadata": {},
   "outputs": [],
   "source": [
    "from sklearn.preprocessing import LabelEncoder\n",
    "\n",
    "LE=LabelEncoder()\n",
    "\n",
    "imp_data[\"pitcher\"] = LE.fit_transform(imp_data[\"pitcher\"])\n",
    "imp_data[\"batter\"] =LE.fit_transform(imp_data[\"batter\"])\n",
    "imp_data[\"bottomTeam\"] =LE.fit_transform(imp_data[\"bottomTeam\"])\n",
    "imp_data[\"topTeam\"] =LE.fit_transform(imp_data[\"topTeam\"])\n",
    "imp_data[\"inning\"] =LE.fit_transform(imp_data[\"inning\"])\n",
    "imp_data[\"place\"] =LE.fit_transform(imp_data[\"place\"])\n",
    "\n",
    "test[\"pitcher\"] = LE.fit_transform(test[\"pitcher\"])\n",
    "test[\"batter\"] =LE.fit_transform(test[\"batter\"])\n",
    "test[\"bottomTeam\"] =LE.fit_transform(test[\"bottomTeam\"])\n",
    "test[\"topTeam\"] =LE.fit_transform(test[\"topTeam\"])\n",
    "test[\"inning\"] =LE.fit_transform(test[\"inning\"])\n",
    "test[\"place\"] =LE.fit_transform(test[\"place\"])"
   ]
  },
  {
   "cell_type": "code",
   "execution_count": 36,
   "metadata": {},
   "outputs": [
    {
     "name": "stdout",
     "output_type": "stream",
     "text": [
      "<class 'pandas.core.frame.DataFrame'>\n",
      "Int64Index: 17136 entries, 0 to 20156\n",
      "Data columns (total 17 columns):\n",
      " #   Column              Non-Null Count  Dtype\n",
      "---  ------              --------------  -----\n",
      " 0   totalPitchingCount  17136 non-null  int64\n",
      " 1   B                   17136 non-null  int64\n",
      " 2   S                   17136 non-null  int64\n",
      " 3   O                   17136 non-null  int64\n",
      " 4   b1                  17136 non-null  bool \n",
      " 5   b2                  17136 non-null  bool \n",
      " 6   b3                  17136 non-null  bool \n",
      " 7   pitcher             17136 non-null  int32\n",
      " 8   batter              17136 non-null  int32\n",
      " 9   gameID              17136 non-null  int64\n",
      " 10  inning              17136 non-null  int32\n",
      " 11  y                   17136 non-null  int64\n",
      " 12  bottomTeam          17136 non-null  int32\n",
      " 13  bgBottom            17136 non-null  int64\n",
      " 14  topTeam             17136 non-null  int32\n",
      " 15  place               17136 non-null  int32\n",
      " 16  bgTop               17136 non-null  int64\n",
      "dtypes: bool(3), int32(6), int64(8)\n",
      "memory usage: 1.6 MB\n"
     ]
    }
   ],
   "source": [
    "imp_data.info()"
   ]
  },
  {
   "cell_type": "code",
   "execution_count": 37,
   "metadata": {},
   "outputs": [
    {
     "name": "stdout",
     "output_type": "stream",
     "text": [
      "<class 'pandas.core.frame.DataFrame'>\n",
      "Int64Index: 17136 entries, 0 to 20156\n",
      "Data columns (total 17 columns):\n",
      " #   Column              Non-Null Count  Dtype\n",
      "---  ------              --------------  -----\n",
      " 0   totalPitchingCount  17136 non-null  int64\n",
      " 1   B                   17136 non-null  int64\n",
      " 2   S                   17136 non-null  int64\n",
      " 3   O                   17136 non-null  int64\n",
      " 4   b1                  17136 non-null  bool \n",
      " 5   b2                  17136 non-null  bool \n",
      " 6   b3                  17136 non-null  bool \n",
      " 7   pitcher             17136 non-null  int32\n",
      " 8   batter              17136 non-null  int32\n",
      " 9   gameID              17136 non-null  int64\n",
      " 10  inning              17136 non-null  int32\n",
      " 11  y                   17136 non-null  int64\n",
      " 12  bottomTeam          17136 non-null  int32\n",
      " 13  bgBottom            17136 non-null  int64\n",
      " 14  topTeam             17136 non-null  int32\n",
      " 15  place               17136 non-null  int32\n",
      " 16  bgTop               17136 non-null  int64\n",
      "dtypes: bool(3), int32(6), int64(8)\n",
      "memory usage: 1.6 MB\n"
     ]
    }
   ],
   "source": [
    "imp_data.info()\n",
    "#imp_data[['totalPitchingCount','B','S','O','b1','b2','b3','gameID','y','bgBottom','bgTop','pitcherHand']].astype(int)"
   ]
  },
  {
   "cell_type": "code",
   "execution_count": 38,
   "metadata": {},
   "outputs": [
    {
     "data": {
      "text/html": [
       "<div>\n",
       "<style scoped>\n",
       "    .dataframe tbody tr th:only-of-type {\n",
       "        vertical-align: middle;\n",
       "    }\n",
       "\n",
       "    .dataframe tbody tr th {\n",
       "        vertical-align: top;\n",
       "    }\n",
       "\n",
       "    .dataframe thead th {\n",
       "        text-align: right;\n",
       "    }\n",
       "</style>\n",
       "<table border=\"1\" class=\"dataframe\">\n",
       "  <thead>\n",
       "    <tr style=\"text-align: right;\">\n",
       "      <th></th>\n",
       "      <th>totalPitchingCount</th>\n",
       "      <th>B</th>\n",
       "      <th>S</th>\n",
       "      <th>O</th>\n",
       "      <th>b1</th>\n",
       "      <th>b2</th>\n",
       "      <th>b3</th>\n",
       "      <th>pitcher</th>\n",
       "      <th>batter</th>\n",
       "      <th>gameID</th>\n",
       "      <th>inning</th>\n",
       "      <th>y</th>\n",
       "      <th>bottomTeam</th>\n",
       "      <th>bgBottom</th>\n",
       "      <th>topTeam</th>\n",
       "      <th>place</th>\n",
       "      <th>bgTop</th>\n",
       "    </tr>\n",
       "  </thead>\n",
       "  <tbody>\n",
       "    <tr>\n",
       "      <th>0</th>\n",
       "      <td>1</td>\n",
       "      <td>0</td>\n",
       "      <td>0</td>\n",
       "      <td>0</td>\n",
       "      <td>False</td>\n",
       "      <td>False</td>\n",
       "      <td>False</td>\n",
       "      <td>46</td>\n",
       "      <td>16</td>\n",
       "      <td>20202173</td>\n",
       "      <td>0</td>\n",
       "      <td>0</td>\n",
       "      <td>0</td>\n",
       "      <td>3</td>\n",
       "      <td>6</td>\n",
       "      <td>8</td>\n",
       "      <td>6</td>\n",
       "    </tr>\n",
       "    <tr>\n",
       "      <th>1</th>\n",
       "      <td>2</td>\n",
       "      <td>1</td>\n",
       "      <td>0</td>\n",
       "      <td>0</td>\n",
       "      <td>False</td>\n",
       "      <td>False</td>\n",
       "      <td>False</td>\n",
       "      <td>46</td>\n",
       "      <td>16</td>\n",
       "      <td>20202173</td>\n",
       "      <td>0</td>\n",
       "      <td>1</td>\n",
       "      <td>0</td>\n",
       "      <td>3</td>\n",
       "      <td>6</td>\n",
       "      <td>8</td>\n",
       "      <td>6</td>\n",
       "    </tr>\n",
       "    <tr>\n",
       "      <th>2</th>\n",
       "      <td>3</td>\n",
       "      <td>1</td>\n",
       "      <td>1</td>\n",
       "      <td>0</td>\n",
       "      <td>False</td>\n",
       "      <td>False</td>\n",
       "      <td>False</td>\n",
       "      <td>46</td>\n",
       "      <td>16</td>\n",
       "      <td>20202173</td>\n",
       "      <td>0</td>\n",
       "      <td>0</td>\n",
       "      <td>0</td>\n",
       "      <td>3</td>\n",
       "      <td>6</td>\n",
       "      <td>8</td>\n",
       "      <td>6</td>\n",
       "    </tr>\n",
       "    <tr>\n",
       "      <th>3</th>\n",
       "      <td>4</td>\n",
       "      <td>2</td>\n",
       "      <td>1</td>\n",
       "      <td>0</td>\n",
       "      <td>False</td>\n",
       "      <td>False</td>\n",
       "      <td>False</td>\n",
       "      <td>46</td>\n",
       "      <td>16</td>\n",
       "      <td>20202173</td>\n",
       "      <td>0</td>\n",
       "      <td>2</td>\n",
       "      <td>0</td>\n",
       "      <td>3</td>\n",
       "      <td>6</td>\n",
       "      <td>8</td>\n",
       "      <td>6</td>\n",
       "    </tr>\n",
       "    <tr>\n",
       "      <th>4</th>\n",
       "      <td>5</td>\n",
       "      <td>2</td>\n",
       "      <td>2</td>\n",
       "      <td>0</td>\n",
       "      <td>False</td>\n",
       "      <td>False</td>\n",
       "      <td>False</td>\n",
       "      <td>46</td>\n",
       "      <td>16</td>\n",
       "      <td>20202173</td>\n",
       "      <td>0</td>\n",
       "      <td>4</td>\n",
       "      <td>0</td>\n",
       "      <td>3</td>\n",
       "      <td>6</td>\n",
       "      <td>8</td>\n",
       "      <td>6</td>\n",
       "    </tr>\n",
       "    <tr>\n",
       "      <th>...</th>\n",
       "      <td>...</td>\n",
       "      <td>...</td>\n",
       "      <td>...</td>\n",
       "      <td>...</td>\n",
       "      <td>...</td>\n",
       "      <td>...</td>\n",
       "      <td>...</td>\n",
       "      <td>...</td>\n",
       "      <td>...</td>\n",
       "      <td>...</td>\n",
       "      <td>...</td>\n",
       "      <td>...</td>\n",
       "      <td>...</td>\n",
       "      <td>...</td>\n",
       "      <td>...</td>\n",
       "      <td>...</td>\n",
       "      <td>...</td>\n",
       "    </tr>\n",
       "    <tr>\n",
       "      <th>20152</th>\n",
       "      <td>2</td>\n",
       "      <td>1</td>\n",
       "      <td>0</td>\n",
       "      <td>2</td>\n",
       "      <td>False</td>\n",
       "      <td>False</td>\n",
       "      <td>False</td>\n",
       "      <td>116</td>\n",
       "      <td>89</td>\n",
       "      <td>20202118</td>\n",
       "      <td>17</td>\n",
       "      <td>2</td>\n",
       "      <td>7</td>\n",
       "      <td>8</td>\n",
       "      <td>2</td>\n",
       "      <td>5</td>\n",
       "      <td>12</td>\n",
       "    </tr>\n",
       "    <tr>\n",
       "      <th>20153</th>\n",
       "      <td>3</td>\n",
       "      <td>1</td>\n",
       "      <td>1</td>\n",
       "      <td>2</td>\n",
       "      <td>False</td>\n",
       "      <td>False</td>\n",
       "      <td>False</td>\n",
       "      <td>116</td>\n",
       "      <td>89</td>\n",
       "      <td>20202118</td>\n",
       "      <td>17</td>\n",
       "      <td>0</td>\n",
       "      <td>7</td>\n",
       "      <td>8</td>\n",
       "      <td>2</td>\n",
       "      <td>5</td>\n",
       "      <td>12</td>\n",
       "    </tr>\n",
       "    <tr>\n",
       "      <th>20154</th>\n",
       "      <td>4</td>\n",
       "      <td>2</td>\n",
       "      <td>1</td>\n",
       "      <td>2</td>\n",
       "      <td>False</td>\n",
       "      <td>False</td>\n",
       "      <td>False</td>\n",
       "      <td>116</td>\n",
       "      <td>89</td>\n",
       "      <td>20202118</td>\n",
       "      <td>17</td>\n",
       "      <td>1</td>\n",
       "      <td>7</td>\n",
       "      <td>8</td>\n",
       "      <td>2</td>\n",
       "      <td>5</td>\n",
       "      <td>12</td>\n",
       "    </tr>\n",
       "    <tr>\n",
       "      <th>20155</th>\n",
       "      <td>5</td>\n",
       "      <td>2</td>\n",
       "      <td>2</td>\n",
       "      <td>2</td>\n",
       "      <td>False</td>\n",
       "      <td>False</td>\n",
       "      <td>False</td>\n",
       "      <td>116</td>\n",
       "      <td>89</td>\n",
       "      <td>20202118</td>\n",
       "      <td>17</td>\n",
       "      <td>0</td>\n",
       "      <td>7</td>\n",
       "      <td>8</td>\n",
       "      <td>2</td>\n",
       "      <td>5</td>\n",
       "      <td>12</td>\n",
       "    </tr>\n",
       "    <tr>\n",
       "      <th>20156</th>\n",
       "      <td>6</td>\n",
       "      <td>3</td>\n",
       "      <td>2</td>\n",
       "      <td>2</td>\n",
       "      <td>False</td>\n",
       "      <td>False</td>\n",
       "      <td>False</td>\n",
       "      <td>116</td>\n",
       "      <td>89</td>\n",
       "      <td>20202118</td>\n",
       "      <td>17</td>\n",
       "      <td>1</td>\n",
       "      <td>7</td>\n",
       "      <td>8</td>\n",
       "      <td>2</td>\n",
       "      <td>5</td>\n",
       "      <td>12</td>\n",
       "    </tr>\n",
       "  </tbody>\n",
       "</table>\n",
       "<p>17136 rows × 17 columns</p>\n",
       "</div>"
      ],
      "text/plain": [
       "       totalPitchingCount  B  S  O     b1     b2     b3  pitcher  batter  \\\n",
       "0                       1  0  0  0  False  False  False       46      16   \n",
       "1                       2  1  0  0  False  False  False       46      16   \n",
       "2                       3  1  1  0  False  False  False       46      16   \n",
       "3                       4  2  1  0  False  False  False       46      16   \n",
       "4                       5  2  2  0  False  False  False       46      16   \n",
       "...                   ... .. .. ..    ...    ...    ...      ...     ...   \n",
       "20152                   2  1  0  2  False  False  False      116      89   \n",
       "20153                   3  1  1  2  False  False  False      116      89   \n",
       "20154                   4  2  1  2  False  False  False      116      89   \n",
       "20155                   5  2  2  2  False  False  False      116      89   \n",
       "20156                   6  3  2  2  False  False  False      116      89   \n",
       "\n",
       "         gameID  inning  y  bottomTeam  bgBottom  topTeam  place  bgTop  \n",
       "0      20202173       0  0           0         3        6      8      6  \n",
       "1      20202173       0  1           0         3        6      8      6  \n",
       "2      20202173       0  0           0         3        6      8      6  \n",
       "3      20202173       0  2           0         3        6      8      6  \n",
       "4      20202173       0  4           0         3        6      8      6  \n",
       "...         ...     ... ..         ...       ...      ...    ...    ...  \n",
       "20152  20202118      17  2           7         8        2      5     12  \n",
       "20153  20202118      17  0           7         8        2      5     12  \n",
       "20154  20202118      17  1           7         8        2      5     12  \n",
       "20155  20202118      17  0           7         8        2      5     12  \n",
       "20156  20202118      17  1           7         8        2      5     12  \n",
       "\n",
       "[17136 rows x 17 columns]"
      ]
     },
     "execution_count": 38,
     "metadata": {},
     "output_type": "execute_result"
    }
   ],
   "source": [
    "imp_data"
   ]
  },
  {
   "cell_type": "code",
   "execution_count": 59,
   "metadata": {},
   "outputs": [],
   "source": [
    "with open('imp_data.csv', mode='wb') as f:\n",
    "    pickle.dump(imp_data, f)\n",
    "    "
   ]
  },
  {
   "cell_type": "code",
   "execution_count": 60,
   "metadata": {},
   "outputs": [],
   "source": [
    "#データ分割\n",
    "y_target = imp_data['y']\n",
    "col = imp_data.columns.tolist()\n",
    "col.remove('y')\n",
    "x_explanatory = imp_data[col]\n",
    "x_train,x_test,y_train, y_test = train_test_split(x_explanatory, y_target, random_state = 1)"
   ]
  },
  {
   "cell_type": "code",
   "execution_count": 76,
   "metadata": {},
   "outputs": [
    {
     "data": {
      "text/plain": [
       "totalPitchingCount          12523\n",
       "B                            3860\n",
       "S                            3775\n",
       "O                            4333\n",
       "b1                           1293\n",
       "b2                            797\n",
       "b3                            401\n",
       "pitcher                    412456\n",
       "batter                     495564\n",
       "gameID                86545992328\n",
       "inning                      35451\n",
       "bottomTeam                  19903\n",
       "bgBottom                    24396\n",
       "topTeam                     22115\n",
       "place                       22172\n",
       "bgTop                       31090\n",
       "dtype: int64"
      ]
     },
     "execution_count": 76,
     "metadata": {},
     "output_type": "execute_result"
    }
   ],
   "source": [
    "x_test.sum()\n"
   ]
  },
  {
   "cell_type": "code",
   "execution_count": 62,
   "metadata": {},
   "outputs": [
    {
     "data": {
      "text/plain": [
       "RandomForestClassifier()"
      ]
     },
     "execution_count": 62,
     "metadata": {},
     "output_type": "execute_result"
    }
   ],
   "source": [
    "#ランダムフォレストの学習\n",
    "rf_model = RandomForestClassifier()\n",
    "rf_model.fit(x_train,y_train)"
   ]
  },
  {
   "cell_type": "code",
   "execution_count": 63,
   "metadata": {},
   "outputs": [
    {
     "data": {
      "text/plain": [
       "array([2, 2, 1, ..., 0, 2, 0], dtype=int64)"
      ]
     },
     "execution_count": 63,
     "metadata": {},
     "output_type": "execute_result"
    }
   ],
   "source": [
    "#予測\n",
    "rf_pred = rf_model.predict(x_test)\n",
    "rf_pred"
   ]
  },
  {
   "cell_type": "code",
   "execution_count": 64,
   "metadata": {},
   "outputs": [],
   "source": [
    "#テスト結果の出力\n",
    "test_predicted = rf_model.predict(test)\n",
    "submit_df = pd.DataFrame({'y': test_predicted})\n",
    "submit_df.index.name = 'id'\n",
    "submit_df.to_csv('submission.csv')"
   ]
  },
  {
   "cell_type": "code",
   "execution_count": 65,
   "metadata": {},
   "outputs": [
    {
     "data": {
      "text/plain": [
       "[(0.18851592586707225, 'batter'),\n",
       " (0.15707292088907646, 'inning'),\n",
       " (0.1431267348098987, 'pitcher'),\n",
       " (0.09735942159367222, 'gameID'),\n",
       " (0.07342631601556411, 'totalPitchingCount'),\n",
       " (0.061566043649584144, 'O'),\n",
       " (0.03743320032369064, 'B'),\n",
       " (0.03288783085126191, 'b1'),\n",
       " (0.03042474511353235, 'topTeam'),\n",
       " (0.03013373119373028, 'bgTop'),\n",
       " (0.028607467914286578, 'b2'),\n",
       " (0.027568861750623133, 'S'),\n",
       " (0.02529754587558534, 'place'),\n",
       " (0.02516675357929588, 'bottomTeam'),\n",
       " (0.024536349699376434, 'bgBottom'),\n",
       " (0.016876150873749652, 'b3')]"
      ]
     },
     "execution_count": 65,
     "metadata": {},
     "output_type": "execute_result"
    }
   ],
   "source": [
    "#分類モデルの評価\n",
    "list(reversed(sorted(list(zip(rf_model.feature_importances_, x_train.columns)))))"
   ]
  },
  {
   "cell_type": "code",
   "execution_count": 66,
   "metadata": {},
   "outputs": [
    {
     "name": "stdout",
     "output_type": "stream",
     "text": [
      "1.0\n"
     ]
    }
   ],
   "source": [
    "# F1スコアの出力\n",
    "from sklearn.metrics import f1_score\n",
    "y_true = y_train\n",
    "rf_pred = rf_model.predict(x_train)\n",
    "print(f1_score(y_true, rf_pred, average='macro'))"
   ]
  },
  {
   "cell_type": "code",
   "execution_count": 67,
   "metadata": {},
   "outputs": [
    {
     "data": {
      "text/plain": [
       "array([1, 0, 2, ..., 2, 0, 1], dtype=int64)"
      ]
     },
     "execution_count": 67,
     "metadata": {},
     "output_type": "execute_result"
    }
   ],
   "source": [
    "rf_pred"
   ]
  },
  {
   "cell_type": "code",
   "execution_count": 68,
   "metadata": {},
   "outputs": [
    {
     "name": "stdout",
     "output_type": "stream",
     "text": [
      "16196\n"
     ]
    }
   ],
   "source": [
    "print(rf_pred.sum())"
   ]
  },
  {
   "cell_type": "code",
   "execution_count": 69,
   "metadata": {},
   "outputs": [
    {
     "ename": "ValueError",
     "evalue": "Found input variables with inconsistent numbers of samples: [4284, 12852]",
     "output_type": "error",
     "traceback": [
      "\u001b[1;31m---------------------------------------------------------------------------\u001b[0m",
      "\u001b[1;31mValueError\u001b[0m                                Traceback (most recent call last)",
      "\u001b[1;32m<ipython-input-69-f0c5d8a4d725>\u001b[0m in \u001b[0;36m<module>\u001b[1;34m\u001b[0m\n\u001b[1;32m----> 1\u001b[1;33m \u001b[0mX\u001b[0m\u001b[1;33m=\u001b[0m\u001b[0mmean_absolute_error\u001b[0m\u001b[1;33m(\u001b[0m\u001b[0my_test\u001b[0m\u001b[1;33m,\u001b[0m \u001b[0mrf_pred\u001b[0m\u001b[1;33m)\u001b[0m\u001b[1;33m\u001b[0m\u001b[1;33m\u001b[0m\u001b[0m\n\u001b[0m\u001b[0;32m      2\u001b[0m \u001b[0mprint\u001b[0m\u001b[1;33m(\u001b[0m\u001b[1;34m\"ランダムフォレストモデルの平均絶対誤差は\"\u001b[0m\u001b[1;33m,\u001b[0m\u001b[0mX\u001b[0m\u001b[1;33m)\u001b[0m\u001b[1;33m\u001b[0m\u001b[1;33m\u001b[0m\u001b[0m\n\u001b[0;32m      3\u001b[0m \u001b[0mY\u001b[0m\u001b[1;33m=\u001b[0m\u001b[0mr2_score\u001b[0m\u001b[1;33m(\u001b[0m\u001b[0my_test\u001b[0m\u001b[1;33m,\u001b[0m \u001b[0mrf_pred\u001b[0m\u001b[1;33m)\u001b[0m\u001b[1;33m\u001b[0m\u001b[1;33m\u001b[0m\u001b[0m\n\u001b[0;32m      4\u001b[0m \u001b[0mprint\u001b[0m\u001b[1;33m(\u001b[0m\u001b[1;34m\"ランダムフォレストモデルの決定係数は\"\u001b[0m\u001b[1;33m,\u001b[0m\u001b[0mY\u001b[0m\u001b[1;33m)\u001b[0m\u001b[1;33m\u001b[0m\u001b[1;33m\u001b[0m\u001b[0m\n",
      "\u001b[1;32mC:\\ProgramData\\Anaconda3\\lib\\site-packages\\sklearn\\utils\\validation.py\u001b[0m in \u001b[0;36minner_f\u001b[1;34m(*args, **kwargs)\u001b[0m\n\u001b[0;32m     61\u001b[0m             \u001b[0mextra_args\u001b[0m \u001b[1;33m=\u001b[0m \u001b[0mlen\u001b[0m\u001b[1;33m(\u001b[0m\u001b[0margs\u001b[0m\u001b[1;33m)\u001b[0m \u001b[1;33m-\u001b[0m \u001b[0mlen\u001b[0m\u001b[1;33m(\u001b[0m\u001b[0mall_args\u001b[0m\u001b[1;33m)\u001b[0m\u001b[1;33m\u001b[0m\u001b[1;33m\u001b[0m\u001b[0m\n\u001b[0;32m     62\u001b[0m             \u001b[1;32mif\u001b[0m \u001b[0mextra_args\u001b[0m \u001b[1;33m<=\u001b[0m \u001b[1;36m0\u001b[0m\u001b[1;33m:\u001b[0m\u001b[1;33m\u001b[0m\u001b[1;33m\u001b[0m\u001b[0m\n\u001b[1;32m---> 63\u001b[1;33m                 \u001b[1;32mreturn\u001b[0m \u001b[0mf\u001b[0m\u001b[1;33m(\u001b[0m\u001b[1;33m*\u001b[0m\u001b[0margs\u001b[0m\u001b[1;33m,\u001b[0m \u001b[1;33m**\u001b[0m\u001b[0mkwargs\u001b[0m\u001b[1;33m)\u001b[0m\u001b[1;33m\u001b[0m\u001b[1;33m\u001b[0m\u001b[0m\n\u001b[0m\u001b[0;32m     64\u001b[0m \u001b[1;33m\u001b[0m\u001b[0m\n\u001b[0;32m     65\u001b[0m             \u001b[1;31m# extra_args > 0\u001b[0m\u001b[1;33m\u001b[0m\u001b[1;33m\u001b[0m\u001b[1;33m\u001b[0m\u001b[0m\n",
      "\u001b[1;32mC:\\ProgramData\\Anaconda3\\lib\\site-packages\\sklearn\\metrics\\_regression.py\u001b[0m in \u001b[0;36mmean_absolute_error\u001b[1;34m(y_true, y_pred, sample_weight, multioutput)\u001b[0m\n\u001b[0;32m    181\u001b[0m     \"\"\"\n\u001b[0;32m    182\u001b[0m     y_type, y_true, y_pred, multioutput = _check_reg_targets(\n\u001b[1;32m--> 183\u001b[1;33m         y_true, y_pred, multioutput)\n\u001b[0m\u001b[0;32m    184\u001b[0m     \u001b[0mcheck_consistent_length\u001b[0m\u001b[1;33m(\u001b[0m\u001b[0my_true\u001b[0m\u001b[1;33m,\u001b[0m \u001b[0my_pred\u001b[0m\u001b[1;33m,\u001b[0m \u001b[0msample_weight\u001b[0m\u001b[1;33m)\u001b[0m\u001b[1;33m\u001b[0m\u001b[1;33m\u001b[0m\u001b[0m\n\u001b[0;32m    185\u001b[0m     output_errors = np.average(np.abs(y_pred - y_true),\n",
      "\u001b[1;32mC:\\ProgramData\\Anaconda3\\lib\\site-packages\\sklearn\\metrics\\_regression.py\u001b[0m in \u001b[0;36m_check_reg_targets\u001b[1;34m(y_true, y_pred, multioutput, dtype)\u001b[0m\n\u001b[0;32m     86\u001b[0m         \u001b[0mthe\u001b[0m \u001b[0mdtype\u001b[0m \u001b[0margument\u001b[0m \u001b[0mpassed\u001b[0m \u001b[0mto\u001b[0m \u001b[0mcheck_array\u001b[0m\u001b[1;33m.\u001b[0m\u001b[1;33m\u001b[0m\u001b[1;33m\u001b[0m\u001b[0m\n\u001b[0;32m     87\u001b[0m     \"\"\"\n\u001b[1;32m---> 88\u001b[1;33m     \u001b[0mcheck_consistent_length\u001b[0m\u001b[1;33m(\u001b[0m\u001b[0my_true\u001b[0m\u001b[1;33m,\u001b[0m \u001b[0my_pred\u001b[0m\u001b[1;33m)\u001b[0m\u001b[1;33m\u001b[0m\u001b[1;33m\u001b[0m\u001b[0m\n\u001b[0m\u001b[0;32m     89\u001b[0m     \u001b[0my_true\u001b[0m \u001b[1;33m=\u001b[0m \u001b[0mcheck_array\u001b[0m\u001b[1;33m(\u001b[0m\u001b[0my_true\u001b[0m\u001b[1;33m,\u001b[0m \u001b[0mensure_2d\u001b[0m\u001b[1;33m=\u001b[0m\u001b[1;32mFalse\u001b[0m\u001b[1;33m,\u001b[0m \u001b[0mdtype\u001b[0m\u001b[1;33m=\u001b[0m\u001b[0mdtype\u001b[0m\u001b[1;33m)\u001b[0m\u001b[1;33m\u001b[0m\u001b[1;33m\u001b[0m\u001b[0m\n\u001b[0;32m     90\u001b[0m     \u001b[0my_pred\u001b[0m \u001b[1;33m=\u001b[0m \u001b[0mcheck_array\u001b[0m\u001b[1;33m(\u001b[0m\u001b[0my_pred\u001b[0m\u001b[1;33m,\u001b[0m \u001b[0mensure_2d\u001b[0m\u001b[1;33m=\u001b[0m\u001b[1;32mFalse\u001b[0m\u001b[1;33m,\u001b[0m \u001b[0mdtype\u001b[0m\u001b[1;33m=\u001b[0m\u001b[0mdtype\u001b[0m\u001b[1;33m)\u001b[0m\u001b[1;33m\u001b[0m\u001b[1;33m\u001b[0m\u001b[0m\n",
      "\u001b[1;32mC:\\ProgramData\\Anaconda3\\lib\\site-packages\\sklearn\\utils\\validation.py\u001b[0m in \u001b[0;36mcheck_consistent_length\u001b[1;34m(*arrays)\u001b[0m\n\u001b[0;32m    261\u001b[0m     \u001b[1;32mif\u001b[0m \u001b[0mlen\u001b[0m\u001b[1;33m(\u001b[0m\u001b[0muniques\u001b[0m\u001b[1;33m)\u001b[0m \u001b[1;33m>\u001b[0m \u001b[1;36m1\u001b[0m\u001b[1;33m:\u001b[0m\u001b[1;33m\u001b[0m\u001b[1;33m\u001b[0m\u001b[0m\n\u001b[0;32m    262\u001b[0m         raise ValueError(\"Found input variables with inconsistent numbers of\"\n\u001b[1;32m--> 263\u001b[1;33m                          \" samples: %r\" % [int(l) for l in lengths])\n\u001b[0m\u001b[0;32m    264\u001b[0m \u001b[1;33m\u001b[0m\u001b[0m\n\u001b[0;32m    265\u001b[0m \u001b[1;33m\u001b[0m\u001b[0m\n",
      "\u001b[1;31mValueError\u001b[0m: Found input variables with inconsistent numbers of samples: [4284, 12852]"
     ]
    }
   ],
   "source": [
    "X=mean_absolute_error(y_test, rf_pred)\n",
    "print(\"ランダムフォレストモデルの平均絶対誤差は\",X)\n",
    "Y=r2_score(y_test, rf_pred)\n",
    "print(\"ランダムフォレストモデルの決定係数は\",Y)"
   ]
  },
  {
   "cell_type": "code",
   "execution_count": 52,
   "metadata": {},
   "outputs": [
    {
     "data": {
      "text/plain": [
       "7"
      ]
     },
     "execution_count": 52,
     "metadata": {},
     "output_type": "execute_result"
    }
   ],
   "source": [
    "rf_pred.max()"
   ]
  },
  {
   "cell_type": "code",
   "execution_count": 53,
   "metadata": {},
   "outputs": [
    {
     "data": {
      "text/plain": [
       "7"
      ]
     },
     "execution_count": 53,
     "metadata": {},
     "output_type": "execute_result"
    }
   ],
   "source": [
    "y_test.max()"
   ]
  },
  {
   "cell_type": "code",
   "execution_count": 54,
   "metadata": {},
   "outputs": [
    {
     "ename": "ValueError",
     "evalue": "x and y must be the same size",
     "output_type": "error",
     "traceback": [
      "\u001b[1;31m---------------------------------------------------------------------------\u001b[0m",
      "\u001b[1;31mValueError\u001b[0m                                Traceback (most recent call last)",
      "\u001b[1;32m<ipython-input-54-5e7be7e7c224>\u001b[0m in \u001b[0;36m<module>\u001b[1;34m\u001b[0m\n\u001b[0;32m      1\u001b[0m \u001b[0mfig\u001b[0m \u001b[1;33m=\u001b[0m \u001b[0mplt\u001b[0m\u001b[1;33m.\u001b[0m\u001b[0mfigure\u001b[0m\u001b[1;33m(\u001b[0m\u001b[0mfigsize\u001b[0m\u001b[1;33m=\u001b[0m\u001b[1;33m(\u001b[0m\u001b[1;36m6\u001b[0m\u001b[1;33m,\u001b[0m\u001b[1;36m5\u001b[0m\u001b[1;33m)\u001b[0m\u001b[1;33m)\u001b[0m\u001b[1;33m\u001b[0m\u001b[1;33m\u001b[0m\u001b[0m\n\u001b[0;32m      2\u001b[0m \u001b[1;33m\u001b[0m\u001b[0m\n\u001b[1;32m----> 3\u001b[1;33m \u001b[0mplt\u001b[0m\u001b[1;33m.\u001b[0m\u001b[0mscatter\u001b[0m\u001b[1;33m(\u001b[0m\u001b[0my_test\u001b[0m\u001b[1;33m,\u001b[0m\u001b[0mrf_pred\u001b[0m\u001b[1;33m,\u001b[0m\u001b[0mcolor\u001b[0m\u001b[1;33m=\u001b[0m\u001b[1;34m\"blue\"\u001b[0m\u001b[1;33m)\u001b[0m\u001b[1;33m\u001b[0m\u001b[1;33m\u001b[0m\u001b[0m\n\u001b[0m\u001b[0;32m      4\u001b[0m \u001b[0mx\u001b[0m \u001b[1;33m=\u001b[0m \u001b[0mnp\u001b[0m\u001b[1;33m.\u001b[0m\u001b[0marange\u001b[0m\u001b[1;33m(\u001b[0m\u001b[1;36m0\u001b[0m\u001b[1;33m,\u001b[0m \u001b[1;36m7\u001b[0m\u001b[1;33m)\u001b[0m\u001b[1;33m\u001b[0m\u001b[1;33m\u001b[0m\u001b[0m\n\u001b[0;32m      5\u001b[0m \u001b[0mplt\u001b[0m\u001b[1;33m.\u001b[0m\u001b[0mplot\u001b[0m\u001b[1;33m(\u001b[0m\u001b[0mx\u001b[0m\u001b[1;33m,\u001b[0m\u001b[0mx\u001b[0m\u001b[1;33m,\u001b[0m\u001b[0mcolor\u001b[0m\u001b[1;33m=\u001b[0m\u001b[1;34m\"red\"\u001b[0m\u001b[1;33m)\u001b[0m\u001b[1;33m\u001b[0m\u001b[1;33m\u001b[0m\u001b[0m\n",
      "\u001b[1;32mC:\\ProgramData\\Anaconda3\\lib\\site-packages\\matplotlib\\pyplot.py\u001b[0m in \u001b[0;36mscatter\u001b[1;34m(x, y, s, c, marker, cmap, norm, vmin, vmax, alpha, linewidths, verts, edgecolors, plotnonfinite, data, **kwargs)\u001b[0m\n\u001b[0;32m   2893\u001b[0m         \u001b[0mverts\u001b[0m\u001b[1;33m=\u001b[0m\u001b[0mverts\u001b[0m\u001b[1;33m,\u001b[0m \u001b[0medgecolors\u001b[0m\u001b[1;33m=\u001b[0m\u001b[0medgecolors\u001b[0m\u001b[1;33m,\u001b[0m\u001b[1;33m\u001b[0m\u001b[1;33m\u001b[0m\u001b[0m\n\u001b[0;32m   2894\u001b[0m         \u001b[0mplotnonfinite\u001b[0m\u001b[1;33m=\u001b[0m\u001b[0mplotnonfinite\u001b[0m\u001b[1;33m,\u001b[0m\u001b[1;33m\u001b[0m\u001b[1;33m\u001b[0m\u001b[0m\n\u001b[1;32m-> 2895\u001b[1;33m         **({\"data\": data} if data is not None else {}), **kwargs)\n\u001b[0m\u001b[0;32m   2896\u001b[0m     \u001b[0msci\u001b[0m\u001b[1;33m(\u001b[0m\u001b[0m__ret\u001b[0m\u001b[1;33m)\u001b[0m\u001b[1;33m\u001b[0m\u001b[1;33m\u001b[0m\u001b[0m\n\u001b[0;32m   2897\u001b[0m     \u001b[1;32mreturn\u001b[0m \u001b[0m__ret\u001b[0m\u001b[1;33m\u001b[0m\u001b[1;33m\u001b[0m\u001b[0m\n",
      "\u001b[1;32mC:\\ProgramData\\Anaconda3\\lib\\site-packages\\matplotlib\\__init__.py\u001b[0m in \u001b[0;36minner\u001b[1;34m(ax, data, *args, **kwargs)\u001b[0m\n\u001b[0;32m   1445\u001b[0m     \u001b[1;32mdef\u001b[0m \u001b[0minner\u001b[0m\u001b[1;33m(\u001b[0m\u001b[0max\u001b[0m\u001b[1;33m,\u001b[0m \u001b[1;33m*\u001b[0m\u001b[0margs\u001b[0m\u001b[1;33m,\u001b[0m \u001b[0mdata\u001b[0m\u001b[1;33m=\u001b[0m\u001b[1;32mNone\u001b[0m\u001b[1;33m,\u001b[0m \u001b[1;33m**\u001b[0m\u001b[0mkwargs\u001b[0m\u001b[1;33m)\u001b[0m\u001b[1;33m:\u001b[0m\u001b[1;33m\u001b[0m\u001b[1;33m\u001b[0m\u001b[0m\n\u001b[0;32m   1446\u001b[0m         \u001b[1;32mif\u001b[0m \u001b[0mdata\u001b[0m \u001b[1;32mis\u001b[0m \u001b[1;32mNone\u001b[0m\u001b[1;33m:\u001b[0m\u001b[1;33m\u001b[0m\u001b[1;33m\u001b[0m\u001b[0m\n\u001b[1;32m-> 1447\u001b[1;33m             \u001b[1;32mreturn\u001b[0m \u001b[0mfunc\u001b[0m\u001b[1;33m(\u001b[0m\u001b[0max\u001b[0m\u001b[1;33m,\u001b[0m \u001b[1;33m*\u001b[0m\u001b[0mmap\u001b[0m\u001b[1;33m(\u001b[0m\u001b[0msanitize_sequence\u001b[0m\u001b[1;33m,\u001b[0m \u001b[0margs\u001b[0m\u001b[1;33m)\u001b[0m\u001b[1;33m,\u001b[0m \u001b[1;33m**\u001b[0m\u001b[0mkwargs\u001b[0m\u001b[1;33m)\u001b[0m\u001b[1;33m\u001b[0m\u001b[1;33m\u001b[0m\u001b[0m\n\u001b[0m\u001b[0;32m   1448\u001b[0m \u001b[1;33m\u001b[0m\u001b[0m\n\u001b[0;32m   1449\u001b[0m         \u001b[0mbound\u001b[0m \u001b[1;33m=\u001b[0m \u001b[0mnew_sig\u001b[0m\u001b[1;33m.\u001b[0m\u001b[0mbind\u001b[0m\u001b[1;33m(\u001b[0m\u001b[0max\u001b[0m\u001b[1;33m,\u001b[0m \u001b[1;33m*\u001b[0m\u001b[0margs\u001b[0m\u001b[1;33m,\u001b[0m \u001b[1;33m**\u001b[0m\u001b[0mkwargs\u001b[0m\u001b[1;33m)\u001b[0m\u001b[1;33m\u001b[0m\u001b[1;33m\u001b[0m\u001b[0m\n",
      "\u001b[1;32mC:\\ProgramData\\Anaconda3\\lib\\site-packages\\matplotlib\\cbook\\deprecation.py\u001b[0m in \u001b[0;36mwrapper\u001b[1;34m(*inner_args, **inner_kwargs)\u001b[0m\n\u001b[0;32m    409\u001b[0m                          \u001b[1;32melse\u001b[0m \u001b[0mdeprecation_addendum\u001b[0m\u001b[1;33m,\u001b[0m\u001b[1;33m\u001b[0m\u001b[1;33m\u001b[0m\u001b[0m\n\u001b[0;32m    410\u001b[0m                 **kwargs)\n\u001b[1;32m--> 411\u001b[1;33m         \u001b[1;32mreturn\u001b[0m \u001b[0mfunc\u001b[0m\u001b[1;33m(\u001b[0m\u001b[1;33m*\u001b[0m\u001b[0minner_args\u001b[0m\u001b[1;33m,\u001b[0m \u001b[1;33m**\u001b[0m\u001b[0minner_kwargs\u001b[0m\u001b[1;33m)\u001b[0m\u001b[1;33m\u001b[0m\u001b[1;33m\u001b[0m\u001b[0m\n\u001b[0m\u001b[0;32m    412\u001b[0m \u001b[1;33m\u001b[0m\u001b[0m\n\u001b[0;32m    413\u001b[0m     \u001b[1;32mreturn\u001b[0m \u001b[0mwrapper\u001b[0m\u001b[1;33m\u001b[0m\u001b[1;33m\u001b[0m\u001b[0m\n",
      "\u001b[1;32mC:\\ProgramData\\Anaconda3\\lib\\site-packages\\matplotlib\\axes\\_axes.py\u001b[0m in \u001b[0;36mscatter\u001b[1;34m(self, x, y, s, c, marker, cmap, norm, vmin, vmax, alpha, linewidths, verts, edgecolors, plotnonfinite, **kwargs)\u001b[0m\n\u001b[0;32m   4439\u001b[0m         \u001b[0my\u001b[0m \u001b[1;33m=\u001b[0m \u001b[0mnp\u001b[0m\u001b[1;33m.\u001b[0m\u001b[0mma\u001b[0m\u001b[1;33m.\u001b[0m\u001b[0mravel\u001b[0m\u001b[1;33m(\u001b[0m\u001b[0my\u001b[0m\u001b[1;33m)\u001b[0m\u001b[1;33m\u001b[0m\u001b[1;33m\u001b[0m\u001b[0m\n\u001b[0;32m   4440\u001b[0m         \u001b[1;32mif\u001b[0m \u001b[0mx\u001b[0m\u001b[1;33m.\u001b[0m\u001b[0msize\u001b[0m \u001b[1;33m!=\u001b[0m \u001b[0my\u001b[0m\u001b[1;33m.\u001b[0m\u001b[0msize\u001b[0m\u001b[1;33m:\u001b[0m\u001b[1;33m\u001b[0m\u001b[1;33m\u001b[0m\u001b[0m\n\u001b[1;32m-> 4441\u001b[1;33m             \u001b[1;32mraise\u001b[0m \u001b[0mValueError\u001b[0m\u001b[1;33m(\u001b[0m\u001b[1;34m\"x and y must be the same size\"\u001b[0m\u001b[1;33m)\u001b[0m\u001b[1;33m\u001b[0m\u001b[1;33m\u001b[0m\u001b[0m\n\u001b[0m\u001b[0;32m   4442\u001b[0m \u001b[1;33m\u001b[0m\u001b[0m\n\u001b[0;32m   4443\u001b[0m         \u001b[1;32mif\u001b[0m \u001b[0ms\u001b[0m \u001b[1;32mis\u001b[0m \u001b[1;32mNone\u001b[0m\u001b[1;33m:\u001b[0m\u001b[1;33m\u001b[0m\u001b[1;33m\u001b[0m\u001b[0m\n",
      "\u001b[1;31mValueError\u001b[0m: x and y must be the same size"
     ]
    },
    {
     "data": {
      "image/png": "[encoded data removed]",
      "text/plain": [
       "<Figure size 432x360 with 1 Axes>"
      ]
     },
     "metadata": {
      "needs_background": "light"
     },
     "output_type": "display_data"
    }
   ],
   "source": [
    "fig = plt.figure(figsize=(6,5))\n",
    "\n",
    "plt.scatter(y_test,rf_pred,color=\"blue\")\n",
    "x = np.arange(0, 7)\n",
    "plt.plot(x,x,color=\"red\")\n",
    "plt.title(\"predicted_data & test_data\")\n",
    "plt.xlabel(\"test_data\")\n",
    "plt.ylabel(\"predicted_data\")\n",
    "\n",
    "plt.show()"
   ]
  },
  {
   "cell_type": "code",
   "execution_count": 55,
   "metadata": {},
   "outputs": [
    {
     "ename": "ValueError",
     "evalue": "operands could not be broadcast together with shapes (12852,) (4284,) ",
     "output_type": "error",
     "traceback": [
      "\u001b[1;31m---------------------------------------------------------------------------\u001b[0m",
      "\u001b[1;31mValueError\u001b[0m                                Traceback (most recent call last)",
      "\u001b[1;32m<ipython-input-55-a2368db6b628>\u001b[0m in \u001b[0;36m<module>\u001b[1;34m\u001b[0m\n\u001b[1;32m----> 1\u001b[1;33m \u001b[0mplt\u001b[0m\u001b[1;33m.\u001b[0m\u001b[0mscatter\u001b[0m\u001b[1;33m(\u001b[0m\u001b[0mrf_pred\u001b[0m\u001b[1;33m,\u001b[0m \u001b[0mrf_pred\u001b[0m \u001b[1;33m-\u001b[0m \u001b[0my_test\u001b[0m\u001b[1;33m,\u001b[0m \u001b[0mcolor\u001b[0m \u001b[1;33m=\u001b[0m \u001b[1;34m'blue'\u001b[0m\u001b[1;33m)\u001b[0m      \u001b[1;31m# 残差をプロット\u001b[0m\u001b[1;33m\u001b[0m\u001b[1;33m\u001b[0m\u001b[0m\n\u001b[0m\u001b[0;32m      2\u001b[0m \u001b[0mplt\u001b[0m\u001b[1;33m.\u001b[0m\u001b[0mhlines\u001b[0m\u001b[1;33m(\u001b[0m\u001b[0my\u001b[0m \u001b[1;33m=\u001b[0m \u001b[1;36m0\u001b[0m\u001b[1;33m,\u001b[0m \u001b[0mxmin\u001b[0m \u001b[1;33m=\u001b[0m \u001b[1;36m0\u001b[0m\u001b[1;33m,\u001b[0m \u001b[0mxmax\u001b[0m \u001b[1;33m=\u001b[0m \u001b[1;36m7\u001b[0m\u001b[1;33m,\u001b[0m \u001b[0mcolor\u001b[0m \u001b[1;33m=\u001b[0m \u001b[1;34m'black'\u001b[0m\u001b[1;33m)\u001b[0m \u001b[1;31m# x軸に沿った直線をプロット\u001b[0m\u001b[1;33m\u001b[0m\u001b[1;33m\u001b[0m\u001b[0m\n\u001b[0;32m      3\u001b[0m \u001b[0mplt\u001b[0m\u001b[1;33m.\u001b[0m\u001b[0mtitle\u001b[0m\u001b[1;33m(\u001b[0m\u001b[1;34m'Residual Plot'\u001b[0m\u001b[1;33m)\u001b[0m                                \u001b[1;31m# 図のタイトル\u001b[0m\u001b[1;33m\u001b[0m\u001b[1;33m\u001b[0m\u001b[0m\n\u001b[0;32m      4\u001b[0m \u001b[0mplt\u001b[0m\u001b[1;33m.\u001b[0m\u001b[0mxlabel\u001b[0m\u001b[1;33m(\u001b[0m\u001b[1;34m'Predicted Values'\u001b[0m\u001b[1;33m)\u001b[0m                            \u001b[1;31m# x軸のラベル\u001b[0m\u001b[1;33m\u001b[0m\u001b[1;33m\u001b[0m\u001b[0m\n\u001b[0;32m      5\u001b[0m \u001b[0mplt\u001b[0m\u001b[1;33m.\u001b[0m\u001b[0mylabel\u001b[0m\u001b[1;33m(\u001b[0m\u001b[1;34m'Residuals'\u001b[0m\u001b[1;33m)\u001b[0m                                   \u001b[1;31m# y軸のラベル\u001b[0m\u001b[1;33m\u001b[0m\u001b[1;33m\u001b[0m\u001b[0m\n",
      "\u001b[1;32mC:\\ProgramData\\Anaconda3\\lib\\site-packages\\pandas\\core\\generic.py\u001b[0m in \u001b[0;36m__array_ufunc__\u001b[1;34m(self, ufunc, method, *inputs, **kwargs)\u001b[0m\n\u001b[0;32m   1934\u001b[0m         \u001b[0mself\u001b[0m\u001b[1;33m,\u001b[0m \u001b[0mufunc\u001b[0m\u001b[1;33m:\u001b[0m \u001b[0mCallable\u001b[0m\u001b[1;33m,\u001b[0m \u001b[0mmethod\u001b[0m\u001b[1;33m:\u001b[0m \u001b[0mstr\u001b[0m\u001b[1;33m,\u001b[0m \u001b[1;33m*\u001b[0m\u001b[0minputs\u001b[0m\u001b[1;33m:\u001b[0m \u001b[0mAny\u001b[0m\u001b[1;33m,\u001b[0m \u001b[1;33m**\u001b[0m\u001b[0mkwargs\u001b[0m\u001b[1;33m:\u001b[0m \u001b[0mAny\u001b[0m\u001b[1;33m\u001b[0m\u001b[1;33m\u001b[0m\u001b[0m\n\u001b[0;32m   1935\u001b[0m     ):\n\u001b[1;32m-> 1936\u001b[1;33m         \u001b[1;32mreturn\u001b[0m \u001b[0marraylike\u001b[0m\u001b[1;33m.\u001b[0m\u001b[0marray_ufunc\u001b[0m\u001b[1;33m(\u001b[0m\u001b[0mself\u001b[0m\u001b[1;33m,\u001b[0m \u001b[0mufunc\u001b[0m\u001b[1;33m,\u001b[0m \u001b[0mmethod\u001b[0m\u001b[1;33m,\u001b[0m \u001b[1;33m*\u001b[0m\u001b[0minputs\u001b[0m\u001b[1;33m,\u001b[0m \u001b[1;33m**\u001b[0m\u001b[0mkwargs\u001b[0m\u001b[1;33m)\u001b[0m\u001b[1;33m\u001b[0m\u001b[1;33m\u001b[0m\u001b[0m\n\u001b[0m\u001b[0;32m   1937\u001b[0m \u001b[1;33m\u001b[0m\u001b[0m\n\u001b[0;32m   1938\u001b[0m     \u001b[1;31m# ideally we would define this to avoid the getattr checks, but\u001b[0m\u001b[1;33m\u001b[0m\u001b[1;33m\u001b[0m\u001b[1;33m\u001b[0m\u001b[0m\n",
      "\u001b[1;32mC:\\ProgramData\\Anaconda3\\lib\\site-packages\\pandas\\core\\arraylike.py\u001b[0m in \u001b[0;36marray_ufunc\u001b[1;34m(self, ufunc, method, *inputs, **kwargs)\u001b[0m\n\u001b[0;32m    248\u001b[0m \u001b[1;33m\u001b[0m\u001b[0m\n\u001b[0;32m    249\u001b[0m     \u001b[1;31m# for binary ops, use our custom dunder methods\u001b[0m\u001b[1;33m\u001b[0m\u001b[1;33m\u001b[0m\u001b[1;33m\u001b[0m\u001b[0m\n\u001b[1;32m--> 250\u001b[1;33m     \u001b[0mresult\u001b[0m \u001b[1;33m=\u001b[0m \u001b[0mmaybe_dispatch_ufunc_to_dunder_op\u001b[0m\u001b[1;33m(\u001b[0m\u001b[0mself\u001b[0m\u001b[1;33m,\u001b[0m \u001b[0mufunc\u001b[0m\u001b[1;33m,\u001b[0m \u001b[0mmethod\u001b[0m\u001b[1;33m,\u001b[0m \u001b[1;33m*\u001b[0m\u001b[0minputs\u001b[0m\u001b[1;33m,\u001b[0m \u001b[1;33m**\u001b[0m\u001b[0mkwargs\u001b[0m\u001b[1;33m)\u001b[0m\u001b[1;33m\u001b[0m\u001b[1;33m\u001b[0m\u001b[0m\n\u001b[0m\u001b[0;32m    251\u001b[0m     \u001b[1;32mif\u001b[0m \u001b[0mresult\u001b[0m \u001b[1;32mis\u001b[0m \u001b[1;32mnot\u001b[0m \u001b[0mNotImplemented\u001b[0m\u001b[1;33m:\u001b[0m\u001b[1;33m\u001b[0m\u001b[1;33m\u001b[0m\u001b[0m\n\u001b[0;32m    252\u001b[0m         \u001b[1;32mreturn\u001b[0m \u001b[0mresult\u001b[0m\u001b[1;33m\u001b[0m\u001b[1;33m\u001b[0m\u001b[0m\n",
      "\u001b[1;32mpandas\\_libs\\ops_dispatch.pyx\u001b[0m in \u001b[0;36mpandas._libs.ops_dispatch.maybe_dispatch_ufunc_to_dunder_op\u001b[1;34m()\u001b[0m\n",
      "\u001b[1;32mC:\\ProgramData\\Anaconda3\\lib\\site-packages\\pandas\\core\\ops\\common.py\u001b[0m in \u001b[0;36mnew_method\u001b[1;34m(self, other)\u001b[0m\n\u001b[0;32m     63\u001b[0m         \u001b[0mother\u001b[0m \u001b[1;33m=\u001b[0m \u001b[0mitem_from_zerodim\u001b[0m\u001b[1;33m(\u001b[0m\u001b[0mother\u001b[0m\u001b[1;33m)\u001b[0m\u001b[1;33m\u001b[0m\u001b[1;33m\u001b[0m\u001b[0m\n\u001b[0;32m     64\u001b[0m \u001b[1;33m\u001b[0m\u001b[0m\n\u001b[1;32m---> 65\u001b[1;33m         \u001b[1;32mreturn\u001b[0m \u001b[0mmethod\u001b[0m\u001b[1;33m(\u001b[0m\u001b[0mself\u001b[0m\u001b[1;33m,\u001b[0m \u001b[0mother\u001b[0m\u001b[1;33m)\u001b[0m\u001b[1;33m\u001b[0m\u001b[1;33m\u001b[0m\u001b[0m\n\u001b[0m\u001b[0;32m     66\u001b[0m \u001b[1;33m\u001b[0m\u001b[0m\n\u001b[0;32m     67\u001b[0m     \u001b[1;32mreturn\u001b[0m \u001b[0mnew_method\u001b[0m\u001b[1;33m\u001b[0m\u001b[1;33m\u001b[0m\u001b[0m\n",
      "\u001b[1;32mC:\\ProgramData\\Anaconda3\\lib\\site-packages\\pandas\\core\\arraylike.py\u001b[0m in \u001b[0;36m__rsub__\u001b[1;34m(self, other)\u001b[0m\n\u001b[0;32m     99\u001b[0m     \u001b[1;33m@\u001b[0m\u001b[0munpack_zerodim_and_defer\u001b[0m\u001b[1;33m(\u001b[0m\u001b[1;34m\"__rsub__\"\u001b[0m\u001b[1;33m)\u001b[0m\u001b[1;33m\u001b[0m\u001b[1;33m\u001b[0m\u001b[0m\n\u001b[0;32m    100\u001b[0m     \u001b[1;32mdef\u001b[0m \u001b[0m__rsub__\u001b[0m\u001b[1;33m(\u001b[0m\u001b[0mself\u001b[0m\u001b[1;33m,\u001b[0m \u001b[0mother\u001b[0m\u001b[1;33m)\u001b[0m\u001b[1;33m:\u001b[0m\u001b[1;33m\u001b[0m\u001b[1;33m\u001b[0m\u001b[0m\n\u001b[1;32m--> 101\u001b[1;33m         \u001b[1;32mreturn\u001b[0m \u001b[0mself\u001b[0m\u001b[1;33m.\u001b[0m\u001b[0m_arith_method\u001b[0m\u001b[1;33m(\u001b[0m\u001b[0mother\u001b[0m\u001b[1;33m,\u001b[0m \u001b[0mroperator\u001b[0m\u001b[1;33m.\u001b[0m\u001b[0mrsub\u001b[0m\u001b[1;33m)\u001b[0m\u001b[1;33m\u001b[0m\u001b[1;33m\u001b[0m\u001b[0m\n\u001b[0m\u001b[0;32m    102\u001b[0m \u001b[1;33m\u001b[0m\u001b[0m\n\u001b[0;32m    103\u001b[0m     \u001b[1;33m@\u001b[0m\u001b[0munpack_zerodim_and_defer\u001b[0m\u001b[1;33m(\u001b[0m\u001b[1;34m\"__mul__\"\u001b[0m\u001b[1;33m)\u001b[0m\u001b[1;33m\u001b[0m\u001b[1;33m\u001b[0m\u001b[0m\n",
      "\u001b[1;32mC:\\ProgramData\\Anaconda3\\lib\\site-packages\\pandas\\core\\series.py\u001b[0m in \u001b[0;36m_arith_method\u001b[1;34m(self, other, op)\u001b[0m\n\u001b[0;32m   4996\u001b[0m         \u001b[0mlvalues\u001b[0m \u001b[1;33m=\u001b[0m \u001b[0mextract_array\u001b[0m\u001b[1;33m(\u001b[0m\u001b[0mself\u001b[0m\u001b[1;33m,\u001b[0m \u001b[0mextract_numpy\u001b[0m\u001b[1;33m=\u001b[0m\u001b[1;32mTrue\u001b[0m\u001b[1;33m)\u001b[0m\u001b[1;33m\u001b[0m\u001b[1;33m\u001b[0m\u001b[0m\n\u001b[0;32m   4997\u001b[0m         \u001b[0mrvalues\u001b[0m \u001b[1;33m=\u001b[0m \u001b[0mextract_array\u001b[0m\u001b[1;33m(\u001b[0m\u001b[0mother\u001b[0m\u001b[1;33m,\u001b[0m \u001b[0mextract_numpy\u001b[0m\u001b[1;33m=\u001b[0m\u001b[1;32mTrue\u001b[0m\u001b[1;33m)\u001b[0m\u001b[1;33m\u001b[0m\u001b[1;33m\u001b[0m\u001b[0m\n\u001b[1;32m-> 4998\u001b[1;33m         \u001b[0mresult\u001b[0m \u001b[1;33m=\u001b[0m \u001b[0mops\u001b[0m\u001b[1;33m.\u001b[0m\u001b[0marithmetic_op\u001b[0m\u001b[1;33m(\u001b[0m\u001b[0mlvalues\u001b[0m\u001b[1;33m,\u001b[0m \u001b[0mrvalues\u001b[0m\u001b[1;33m,\u001b[0m \u001b[0mop\u001b[0m\u001b[1;33m)\u001b[0m\u001b[1;33m\u001b[0m\u001b[1;33m\u001b[0m\u001b[0m\n\u001b[0m\u001b[0;32m   4999\u001b[0m \u001b[1;33m\u001b[0m\u001b[0m\n\u001b[0;32m   5000\u001b[0m         \u001b[1;32mreturn\u001b[0m \u001b[0mself\u001b[0m\u001b[1;33m.\u001b[0m\u001b[0m_construct_result\u001b[0m\u001b[1;33m(\u001b[0m\u001b[0mresult\u001b[0m\u001b[1;33m,\u001b[0m \u001b[0mname\u001b[0m\u001b[1;33m=\u001b[0m\u001b[0mres_name\u001b[0m\u001b[1;33m)\u001b[0m\u001b[1;33m\u001b[0m\u001b[1;33m\u001b[0m\u001b[0m\n",
      "\u001b[1;32mC:\\ProgramData\\Anaconda3\\lib\\site-packages\\pandas\\core\\ops\\array_ops.py\u001b[0m in \u001b[0;36marithmetic_op\u001b[1;34m(left, right, op)\u001b[0m\n\u001b[0;32m    187\u001b[0m     \u001b[1;32melse\u001b[0m\u001b[1;33m:\u001b[0m\u001b[1;33m\u001b[0m\u001b[1;33m\u001b[0m\u001b[0m\n\u001b[0;32m    188\u001b[0m         \u001b[1;32mwith\u001b[0m \u001b[0mnp\u001b[0m\u001b[1;33m.\u001b[0m\u001b[0merrstate\u001b[0m\u001b[1;33m(\u001b[0m\u001b[0mall\u001b[0m\u001b[1;33m=\u001b[0m\u001b[1;34m\"ignore\"\u001b[0m\u001b[1;33m)\u001b[0m\u001b[1;33m:\u001b[0m\u001b[1;33m\u001b[0m\u001b[1;33m\u001b[0m\u001b[0m\n\u001b[1;32m--> 189\u001b[1;33m             \u001b[0mres_values\u001b[0m \u001b[1;33m=\u001b[0m \u001b[0m_na_arithmetic_op\u001b[0m\u001b[1;33m(\u001b[0m\u001b[0mlvalues\u001b[0m\u001b[1;33m,\u001b[0m \u001b[0mrvalues\u001b[0m\u001b[1;33m,\u001b[0m \u001b[0mop\u001b[0m\u001b[1;33m)\u001b[0m\u001b[1;33m\u001b[0m\u001b[1;33m\u001b[0m\u001b[0m\n\u001b[0m\u001b[0;32m    190\u001b[0m \u001b[1;33m\u001b[0m\u001b[0m\n\u001b[0;32m    191\u001b[0m     \u001b[1;32mreturn\u001b[0m \u001b[0mres_values\u001b[0m\u001b[1;33m\u001b[0m\u001b[1;33m\u001b[0m\u001b[0m\n",
      "\u001b[1;32mC:\\ProgramData\\Anaconda3\\lib\\site-packages\\pandas\\core\\ops\\array_ops.py\u001b[0m in \u001b[0;36m_na_arithmetic_op\u001b[1;34m(left, right, op, is_cmp)\u001b[0m\n\u001b[0;32m    140\u001b[0m \u001b[1;33m\u001b[0m\u001b[0m\n\u001b[0;32m    141\u001b[0m     \u001b[1;32mtry\u001b[0m\u001b[1;33m:\u001b[0m\u001b[1;33m\u001b[0m\u001b[1;33m\u001b[0m\u001b[0m\n\u001b[1;32m--> 142\u001b[1;33m         \u001b[0mresult\u001b[0m \u001b[1;33m=\u001b[0m \u001b[0mexpressions\u001b[0m\u001b[1;33m.\u001b[0m\u001b[0mevaluate\u001b[0m\u001b[1;33m(\u001b[0m\u001b[0mop\u001b[0m\u001b[1;33m,\u001b[0m \u001b[0mleft\u001b[0m\u001b[1;33m,\u001b[0m \u001b[0mright\u001b[0m\u001b[1;33m)\u001b[0m\u001b[1;33m\u001b[0m\u001b[1;33m\u001b[0m\u001b[0m\n\u001b[0m\u001b[0;32m    143\u001b[0m     \u001b[1;32mexcept\u001b[0m \u001b[0mTypeError\u001b[0m\u001b[1;33m:\u001b[0m\u001b[1;33m\u001b[0m\u001b[1;33m\u001b[0m\u001b[0m\n\u001b[0;32m    144\u001b[0m         \u001b[1;32mif\u001b[0m \u001b[0mis_cmp\u001b[0m\u001b[1;33m:\u001b[0m\u001b[1;33m\u001b[0m\u001b[1;33m\u001b[0m\u001b[0m\n",
      "\u001b[1;32mC:\\ProgramData\\Anaconda3\\lib\\site-packages\\pandas\\core\\computation\\expressions.py\u001b[0m in \u001b[0;36mevaluate\u001b[1;34m(op, a, b, use_numexpr)\u001b[0m\n\u001b[0;32m    233\u001b[0m         \u001b[1;32mif\u001b[0m \u001b[0muse_numexpr\u001b[0m\u001b[1;33m:\u001b[0m\u001b[1;33m\u001b[0m\u001b[1;33m\u001b[0m\u001b[0m\n\u001b[0;32m    234\u001b[0m             \u001b[1;31m# error: \"None\" not callable\u001b[0m\u001b[1;33m\u001b[0m\u001b[1;33m\u001b[0m\u001b[1;33m\u001b[0m\u001b[0m\n\u001b[1;32m--> 235\u001b[1;33m             \u001b[1;32mreturn\u001b[0m \u001b[0m_evaluate\u001b[0m\u001b[1;33m(\u001b[0m\u001b[0mop\u001b[0m\u001b[1;33m,\u001b[0m \u001b[0mop_str\u001b[0m\u001b[1;33m,\u001b[0m \u001b[0ma\u001b[0m\u001b[1;33m,\u001b[0m \u001b[0mb\u001b[0m\u001b[1;33m)\u001b[0m  \u001b[1;31m# type: ignore[misc]\u001b[0m\u001b[1;33m\u001b[0m\u001b[1;33m\u001b[0m\u001b[0m\n\u001b[0m\u001b[0;32m    236\u001b[0m     \u001b[1;32mreturn\u001b[0m \u001b[0m_evaluate_standard\u001b[0m\u001b[1;33m(\u001b[0m\u001b[0mop\u001b[0m\u001b[1;33m,\u001b[0m \u001b[0mop_str\u001b[0m\u001b[1;33m,\u001b[0m \u001b[0ma\u001b[0m\u001b[1;33m,\u001b[0m \u001b[0mb\u001b[0m\u001b[1;33m)\u001b[0m\u001b[1;33m\u001b[0m\u001b[1;33m\u001b[0m\u001b[0m\n\u001b[0;32m    237\u001b[0m \u001b[1;33m\u001b[0m\u001b[0m\n",
      "\u001b[1;32mC:\\ProgramData\\Anaconda3\\lib\\site-packages\\pandas\\core\\computation\\expressions.py\u001b[0m in \u001b[0;36m_evaluate_standard\u001b[1;34m(op, op_str, a, b)\u001b[0m\n\u001b[0;32m     67\u001b[0m         \u001b[0m_store_test_result\u001b[0m\u001b[1;33m(\u001b[0m\u001b[1;32mFalse\u001b[0m\u001b[1;33m)\u001b[0m\u001b[1;33m\u001b[0m\u001b[1;33m\u001b[0m\u001b[0m\n\u001b[0;32m     68\u001b[0m     \u001b[1;32mwith\u001b[0m \u001b[0mnp\u001b[0m\u001b[1;33m.\u001b[0m\u001b[0merrstate\u001b[0m\u001b[1;33m(\u001b[0m\u001b[0mall\u001b[0m\u001b[1;33m=\u001b[0m\u001b[1;34m\"ignore\"\u001b[0m\u001b[1;33m)\u001b[0m\u001b[1;33m:\u001b[0m\u001b[1;33m\u001b[0m\u001b[1;33m\u001b[0m\u001b[0m\n\u001b[1;32m---> 69\u001b[1;33m         \u001b[1;32mreturn\u001b[0m \u001b[0mop\u001b[0m\u001b[1;33m(\u001b[0m\u001b[0ma\u001b[0m\u001b[1;33m,\u001b[0m \u001b[0mb\u001b[0m\u001b[1;33m)\u001b[0m\u001b[1;33m\u001b[0m\u001b[1;33m\u001b[0m\u001b[0m\n\u001b[0m\u001b[0;32m     70\u001b[0m \u001b[1;33m\u001b[0m\u001b[0m\n\u001b[0;32m     71\u001b[0m \u001b[1;33m\u001b[0m\u001b[0m\n",
      "\u001b[1;32mC:\\ProgramData\\Anaconda3\\lib\\site-packages\\pandas\\core\\ops\\roperator.py\u001b[0m in \u001b[0;36mrsub\u001b[1;34m(left, right)\u001b[0m\n\u001b[0;32m     11\u001b[0m \u001b[1;33m\u001b[0m\u001b[0m\n\u001b[0;32m     12\u001b[0m \u001b[1;32mdef\u001b[0m \u001b[0mrsub\u001b[0m\u001b[1;33m(\u001b[0m\u001b[0mleft\u001b[0m\u001b[1;33m,\u001b[0m \u001b[0mright\u001b[0m\u001b[1;33m)\u001b[0m\u001b[1;33m:\u001b[0m\u001b[1;33m\u001b[0m\u001b[1;33m\u001b[0m\u001b[0m\n\u001b[1;32m---> 13\u001b[1;33m     \u001b[1;32mreturn\u001b[0m \u001b[0mright\u001b[0m \u001b[1;33m-\u001b[0m \u001b[0mleft\u001b[0m\u001b[1;33m\u001b[0m\u001b[1;33m\u001b[0m\u001b[0m\n\u001b[0m\u001b[0;32m     14\u001b[0m \u001b[1;33m\u001b[0m\u001b[0m\n\u001b[0;32m     15\u001b[0m \u001b[1;33m\u001b[0m\u001b[0m\n",
      "\u001b[1;31mValueError\u001b[0m: operands could not be broadcast together with shapes (12852,) (4284,) "
     ]
    }
   ],
   "source": [
    "plt.scatter(rf_pred, rf_pred - y_test, color = 'blue')      # 残差をプロット \n",
    "plt.hlines(y = 0, xmin = 0, xmax = 7, color = 'black') # x軸に沿った直線をプロット\n",
    "plt.title('Residual Plot')                                # 図のタイトル\n",
    "plt.xlabel('Predicted Values')                            # x軸のラベル\n",
    "plt.ylabel('Residuals')                                   # y軸のラベル\n",
    "plt.grid()                                                # グリッド線を表示\n",
    "\n",
    "plt.show()                                               # 図の表示"
   ]
  },
  {
   "cell_type": "code",
   "execution_count": 1178,
   "metadata": {},
   "outputs": [
    {
     "data": {
      "image/png": "[encoded data removed]",
      "text/plain": [
       "<Figure size 432x360 with 1 Axes>"
      ]
     },
     "metadata": {
      "needs_background": "light"
     },
     "output_type": "display_data"
    }
   ],
   "source": [
    "features = x_train.columns\n",
    "importances = rf_model.feature_importances_\n",
    "indices = np.argsort(importances)\n",
    "\n",
    "plt.figure(figsize=(6,5))\n",
    "plt.barh(range(len(indices)), importances[indices],  align='center')\n",
    "plt.yticks(range(len(indices)), features[indices])\n",
    "plt.show()"
   ]
  },
  {
   "cell_type": "code",
   "execution_count": 1225,
   "metadata": {},
   "outputs": [
    {
     "name": "stdout",
     "output_type": "stream",
     "text": [
      "[19:30:44] WARNING: C:/Users/Administrator/workspace/xgboost-win64_release_1.4.0/src/learner.cc:1095: Starting in XGBoost 1.3.0, the default evaluation metric used with the objective 'multi:softprob' was changed from 'merror' to 'mlogloss'. Explicitly set eval_metric if you'd like to restore the old behavior.\n"
     ]
    },
    {
     "data": {
      "text/plain": [
       "XGBClassifier(base_score=0.5, booster='gbtree', colsample_bylevel=1,\n",
       "              colsample_bynode=1, colsample_bytree=1, gamma=0, gpu_id=-1,\n",
       "              importance_type='gain', interaction_constraints='',\n",
       "              learning_rate=0.300000012, max_delta_step=0, max_depth=6,\n",
       "              min_child_weight=1, missing=nan, monotone_constraints='()',\n",
       "              n_estimators=100, n_jobs=6, num_parallel_tree=1,\n",
       "              objective='multi:softprob', random_state=0, reg_alpha=0,\n",
       "              reg_lambda=1, scale_pos_weight=None, subsample=1,\n",
       "              tree_method='exact', use_label_encoder=True,\n",
       "              validate_parameters=1, verbosity=None)"
      ]
     },
     "execution_count": 1225,
     "metadata": {},
     "output_type": "execute_result"
    }
   ],
   "source": [
    "xgb_model = xgb.XGBClassifier()\n",
    "xgb_model.fit(x_train,y_train)"
   ]
  },
  {
   "cell_type": "code",
   "execution_count": 1181,
   "metadata": {},
   "outputs": [
    {
     "ename": "XGBoostError",
     "evalue": "[15:29:20] c:\\users\\administrator\\workspace\\xgboost-win64_release_1.4.0\\src\\data\\array_interface.h:139: Check failed: typestr.size() == 3 (2 vs. 3) : `typestr' should be of format <endian><type><size of type in bytes>.",
     "output_type": "error",
     "traceback": [
      "\u001b[1;31m---------------------------------------------------------------------------\u001b[0m",
      "\u001b[1;31mXGBoostError\u001b[0m                              Traceback (most recent call last)",
      "\u001b[1;32m<ipython-input-1181-2443c6fd0fa6>\u001b[0m in \u001b[0;36m<module>\u001b[1;34m\u001b[0m\n\u001b[1;32m----> 1\u001b[1;33m \u001b[0mxgb_pred\u001b[0m \u001b[1;33m=\u001b[0m \u001b[0mxgb_model\u001b[0m\u001b[1;33m.\u001b[0m\u001b[0mpredict\u001b[0m\u001b[1;33m(\u001b[0m\u001b[0mx_test\u001b[0m\u001b[1;33m)\u001b[0m\u001b[1;33m\u001b[0m\u001b[1;33m\u001b[0m\u001b[0m\n\u001b[0m\u001b[0;32m      2\u001b[0m \u001b[0mxgb_pred\u001b[0m\u001b[1;33m\u001b[0m\u001b[1;33m\u001b[0m\u001b[0m\n",
      "\u001b[1;32mC:\\ProgramData\\Anaconda3\\lib\\site-packages\\xgboost\\sklearn.py\u001b[0m in \u001b[0;36mpredict\u001b[1;34m(self, X, output_margin, ntree_limit, validate_features, base_margin, iteration_range)\u001b[0m\n\u001b[0;32m   1213\u001b[0m             \u001b[0mvalidate_features\u001b[0m\u001b[1;33m=\u001b[0m\u001b[0mvalidate_features\u001b[0m\u001b[1;33m,\u001b[0m\u001b[1;33m\u001b[0m\u001b[1;33m\u001b[0m\u001b[0m\n\u001b[0;32m   1214\u001b[0m             \u001b[0mbase_margin\u001b[0m\u001b[1;33m=\u001b[0m\u001b[0mbase_margin\u001b[0m\u001b[1;33m,\u001b[0m\u001b[1;33m\u001b[0m\u001b[1;33m\u001b[0m\u001b[0m\n\u001b[1;32m-> 1215\u001b[1;33m             \u001b[0miteration_range\u001b[0m\u001b[1;33m=\u001b[0m\u001b[0miteration_range\u001b[0m\u001b[1;33m,\u001b[0m\u001b[1;33m\u001b[0m\u001b[1;33m\u001b[0m\u001b[0m\n\u001b[0m\u001b[0;32m   1216\u001b[0m         )\n\u001b[0;32m   1217\u001b[0m         \u001b[1;32mif\u001b[0m \u001b[0moutput_margin\u001b[0m\u001b[1;33m:\u001b[0m\u001b[1;33m\u001b[0m\u001b[1;33m\u001b[0m\u001b[0m\n",
      "\u001b[1;32mC:\\ProgramData\\Anaconda3\\lib\\site-packages\\xgboost\\sklearn.py\u001b[0m in \u001b[0;36mpredict\u001b[1;34m(self, X, output_margin, ntree_limit, validate_features, base_margin, iteration_range)\u001b[0m\n\u001b[0;32m    824\u001b[0m                     \u001b[0mmissing\u001b[0m\u001b[1;33m=\u001b[0m\u001b[0mself\u001b[0m\u001b[1;33m.\u001b[0m\u001b[0mmissing\u001b[0m\u001b[1;33m,\u001b[0m\u001b[1;33m\u001b[0m\u001b[1;33m\u001b[0m\u001b[0m\n\u001b[0;32m    825\u001b[0m                     \u001b[0mbase_margin\u001b[0m\u001b[1;33m=\u001b[0m\u001b[0mbase_margin\u001b[0m\u001b[1;33m,\u001b[0m\u001b[1;33m\u001b[0m\u001b[1;33m\u001b[0m\u001b[0m\n\u001b[1;32m--> 826\u001b[1;33m                     \u001b[0mvalidate_features\u001b[0m\u001b[1;33m=\u001b[0m\u001b[0mvalidate_features\u001b[0m\u001b[1;33m,\u001b[0m\u001b[1;33m\u001b[0m\u001b[1;33m\u001b[0m\u001b[0m\n\u001b[0m\u001b[0;32m    827\u001b[0m                 )\n\u001b[0;32m    828\u001b[0m                 \u001b[1;32mif\u001b[0m \u001b[0m_is_cupy_array\u001b[0m\u001b[1;33m(\u001b[0m\u001b[0mpredts\u001b[0m\u001b[1;33m)\u001b[0m\u001b[1;33m:\u001b[0m\u001b[1;33m\u001b[0m\u001b[1;33m\u001b[0m\u001b[0m\n",
      "\u001b[1;32mC:\\ProgramData\\Anaconda3\\lib\\site-packages\\xgboost\\core.py\u001b[0m in \u001b[0;36minplace_predict\u001b[1;34m(self, data, iteration_range, predict_type, missing, validate_features, base_margin, strict_shape)\u001b[0m\n\u001b[0;32m   1852\u001b[0m                     \u001b[0mctypes\u001b[0m\u001b[1;33m.\u001b[0m\u001b[0mbyref\u001b[0m\u001b[1;33m(\u001b[0m\u001b[0mshape\u001b[0m\u001b[1;33m)\u001b[0m\u001b[1;33m,\u001b[0m\u001b[1;33m\u001b[0m\u001b[1;33m\u001b[0m\u001b[0m\n\u001b[0;32m   1853\u001b[0m                     \u001b[0mctypes\u001b[0m\u001b[1;33m.\u001b[0m\u001b[0mbyref\u001b[0m\u001b[1;33m(\u001b[0m\u001b[0mdims\u001b[0m\u001b[1;33m)\u001b[0m\u001b[1;33m,\u001b[0m\u001b[1;33m\u001b[0m\u001b[1;33m\u001b[0m\u001b[0m\n\u001b[1;32m-> 1854\u001b[1;33m                     \u001b[0mctypes\u001b[0m\u001b[1;33m.\u001b[0m\u001b[0mbyref\u001b[0m\u001b[1;33m(\u001b[0m\u001b[0mpreds\u001b[0m\u001b[1;33m)\u001b[0m\u001b[1;33m,\u001b[0m\u001b[1;33m\u001b[0m\u001b[1;33m\u001b[0m\u001b[0m\n\u001b[0m\u001b[0;32m   1855\u001b[0m                 )\n\u001b[0;32m   1856\u001b[0m             )\n",
      "\u001b[1;32mC:\\ProgramData\\Anaconda3\\lib\\site-packages\\xgboost\\core.py\u001b[0m in \u001b[0;36m_check_call\u001b[1;34m(ret)\u001b[0m\n\u001b[0;32m    208\u001b[0m     \"\"\"\n\u001b[0;32m    209\u001b[0m     \u001b[1;32mif\u001b[0m \u001b[0mret\u001b[0m \u001b[1;33m!=\u001b[0m \u001b[1;36m0\u001b[0m\u001b[1;33m:\u001b[0m\u001b[1;33m\u001b[0m\u001b[1;33m\u001b[0m\u001b[0m\n\u001b[1;32m--> 210\u001b[1;33m         \u001b[1;32mraise\u001b[0m \u001b[0mXGBoostError\u001b[0m\u001b[1;33m(\u001b[0m\u001b[0mpy_str\u001b[0m\u001b[1;33m(\u001b[0m\u001b[0m_LIB\u001b[0m\u001b[1;33m.\u001b[0m\u001b[0mXGBGetLastError\u001b[0m\u001b[1;33m(\u001b[0m\u001b[1;33m)\u001b[0m\u001b[1;33m)\u001b[0m\u001b[1;33m)\u001b[0m\u001b[1;33m\u001b[0m\u001b[1;33m\u001b[0m\u001b[0m\n\u001b[0m\u001b[0;32m    211\u001b[0m \u001b[1;33m\u001b[0m\u001b[0m\n\u001b[0;32m    212\u001b[0m \u001b[1;33m\u001b[0m\u001b[0m\n",
      "\u001b[1;31mXGBoostError\u001b[0m: [15:29:20] c:\\users\\administrator\\workspace\\xgboost-win64_release_1.4.0\\src\\data\\array_interface.h:139: Check failed: typestr.size() == 3 (2 vs. 3) : `typestr' should be of format <endian><type><size of type in bytes>."
     ]
    }
   ],
   "source": [
    "xgb_pred = xgb_model.predict(x_test)\n",
    "xgb_pred"
   ]
  },
  {
   "cell_type": "code",
   "execution_count": 1182,
   "metadata": {},
   "outputs": [
    {
     "data": {
      "text/html": [
       "<div>\n",
       "<style scoped>\n",
       "    .dataframe tbody tr th:only-of-type {\n",
       "        vertical-align: middle;\n",
       "    }\n",
       "\n",
       "    .dataframe tbody tr th {\n",
       "        vertical-align: top;\n",
       "    }\n",
       "\n",
       "    .dataframe thead th {\n",
       "        text-align: right;\n",
       "    }\n",
       "</style>\n",
       "<table border=\"1\" class=\"dataframe\">\n",
       "  <thead>\n",
       "    <tr style=\"text-align: right;\">\n",
       "      <th></th>\n",
       "      <th>totalPitchingCount</th>\n",
       "      <th>B</th>\n",
       "      <th>S</th>\n",
       "      <th>O</th>\n",
       "      <th>b1</th>\n",
       "      <th>b2</th>\n",
       "      <th>b3</th>\n",
       "      <th>pitcher</th>\n",
       "      <th>batter</th>\n",
       "      <th>gameID</th>\n",
       "      <th>inning</th>\n",
       "      <th>bottomTeam</th>\n",
       "      <th>bgBottom</th>\n",
       "      <th>topTeam</th>\n",
       "      <th>place</th>\n",
       "      <th>bgTop</th>\n",
       "    </tr>\n",
       "  </thead>\n",
       "  <tbody>\n",
       "    <tr>\n",
       "      <th>9146</th>\n",
       "      <td>4</td>\n",
       "      <td>0</td>\n",
       "      <td>2</td>\n",
       "      <td>0</td>\n",
       "      <td>False</td>\n",
       "      <td>False</td>\n",
       "      <td>False</td>\n",
       "      <td>26</td>\n",
       "      <td>29</td>\n",
       "      <td>20202144</td>\n",
       "      <td>14</td>\n",
       "      <td>3</td>\n",
       "      <td>2</td>\n",
       "      <td>9</td>\n",
       "      <td>9</td>\n",
       "      <td>5</td>\n",
       "    </tr>\n",
       "    <tr>\n",
       "      <th>5024</th>\n",
       "      <td>5</td>\n",
       "      <td>2</td>\n",
       "      <td>2</td>\n",
       "      <td>2</td>\n",
       "      <td>True</td>\n",
       "      <td>True</td>\n",
       "      <td>True</td>\n",
       "      <td>104</td>\n",
       "      <td>11</td>\n",
       "      <td>20202160</td>\n",
       "      <td>3</td>\n",
       "      <td>9</td>\n",
       "      <td>7</td>\n",
       "      <td>7</td>\n",
       "      <td>3</td>\n",
       "      <td>8</td>\n",
       "    </tr>\n",
       "    <tr>\n",
       "      <th>10854</th>\n",
       "      <td>2</td>\n",
       "      <td>1</td>\n",
       "      <td>0</td>\n",
       "      <td>2</td>\n",
       "      <td>True</td>\n",
       "      <td>False</td>\n",
       "      <td>False</td>\n",
       "      <td>77</td>\n",
       "      <td>53</td>\n",
       "      <td>20202138</td>\n",
       "      <td>15</td>\n",
       "      <td>0</td>\n",
       "      <td>3</td>\n",
       "      <td>9</td>\n",
       "      <td>8</td>\n",
       "      <td>5</td>\n",
       "    </tr>\n",
       "    <tr>\n",
       "      <th>1246</th>\n",
       "      <td>3</td>\n",
       "      <td>1</td>\n",
       "      <td>1</td>\n",
       "      <td>0</td>\n",
       "      <td>False</td>\n",
       "      <td>False</td>\n",
       "      <td>False</td>\n",
       "      <td>50</td>\n",
       "      <td>188</td>\n",
       "      <td>20202171</td>\n",
       "      <td>5</td>\n",
       "      <td>1</td>\n",
       "      <td>11</td>\n",
       "      <td>8</td>\n",
       "      <td>4</td>\n",
       "      <td>10</td>\n",
       "    </tr>\n",
       "    <tr>\n",
       "      <th>7883</th>\n",
       "      <td>1</td>\n",
       "      <td>0</td>\n",
       "      <td>0</td>\n",
       "      <td>0</td>\n",
       "      <td>False</td>\n",
       "      <td>False</td>\n",
       "      <td>False</td>\n",
       "      <td>76</td>\n",
       "      <td>37</td>\n",
       "      <td>20202146</td>\n",
       "      <td>2</td>\n",
       "      <td>4</td>\n",
       "      <td>9</td>\n",
       "      <td>1</td>\n",
       "      <td>1</td>\n",
       "      <td>11</td>\n",
       "    </tr>\n",
       "    <tr>\n",
       "      <th>...</th>\n",
       "      <td>...</td>\n",
       "      <td>...</td>\n",
       "      <td>...</td>\n",
       "      <td>...</td>\n",
       "      <td>...</td>\n",
       "      <td>...</td>\n",
       "      <td>...</td>\n",
       "      <td>...</td>\n",
       "      <td>...</td>\n",
       "      <td>...</td>\n",
       "      <td>...</td>\n",
       "      <td>...</td>\n",
       "      <td>...</td>\n",
       "      <td>...</td>\n",
       "      <td>...</td>\n",
       "      <td>...</td>\n",
       "    </tr>\n",
       "    <tr>\n",
       "      <th>1030</th>\n",
       "      <td>3</td>\n",
       "      <td>0</td>\n",
       "      <td>2</td>\n",
       "      <td>2</td>\n",
       "      <td>False</td>\n",
       "      <td>False</td>\n",
       "      <td>False</td>\n",
       "      <td>145</td>\n",
       "      <td>219</td>\n",
       "      <td>20202170</td>\n",
       "      <td>7</td>\n",
       "      <td>2</td>\n",
       "      <td>12</td>\n",
       "      <td>3</td>\n",
       "      <td>0</td>\n",
       "      <td>9</td>\n",
       "    </tr>\n",
       "    <tr>\n",
       "      <th>246</th>\n",
       "      <td>5</td>\n",
       "      <td>2</td>\n",
       "      <td>2</td>\n",
       "      <td>1</td>\n",
       "      <td>False</td>\n",
       "      <td>False</td>\n",
       "      <td>False</td>\n",
       "      <td>66</td>\n",
       "      <td>43</td>\n",
       "      <td>20202173</td>\n",
       "      <td>17</td>\n",
       "      <td>0</td>\n",
       "      <td>3</td>\n",
       "      <td>6</td>\n",
       "      <td>8</td>\n",
       "      <td>6</td>\n",
       "    </tr>\n",
       "    <tr>\n",
       "      <th>4258</th>\n",
       "      <td>2</td>\n",
       "      <td>1</td>\n",
       "      <td>0</td>\n",
       "      <td>1</td>\n",
       "      <td>False</td>\n",
       "      <td>True</td>\n",
       "      <td>False</td>\n",
       "      <td>97</td>\n",
       "      <td>16</td>\n",
       "      <td>20202161</td>\n",
       "      <td>8</td>\n",
       "      <td>0</td>\n",
       "      <td>3</td>\n",
       "      <td>6</td>\n",
       "      <td>8</td>\n",
       "      <td>6</td>\n",
       "    </tr>\n",
       "    <tr>\n",
       "      <th>11570</th>\n",
       "      <td>4</td>\n",
       "      <td>1</td>\n",
       "      <td>2</td>\n",
       "      <td>1</td>\n",
       "      <td>True</td>\n",
       "      <td>False</td>\n",
       "      <td>False</td>\n",
       "      <td>108</td>\n",
       "      <td>214</td>\n",
       "      <td>20202135</td>\n",
       "      <td>3</td>\n",
       "      <td>9</td>\n",
       "      <td>7</td>\n",
       "      <td>2</td>\n",
       "      <td>3</td>\n",
       "      <td>12</td>\n",
       "    </tr>\n",
       "    <tr>\n",
       "      <th>7102</th>\n",
       "      <td>2</td>\n",
       "      <td>1</td>\n",
       "      <td>0</td>\n",
       "      <td>2</td>\n",
       "      <td>True</td>\n",
       "      <td>True</td>\n",
       "      <td>True</td>\n",
       "      <td>43</td>\n",
       "      <td>207</td>\n",
       "      <td>20202149</td>\n",
       "      <td>6</td>\n",
       "      <td>0</td>\n",
       "      <td>3</td>\n",
       "      <td>4</td>\n",
       "      <td>8</td>\n",
       "      <td>4</td>\n",
       "    </tr>\n",
       "  </tbody>\n",
       "</table>\n",
       "<p>4284 rows × 16 columns</p>\n",
       "</div>"
      ],
      "text/plain": [
       "       totalPitchingCount  B  S  O     b1     b2     b3  pitcher  batter  \\\n",
       "9146                    4  0  2  0  False  False  False       26      29   \n",
       "5024                    5  2  2  2   True   True   True      104      11   \n",
       "10854                   2  1  0  2   True  False  False       77      53   \n",
       "1246                    3  1  1  0  False  False  False       50     188   \n",
       "7883                    1  0  0  0  False  False  False       76      37   \n",
       "...                   ... .. .. ..    ...    ...    ...      ...     ...   \n",
       "1030                    3  0  2  2  False  False  False      145     219   \n",
       "246                     5  2  2  1  False  False  False       66      43   \n",
       "4258                    2  1  0  1  False   True  False       97      16   \n",
       "11570                   4  1  2  1   True  False  False      108     214   \n",
       "7102                    2  1  0  2   True   True   True       43     207   \n",
       "\n",
       "         gameID  inning  bottomTeam  bgBottom  topTeam  place  bgTop  \n",
       "9146   20202144      14           3         2        9      9      5  \n",
       "5024   20202160       3           9         7        7      3      8  \n",
       "10854  20202138      15           0         3        9      8      5  \n",
       "1246   20202171       5           1        11        8      4     10  \n",
       "7883   20202146       2           4         9        1      1     11  \n",
       "...         ...     ...         ...       ...      ...    ...    ...  \n",
       "1030   20202170       7           2        12        3      0      9  \n",
       "246    20202173      17           0         3        6      8      6  \n",
       "4258   20202161       8           0         3        6      8      6  \n",
       "11570  20202135       3           9         7        2      3     12  \n",
       "7102   20202149       6           0         3        4      8      4  \n",
       "\n",
       "[4284 rows x 16 columns]"
      ]
     },
     "execution_count": 1182,
     "metadata": {},
     "output_type": "execute_result"
    }
   ],
   "source": [
    "x_test"
   ]
  },
  {
   "cell_type": "markdown",
   "metadata": {},
   "source": [
    "## Lighht BGM"
   ]
  },
  {
   "cell_type": "code",
   "execution_count": 1263,
   "metadata": {},
   "outputs": [],
   "source": [
    "lgb_train = lgb.Dataset(x_train, y_train)\n",
    "lgb_eval = lgb.Dataset(x_test, y_test)"
   ]
  },
  {
   "cell_type": "code",
   "execution_count": 1274,
   "metadata": {},
   "outputs": [],
   "source": [
    "params = {\n",
    "        'task': 'train',\n",
    "        'boosting_type': 'gbdt',\n",
    "        'objective': 'multiclass',\n",
    "        'metric': {'multi_logloss'},\n",
    "        'num_class': 8,\n",
    "        'learning_rate': 0.1,\n",
    "        'num_leaves': 23,\n",
    "        'min_data_in_leaf': 1,\n",
    "        'num_iteration': 100,\n",
    "        'verbose': 0\n",
    "}"
   ]
  },
  {
   "cell_type": "code",
   "execution_count": 1275,
   "metadata": {},
   "outputs": [
    {
     "name": "stdout",
     "output_type": "stream",
     "text": [
      "[LightGBM] [Warning] Auto-choosing row-wise multi-threading, the overhead of testing was 0.001981 seconds.\n",
      "You can set `force_row_wise=true` to remove the overhead.\n",
      "And if memory is not enough, you can set `force_col_wise=true`.\n",
      "[1]\tvalid_0's multi_logloss: 1.5233\n",
      "Training until validation scores don't improve for 10 rounds\n",
      "[2]\tvalid_0's multi_logloss: 1.5416\n",
      "[3]\tvalid_0's multi_logloss: 1.5514\n",
      "[4]\tvalid_0's multi_logloss: 1.5553\n",
      "[5]\tvalid_0's multi_logloss: 1.59723\n",
      "[6]\tvalid_0's multi_logloss: 1.54361\n",
      "[7]\tvalid_0's multi_logloss: 1.54858\n",
      "[8]\tvalid_0's multi_logloss: 1.57112\n",
      "[9]\tvalid_0's multi_logloss: 1.55136\n",
      "[10]\tvalid_0's multi_logloss: 1.6308\n",
      "[11]\tvalid_0's multi_logloss: 1.61724\n",
      "Early stopping, best iteration is:\n",
      "[1]\tvalid_0's multi_logloss: 1.5233\n"
     ]
    }
   ],
   "source": [
    "gbm_model = lgb.train(params,\n",
    "                      lgb_train,\n",
    "                      num_boost_round=50,\n",
    "                      valid_sets=lgb_eval,\n",
    "                      early_stopping_rounds=10)"
   ]
  },
  {
   "cell_type": "code",
   "execution_count": 1283,
   "metadata": {},
   "outputs": [
    {
     "data": {
      "text/plain": [
       "array([[0.38106201, 0.26182161, 0.18047387, ..., 0.01190133, 0.00063741,\n",
       "        0.00673511],\n",
       "       [0.3778106 , 0.26932736, 0.17001433, ..., 0.01151366, 0.00064354,\n",
       "        0.00651572],\n",
       "       [0.36393457, 0.28628929, 0.17165465, ..., 0.01108381, 0.00067127,\n",
       "        0.00679648],\n",
       "       ...,\n",
       "       [0.35676037, 0.29078199, 0.17297061, ..., 0.01116878, 0.00067642,\n",
       "        0.00684858],\n",
       "       [0.36956152, 0.26624395, 0.17957776, ..., 0.01210235, 0.00067645,\n",
       "        0.00661911],\n",
       "       [0.36402778, 0.28636262, 0.17169861, ..., 0.01108665, 0.00064338,\n",
       "        0.00657016]])"
      ]
     },
     "execution_count": 1283,
     "metadata": {},
     "output_type": "execute_result"
    }
   ],
   "source": [
    "gbm_pred = gbm_model.predict(x_test)\n",
    "gbm_pred"
   ]
  },
  {
   "cell_type": "code",
   "execution_count": 1286,
   "metadata": {},
   "outputs": [
    {
     "name": "stdout",
     "output_type": "stream",
     "text": [
      "0.3697478991596639\n"
     ]
    }
   ],
   "source": [
    "model = lgb.LGBMClassifier()\n",
    "model.fit(x_train, y_train)\n",
    "y_pred = model.predict_proba(x_test)\n",
    "y_pred_max = np.argmax(y_pred, axis=1)\n",
    "accuracy = sum(y_test == y_pred_max) / len(y_test)\n",
    "print(accuracy)"
   ]
  },
  {
   "cell_type": "code",
   "execution_count": 1279,
   "metadata": {},
   "outputs": [
    {
     "ename": "ValueError",
     "evalue": "y_true and y_pred have different number of output (1!=8)",
     "output_type": "error",
     "traceback": [
      "\u001b[1;31m---------------------------------------------------------------------------\u001b[0m",
      "\u001b[1;31mValueError\u001b[0m                                Traceback (most recent call last)",
      "\u001b[1;32m<ipython-input-1279-eb67e86c8d7d>\u001b[0m in \u001b[0;36m<module>\u001b[1;34m\u001b[0m\n\u001b[1;32m----> 1\u001b[1;33m \u001b[0mX\u001b[0m\u001b[1;33m=\u001b[0m\u001b[0mmean_absolute_error\u001b[0m\u001b[1;33m(\u001b[0m\u001b[0my_test\u001b[0m\u001b[1;33m,\u001b[0m \u001b[0mgbm_pred\u001b[0m\u001b[1;33m)\u001b[0m\u001b[1;33m\u001b[0m\u001b[1;33m\u001b[0m\u001b[0m\n\u001b[0m\u001b[0;32m      2\u001b[0m \u001b[0mprint\u001b[0m\u001b[1;33m(\u001b[0m\u001b[1;34m\"LightGBMモデルの平均絶対誤差は\"\u001b[0m\u001b[1;33m,\u001b[0m\u001b[0mX\u001b[0m\u001b[1;33m)\u001b[0m\u001b[1;33m\u001b[0m\u001b[1;33m\u001b[0m\u001b[0m\n\u001b[0;32m      3\u001b[0m \u001b[0mY\u001b[0m\u001b[1;33m=\u001b[0m\u001b[0mr2_score\u001b[0m\u001b[1;33m(\u001b[0m\u001b[0my_test\u001b[0m\u001b[1;33m,\u001b[0m \u001b[0mgbm_pred\u001b[0m\u001b[1;33m)\u001b[0m\u001b[1;33m\u001b[0m\u001b[1;33m\u001b[0m\u001b[0m\n\u001b[0;32m      4\u001b[0m \u001b[0mprint\u001b[0m\u001b[1;33m(\u001b[0m\u001b[1;34m\"LightGBMモデルの決定係数は\"\u001b[0m\u001b[1;33m,\u001b[0m\u001b[0mY\u001b[0m\u001b[1;33m)\u001b[0m\u001b[1;33m\u001b[0m\u001b[1;33m\u001b[0m\u001b[0m\n",
      "\u001b[1;32mC:\\ProgramData\\Anaconda3\\lib\\site-packages\\sklearn\\metrics\\_regression.py\u001b[0m in \u001b[0;36mmean_absolute_error\u001b[1;34m(y_true, y_pred, sample_weight, multioutput)\u001b[0m\n\u001b[0;32m    176\u001b[0m     \"\"\"\n\u001b[0;32m    177\u001b[0m     y_type, y_true, y_pred, multioutput = _check_reg_targets(\n\u001b[1;32m--> 178\u001b[1;33m         y_true, y_pred, multioutput)\n\u001b[0m\u001b[0;32m    179\u001b[0m     \u001b[0mcheck_consistent_length\u001b[0m\u001b[1;33m(\u001b[0m\u001b[0my_true\u001b[0m\u001b[1;33m,\u001b[0m \u001b[0my_pred\u001b[0m\u001b[1;33m,\u001b[0m \u001b[0msample_weight\u001b[0m\u001b[1;33m)\u001b[0m\u001b[1;33m\u001b[0m\u001b[1;33m\u001b[0m\u001b[0m\n\u001b[0;32m    180\u001b[0m     output_errors = np.average(np.abs(y_pred - y_true),\n",
      "\u001b[1;32mC:\\ProgramData\\Anaconda3\\lib\\site-packages\\sklearn\\metrics\\_regression.py\u001b[0m in \u001b[0;36m_check_reg_targets\u001b[1;34m(y_true, y_pred, multioutput, dtype)\u001b[0m\n\u001b[0;32m     94\u001b[0m     \u001b[1;32mif\u001b[0m \u001b[0my_true\u001b[0m\u001b[1;33m.\u001b[0m\u001b[0mshape\u001b[0m\u001b[1;33m[\u001b[0m\u001b[1;36m1\u001b[0m\u001b[1;33m]\u001b[0m \u001b[1;33m!=\u001b[0m \u001b[0my_pred\u001b[0m\u001b[1;33m.\u001b[0m\u001b[0mshape\u001b[0m\u001b[1;33m[\u001b[0m\u001b[1;36m1\u001b[0m\u001b[1;33m]\u001b[0m\u001b[1;33m:\u001b[0m\u001b[1;33m\u001b[0m\u001b[1;33m\u001b[0m\u001b[0m\n\u001b[0;32m     95\u001b[0m         raise ValueError(\"y_true and y_pred have different number of output \"\n\u001b[1;32m---> 96\u001b[1;33m                          \"({0}!={1})\".format(y_true.shape[1], y_pred.shape[1]))\n\u001b[0m\u001b[0;32m     97\u001b[0m \u001b[1;33m\u001b[0m\u001b[0m\n\u001b[0;32m     98\u001b[0m     \u001b[0mn_outputs\u001b[0m \u001b[1;33m=\u001b[0m \u001b[0my_true\u001b[0m\u001b[1;33m.\u001b[0m\u001b[0mshape\u001b[0m\u001b[1;33m[\u001b[0m\u001b[1;36m1\u001b[0m\u001b[1;33m]\u001b[0m\u001b[1;33m\u001b[0m\u001b[1;33m\u001b[0m\u001b[0m\n",
      "\u001b[1;31mValueError\u001b[0m: y_true and y_pred have different number of output (1!=8)"
     ]
    }
   ],
   "source": [
    "X=mean_absolute_error(y_test, gbm_pred)\n",
    "print(\"LightGBMモデルの平均絶対誤差は\",X)\n",
    "Y=r2_score(y_test, gbm_pred)\n",
    "print(\"LightGBMモデルの決定係数は\",Y)"
   ]
  },
  {
   "cell_type": "code",
   "execution_count": 1278,
   "metadata": {},
   "outputs": [
    {
     "ename": "ValueError",
     "evalue": "x and y must be the same size",
     "output_type": "error",
     "traceback": [
      "\u001b[1;31m---------------------------------------------------------------------------\u001b[0m",
      "\u001b[1;31mValueError\u001b[0m                                Traceback (most recent call last)",
      "\u001b[1;32m<ipython-input-1278-630cda22bb4c>\u001b[0m in \u001b[0;36m<module>\u001b[1;34m\u001b[0m\n\u001b[0;32m      2\u001b[0m \u001b[1;33m\u001b[0m\u001b[0m\n\u001b[0;32m      3\u001b[0m \u001b[0max1\u001b[0m \u001b[1;33m=\u001b[0m \u001b[0mfig\u001b[0m\u001b[1;33m.\u001b[0m\u001b[0madd_subplot\u001b[0m\u001b[1;33m(\u001b[0m\u001b[1;36m3\u001b[0m\u001b[1;33m,\u001b[0m \u001b[1;36m1\u001b[0m\u001b[1;33m,\u001b[0m \u001b[1;36m1\u001b[0m\u001b[1;33m)\u001b[0m\u001b[1;33m\u001b[0m\u001b[1;33m\u001b[0m\u001b[0m\n\u001b[1;32m----> 4\u001b[1;33m \u001b[0mplt\u001b[0m\u001b[1;33m.\u001b[0m\u001b[0mscatter\u001b[0m\u001b[1;33m(\u001b[0m\u001b[0my_test\u001b[0m\u001b[1;33m,\u001b[0m\u001b[0mgbm_pred\u001b[0m\u001b[1;33m,\u001b[0m\u001b[0mcolor\u001b[0m\u001b[1;33m=\u001b[0m\u001b[1;34m\"blue\"\u001b[0m\u001b[1;33m)\u001b[0m\u001b[1;33m\u001b[0m\u001b[1;33m\u001b[0m\u001b[0m\n\u001b[0m\u001b[0;32m      5\u001b[0m \u001b[0mx\u001b[0m \u001b[1;33m=\u001b[0m \u001b[0mnp\u001b[0m\u001b[1;33m.\u001b[0m\u001b[0marange\u001b[0m\u001b[1;33m(\u001b[0m\u001b[1;36m0\u001b[0m\u001b[1;33m,\u001b[0m \u001b[1;36m7\u001b[0m\u001b[1;33m)\u001b[0m\u001b[1;33m\u001b[0m\u001b[1;33m\u001b[0m\u001b[0m\n\u001b[0;32m      6\u001b[0m \u001b[0mplt\u001b[0m\u001b[1;33m.\u001b[0m\u001b[0mplot\u001b[0m\u001b[1;33m(\u001b[0m\u001b[0mx\u001b[0m\u001b[1;33m,\u001b[0m\u001b[0mx\u001b[0m\u001b[1;33m,\u001b[0m\u001b[0mcolor\u001b[0m\u001b[1;33m=\u001b[0m\u001b[1;34m\"red\"\u001b[0m\u001b[1;33m)\u001b[0m\u001b[1;33m\u001b[0m\u001b[1;33m\u001b[0m\u001b[0m\n",
      "\u001b[1;32mC:\\ProgramData\\Anaconda3\\lib\\site-packages\\matplotlib\\pyplot.py\u001b[0m in \u001b[0;36mscatter\u001b[1;34m(x, y, s, c, marker, cmap, norm, vmin, vmax, alpha, linewidths, verts, edgecolors, plotnonfinite, data, **kwargs)\u001b[0m\n\u001b[0;32m   2846\u001b[0m         \u001b[0mverts\u001b[0m\u001b[1;33m=\u001b[0m\u001b[0mverts\u001b[0m\u001b[1;33m,\u001b[0m \u001b[0medgecolors\u001b[0m\u001b[1;33m=\u001b[0m\u001b[0medgecolors\u001b[0m\u001b[1;33m,\u001b[0m\u001b[1;33m\u001b[0m\u001b[1;33m\u001b[0m\u001b[0m\n\u001b[0;32m   2847\u001b[0m         plotnonfinite=plotnonfinite, **({\"data\": data} if data is not\n\u001b[1;32m-> 2848\u001b[1;33m         None else {}), **kwargs)\n\u001b[0m\u001b[0;32m   2849\u001b[0m     \u001b[0msci\u001b[0m\u001b[1;33m(\u001b[0m\u001b[0m__ret\u001b[0m\u001b[1;33m)\u001b[0m\u001b[1;33m\u001b[0m\u001b[1;33m\u001b[0m\u001b[0m\n\u001b[0;32m   2850\u001b[0m     \u001b[1;32mreturn\u001b[0m \u001b[0m__ret\u001b[0m\u001b[1;33m\u001b[0m\u001b[1;33m\u001b[0m\u001b[0m\n",
      "\u001b[1;32mC:\\ProgramData\\Anaconda3\\lib\\site-packages\\matplotlib\\__init__.py\u001b[0m in \u001b[0;36minner\u001b[1;34m(ax, data, *args, **kwargs)\u001b[0m\n\u001b[0;32m   1597\u001b[0m     \u001b[1;32mdef\u001b[0m \u001b[0minner\u001b[0m\u001b[1;33m(\u001b[0m\u001b[0max\u001b[0m\u001b[1;33m,\u001b[0m \u001b[1;33m*\u001b[0m\u001b[0margs\u001b[0m\u001b[1;33m,\u001b[0m \u001b[0mdata\u001b[0m\u001b[1;33m=\u001b[0m\u001b[1;32mNone\u001b[0m\u001b[1;33m,\u001b[0m \u001b[1;33m**\u001b[0m\u001b[0mkwargs\u001b[0m\u001b[1;33m)\u001b[0m\u001b[1;33m:\u001b[0m\u001b[1;33m\u001b[0m\u001b[1;33m\u001b[0m\u001b[0m\n\u001b[0;32m   1598\u001b[0m         \u001b[1;32mif\u001b[0m \u001b[0mdata\u001b[0m \u001b[1;32mis\u001b[0m \u001b[1;32mNone\u001b[0m\u001b[1;33m:\u001b[0m\u001b[1;33m\u001b[0m\u001b[1;33m\u001b[0m\u001b[0m\n\u001b[1;32m-> 1599\u001b[1;33m             \u001b[1;32mreturn\u001b[0m \u001b[0mfunc\u001b[0m\u001b[1;33m(\u001b[0m\u001b[0max\u001b[0m\u001b[1;33m,\u001b[0m \u001b[1;33m*\u001b[0m\u001b[0mmap\u001b[0m\u001b[1;33m(\u001b[0m\u001b[0msanitize_sequence\u001b[0m\u001b[1;33m,\u001b[0m \u001b[0margs\u001b[0m\u001b[1;33m)\u001b[0m\u001b[1;33m,\u001b[0m \u001b[1;33m**\u001b[0m\u001b[0mkwargs\u001b[0m\u001b[1;33m)\u001b[0m\u001b[1;33m\u001b[0m\u001b[1;33m\u001b[0m\u001b[0m\n\u001b[0m\u001b[0;32m   1600\u001b[0m \u001b[1;33m\u001b[0m\u001b[0m\n\u001b[0;32m   1601\u001b[0m         \u001b[0mbound\u001b[0m \u001b[1;33m=\u001b[0m \u001b[0mnew_sig\u001b[0m\u001b[1;33m.\u001b[0m\u001b[0mbind\u001b[0m\u001b[1;33m(\u001b[0m\u001b[0max\u001b[0m\u001b[1;33m,\u001b[0m \u001b[1;33m*\u001b[0m\u001b[0margs\u001b[0m\u001b[1;33m,\u001b[0m \u001b[1;33m**\u001b[0m\u001b[0mkwargs\u001b[0m\u001b[1;33m)\u001b[0m\u001b[1;33m\u001b[0m\u001b[1;33m\u001b[0m\u001b[0m\n",
      "\u001b[1;32mC:\\ProgramData\\Anaconda3\\lib\\site-packages\\matplotlib\\axes\\_axes.py\u001b[0m in \u001b[0;36mscatter\u001b[1;34m(self, x, y, s, c, marker, cmap, norm, vmin, vmax, alpha, linewidths, verts, edgecolors, plotnonfinite, **kwargs)\u001b[0m\n\u001b[0;32m   4441\u001b[0m         \u001b[0my\u001b[0m \u001b[1;33m=\u001b[0m \u001b[0mnp\u001b[0m\u001b[1;33m.\u001b[0m\u001b[0mma\u001b[0m\u001b[1;33m.\u001b[0m\u001b[0mravel\u001b[0m\u001b[1;33m(\u001b[0m\u001b[0my\u001b[0m\u001b[1;33m)\u001b[0m\u001b[1;33m\u001b[0m\u001b[1;33m\u001b[0m\u001b[0m\n\u001b[0;32m   4442\u001b[0m         \u001b[1;32mif\u001b[0m \u001b[0mx\u001b[0m\u001b[1;33m.\u001b[0m\u001b[0msize\u001b[0m \u001b[1;33m!=\u001b[0m \u001b[0my\u001b[0m\u001b[1;33m.\u001b[0m\u001b[0msize\u001b[0m\u001b[1;33m:\u001b[0m\u001b[1;33m\u001b[0m\u001b[1;33m\u001b[0m\u001b[0m\n\u001b[1;32m-> 4443\u001b[1;33m             \u001b[1;32mraise\u001b[0m \u001b[0mValueError\u001b[0m\u001b[1;33m(\u001b[0m\u001b[1;34m\"x and y must be the same size\"\u001b[0m\u001b[1;33m)\u001b[0m\u001b[1;33m\u001b[0m\u001b[1;33m\u001b[0m\u001b[0m\n\u001b[0m\u001b[0;32m   4444\u001b[0m \u001b[1;33m\u001b[0m\u001b[0m\n\u001b[0;32m   4445\u001b[0m         \u001b[1;32mif\u001b[0m \u001b[0ms\u001b[0m \u001b[1;32mis\u001b[0m \u001b[1;32mNone\u001b[0m\u001b[1;33m:\u001b[0m\u001b[1;33m\u001b[0m\u001b[1;33m\u001b[0m\u001b[0m\n",
      "\u001b[1;31mValueError\u001b[0m: x and y must be the same size"
     ]
    },
    {
     "data": {
      "image/png": "[encoded data removed]",
      "text/plain": [
       "<Figure size 720x1728 with 1 Axes>"
      ]
     },
     "metadata": {
      "needs_background": "light"
     },
     "output_type": "display_data"
    }
   ],
   "source": [
    "fig = plt.figure(figsize=(10,24))\n",
    "\n",
    "ax1 = fig.add_subplot(3, 1, 1)\n",
    "plt.scatter(y_test,gbm_pred,color=\"blue\")\n",
    "x = np.arange(0, 7)\n",
    "plt.plot(x,x,color=\"red\")\n",
    "plt.title(\"predicted_data & test_data\")\n",
    "plt.xlabel(\"test_data\")\n",
    "plt.ylabel(\"predicted_data\")\n",
    "\n",
    "ax2 = fig.add_subplot(3, 1, 2)\n",
    "plt.scatter(gbm_pred, gbm_pred - y_test, color = 'blue')      # 残差をプロット \n",
    "plt.hlines(y = 0, xmin = 0, xmax = 7, color = 'black') # x軸に沿った直線をプロット\n",
    "plt.title('Residual Plot')                                # 図のタイトル\n",
    "plt.xlabel('Predicted Values')                            # x軸のラベル\n",
    "plt.ylabel('Residuals')                                   # y軸のラベル\n",
    "plt.grid()                                                # グリッド線を表示\n",
    "\n",
    "\n",
    "ax3 = fig.add_subplot(3, 1, 3)\n",
    "features = x_train.columns\n",
    "importances = gbm_model.feature_importance()\n",
    "indices = np.argsort(importances)\n",
    "plt.barh(range(len(indices)),importances[indices],align='center')\n",
    "plt.yticks(range(len(indices)), features[indices])\n",
    "plt.title(\"feature_importances\")\n",
    "plt.xlabel(\"importance\")\n",
    "plt.ylabel(\"feature\")\n",
    "\n",
    "plt.show()"
   ]
  },
  {
   "cell_type": "code",
   "execution_count": 1234,
   "metadata": {},
   "outputs": [],
   "source": [
    "with open('rf_model.txt', mode='wb') as f:\n",
    "    pickle.dump(rf_model, f)\n",
    "\n",
    "#with open('xgb_model.txt', mode='wb') as f:\n",
    "#    pickle.dump(xgb_model, f)\n",
    "    \n",
    "with open('gbm_model.txt', mode='wb') as f:\n",
    "    pickle.dump(gbm_model, f)"
   ]
  },
  {
   "cell_type": "markdown",
   "metadata": {},
   "source": [
    "## パラメータ調整\n"
   ]
  },
  {
   "cell_type": "code",
   "execution_count": 1235,
   "metadata": {},
   "outputs": [],
   "source": [
    "params = {'max_depth':[4,6,8]}\n"
   ]
  },
  {
   "cell_type": "code",
   "execution_count": 1236,
   "metadata": {},
   "outputs": [],
   "source": [
    "grid_rf_model = GridSearchCV(\n",
    "    RandomForestClassifier(random_state=1),\n",
    "    param_grid=params,\n",
    "    cv=5,\n",
    "    scoring = 'r2',\n",
    "    n_jobs=-1\n",
    "    )"
   ]
  },
  {
   "cell_type": "code",
   "execution_count": 1237,
   "metadata": {},
   "outputs": [
    {
     "data": {
      "text/plain": [
       "GridSearchCV(cv=5, error_score=nan,\n",
       "             estimator=RandomForestClassifier(bootstrap=True, ccp_alpha=0.0,\n",
       "                                              class_weight=None,\n",
       "                                              criterion='gini', max_depth=None,\n",
       "                                              max_features='auto',\n",
       "                                              max_leaf_nodes=None,\n",
       "                                              max_samples=None,\n",
       "                                              min_impurity_decrease=0.0,\n",
       "                                              min_impurity_split=None,\n",
       "                                              min_samples_leaf=1,\n",
       "                                              min_samples_split=2,\n",
       "                                              min_weight_fraction_leaf=0.0,\n",
       "                                              n_estimators=100, n_jobs=None,\n",
       "                                              oob_score=False, random_state=1,\n",
       "                                              verbose=0, warm_start=False),\n",
       "             iid='deprecated', n_jobs=-1, param_grid={'max_depth': [4, 6, 8]},\n",
       "             pre_dispatch='2*n_jobs', refit=True, return_train_score=False,\n",
       "             scoring='r2', verbose=0)"
      ]
     },
     "execution_count": 1237,
     "metadata": {},
     "output_type": "execute_result"
    }
   ],
   "source": [
    "grid_rf_model.fit(x_train, y_train)"
   ]
  },
  {
   "cell_type": "code",
   "execution_count": 1238,
   "metadata": {},
   "outputs": [
    {
     "data": {
      "text/plain": [
       "RandomForestClassifier(bootstrap=True, ccp_alpha=0.0, class_weight=None,\n",
       "                       criterion='gini', max_depth=8, max_features='auto',\n",
       "                       max_leaf_nodes=None, max_samples=None,\n",
       "                       min_impurity_decrease=0.0, min_impurity_split=None,\n",
       "                       min_samples_leaf=1, min_samples_split=2,\n",
       "                       min_weight_fraction_leaf=0.0, n_estimators=100,\n",
       "                       n_jobs=None, oob_score=False, random_state=1, verbose=0,\n",
       "                       warm_start=False)"
      ]
     },
     "execution_count": 1238,
     "metadata": {},
     "output_type": "execute_result"
    }
   ],
   "source": [
    "grid_rf_model.best_estimator_"
   ]
  },
  {
   "cell_type": "code",
   "execution_count": 1239,
   "metadata": {},
   "outputs": [],
   "source": [
    "with open('grid_rf_model.txt', mode='wb') as f:\n",
    "    pickle.dump(grid_rf_model.best_estimator_, f)"
   ]
  },
  {
   "cell_type": "code",
   "execution_count": 1240,
   "metadata": {},
   "outputs": [],
   "source": [
    "gridParams = {\n",
    "        'max_depth': [4,6,8],\n",
    "        'learning_rate':[0.1,0.3,0.5],\n",
    "        'min_data_in_leaf': [15,20,25],\n",
    "        'num_leaves':[27,31,35]\n",
    "        }"
   ]
  },
  {
   "cell_type": "code",
   "execution_count": 1241,
   "metadata": {},
   "outputs": [],
   "source": [
    "fitParams = {'early_stopping_rounds': 10,\n",
    "              'eval_set': [[x_test, y_test]]}"
   ]
  },
  {
   "cell_type": "code",
   "execution_count": 1242,
   "metadata": {},
   "outputs": [],
   "source": [
    "lgb_train = lgb.Dataset(x_train, y_train)\n",
    "lgb_eval = lgb.Dataset(x_test, y_test)"
   ]
  },
  {
   "cell_type": "code",
   "execution_count": 1243,
   "metadata": {},
   "outputs": [],
   "source": [
    "grid_gbm_model = GridSearchCV(\n",
    "    lgb.LGBMRegressor(random_state=1),\n",
    "    param_grid=gridParams,\n",
    "    cv=5,\n",
    "    scoring='r2',\n",
    "    n_jobs=-1\n",
    "    )"
   ]
  },
  {
   "cell_type": "code",
   "execution_count": 1244,
   "metadata": {},
   "outputs": [
    {
     "name": "stdout",
     "output_type": "stream",
     "text": [
      "[LightGBM] [Warning] min_data_in_leaf is set=25, min_child_samples=20 will be ignored. Current value: min_data_in_leaf=25\n",
      "Training until validation scores don't improve for 10 rounds\n",
      "[2]\tvalid_0's l2: 1.75454\n",
      "[4]\tvalid_0's l2: 1.73829\n",
      "[6]\tvalid_0's l2: 1.72857\n",
      "[8]\tvalid_0's l2: 1.72233\n",
      "[10]\tvalid_0's l2: 1.71881\n",
      "[12]\tvalid_0's l2: 1.71561\n",
      "[14]\tvalid_0's l2: 1.71466\n",
      "[16]\tvalid_0's l2: 1.71449\n",
      "[18]\tvalid_0's l2: 1.7141\n",
      "[20]\tvalid_0's l2: 1.71407\n",
      "[22]\tvalid_0's l2: 1.71397\n",
      "[24]\tvalid_0's l2: 1.71488\n",
      "[26]\tvalid_0's l2: 1.71541\n",
      "[28]\tvalid_0's l2: 1.71524\n",
      "[30]\tvalid_0's l2: 1.71624\n",
      "[32]\tvalid_0's l2: 1.71484\n",
      "Early stopping, best iteration is:\n",
      "[22]\tvalid_0's l2: 1.71397\n"
     ]
    },
    {
     "data": {
      "text/plain": [
       "GridSearchCV(cv=5, error_score=nan,\n",
       "             estimator=LGBMRegressor(boosting_type='gbdt', class_weight=None,\n",
       "                                     colsample_bytree=1.0,\n",
       "                                     importance_type='split', learning_rate=0.1,\n",
       "                                     max_depth=-1, min_child_samples=20,\n",
       "                                     min_child_weight=0.001, min_split_gain=0.0,\n",
       "                                     n_estimators=100, n_jobs=-1, num_leaves=31,\n",
       "                                     objective=None, random_state=1,\n",
       "                                     reg_alpha=0.0, reg_lambda=0.0, silent=True,\n",
       "                                     subsample=1.0, subsample_for_bin=200000,\n",
       "                                     subsample_freq=0),\n",
       "             iid='deprecated', n_jobs=-1,\n",
       "             param_grid={'learning_rate': [0.1, 0.3, 0.5],\n",
       "                         'max_depth': [4, 6, 8],\n",
       "                         'min_data_in_leaf': [15, 20, 25],\n",
       "                         'num_leaves': [27, 31, 35]},\n",
       "             pre_dispatch='2*n_jobs', refit=True, return_train_score=False,\n",
       "             scoring='r2', verbose=0)"
      ]
     },
     "execution_count": 1244,
     "metadata": {},
     "output_type": "execute_result"
    }
   ],
   "source": [
    "grid_gbm_model.fit(\n",
    "    x_train,\n",
    "    y_train,\n",
    "    **fitParams,\n",
    "    verbose=2)"
   ]
  },
  {
   "cell_type": "code",
   "execution_count": 1245,
   "metadata": {},
   "outputs": [
    {
     "data": {
      "text/plain": [
       "LGBMRegressor(boosting_type='gbdt', class_weight=None, colsample_bytree=1.0,\n",
       "              importance_type='split', learning_rate=0.1, max_depth=4,\n",
       "              min_child_samples=20, min_child_weight=0.001, min_data_in_leaf=25,\n",
       "              min_split_gain=0.0, n_estimators=100, n_jobs=-1, num_leaves=27,\n",
       "              objective=None, random_state=1, reg_alpha=0.0, reg_lambda=0.0,\n",
       "              silent=True, subsample=1.0, subsample_for_bin=200000,\n",
       "              subsample_freq=0)"
      ]
     },
     "execution_count": 1245,
     "metadata": {},
     "output_type": "execute_result"
    }
   ],
   "source": [
    "grid_gbm_model.best_estimator_"
   ]
  },
  {
   "cell_type": "code",
   "execution_count": 1246,
   "metadata": {},
   "outputs": [],
   "source": [
    "with open('grid_gbm_model.txt', mode='wb') as f:\n",
    "    pickle.dump(grid_gbm_model.best_estimator_, f)"
   ]
  },
  {
   "cell_type": "markdown",
   "metadata": {},
   "source": [
    "##  最適化されたモデルによる予測・評価"
   ]
  },
  {
   "cell_type": "code",
   "execution_count": 1247,
   "metadata": {},
   "outputs": [],
   "source": [
    "with open('grid_rf_model.txt', mode='rb') as f:\n",
    "    rf_best_model = pickle.load(f)"
   ]
  },
  {
   "cell_type": "code",
   "execution_count": 1248,
   "metadata": {},
   "outputs": [
    {
     "data": {
      "text/plain": [
       "array([0, 0, 1, ..., 1, 0, 0], dtype=int64)"
      ]
     },
     "execution_count": 1248,
     "metadata": {},
     "output_type": "execute_result"
    }
   ],
   "source": [
    "rf_pred = rf_best_model.predict(x_test)\n",
    "rf_pred"
   ]
  },
  {
   "cell_type": "code",
   "execution_count": 1249,
   "metadata": {},
   "outputs": [
    {
     "name": "stdout",
     "output_type": "stream",
     "text": [
      "モデルの平均絶対誤差は 1.1531279178338\n",
      "モデルの決定係数は -0.6264464584055935\n"
     ]
    }
   ],
   "source": [
    "X=mean_absolute_error(y_test, rf_pred)\n",
    "print(\"モデルの平均絶対誤差は\",X)\n",
    "Y=r2_score(y_test, rf_pred)\n",
    "print(\"モデルの決定係数は\",Y)"
   ]
  },
  {
   "cell_type": "code",
   "execution_count": 1250,
   "metadata": {},
   "outputs": [
    {
     "data": {
      "image/png": "[encoded data removed]",
      "text/plain": [
       "<Figure size 576x1728 with 3 Axes>"
      ]
     },
     "metadata": {
      "needs_background": "light"
     },
     "output_type": "display_data"
    }
   ],
   "source": [
    "fig = plt.figure(figsize=(8,24))\n",
    "\n",
    "ax1 = fig.add_subplot(3, 1, 1)\n",
    "plt.scatter(y_test,rf_pred,color=\"blue\")\n",
    "x = np.arange(0, 7)\n",
    "plt.plot(x,x,color=\"red\")\n",
    "plt.title(\"predicted_data & test_data\")\n",
    "plt.xlabel(\"test_data\")\n",
    "plt.ylabel(\"predicted_data\")\n",
    "\n",
    "ax2 = fig.add_subplot(3, 1, 2)\n",
    "plt.scatter(rf_pred, rf_pred - y_test, color = 'blue')      # 残差をプロット \n",
    "plt.hlines(y = 0, xmin = 0, xmax = 7, color = 'black') # x軸に沿った直線をプロット\n",
    "plt.title('Residual Plot')                                # 図のタイトル\n",
    "plt.xlabel('Predicted Values')                            # x軸のラベル\n",
    "plt.ylabel('Residuals')                                   # y軸のラベル\n",
    "plt.grid()                                                # グリッド線を表示\n",
    "\n",
    "\n",
    "ax3 = fig.add_subplot(3, 1, 3)\n",
    "features = x_train.columns\n",
    "importances = rf_best_model.feature_importances_\n",
    "indices = np.argsort(importances)\n",
    "plt.barh(range(len(indices)),importances[indices],align='center')\n",
    "plt.yticks(range(len(indices)), features[indices])\n",
    "plt.title(\"feature_importances\")\n",
    "plt.xlabel(\"importance\")\n",
    "plt.ylabel(\"feature\")\n",
    "\n",
    "plt.show()\n"
   ]
  },
  {
   "cell_type": "code",
   "execution_count": 1251,
   "metadata": {},
   "outputs": [],
   "source": [
    "with open('grid_gbm_model.txt', mode='rb') as f:\n",
    "    gbm_best_model = pickle.load(f)"
   ]
  },
  {
   "cell_type": "code",
   "execution_count": 1252,
   "metadata": {},
   "outputs": [
    {
     "data": {
      "text/plain": [
       "array([1.22277942, 1.39262978, 1.27499404, ..., 1.29450515, 1.33540308,\n",
       "       1.33659475])"
      ]
     },
     "execution_count": 1252,
     "metadata": {},
     "output_type": "execute_result"
    }
   ],
   "source": [
    "gbm_pred = gbm_best_model.predict(x_test)\n",
    "gbm_pred"
   ]
  },
  {
   "cell_type": "code",
   "execution_count": 1253,
   "metadata": {},
   "outputs": [
    {
     "name": "stdout",
     "output_type": "stream",
     "text": [
      "モデルの平均絶対誤差は 1.0351266347368975\n",
      "モデルの決定係数は 0.03643277118695831\n"
     ]
    }
   ],
   "source": [
    "X=mean_absolute_error(y_test, gbm_pred)\n",
    "print(\"モデルの平均絶対誤差は\",X)\n",
    "Y=r2_score(y_test, gbm_pred)\n",
    "print(\"モデルの決定係数は\",Y)"
   ]
  },
  {
   "cell_type": "code",
   "execution_count": 1254,
   "metadata": {},
   "outputs": [
    {
     "data": {
      "image/png": "[encoded data removed]",
      "text/plain": [
       "<Figure size 576x1728 with 3 Axes>"
      ]
     },
     "metadata": {
      "needs_background": "light"
     },
     "output_type": "display_data"
    }
   ],
   "source": [
    "fig = plt.figure(figsize=(8,24))\n",
    "\n",
    "ax1 = fig.add_subplot(3, 1, 1)\n",
    "plt.scatter(y_test,gbm_pred,color=\"blue\")\n",
    "x = np.arange(0, 7)\n",
    "plt.plot(x,x,color=\"red\")\n",
    "plt.title(\"predicted_data & test_data\")\n",
    "plt.xlabel(\"test_data\")\n",
    "plt.ylabel(\"predicted_data\")\n",
    "\n",
    "ax2 = fig.add_subplot(3, 1, 2)\n",
    "plt.scatter(gbm_pred, gbm_pred - y_test, color = 'blue')      # 残差をプロット \n",
    "plt.hlines(y = 0, xmin = 0, xmax = 7, color = 'black') # x軸に沿った直線をプロット\n",
    "plt.title('Residual Plot')                                # 図のタイトル\n",
    "plt.xlabel('Predicted Values')                            # x軸のラベル\n",
    "plt.ylabel('Residuals')                                   # y軸のラベル\n",
    "plt.grid()                                                # グリッド線を表示\n",
    "\n",
    "\n",
    "ax3 = fig.add_subplot(3, 1, 3)\n",
    "features = x_train.columns\n",
    "importances = gbm_best_model.feature_importances_\n",
    "indices = np.argsort(importances)\n",
    "plt.barh(range(len(indices)),importances[indices],align='center')\n",
    "plt.yticks(range(len(indices)), features[indices])\n",
    "plt.title(\"feature_importances\")\n",
    "plt.xlabel(\"importance\")\n",
    "plt.ylabel(\"feature\")\n",
    "\n",
    "plt.show()"
   ]
  },
  {
   "cell_type": "code",
   "execution_count": 1255,
   "metadata": {},
   "outputs": [
    {
     "data": {
      "image/png": "[encoded data removed]",
      "text/plain": [
       "<Figure size 1440x1440 with 2 Axes>"
      ]
     },
     "metadata": {
      "needs_background": "light"
     },
     "output_type": "display_data"
    }
   ],
   "source": [
    "plt.figure(figsize=(20,20))\n",
    "corr = imp_data.corr()\n",
    "cmap = sns.color_palette(\"coolwarm\", 200)\n",
    "sns.heatmap(corr,xticklabels=corr.columns,\n",
    "            yticklabels=corr.columns,\n",
    "            square=True, \n",
    "            annot=True,\n",
    "            cmap=cmap)\n",
    "plt.show()"
   ]
  },
  {
   "cell_type": "code",
   "execution_count": 1260,
   "metadata": {},
   "outputs": [],
   "source": [
    "#テスト結果の出力\n",
    "test_predicted = gbm_model.predict(test)\n",
    "submit_df = pd.DataFrame({'y': test_predicted})\n",
    "submit_df.index.name = 'id'\n",
    "submit_df.to_csv('submission.csv')"
   ]
  },
  {
   "cell_type": "code",
   "execution_count": 1259,
   "metadata": {},
   "outputs": [],
   "source": [
    "test_X = test[['B', 'S', 'O', 'b1', 'b2', 'b3']]\n",
    "#テスト結果の出力\n",
    "test_predicted = gbm_model.predict(test)\n",
    "submit_df = pd.DataFrame({'y': test_predicted})\n",
    "submit_df.index.name = 'id'\n",
    "submit_df.to_csv('submission.csv')"
   ]
  },
  {
   "cell_type": "code",
   "execution_count": null,
   "metadata": {},
   "outputs": [],
   "source": []
  },
  {
   "cell_type": "code",
   "execution_count": null,
   "metadata": {},
   "outputs": [],
   "source": []
  }
 ],
 "metadata": {
  "colab": {
   "authorship_tag": "ABX9TyPQGTQepWPyEYi/498kk0FZ",
   "mount_file_id": "1c3Ho576UNgaujfdeswIFZkRJ10kEncPQ",
   "name": "ProbeSpaceプロ野球v2.ipynb",
   "provenance": [],
   "toc_visible": true
  },
  "kernelspec": {
   "display_name": "Python 3",
   "language": "python",
   "name": "python3"
  },
  "language_info": {
   "codemirror_mode": {
    "name": "ipython",
    "version": 3
   },
   "file_extension": ".py",
   "mimetype": "text/x-python",
   "name": "python",
   "nbconvert_exporter": "python",
   "pygments_lexer": "ipython3",
   "version": "3.8.8"
  }
 },
 "nbformat": 4,
 "nbformat_minor": 4
}
