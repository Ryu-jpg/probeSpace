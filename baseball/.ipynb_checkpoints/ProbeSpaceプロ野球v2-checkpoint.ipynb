{
 "cells": [
  {
   "cell_type": "markdown",
   "metadata": {},
   "source": [
    "# ライブラリの読み込み"
   ]
  },
  {
   "cell_type": "code",
   "execution_count": 74,
   "metadata": {},
   "outputs": [],
   "source": [
    "import pandas as pd\n",
    "import numpy as np\n",
    "import json\n",
    "import os\n",
    "import random\n",
    "import string\n",
    "import re\n",
    "\n",
    "from pathlib import Path\n",
    "from tqdm import tqdm\n",
    "\n",
    "import lightgbm as lgb\n",
    "from sklearn.model_selection import KFold,GroupKFold\n",
    "from sklearn.metrics import f1_score\n",
    "from sklearn import preprocessing\n",
    "from sklearn.preprocessing import StandardScaler\n",
    "from sklearn.decomposition import PCA\n",
    "from  sklearn.neural_network import MLPRegressor\n",
    "from  sklearn.pipeline import make_pipeline\n",
    "from tqdm import tqdm"
   ]
  },
  {
   "cell_type": "markdown",
   "metadata": {
    "id": "kTi7Is-0Uu7m"
   },
   "source": [
    "# データのロード\n",
    "まずはデータを読み込んで見ましょう。csvデータの読み込みは複数のやり方がありえますが、pandasのread_csv関数はその中でも機能が豊富で、扱いやすいためこれを使います。\n",
    "これを使うと、csvデータを読み込み、pandas.DataFrameにして返してくれます。"
   ]
  },
  {
   "cell_type": "markdown",
   "metadata": {
    "id": "oJDIjDLJWNDJ"
   },
   "source": [
    "\n",
    "```\n",
    " 8   pitcherHand         20355 non-null  object 右投げか左投げか\n",
    " 10  batterHand          20355 non-null  object 右打ちか左打ちか\n",
    " 18  dir                 3642 non-null   object 打球方向(A-Z)\n",
    " 19  dist                5166 non-null   float64 打球距離\n",
    " 20  battingType         3642 non-null   object 打球種類(B:バント, G:ゴロ, P:ポップフライ, F:フライ, L:ライナー)\n",
    " 21  isOuts              5166 non-null   object 投球結果がアウトか\n",
    "\n",
    "```\n"
   ]
  },
  {
   "cell_type": "code",
   "execution_count": null,
   "metadata": {},
   "outputs": [],
   "source": [
    "#データの読み込みと前処理"
   ]
  },
  {
   "cell_type": "code",
   "execution_count": 130,
   "metadata": {
    "colab": {
     "base_uri": "https://localhost:8080/"
    },
    "executionInfo": {
     "elapsed": 3233,
     "status": "ok",
     "timestamp": 1619347309720,
     "user": {
      "displayName": "リュウイチ",
      "photoUrl": "https://lh3.googleusercontent.com/a-/AOh14GgpfSmscxJ-11scyWjhwzMwqt6MwzUnP-eb4LKWyg=s64",
      "userId": "09516200488397919357"
     },
     "user_tz": -540
    },
    "id": "HRP_nWzSIWTG",
    "outputId": "27977b77-7a05-4bdf-d77b-eac381287098"
   },
   "outputs": [
    {
     "name": "stdout",
     "output_type": "stream",
     "text": [
      "<class 'pandas.core.frame.DataFrame'>\n",
      "RangeIndex: 20400 entries, 0 to 20399\n",
      "Data columns (total 24 columns):\n",
      " #   Column              Non-Null Count  Dtype  \n",
      "---  ------              --------------  -----  \n",
      " 0   id                  20400 non-null  int64  \n",
      " 1   totalPitchingCount  20400 non-null  int64  \n",
      " 2   B                   20400 non-null  int64  \n",
      " 3   S                   20400 non-null  int64  \n",
      " 4   O                   20400 non-null  int64  \n",
      " 5   b1                  20400 non-null  bool   \n",
      " 6   b2                  20400 non-null  bool   \n",
      " 7   b3                  20400 non-null  bool   \n",
      " 8   pitcher             20400 non-null  object \n",
      " 9   pitcherHand         20355 non-null  object \n",
      " 10  batter              20400 non-null  object \n",
      " 11  batterHand          20355 non-null  object \n",
      " 12  gameID              20400 non-null  int64  \n",
      " 13  inning              20400 non-null  object \n",
      " 14  pitchType           20400 non-null  object \n",
      " 15  speed               20400 non-null  object \n",
      " 16  ballPositionLabel   20400 non-null  object \n",
      " 17  ballX               20400 non-null  int64  \n",
      " 18  ballY               20400 non-null  object \n",
      " 19  dir                 3642 non-null   object \n",
      " 20  dist                5166 non-null   float64\n",
      " 21  battingType         3642 non-null   object \n",
      " 22  isOuts              5166 non-null   object \n",
      " 23  y                   20400 non-null  int64  \n",
      "dtypes: bool(3), float64(1), int64(8), object(12)\n",
      "memory usage: 3.3+ MB\n",
      "None\n",
      "(20400, 22)\n",
      "(33808, 13)\n",
      "   totalPitchingCount  B  S  O     b1     b2     b3  pitcher pitcherHand  \\\n",
      "0                   2  1  0  0  False  False  False    遠藤 淳志           R   \n",
      "1                   1  0  0  0  False  False  False  バンデンハーク           R   \n",
      "2                   7  3  2  2   True  False  False     スアレス           R   \n",
      "3                   1  0  0  2   True  False  False      クック           R   \n",
      "4                   2  0  0  2  False  False  False    則本 昂大           R   \n",
      "\n",
      "  batter batterHand    gameID inning  \n",
      "0   乙坂 智          L  20202564    2回表  \n",
      "1  西川 遥輝          L  20202106    3回裏  \n",
      "2  堂林 翔太          R  20203305    9回裏  \n",
      "3  井領 雅貴          L  20202650    3回裏  \n",
      "4  安達 了一          R  20202339    2回表  \n"
     ]
    }
   ],
   "source": [
    "\n",
    "import pandas as pd\n",
    "train = pd.read_csv(\"train_data.csv\")\n",
    "test = pd.read_csv(\"test_data.csv\")\n",
    "game = pd.read_csv(\"game_info.csv\")\n",
    "target = train['y']\n",
    "print(train.info())\n",
    "\n",
    "train = train.drop(['id','y'],axis=1)\n",
    "game = game.drop('Unnamed: 0',axis=1)\n",
    "test = test.drop('id',axis=1)\n",
    "print(train.shape)\n",
    "print(test.shape)\n",
    "print(test.head())"
   ]
  },
  {
   "cell_type": "code",
   "execution_count": 131,
   "metadata": {},
   "outputs": [
    {
     "data": {
      "text/plain": [
       "((20400, 22), (33808, 13), (20400,), (726, 8))"
      ]
     },
     "execution_count": 131,
     "metadata": {},
     "output_type": "execute_result"
    }
   ],
   "source": [
    "train.shape,test.shape,target.shape,game.shape"
   ]
  },
  {
   "cell_type": "code",
   "execution_count": 132,
   "metadata": {},
   "outputs": [
    {
     "name": "stdout",
     "output_type": "stream",
     "text": [
      "{'広島': 0, '中日': 1, '阪神': 2, 'ロッテ': 3, '楽天': 4, '日本ハム': 5, 'オリックス': 6, 'ソフトバンク': 7, '巨人': 8, 'DeNA': 9, 'ヤクルト': 10, '西武': 11}\n"
     ]
    }
   ],
   "source": [
    "TeamList = game['topTeam'].unique()\n",
    "TeamDic ={}\n",
    "for i in range(len(TeamList)):\n",
    "    TeamDic[TeamList[i]] = i\n",
    "print(TeamDic)\n",
    "game['bottomTeam']=game['bottomTeam'].replace(TeamDic)\n",
    "game['topTeam']=game['topTeam'].replace(TeamDic)"
   ]
  },
  {
   "cell_type": "code",
   "execution_count": 84,
   "metadata": {},
   "outputs": [
    {
     "data": {
      "text/html": [
       "<div>\n",
       "<style scoped>\n",
       "    .dataframe tbody tr th:only-of-type {\n",
       "        vertical-align: middle;\n",
       "    }\n",
       "\n",
       "    .dataframe tbody tr th {\n",
       "        vertical-align: top;\n",
       "    }\n",
       "\n",
       "    .dataframe thead th {\n",
       "        text-align: right;\n",
       "    }\n",
       "</style>\n",
       "<table border=\"1\" class=\"dataframe\">\n",
       "  <thead>\n",
       "    <tr style=\"text-align: right;\">\n",
       "      <th></th>\n",
       "      <th>startTime</th>\n",
       "      <th>bottomTeam</th>\n",
       "      <th>bgBottom</th>\n",
       "      <th>topTeam</th>\n",
       "      <th>place</th>\n",
       "      <th>startDayTime</th>\n",
       "      <th>bgTop</th>\n",
       "      <th>gameID</th>\n",
       "    </tr>\n",
       "  </thead>\n",
       "  <tbody>\n",
       "    <tr>\n",
       "      <th>0</th>\n",
       "      <td>18:00</td>\n",
       "      <td>9</td>\n",
       "      <td>3</td>\n",
       "      <td>0</td>\n",
       "      <td>横浜</td>\n",
       "      <td>2020-06-19 18:00:00</td>\n",
       "      <td>6</td>\n",
       "      <td>20202173</td>\n",
       "    </tr>\n",
       "    <tr>\n",
       "      <th>1</th>\n",
       "      <td>18:00</td>\n",
       "      <td>10</td>\n",
       "      <td>2</td>\n",
       "      <td>1</td>\n",
       "      <td>神宮</td>\n",
       "      <td>2020-06-19 18:00:00</td>\n",
       "      <td>4</td>\n",
       "      <td>20202174</td>\n",
       "    </tr>\n",
       "    <tr>\n",
       "      <th>2</th>\n",
       "      <td>18:00</td>\n",
       "      <td>8</td>\n",
       "      <td>1</td>\n",
       "      <td>2</td>\n",
       "      <td>東京ドーム</td>\n",
       "      <td>2020-06-19 18:00:00</td>\n",
       "      <td>5</td>\n",
       "      <td>20202175</td>\n",
       "    </tr>\n",
       "    <tr>\n",
       "      <th>3</th>\n",
       "      <td>18:00</td>\n",
       "      <td>7</td>\n",
       "      <td>12</td>\n",
       "      <td>3</td>\n",
       "      <td>PayPayドーム</td>\n",
       "      <td>2020-06-19 18:00:00</td>\n",
       "      <td>9</td>\n",
       "      <td>20202170</td>\n",
       "    </tr>\n",
       "    <tr>\n",
       "      <th>4</th>\n",
       "      <td>18:00</td>\n",
       "      <td>6</td>\n",
       "      <td>11</td>\n",
       "      <td>4</td>\n",
       "      <td>京セラD大阪</td>\n",
       "      <td>2020-06-19 18:00:00</td>\n",
       "      <td>10</td>\n",
       "      <td>20202171</td>\n",
       "    </tr>\n",
       "  </tbody>\n",
       "</table>\n",
       "</div>"
      ],
      "text/plain": [
       "  startTime  bottomTeam  bgBottom  topTeam      place         startDayTime  \\\n",
       "0     18:00           9         3        0         横浜  2020-06-19 18:00:00   \n",
       "1     18:00          10         2        1         神宮  2020-06-19 18:00:00   \n",
       "2     18:00           8         1        2      東京ドーム  2020-06-19 18:00:00   \n",
       "3     18:00           7        12        3  PayPayドーム  2020-06-19 18:00:00   \n",
       "4     18:00           6        11        4     京セラD大阪  2020-06-19 18:00:00   \n",
       "\n",
       "   bgTop    gameID  \n",
       "0      6  20202173  \n",
       "1      4  20202174  \n",
       "2      5  20202175  \n",
       "3      9  20202170  \n",
       "4     10  20202171  "
      ]
     },
     "execution_count": 84,
     "metadata": {},
     "output_type": "execute_result"
    }
   ],
   "source": [
    "game.head()"
   ]
  },
  {
   "cell_type": "code",
   "execution_count": 133,
   "metadata": {},
   "outputs": [],
   "source": [
    "# 年月日、曜日、時分秒を追加\n",
    "game['startDayTime'] = pd.to_datetime(game['startDayTime']) # 型を変換\n",
    "game['year']=game[\"startDayTime\"].dt.year\n",
    "game['month']=game[\"startDayTime\"].dt.month\n",
    "game['day']=game[\"startDayTime\"].dt.day\n",
    "game['hour']=game[\"startDayTime\"].dt.hour\n",
    "game['dayofweek']=game[\"startDayTime\"].dt.dayofweek\n",
    "game['minute']=game[\"startDayTime\"].dt.minute\n",
    "game['second']=game[\"startDayTime\"].dt.second\n",
    "# 'startDayTime'を削除\n",
    "game = game.drop(['startDayTime'],axis=1)"
   ]
  },
  {
   "cell_type": "code",
   "execution_count": 86,
   "metadata": {},
   "outputs": [],
   "source": [
    "# データ保管"
   ]
  },
  {
   "cell_type": "code",
   "execution_count": 134,
   "metadata": {
    "colab": {
     "base_uri": "https://localhost:8080/",
     "height": 210
    },
    "executionInfo": {
     "elapsed": 715,
     "status": "ok",
     "timestamp": 1619319992033,
     "user": {
      "displayName": "リュウイチ",
      "photoUrl": "https://lh3.googleusercontent.com/a-/AOh14GgpfSmscxJ-11scyWjhwzMwqt6MwzUnP-eb4LKWyg=s64",
      "userId": "09516200488397919357"
     },
     "user_tz": -540
    },
    "id": "3uwlC2nm5nOn",
    "outputId": "b07e6f43-84b8-4acd-de60-149fcb8fca8d"
   },
   "outputs": [],
   "source": [
    "# 訓練データの球速を他の特徴量から予測できるように仮の目的変数とする。\n",
    "# 欠損値は直前の値を入れて補完\n",
    "target_speed = train['speed'].str.extract(r'(\\d+)').fillna(method='ffill')"
   ]
  },
  {
   "cell_type": "code",
   "execution_count": 135,
   "metadata": {},
   "outputs": [],
   "source": [
    "# 訓練データのみにある列名（テストデータにはない列名）のリストを作成\n",
    "delcollist = []\n",
    "for col in train.columns:\n",
    "  if not col in test.columns:\n",
    "    delcollist.append(col)\n",
    "# 訓練データのみにある列名を削除\n",
    "train = train.drop(delcollist,axis=1)"
   ]
  },
  {
   "cell_type": "code",
   "execution_count": 138,
   "metadata": {},
   "outputs": [],
   "source": [
    "# inning を　数値に変換\n",
    "import re\n",
    "train['inning_num'] =  train['inning'].apply(lambda x: re.sub(\"\\\\D\", \"\", x))\n",
    "test['inning_num'] =  test['inning'].apply(lambda x: re.sub(\"\\\\D\", \"\", x))"
   ]
  },
  {
   "cell_type": "code",
   "execution_count": 139,
   "metadata": {},
   "outputs": [],
   "source": [
    "\n",
    "# 表裏を判定する関数\n",
    "def omote_ura(x):\n",
    "  if '表' in x:\n",
    "    return 0\n",
    "  else:\n",
    "    return 1\n",
    "# 表裏の列を追加\n",
    "train['inning_ForB'] =  train['inning'].apply(lambda x: omote_ura(x))\n",
    "test['inning_ForB'] =  test['inning'].apply(lambda x: omote_ura(x))"
   ]
  },
  {
   "cell_type": "code",
   "execution_count": 140,
   "metadata": {
    "colab": {
     "base_uri": "https://localhost:8080/",
     "height": 289
    },
    "executionInfo": {
     "elapsed": 908,
     "status": "ok",
     "timestamp": 1619347320175,
     "user": {
      "displayName": "リュウイチ",
      "photoUrl": "https://lh3.googleusercontent.com/a-/AOh14GgpfSmscxJ-11scyWjhwzMwqt6MwzUnP-eb4LKWyg=s64",
      "userId": "09516200488397919357"
     },
     "user_tz": -540
    },
    "id": "ESMlUlcWwfLI",
    "outputId": "93c1fb3d-e779-4c9d-efb5-4c9d07cb8e79"
   },
   "outputs": [
    {
     "data": {
      "text/html": [
       "<div>\n",
       "<style scoped>\n",
       "    .dataframe tbody tr th:only-of-type {\n",
       "        vertical-align: middle;\n",
       "    }\n",
       "\n",
       "    .dataframe tbody tr th {\n",
       "        vertical-align: top;\n",
       "    }\n",
       "\n",
       "    .dataframe thead th {\n",
       "        text-align: right;\n",
       "    }\n",
       "</style>\n",
       "<table border=\"1\" class=\"dataframe\">\n",
       "  <thead>\n",
       "    <tr style=\"text-align: right;\">\n",
       "      <th></th>\n",
       "      <th>totalPitchingCount</th>\n",
       "      <th>B</th>\n",
       "      <th>S</th>\n",
       "      <th>O</th>\n",
       "      <th>b1</th>\n",
       "      <th>b2</th>\n",
       "      <th>b3</th>\n",
       "      <th>pitcher</th>\n",
       "      <th>pitcherHand</th>\n",
       "      <th>batter</th>\n",
       "      <th>batterHand</th>\n",
       "      <th>gameID</th>\n",
       "      <th>inning</th>\n",
       "      <th>inning_num</th>\n",
       "      <th>inning_ForB</th>\n",
       "    </tr>\n",
       "  </thead>\n",
       "  <tbody>\n",
       "    <tr>\n",
       "      <th>0</th>\n",
       "      <td>2</td>\n",
       "      <td>1</td>\n",
       "      <td>0</td>\n",
       "      <td>0</td>\n",
       "      <td>False</td>\n",
       "      <td>False</td>\n",
       "      <td>False</td>\n",
       "      <td>遠藤 淳志</td>\n",
       "      <td>R</td>\n",
       "      <td>乙坂 智</td>\n",
       "      <td>L</td>\n",
       "      <td>20202564</td>\n",
       "      <td>2回表</td>\n",
       "      <td>2</td>\n",
       "      <td>0</td>\n",
       "    </tr>\n",
       "    <tr>\n",
       "      <th>1</th>\n",
       "      <td>1</td>\n",
       "      <td>0</td>\n",
       "      <td>0</td>\n",
       "      <td>0</td>\n",
       "      <td>False</td>\n",
       "      <td>False</td>\n",
       "      <td>False</td>\n",
       "      <td>バンデンハーク</td>\n",
       "      <td>R</td>\n",
       "      <td>西川 遥輝</td>\n",
       "      <td>L</td>\n",
       "      <td>20202106</td>\n",
       "      <td>3回裏</td>\n",
       "      <td>3</td>\n",
       "      <td>1</td>\n",
       "    </tr>\n",
       "    <tr>\n",
       "      <th>2</th>\n",
       "      <td>7</td>\n",
       "      <td>3</td>\n",
       "      <td>2</td>\n",
       "      <td>2</td>\n",
       "      <td>True</td>\n",
       "      <td>False</td>\n",
       "      <td>False</td>\n",
       "      <td>スアレス</td>\n",
       "      <td>R</td>\n",
       "      <td>堂林 翔太</td>\n",
       "      <td>R</td>\n",
       "      <td>20203305</td>\n",
       "      <td>9回裏</td>\n",
       "      <td>9</td>\n",
       "      <td>1</td>\n",
       "    </tr>\n",
       "    <tr>\n",
       "      <th>3</th>\n",
       "      <td>1</td>\n",
       "      <td>0</td>\n",
       "      <td>0</td>\n",
       "      <td>2</td>\n",
       "      <td>True</td>\n",
       "      <td>False</td>\n",
       "      <td>False</td>\n",
       "      <td>クック</td>\n",
       "      <td>R</td>\n",
       "      <td>井領 雅貴</td>\n",
       "      <td>L</td>\n",
       "      <td>20202650</td>\n",
       "      <td>3回裏</td>\n",
       "      <td>3</td>\n",
       "      <td>1</td>\n",
       "    </tr>\n",
       "    <tr>\n",
       "      <th>4</th>\n",
       "      <td>2</td>\n",
       "      <td>0</td>\n",
       "      <td>0</td>\n",
       "      <td>2</td>\n",
       "      <td>False</td>\n",
       "      <td>False</td>\n",
       "      <td>False</td>\n",
       "      <td>則本 昂大</td>\n",
       "      <td>R</td>\n",
       "      <td>安達 了一</td>\n",
       "      <td>R</td>\n",
       "      <td>20202339</td>\n",
       "      <td>2回表</td>\n",
       "      <td>2</td>\n",
       "      <td>0</td>\n",
       "    </tr>\n",
       "  </tbody>\n",
       "</table>\n",
       "</div>"
      ],
      "text/plain": [
       "   totalPitchingCount  B  S  O     b1     b2     b3  pitcher pitcherHand  \\\n",
       "0                   2  1  0  0  False  False  False    遠藤 淳志           R   \n",
       "1                   1  0  0  0  False  False  False  バンデンハーク           R   \n",
       "2                   7  3  2  2   True  False  False     スアレス           R   \n",
       "3                   1  0  0  2   True  False  False      クック           R   \n",
       "4                   2  0  0  2  False  False  False    則本 昂大           R   \n",
       "\n",
       "  batter batterHand    gameID inning inning_num  inning_ForB  \n",
       "0   乙坂 智          L  20202564    2回表          2            0  \n",
       "1  西川 遥輝          L  20202106    3回裏          3            1  \n",
       "2  堂林 翔太          R  20203305    9回裏          9            1  \n",
       "3  井領 雅貴          L  20202650    3回裏          3            1  \n",
       "4  安達 了一          R  20202339    2回表          2            0  "
      ]
     },
     "execution_count": 140,
     "metadata": {},
     "output_type": "execute_result"
    }
   ],
   "source": [
    "test.head()\n",
    "#train.head()\n",
    "#test.info()\n",
    "#train.info()"
   ]
  },
  {
   "cell_type": "code",
   "execution_count": 141,
   "metadata": {},
   "outputs": [],
   "source": [
    "# 表裏の列を追加\n",
    "train['inning_ForB'] =  train['inning'].apply(lambda x: omote_ura(x))\n",
    "test['inning_ForB'] =  test['inning'].apply(lambda x: omote_ura(x))"
   ]
  },
  {
   "cell_type": "code",
   "execution_count": 142,
   "metadata": {},
   "outputs": [],
   "source": [
    "# game_infoの追加\n",
    "train = pd.merge(train, game, how='left')\n",
    "test = pd.merge(test, game, how='left')"
   ]
  },
  {
   "cell_type": "code",
   "execution_count": 143,
   "metadata": {},
   "outputs": [],
   "source": [
    "# inningの削除\n",
    "train = train.drop('inning',axis=1)\n",
    "test = test.drop('inning',axis=1)"
   ]
  },
  {
   "cell_type": "code",
   "execution_count": 144,
   "metadata": {},
   "outputs": [],
   "source": [
    "# ボール、ストライク、アウトの合計値を追加\n",
    "train['total_stat'] = train['B']+train['S']+train['O']\n",
    "test['total_stat'] = test['B']+test['S']+test['O']\n",
    "train['B_S'] = train['B']+train['S']\n",
    "test['B_S'] = test['B']+test['S']"
   ]
  },
  {
   "cell_type": "code",
   "execution_count": 145,
   "metadata": {},
   "outputs": [],
   "source": [
    "# ベース上のランナーの数を追加\n",
    "train['total_base'] = train['b1'].astype('int')+train['b2'].astype('int')+train['b3'].astype('int')\n",
    "test['total_base'] = test['b1'].astype('int')+test['b2'].astype('int')+test['b3'].astype('int')"
   ]
  },
  {
   "cell_type": "code",
   "execution_count": 146,
   "metadata": {},
   "outputs": [],
   "source": [
    "# バッターのチームを追加\n",
    "train['batterTeam'] = train['topTeam']\n",
    "train['batterTeam'] = train['batterTeam'].where(train['inning_ForB']==1, train['bottomTeam'])\n",
    "test['batterTeam'] = test['topTeam']\n",
    "test['batterTeam'] = test['batterTeam'].where(test['inning_ForB']==1, test['bottomTeam'])"
   ]
  },
  {
   "cell_type": "code",
   "execution_count": 147,
   "metadata": {},
   "outputs": [],
   "source": [
    "# ピッチャーのチームを追加\n",
    "train['pitcherTeam'] = train['topTeam']\n",
    "train['pitcherTeam'] = train['pitcherTeam'].where(train['inning_ForB']==0, train['bottomTeam'])\n",
    "test['pitcherTeam'] = test['topTeam']\n",
    "test['pitcherTeam'] = test['pitcherTeam'].where(test['inning_ForB']==0, test['bottomTeam'])"
   ]
  },
  {
   "cell_type": "code",
   "execution_count": 148,
   "metadata": {},
   "outputs": [
    {
     "name": "stdout",
     "output_type": "stream",
     "text": [
      "<class 'pandas.core.frame.DataFrame'>\n",
      "Int64Index: 20400 entries, 0 to 20399\n",
      "Data columns (total 32 columns):\n",
      " #   Column              Non-Null Count  Dtype \n",
      "---  ------              --------------  ----- \n",
      " 0   totalPitchingCount  20400 non-null  int64 \n",
      " 1   B                   20400 non-null  int64 \n",
      " 2   S                   20400 non-null  int64 \n",
      " 3   O                   20400 non-null  int64 \n",
      " 4   b1                  20400 non-null  bool  \n",
      " 5   b2                  20400 non-null  bool  \n",
      " 6   b3                  20400 non-null  bool  \n",
      " 7   pitcher             20400 non-null  object\n",
      " 8   pitcherHand         20355 non-null  object\n",
      " 9   batter              20400 non-null  object\n",
      " 10  batterHand          20355 non-null  object\n",
      " 11  gameID              20400 non-null  int64 \n",
      " 12  inning_num          20400 non-null  object\n",
      " 13  inning_ForB         20400 non-null  int64 \n",
      " 14  startTime           20400 non-null  object\n",
      " 15  bottomTeam          20400 non-null  int64 \n",
      " 16  bgBottom            20400 non-null  int64 \n",
      " 17  topTeam             20400 non-null  int64 \n",
      " 18  place               20400 non-null  object\n",
      " 19  bgTop               20400 non-null  int64 \n",
      " 20  year                20400 non-null  int64 \n",
      " 21  month               20400 non-null  int64 \n",
      " 22  day                 20400 non-null  int64 \n",
      " 23  hour                20400 non-null  int64 \n",
      " 24  dayofweek           20400 non-null  int64 \n",
      " 25  minute              20400 non-null  int64 \n",
      " 26  second              20400 non-null  int64 \n",
      " 27  total_stat          20400 non-null  int64 \n",
      " 28  B_S                 20400 non-null  int64 \n",
      " 29  total_base          20400 non-null  int32 \n",
      " 30  batterTeam          20400 non-null  int64 \n",
      " 31  pitcherTeam         20400 non-null  int64 \n",
      "dtypes: bool(3), int32(1), int64(21), object(7)\n",
      "memory usage: 4.6+ MB\n"
     ]
    }
   ],
   "source": [
    "train.info()"
   ]
  },
  {
   "cell_type": "code",
   "execution_count": 149,
   "metadata": {},
   "outputs": [],
   "source": [
    "# カテゴリカル変数のカラムを抽出\n",
    "categorical_columns = [x for x in train.columns if train[x].dtypes == 'object']"
   ]
  },
  {
   "cell_type": "code",
   "execution_count": 150,
   "metadata": {},
   "outputs": [],
   "source": [
    "# カテゴリカル変数をカウントエンコードする\n",
    "#!pip install --user git+https://github.com/pfnet-research/xfeat.git\n",
    "from xfeat import CountEncoder\n",
    "\n",
    "encoder = CountEncoder(input_cols=categorical_columns)\n",
    "train = encoder.fit_transform(train)\n",
    "test = encoder.transform(test)"
   ]
  },
  {
   "cell_type": "code",
   "execution_count": 151,
   "metadata": {},
   "outputs": [],
   "source": [
    "# 訓練データにターゲット列を追加する\n",
    "train['target'] = target"
   ]
  },
  {
   "cell_type": "code",
   "execution_count": 152,
   "metadata": {
    "colab": {
     "base_uri": "https://localhost:8080/"
    },
    "executionInfo": {
     "elapsed": 1129,
     "status": "ok",
     "timestamp": 1619347323900,
     "user": {
      "displayName": "リュウイチ",
      "photoUrl": "https://lh3.googleusercontent.com/a-/AOh14GgpfSmscxJ-11scyWjhwzMwqt6MwzUnP-eb4LKWyg=s64",
      "userId": "09516200488397919357"
     },
     "user_tz": -540
    },
    "id": "OV12HYAXPwef",
    "outputId": "3bae85f5-76da-46d2-aaac-abab59bc294f"
   },
   "outputs": [
    {
     "name": "stdout",
     "output_type": "stream",
     "text": [
      "       totalPitchingCount  B  S  O     b1     b2     b3 pitcher pitcherHand  \\\n",
      "0                       1  0  0  0  False  False  False   今永 昇太           L   \n",
      "1                       2  1  0  0  False  False  False   今永 昇太           L   \n",
      "2                       3  1  1  0  False  False  False   今永 昇太           L   \n",
      "3                       4  2  1  0  False  False  False   今永 昇太           L   \n",
      "4                       5  2  2  0  False  False  False   今永 昇太           L   \n",
      "...                   ... .. .. ..    ...    ...    ...     ...         ...   \n",
      "17131                   2  1  0  2  False  False  False    森 唯斗           R   \n",
      "17132                   3  1  1  2  False  False  False    森 唯斗           R   \n",
      "17133                   4  2  1  2  False  False  False    森 唯斗           R   \n",
      "17134                   5  2  2  2  False  False  False    森 唯斗           R   \n",
      "17135                   6  3  2  2  False  False  False    森 唯斗           R   \n",
      "\n",
      "      batter  ... batterTeam  pitcherTeam pitcher_ce  pitcherHand_ce  \\\n",
      "0        ピレラ  ...          9            0        207            5944   \n",
      "1        ピレラ  ...          9            0        207            5944   \n",
      "2        ピレラ  ...          9            0        207            5944   \n",
      "3        ピレラ  ...          9            0        207            5944   \n",
      "4        ピレラ  ...          9            0        207            5944   \n",
      "...      ...  ...        ...          ...        ...             ...   \n",
      "17131  大田 泰示  ...          7            5         82           14411   \n",
      "17132  大田 泰示  ...          7            5         82           14411   \n",
      "17133  大田 泰示  ...          7            5         82           14411   \n",
      "17134  大田 泰示  ...          7            5         82           14411   \n",
      "17135  大田 泰示  ...          7            5         82           14411   \n",
      "\n",
      "      batter_ce  batterHand_ce  inning_num_ce  startTime_ce place_ce  target  \n",
      "0           161          10758           2396         12277     2897       0  \n",
      "1           161          10758           2396         12277     2897       1  \n",
      "2           161          10758           2396         12277     2897       0  \n",
      "3           161          10758           2396         12277     2897       2  \n",
      "4           161          10758           2396         12277     2897       4  \n",
      "...         ...            ...            ...           ...      ...     ...  \n",
      "17131       204          10758           1701         12277      486       2  \n",
      "17132       204          10758           1701         12277      486       0  \n",
      "17133       204          10758           1701         12277      486       1  \n",
      "17134       204          10758           1701         12277      486       0  \n",
      "17135       204          10758           1701         12277      486       1  \n",
      "\n",
      "[17136 rows x 40 columns]\n"
     ]
    }
   ],
   "source": [
    "#重複データの表示\n",
    "#print(train[train_data.duplicated()])\n",
    "\n",
    "#重複データの削除\n",
    "#2040-3264=\n",
    "train = train.drop_duplicates()\n",
    "print(train)"
   ]
  },
  {
   "cell_type": "code",
   "execution_count": 153,
   "metadata": {},
   "outputs": [],
   "source": [
    "# カテゴリカル変数をターゲットエンコーディングする\n",
    "from sklearn.model_selection import KFold\n",
    "from xfeat import TargetEncoder\n",
    "\n",
    "fold = KFold(n_splits=5, shuffle=True, random_state=42)\n",
    "encoder = TargetEncoder(input_cols=categorical_columns,\n",
    "                        target_col='target',\n",
    "                        fold=fold)\n",
    "train = encoder.fit_transform(train)\n",
    "test = encoder.transform(test)"
   ]
  },
  {
   "cell_type": "code",
   "execution_count": 154,
   "metadata": {
    "colab": {
     "base_uri": "https://localhost:8080/"
    },
    "executionInfo": {
     "elapsed": 1371,
     "status": "ok",
     "timestamp": 1619318444353,
     "user": {
      "displayName": "リュウイチ",
      "photoUrl": "https://lh3.googleusercontent.com/a-/AOh14GgpfSmscxJ-11scyWjhwzMwqt6MwzUnP-eb4LKWyg=s64",
      "userId": "09516200488397919357"
     },
     "user_tz": -540
    },
    "id": "oSXebNBtRviI",
    "outputId": "e4013f70-b5ec-44ae-d2ab-118885397598"
   },
   "outputs": [
    {
     "name": "stdout",
     "output_type": "stream",
     "text": [
      "(17136, 47)\n"
     ]
    }
   ],
   "source": [
    "print(train.shape)"
   ]
  },
  {
   "cell_type": "code",
   "execution_count": 155,
   "metadata": {},
   "outputs": [],
   "source": [
    "# エンコーディング前の列を削除する\n",
    "train = train.drop(categorical_columns,axis=1)\n",
    "test = test.drop(categorical_columns,axis=1)"
   ]
  },
  {
   "cell_type": "code",
   "execution_count": 156,
   "metadata": {},
   "outputs": [],
   "source": [
    "# ターゲット列を削除\n",
    "train = train.drop('target',axis=1)"
   ]
  },
  {
   "cell_type": "code",
   "execution_count": 157,
   "metadata": {},
   "outputs": [
    {
     "name": "stdout",
     "output_type": "stream",
     "text": [
      "<class 'pandas.core.frame.DataFrame'>\n",
      "Int64Index: 17136 entries, 0 to 17135\n",
      "Data columns (total 39 columns):\n",
      " #   Column              Non-Null Count  Dtype  \n",
      "---  ------              --------------  -----  \n",
      " 0   totalPitchingCount  17136 non-null  int64  \n",
      " 1   B                   17136 non-null  int64  \n",
      " 2   S                   17136 non-null  int64  \n",
      " 3   O                   17136 non-null  int64  \n",
      " 4   b1                  17136 non-null  bool   \n",
      " 5   b2                  17136 non-null  bool   \n",
      " 6   b3                  17136 non-null  bool   \n",
      " 7   gameID              17136 non-null  int64  \n",
      " 8   inning_ForB         17136 non-null  int64  \n",
      " 9   bottomTeam          17136 non-null  int64  \n",
      " 10  bgBottom            17136 non-null  int64  \n",
      " 11  topTeam             17136 non-null  int64  \n",
      " 12  bgTop               17136 non-null  int64  \n",
      " 13  year                17136 non-null  int64  \n",
      " 14  month               17136 non-null  int64  \n",
      " 15  day                 17136 non-null  int64  \n",
      " 16  hour                17136 non-null  int64  \n",
      " 17  dayofweek           17136 non-null  int64  \n",
      " 18  minute              17136 non-null  int64  \n",
      " 19  second              17136 non-null  int64  \n",
      " 20  total_stat          17136 non-null  int64  \n",
      " 21  B_S                 17136 non-null  int64  \n",
      " 22  total_base          17136 non-null  int32  \n",
      " 23  batterTeam          17136 non-null  int64  \n",
      " 24  pitcherTeam         17136 non-null  int64  \n",
      " 25  pitcher_ce          17136 non-null  int64  \n",
      " 26  pitcherHand_ce      17136 non-null  int64  \n",
      " 27  batter_ce           17136 non-null  int64  \n",
      " 28  batterHand_ce       17136 non-null  int64  \n",
      " 29  inning_num_ce       17136 non-null  int64  \n",
      " 30  startTime_ce        17136 non-null  int64  \n",
      " 31  place_ce            17136 non-null  int64  \n",
      " 32  pitcher_te          17136 non-null  float64\n",
      " 33  pitcherHand_te      17136 non-null  float64\n",
      " 34  batter_te           17136 non-null  float64\n",
      " 35  batterHand_te       17136 non-null  float64\n",
      " 36  inning_num_te       17136 non-null  float64\n",
      " 37  startTime_te        17136 non-null  float64\n",
      " 38  place_te            17136 non-null  float64\n",
      "dtypes: bool(3), float64(7), int32(1), int64(28)\n",
      "memory usage: 4.8 MB\n"
     ]
    }
   ],
   "source": [
    "train.info()"
   ]
  },
  {
   "cell_type": "code",
   "execution_count": 158,
   "metadata": {},
   "outputs": [],
   "source": [
    "# pivot tabel を用いた特徴量を追加する関数\n",
    "def get_game_id_vecs_features(input_df):\n",
    "    _input_df = input_df\n",
    "    # pivot table\n",
    "    stat_df = pd.pivot_table(_input_df, index=\"gameID\", columns=\"batter_te\", values=\"total_stat\").add_prefix(\"total_stat=\")\n",
    "    base_df = pd.pivot_table(_input_df, index=\"gameID\", columns=\"batter_te\", values=\"total_base\").add_prefix(\"total_base=\")\n",
    "    inning_df = pd.pivot_table(_input_df, index=\"gameID\", columns=\"batter_te\", values=\"inning_num_ce\").add_prefix(\"inning=\")\n",
    "    all_df = pd.concat([stat_df, base_df, inning_df], axis=1)\n",
    "    \n",
    "    # PCA all \n",
    "    sc_all_df = StandardScaler().fit_transform(all_df.fillna(0))\n",
    "    pca = PCA(n_components=59, random_state=2021)\n",
    "    pca_all_df = pd.DataFrame(pca.fit_transform(sc_all_df), index=all_df.index).rename(columns=lambda x: f\"gameID_all_PCA={x:03}\")\n",
    "    # PCA Stat\n",
    "    sc_stat_df = StandardScaler().fit_transform(stat_df.fillna(0))\n",
    "    pca = PCA(n_components=16, random_state=2021)\n",
    "    pca_stat_df = pd.DataFrame(pca.fit_transform(sc_stat_df), index=all_df.index).rename(columns=lambda x: f\"gameID_stat_PCA={x:03}\")\n",
    "    # PCA bace\n",
    "    sc_base_df = StandardScaler().fit_transform(base_df.fillna(0))\n",
    "    pca = PCA(n_components=16, random_state=2021)\n",
    "    pca_base_df = pd.DataFrame(pca.fit_transform(sc_base_df), index=all_df.index).rename(columns=lambda x: f\"gameID_base_PCA={x:03}\")\n",
    "    # PCA inning\n",
    "    sc_inning_df = StandardScaler().fit_transform(inning_df.fillna(0))\n",
    "    pca = PCA(n_components=16, random_state=2021)\n",
    "    pca_inning_df = pd.DataFrame(pca.fit_transform(sc_inning_df), index=all_df.index).rename(columns=lambda x: f\"gameID_inning_PCA={x:03}\")\n",
    "    \n",
    "    df = pd.concat([all_df, pca_all_df, pca_stat_df, pca_base_df, pca_inning_df], axis=1)\n",
    "    output_df = pd.merge(_input_df[[\"gameID\"]], df, left_on=\"gameID\", right_index=True, how=\"left\")\n",
    "    return output_df"
   ]
  },
  {
   "cell_type": "code",
   "execution_count": 159,
   "metadata": {},
   "outputs": [],
   "source": [
    "# 訓練データとテストデータを結合する\n",
    "input_df = pd.concat([train, test]).reset_index(drop=True)  # use concat data"
   ]
  },
  {
   "cell_type": "code",
   "execution_count": 160,
   "metadata": {},
   "outputs": [],
   "source": [
    "#　ピボットデータを作成する\n",
    "output_df = get_game_id_vecs_features(input_df)"
   ]
  },
  {
   "cell_type": "code",
   "execution_count": 161,
   "metadata": {},
   "outputs": [],
   "source": [
    "# ピボットデータを訓練データとテストデータに分割する\n",
    "train_x = output_df.iloc[:len(train)]\n",
    "test_x = output_df.iloc[len(train):].reset_index(drop=True)"
   ]
  },
  {
   "cell_type": "code",
   "execution_count": 162,
   "metadata": {},
   "outputs": [
    {
     "data": {
      "text/plain": [
       "((17136, 2685), (33808, 2685), (17136, 39), (33808, 39), (20400,), (20400, 1))"
      ]
     },
     "execution_count": 162,
     "metadata": {},
     "output_type": "execute_result"
    }
   ],
   "source": [
    "train_x.shape,test_x.shape,train.shape,test.shape,target.shape,target_speed.shape"
   ]
  },
  {
   "cell_type": "code",
   "execution_count": 163,
   "metadata": {},
   "outputs": [
    {
     "data": {
      "text/plain": [
       "(50944, 2724)"
      ]
     },
     "execution_count": 163,
     "metadata": {},
     "output_type": "execute_result"
    }
   ],
   "source": [
    "# 元データとピボットデータを結合する\n",
    "input_all_df = pd.concat([input_df,output_df],axis=1)\n",
    "input_all_df.shape"
   ]
  },
  {
   "cell_type": "code",
   "execution_count": 164,
   "metadata": {},
   "outputs": [],
   "source": [
    "# null のカラムの確認\n",
    "nul_sum = input_all_df.isnull().sum()\n",
    "null_cols = list(nul_sum[nul_sum > 0].index)\n",
    "\n",
    "# null があるカラムの削除\n",
    "input_all_df = input_all_df.drop(null_cols,axis=1)"
   ]
  },
  {
   "cell_type": "code",
   "execution_count": 165,
   "metadata": {},
   "outputs": [
    {
     "name": "stdout",
     "output_type": "stream",
     "text": [
      "145\n",
      "(50944, 145)\n"
     ]
    }
   ],
   "source": [
    "from sklearn.model_selection import train_test_split\n",
    "from sklearn.feature_selection import VarianceThreshold\n",
    "\n",
    "# 分散が0（すべて同じ値）のカラムの探索\n",
    "sel = VarianceThreshold(threshold=0)\n",
    "sel.fit(input_all_df)\n",
    "\n",
    "# get_supportで分散が0でないカラムのみをTrue値、分散が0のカラムはFalse値を返します\n",
    "print(sum(sel.get_support()))\n",
    "\n",
    "# 分散が0のカラムを削除\n",
    "input_all_df =input_all_df.loc[:, sel.get_support()]\n",
    "print(input_all_df.shape)"
   ]
  },
  {
   "cell_type": "code",
   "execution_count": 166,
   "metadata": {},
   "outputs": [
    {
     "name": "stdout",
     "output_type": "stream",
     "text": [
      "1\n",
      "(50944, 143)\n"
     ]
    }
   ],
   "source": [
    "# indexとcolumnsを入れ替える\n",
    "input_all_df_T = input_all_df.T\n",
    "\n",
    "print(input_all_df_T.duplicated().sum())\n",
    "\n",
    "# 同じ特徴量の名前を取得\n",
    "duplicated_features = input_all_df_T[input_all_df_T.duplicated()].index.values\n",
    "\n",
    "# 値が同じ特徴量の片方を削除\n",
    "input_all_df = input_all_df.drop(duplicated_features,axis=1)\n",
    "\n",
    "print(input_all_df.shape)"
   ]
  },
  {
   "cell_type": "code",
   "execution_count": 167,
   "metadata": {},
   "outputs": [],
   "source": [
    "# テストデータと訓練データに分ける\n",
    "X_train = input_all_df.iloc[:len(train)]\n",
    "X_test = input_all_df.iloc[len(train):].reset_index(drop=True)"
   ]
  },
  {
   "cell_type": "code",
   "execution_count": 168,
   "metadata": {},
   "outputs": [
    {
     "data": {
      "text/plain": [
       "((17136, 143), (33808, 143))"
      ]
     },
     "execution_count": 168,
     "metadata": {},
     "output_type": "execute_result"
    }
   ],
   "source": [
    "X_train.shape,X_test.shape"
   ]
  },
  {
   "cell_type": "code",
   "execution_count": 169,
   "metadata": {},
   "outputs": [],
   "source": [
    "# 作成した特徴量のデータを保存しておく\n",
    "X_train.to_csv('features/preprocessed_train.csv',index=False)\n",
    "X_test.to_csv('features/preprocessed_test.csv',index=False)\n",
    "target.to_csv('features/preprocessed_target.csv',index=False)\n",
    "target_speed.to_csv('features/preprocessed_speed.csv',index=False)"
   ]
  },
  {
   "cell_type": "code",
   "execution_count": 170,
   "metadata": {},
   "outputs": [],
   "source": [
    "SEED = 42\n",
    "NFOLDS = 5"
   ]
  },
  {
   "cell_type": "code",
   "execution_count": 171,
   "metadata": {},
   "outputs": [],
   "source": [
    "# speed のデータを１次元に変換\n",
    "target_speed = target_speed.to_numpy().reshape(-1,)"
   ]
  },
  {
   "cell_type": "code",
   "execution_count": 172,
   "metadata": {},
   "outputs": [],
   "source": [
    "#ニューラルネットを作成する関数定義\n",
    "def create_model_NN(activation, n_layers, n_neurons, solver):\n",
    "    hidden_layer_sizes=[]\n",
    "    \n",
    "    #与えられたパラメータのレイヤを作成\n",
    "    for i in range(n_layers):\n",
    "        hidden_layer_sizes.append(n_neurons[i])\n",
    "    #print('hidden_layer_sizes -> ' + str(hidden_layer_sizes))\n",
    "    \n",
    "    #ニューラルネットのモデルを作成\n",
    "    model = MLPRegressor(activation = activation,\n",
    "                         hidden_layer_sizes=hidden_layer_sizes,\n",
    "                         solver = solver,\n",
    "                         random_state=42\n",
    "                        )\n",
    "    #標準化とニューラルネットのパイプラインを作成\n",
    "    pipe = make_pipeline(StandardScaler(),model)\n",
    "    return pipe"
   ]
  },
  {
   "cell_type": "code",
   "execution_count": 173,
   "metadata": {},
   "outputs": [],
   "source": [
    "# テストデータの「Speed」を予測する関数\n",
    "def pred_speed_of_test_data(train_x,test,target_speed,param):\n",
    "    ###################################\n",
    "    ### パラメータの設定\n",
    "    ##################################\n",
    "    activation = param['activation']\n",
    "    n_layers = param['n_layers']\n",
    "    n_neurons=[]\n",
    "    for i in range(n_layers):\n",
    "        n_neurons.append(param['neuron' + str(i).zfill(2)])\n",
    "    solver = param['solver']\n",
    "    \n",
    "    ###################################\n",
    "    ### CVの設定\n",
    "    ##################################\n",
    "    \n",
    "    FOLD_NUM = 5\n",
    "    kf = KFold(n_splits=NFOLDS, shuffle=True, random_state=SEED)\n",
    "\n",
    "    scores = []\n",
    "    mlp_pred = 0\n",
    "\n",
    "    for i, (tdx, vdx) in enumerate(kf.split(X=train_x)):\n",
    "        X_train, X_valid, y_train, y_valid = train_x.iloc[tdx], train_x.iloc[vdx], target_speed[tdx], target_speed[vdx]\n",
    "        #モデルを作成\n",
    "        mlp  = create_model_NN(activation, n_layers, n_neurons, solver)\n",
    "        # 学習\n",
    "        mlp.fit(X_train,y_train)\n",
    "        # 予測\n",
    "        mlp_pred += mlp.predict(test) / FOLD_NUM\n",
    "\n",
    "    print('#######################################################')\n",
    "    print('### Seed was predicted #######')\n",
    "    print('#######################################################')\n",
    "    return mlp_pred"
   ]
  },
  {
   "cell_type": "code",
   "execution_count": 174,
   "metadata": {},
   "outputs": [],
   "source": [
    "# Speed予測用のハイパーパラメータ\n",
    "param = {\n",
    "\"activation\": 'tanh',\n",
    "\"n_layers\": 9,\n",
    "\"neuron00\": 45,\n",
    "\"neuron01\": 52,\n",
    "\"neuron02\": 57,\n",
    "\"neuron03\": 79,\n",
    "\"neuron04\": 21,\n",
    "\"neuron05\": 102,\n",
    "\"neuron06\": 118,\n",
    "\"neuron07\": 31,\n",
    "\"neuron08\": 66,\n",
    "\"solver\": 'sgd',\n",
    "}\n"
   ]
  },
  {
   "cell_type": "code",
   "execution_count": 175,
   "metadata": {},
   "outputs": [],
   "source": [
    "# テストデータの「Speed」を予測する関数\n",
    "def pred_speed_of_test_data(train_x,test,target_speed,param):\n",
    "    ###################################\n",
    "    ### パラメータの設定\n",
    "    ##################################\n",
    "    activation = param['activation']\n",
    "    n_layers = param['n_layers']\n",
    "    n_neurons=[]\n",
    "    for i in range(n_layers):\n",
    "        n_neurons.append(param['neuron' + str(i).zfill(2)])\n",
    "    solver = param['solver']\n",
    "    \n",
    "    ###################################\n",
    "    ### CVの設定\n",
    "    ##################################\n",
    "    \n",
    "    FOLD_NUM = 5\n",
    "    kf = KFold(n_splits=NFOLDS, shuffle=True, random_state=SEED)\n",
    "\n",
    "    scores = []\n",
    "    mlp_pred = 0\n",
    "\n",
    "    for i, (tdx, vdx) in enumerate(kf.split(X=train_x)):\n",
    "        X_train, X_valid, y_train, y_valid = train_x.iloc[tdx], train_x.iloc[vdx], target_speed[tdx], target_speed[vdx]\n",
    "        #モデルを作成\n",
    "        mlp  = create_model_NN(activation, n_layers, n_neurons, solver)\n",
    "        # 学習\n",
    "        mlp.fit(X_train,y_train)\n",
    "        # 予測\n",
    "        mlp_pred += mlp.predict(test) / FOLD_NUM\n",
    "\n",
    "    print('#######################################################')\n",
    "    print('### Seed was predicted #######')\n",
    "    print('#######################################################')\n",
    "    return mlp_pred"
   ]
  },
  {
   "cell_type": "markdown",
   "metadata": {},
   "source": [
    "# テストデータの『speed』を予測"
   ]
  },
  {
   "cell_type": "code",
   "execution_count": 176,
   "metadata": {},
   "outputs": [
    {
     "name": "stdout",
     "output_type": "stream",
     "text": [
      "#######################################################\n",
      "### Seed was predicted #######\n",
      "#######################################################\n"
     ]
    }
   ],
   "source": [
    "# テストデータの「Speed」を予測する\n",
    "speed_pred = pred_speed_of_test_data(X_train,X_test,target_speed,param)"
   ]
  },
  {
   "cell_type": "markdown",
   "metadata": {},
   "source": [
    "# y の学習と予測"
   ]
  },
  {
   "cell_type": "code",
   "execution_count": 177,
   "metadata": {},
   "outputs": [],
   "source": [
    "# テストデータの「ｙ」を予測する関数\n",
    "#####################################################3\n",
    "### LGBで学習、予測する関数の定義\n",
    "########################################################\n",
    "def pred_y_of_test_data(train,test,target,lgb_param,mlp_pred,select_col_list):\n",
    "    # --------------------------------------\n",
    "    # パラメータ定義\n",
    "    # --------------------------------------\n",
    "    lgb_params = {\n",
    "                    'objective': 'multiclass',\n",
    "                    'boosting_type': 'gbdt',\n",
    "                    'n_estimators': 50000,\n",
    "                    'colsample_bytree': 0.5,\n",
    "                    'subsample': 0.5,\n",
    "                    'subsample_freq': 3,\n",
    "                    'reg_alpha': 8,\n",
    "                    'reg_lambda': 2,\n",
    "                    'random_state': SEED,\n",
    "        'bagging_fraction': lgb_param['bagging_fraction'],\n",
    "        'bagging_freq': lgb_param['bagging_freq'],        \n",
    "        'feature_fraction': lgb_param['feature_fraction'],\n",
    "        \"learning_rate\":lgb_param['learning_rate'],\n",
    "        'min_child_samples': lgb_param['min_child_samples'],\n",
    "        'num_leaves': lgb_param['num_leaves'],\n",
    "        \n",
    "                  }\n",
    "\n",
    "    # --------------------------------------\n",
    "    # 学習と予測\n",
    "    # --------------------------------------\n",
    "    kf = KFold(n_splits=NFOLDS, shuffle=True, random_state=SEED)\n",
    "    lgb_oof = np.zeros(train.shape[0])\n",
    "    lgb_pred = pd.DataFrame()\n",
    "\n",
    "    train_x = train.loc[:][select_col_list]\n",
    "    test_x = test.loc[:][select_col_list]\n",
    "\n",
    "    train_x['speed'] = target_speed.astype('float')\n",
    "    test_x['speed'] = mlp_pred\n",
    "    \n",
    "    target_y = target\n",
    "\n",
    "    for fold, (trn_idx, val_idx) in enumerate(kf.split(X=train_x)):\n",
    "        X_train, y_train = train_x.iloc[trn_idx], target_y[trn_idx]\n",
    "        X_valid, y_valid = train_x.iloc[val_idx], target_y[val_idx]\n",
    "        X_test = test_x\n",
    "\n",
    "        # LightGBM\n",
    "        model = lgb.LGBMClassifier(**lgb_params)\n",
    "        model.fit(X_train, y_train,\n",
    "                  eval_set=(X_valid, y_valid),\n",
    "                  eval_metric='logloss',\n",
    "                  verbose=False,\n",
    "                  early_stopping_rounds=500\n",
    "                  )\n",
    "\n",
    "        lgb_oof[val_idx] = model.predict(X_valid)\n",
    "        lgb_pred[f'fold_{fold}'] = model.predict(X_test)\n",
    "        f1_macro = f1_score(y_valid, lgb_oof[val_idx], average='macro')\n",
    "        print(f\"fold {fold} lgb score: {f1_macro}\")\n",
    "\n",
    "    # 予測値の最頻値を求める（ご指摘をいただき修正）\n",
    "    sub_pred = lgb_pred.mode(axis=1)[0]\n",
    "    print(\"+-\" * 40)\n",
    "    print(f\"score: {f1_macro}\")\n",
    "    \n",
    "    return sub_pred"
   ]
  },
  {
   "cell_type": "code",
   "execution_count": 178,
   "metadata": {},
   "outputs": [],
   "source": [
    "# 「ｙ」を予測するモデルのハイパーパラメータを設定\n",
    "lgb_param = {\n",
    "\"bagging_fraction\": 0.7537281209924886,\n",
    "\"bagging_freq\": 5,\n",
    "\"feature_fraction\": 0.7548131884427044,\n",
    "\"learning_rate\": 0.00854494687558397,\n",
    "\"min_child_samples\": 78,\n",
    "\"num_leaves\": 209,\n",
    "}"
   ]
  },
  {
   "cell_type": "code",
   "execution_count": 179,
   "metadata": {},
   "outputs": [],
   "source": [
    "# 予測に使う特徴量を選択\n",
    "select_col_list =['B', 'O', 'b1', 'b3', 'bottomTeam', 'topTeam', 'bgTop',\n",
    "                  'month', 'dayofweek', 'total_stat', 'pitcherTeam',\n",
    "                  'pitcherHand_ce', 'batter_ce', 'inning_num_ce',\n",
    "                  'startTime_ce', 'pitcherHand_te', 'batter_te',\n",
    "                  'inning_num_te', 'startTime_te', 'place_te',\n",
    "                  'gameID_all_PCA=000', 'gameID_all_PCA=002',\n",
    "                  'gameID_all_PCA=004', 'gameID_all_PCA=005',\n",
    "                  'gameID_all_PCA=009', 'gameID_all_PCA=012',\n",
    "                  'gameID_all_PCA=015', 'gameID_all_PCA=016',\n",
    "                  'gameID_all_PCA=017', 'gameID_all_PCA=019',\n",
    "                  'gameID_all_PCA=023', 'gameID_all_PCA=024',\n",
    "                  'gameID_all_PCA=029', 'gameID_all_PCA=031',\n",
    "                  'gameID_all_PCA=035', 'gameID_all_PCA=039',\n",
    "                  'gameID_all_PCA=040', 'gameID_all_PCA=042',\n",
    "                  'gameID_all_PCA=045', 'gameID_all_PCA=046',\n",
    "                  'gameID_all_PCA=047', 'gameID_all_PCA=048',\n",
    "                  'gameID_all_PCA=049', 'gameID_all_PCA=051',\n",
    "                  'gameID_all_PCA=053', 'gameID_all_PCA=054',\n",
    "                  'gameID_all_PCA=057', 'gameID_stat_PCA=000',\n",
    "                  'gameID_stat_PCA=001', 'gameID_stat_PCA=003',\n",
    "                  'gameID_stat_PCA=004', 'gameID_stat_PCA=005',\n",
    "                  'gameID_stat_PCA=006', 'gameID_stat_PCA=008',\n",
    "                  'gameID_stat_PCA=010', 'gameID_stat_PCA=012',\n",
    "                  'gameID_stat_PCA=014', 'gameID_stat_PCA=015',\n",
    "                  'gameID_base_PCA=001', 'gameID_base_PCA=005',\n",
    "                  'gameID_base_PCA=007', 'gameID_base_PCA=008',\n",
    "                  'gameID_base_PCA=009', 'gameID_base_PCA=011',\n",
    "                  'gameID_base_PCA=012', 'gameID_base_PCA=013',\n",
    "                  'gameID_base_PCA=014', 'gameID_base_PCA=015',\n",
    "                  'gameID_inning_PCA=001', 'gameID_inning_PCA=002',\n",
    "                  'gameID_inning_PCA=003', 'gameID_inning_PCA=004',\n",
    "                  'gameID_inning_PCA=006', 'gameID_inning_PCA=008',\n",
    "                  'gameID_inning_PCA=009', 'gameID_inning_PCA=010',\n",
    "                  'gameID_inning_PCA=012', 'gameID_inning_PCA=013',\n",
    "                  'gameID_inning_PCA=014']"
   ]
  },
  {
   "cell_type": "code",
   "execution_count": 184,
   "metadata": {},
   "outputs": [
    {
     "ename": "ValueError",
     "evalue": "Length of values (20400) does not match length of index (17136)",
     "output_type": "error",
     "traceback": [
      "\u001b[1;31m---------------------------------------------------------------------------\u001b[0m",
      "\u001b[1;31mValueError\u001b[0m                                Traceback (most recent call last)",
      "\u001b[1;32m<ipython-input-184-8becef5695bd>\u001b[0m in \u001b[0;36m<module>\u001b[1;34m\u001b[0m\n\u001b[0;32m      1\u001b[0m \u001b[1;31m#学習と予測の実行\u001b[0m\u001b[1;33m\u001b[0m\u001b[1;33m\u001b[0m\u001b[1;33m\u001b[0m\u001b[0m\n\u001b[1;32m----> 2\u001b[1;33m \u001b[0msub_pred\u001b[0m \u001b[1;33m=\u001b[0m \u001b[0mpred_y_of_test_data\u001b[0m\u001b[1;33m(\u001b[0m\u001b[0mX_train\u001b[0m\u001b[1;33m,\u001b[0m\u001b[0mX_test\u001b[0m\u001b[1;33m,\u001b[0m\u001b[0mtarget\u001b[0m\u001b[1;33m,\u001b[0m\u001b[0mlgb_param\u001b[0m\u001b[1;33m,\u001b[0m\u001b[0mspeed_pred\u001b[0m\u001b[1;33m,\u001b[0m\u001b[0mselect_col_list\u001b[0m\u001b[1;33m)\u001b[0m\u001b[1;33m\u001b[0m\u001b[1;33m\u001b[0m\u001b[0m\n\u001b[0m",
      "\u001b[1;32m<ipython-input-177-4911e30fa8f4>\u001b[0m in \u001b[0;36mpred_y_of_test_data\u001b[1;34m(train, test, target, lgb_param, mlp_pred, select_col_list)\u001b[0m\n\u001b[0;32m     36\u001b[0m     \u001b[0mtest_x\u001b[0m \u001b[1;33m=\u001b[0m \u001b[0mtest\u001b[0m\u001b[1;33m.\u001b[0m\u001b[0mloc\u001b[0m\u001b[1;33m[\u001b[0m\u001b[1;33m:\u001b[0m\u001b[1;33m]\u001b[0m\u001b[1;33m[\u001b[0m\u001b[0mselect_col_list\u001b[0m\u001b[1;33m]\u001b[0m\u001b[1;33m\u001b[0m\u001b[1;33m\u001b[0m\u001b[0m\n\u001b[0;32m     37\u001b[0m \u001b[1;33m\u001b[0m\u001b[0m\n\u001b[1;32m---> 38\u001b[1;33m     \u001b[0mtrain_x\u001b[0m\u001b[1;33m[\u001b[0m\u001b[1;34m'speed'\u001b[0m\u001b[1;33m]\u001b[0m \u001b[1;33m=\u001b[0m \u001b[0mtarget_speed\u001b[0m\u001b[1;33m.\u001b[0m\u001b[0mastype\u001b[0m\u001b[1;33m(\u001b[0m\u001b[1;34m'float'\u001b[0m\u001b[1;33m)\u001b[0m\u001b[1;33m\u001b[0m\u001b[1;33m\u001b[0m\u001b[0m\n\u001b[0m\u001b[0;32m     39\u001b[0m     \u001b[0mtest_x\u001b[0m\u001b[1;33m[\u001b[0m\u001b[1;34m'speed'\u001b[0m\u001b[1;33m]\u001b[0m \u001b[1;33m=\u001b[0m \u001b[0mmlp_pred\u001b[0m\u001b[1;33m\u001b[0m\u001b[1;33m\u001b[0m\u001b[0m\n\u001b[0;32m     40\u001b[0m \u001b[1;33m\u001b[0m\u001b[0m\n",
      "\u001b[1;32mC:\\ProgramData\\Anaconda3\\lib\\site-packages\\pandas\\core\\frame.py\u001b[0m in \u001b[0;36m__setitem__\u001b[1;34m(self, key, value)\u001b[0m\n\u001b[0;32m   3161\u001b[0m         \u001b[1;32melse\u001b[0m\u001b[1;33m:\u001b[0m\u001b[1;33m\u001b[0m\u001b[1;33m\u001b[0m\u001b[0m\n\u001b[0;32m   3162\u001b[0m             \u001b[1;31m# set column\u001b[0m\u001b[1;33m\u001b[0m\u001b[1;33m\u001b[0m\u001b[1;33m\u001b[0m\u001b[0m\n\u001b[1;32m-> 3163\u001b[1;33m             \u001b[0mself\u001b[0m\u001b[1;33m.\u001b[0m\u001b[0m_set_item\u001b[0m\u001b[1;33m(\u001b[0m\u001b[0mkey\u001b[0m\u001b[1;33m,\u001b[0m \u001b[0mvalue\u001b[0m\u001b[1;33m)\u001b[0m\u001b[1;33m\u001b[0m\u001b[1;33m\u001b[0m\u001b[0m\n\u001b[0m\u001b[0;32m   3164\u001b[0m \u001b[1;33m\u001b[0m\u001b[0m\n\u001b[0;32m   3165\u001b[0m     \u001b[1;32mdef\u001b[0m \u001b[0m_setitem_slice\u001b[0m\u001b[1;33m(\u001b[0m\u001b[0mself\u001b[0m\u001b[1;33m,\u001b[0m \u001b[0mkey\u001b[0m\u001b[1;33m:\u001b[0m \u001b[0mslice\u001b[0m\u001b[1;33m,\u001b[0m \u001b[0mvalue\u001b[0m\u001b[1;33m)\u001b[0m\u001b[1;33m:\u001b[0m\u001b[1;33m\u001b[0m\u001b[1;33m\u001b[0m\u001b[0m\n",
      "\u001b[1;32mC:\\ProgramData\\Anaconda3\\lib\\site-packages\\pandas\\core\\frame.py\u001b[0m in \u001b[0;36m_set_item\u001b[1;34m(self, key, value)\u001b[0m\n\u001b[0;32m   3240\u001b[0m         \"\"\"\n\u001b[0;32m   3241\u001b[0m         \u001b[0mself\u001b[0m\u001b[1;33m.\u001b[0m\u001b[0m_ensure_valid_index\u001b[0m\u001b[1;33m(\u001b[0m\u001b[0mvalue\u001b[0m\u001b[1;33m)\u001b[0m\u001b[1;33m\u001b[0m\u001b[1;33m\u001b[0m\u001b[0m\n\u001b[1;32m-> 3242\u001b[1;33m         \u001b[0mvalue\u001b[0m \u001b[1;33m=\u001b[0m \u001b[0mself\u001b[0m\u001b[1;33m.\u001b[0m\u001b[0m_sanitize_column\u001b[0m\u001b[1;33m(\u001b[0m\u001b[0mkey\u001b[0m\u001b[1;33m,\u001b[0m \u001b[0mvalue\u001b[0m\u001b[1;33m)\u001b[0m\u001b[1;33m\u001b[0m\u001b[1;33m\u001b[0m\u001b[0m\n\u001b[0m\u001b[0;32m   3243\u001b[0m         \u001b[0mNDFrame\u001b[0m\u001b[1;33m.\u001b[0m\u001b[0m_set_item\u001b[0m\u001b[1;33m(\u001b[0m\u001b[0mself\u001b[0m\u001b[1;33m,\u001b[0m \u001b[0mkey\u001b[0m\u001b[1;33m,\u001b[0m \u001b[0mvalue\u001b[0m\u001b[1;33m)\u001b[0m\u001b[1;33m\u001b[0m\u001b[1;33m\u001b[0m\u001b[0m\n\u001b[0;32m   3244\u001b[0m \u001b[1;33m\u001b[0m\u001b[0m\n",
      "\u001b[1;32mC:\\ProgramData\\Anaconda3\\lib\\site-packages\\pandas\\core\\frame.py\u001b[0m in \u001b[0;36m_sanitize_column\u001b[1;34m(self, key, value, broadcast)\u001b[0m\n\u001b[0;32m   3897\u001b[0m \u001b[1;33m\u001b[0m\u001b[0m\n\u001b[0;32m   3898\u001b[0m             \u001b[1;31m# turn me into an ndarray\u001b[0m\u001b[1;33m\u001b[0m\u001b[1;33m\u001b[0m\u001b[1;33m\u001b[0m\u001b[0m\n\u001b[1;32m-> 3899\u001b[1;33m             \u001b[0mvalue\u001b[0m \u001b[1;33m=\u001b[0m \u001b[0msanitize_index\u001b[0m\u001b[1;33m(\u001b[0m\u001b[0mvalue\u001b[0m\u001b[1;33m,\u001b[0m \u001b[0mself\u001b[0m\u001b[1;33m.\u001b[0m\u001b[0mindex\u001b[0m\u001b[1;33m)\u001b[0m\u001b[1;33m\u001b[0m\u001b[1;33m\u001b[0m\u001b[0m\n\u001b[0m\u001b[0;32m   3900\u001b[0m             \u001b[1;32mif\u001b[0m \u001b[1;32mnot\u001b[0m \u001b[0misinstance\u001b[0m\u001b[1;33m(\u001b[0m\u001b[0mvalue\u001b[0m\u001b[1;33m,\u001b[0m \u001b[1;33m(\u001b[0m\u001b[0mnp\u001b[0m\u001b[1;33m.\u001b[0m\u001b[0mndarray\u001b[0m\u001b[1;33m,\u001b[0m \u001b[0mIndex\u001b[0m\u001b[1;33m)\u001b[0m\u001b[1;33m)\u001b[0m\u001b[1;33m:\u001b[0m\u001b[1;33m\u001b[0m\u001b[1;33m\u001b[0m\u001b[0m\n\u001b[0;32m   3901\u001b[0m                 \u001b[1;32mif\u001b[0m \u001b[0misinstance\u001b[0m\u001b[1;33m(\u001b[0m\u001b[0mvalue\u001b[0m\u001b[1;33m,\u001b[0m \u001b[0mlist\u001b[0m\u001b[1;33m)\u001b[0m \u001b[1;32mand\u001b[0m \u001b[0mlen\u001b[0m\u001b[1;33m(\u001b[0m\u001b[0mvalue\u001b[0m\u001b[1;33m)\u001b[0m \u001b[1;33m>\u001b[0m \u001b[1;36m0\u001b[0m\u001b[1;33m:\u001b[0m\u001b[1;33m\u001b[0m\u001b[1;33m\u001b[0m\u001b[0m\n",
      "\u001b[1;32mC:\\ProgramData\\Anaconda3\\lib\\site-packages\\pandas\\core\\internals\\construction.py\u001b[0m in \u001b[0;36msanitize_index\u001b[1;34m(data, index)\u001b[0m\n\u001b[0;32m    749\u001b[0m     \"\"\"\n\u001b[0;32m    750\u001b[0m     \u001b[1;32mif\u001b[0m \u001b[0mlen\u001b[0m\u001b[1;33m(\u001b[0m\u001b[0mdata\u001b[0m\u001b[1;33m)\u001b[0m \u001b[1;33m!=\u001b[0m \u001b[0mlen\u001b[0m\u001b[1;33m(\u001b[0m\u001b[0mindex\u001b[0m\u001b[1;33m)\u001b[0m\u001b[1;33m:\u001b[0m\u001b[1;33m\u001b[0m\u001b[1;33m\u001b[0m\u001b[0m\n\u001b[1;32m--> 751\u001b[1;33m         raise ValueError(\n\u001b[0m\u001b[0;32m    752\u001b[0m             \u001b[1;34m\"Length of values \"\u001b[0m\u001b[1;33m\u001b[0m\u001b[1;33m\u001b[0m\u001b[0m\n\u001b[0;32m    753\u001b[0m             \u001b[1;34mf\"({len(data)}) \"\u001b[0m\u001b[1;33m\u001b[0m\u001b[1;33m\u001b[0m\u001b[0m\n",
      "\u001b[1;31mValueError\u001b[0m: Length of values (20400) does not match length of index (17136)"
     ]
    }
   ],
   "source": [
    "#学習と予測の実行\n",
    "sub_pred = pred_y_of_test_data(X_train,X_test,target,lgb_param,speed_pred,select_col_list)"
   ]
  },
  {
   "cell_type": "code",
   "execution_count": 185,
   "metadata": {},
   "outputs": [
    {
     "name": "stdout",
     "output_type": "stream",
     "text": [
      "0        0\n",
      "1        1\n",
      "2        0\n",
      "3        2\n",
      "4        4\n",
      "        ..\n",
      "20395    2\n",
      "20396    0\n",
      "20397    1\n",
      "20398    0\n",
      "20399    1\n",
      "Name: y, Length: 20400, dtype: int64\n"
     ]
    }
   ],
   "source": [
    "print(target)"
   ]
  },
  {
   "cell_type": "code",
   "execution_count": 186,
   "metadata": {},
   "outputs": [
    {
     "ename": "NameError",
     "evalue": "name 'sub_pred' is not defined",
     "output_type": "error",
     "traceback": [
      "\u001b[1;31m---------------------------------------------------------------------------\u001b[0m",
      "\u001b[1;31mNameError\u001b[0m                                 Traceback (most recent call last)",
      "\u001b[1;32m<ipython-input-186-4a9214392dff>\u001b[0m in \u001b[0;36m<module>\u001b[1;34m\u001b[0m\n\u001b[0;32m      4\u001b[0m \u001b[1;33m\u001b[0m\u001b[0m\n\u001b[0;32m      5\u001b[0m \u001b[1;31m#テスト結果の出力\u001b[0m\u001b[1;33m\u001b[0m\u001b[1;33m\u001b[0m\u001b[1;33m\u001b[0m\u001b[0m\n\u001b[1;32m----> 6\u001b[1;33m \u001b[0msubmit_df\u001b[0m \u001b[1;33m=\u001b[0m \u001b[0mpd\u001b[0m\u001b[1;33m.\u001b[0m\u001b[0mDataFrame\u001b[0m\u001b[1;33m(\u001b[0m\u001b[1;33m{\u001b[0m\u001b[1;34m'y'\u001b[0m\u001b[1;33m:\u001b[0m \u001b[0msub_pred\u001b[0m\u001b[1;33m.\u001b[0m\u001b[0mastype\u001b[0m\u001b[1;33m(\u001b[0m\u001b[0mint\u001b[0m\u001b[1;33m)\u001b[0m\u001b[1;33m}\u001b[0m\u001b[1;33m)\u001b[0m\u001b[1;33m\u001b[0m\u001b[1;33m\u001b[0m\u001b[0m\n\u001b[0m\u001b[0;32m      7\u001b[0m \u001b[0msubmit_df\u001b[0m\u001b[1;33m.\u001b[0m\u001b[0mindex\u001b[0m\u001b[1;33m.\u001b[0m\u001b[0mname\u001b[0m \u001b[1;33m=\u001b[0m \u001b[1;34m'id'\u001b[0m\u001b[1;33m\u001b[0m\u001b[1;33m\u001b[0m\u001b[0m\n\u001b[0;32m      8\u001b[0m \u001b[0msubmit_df\u001b[0m\u001b[1;33m.\u001b[0m\u001b[0mto_csv\u001b[0m\u001b[1;33m(\u001b[0m\u001b[1;34m'submission/submission.csv'\u001b[0m\u001b[1;33m)\u001b[0m\u001b[1;33m\u001b[0m\u001b[1;33m\u001b[0m\u001b[0m\n",
      "\u001b[1;31mNameError\u001b[0m: name 'sub_pred' is not defined"
     ]
    }
   ],
   "source": [
    "# ------------------------------------------------------------------------------\n",
    "# 提出ファイルの作成\n",
    "# ------------------------------------------------------------------------------\n",
    "\n",
    "#テスト結果の出力\n",
    "submit_df = pd.DataFrame({'y': sub_pred.astype(int)})\n",
    "submit_df.index.name = 'id'\n",
    "submit_df.to_csv('submission/submission.csv')"
   ]
  },
  {
   "cell_type": "code",
   "execution_count": null,
   "metadata": {},
   "outputs": [],
   "source": []
  }
 ],
 "metadata": {
  "colab": {
   "authorship_tag": "ABX9TyPQGTQepWPyEYi/498kk0FZ",
   "mount_file_id": "1c3Ho576UNgaujfdeswIFZkRJ10kEncPQ",
   "name": "ProbeSpaceプロ野球v2.ipynb",
   "provenance": [],
   "toc_visible": true
  },
  "kernelspec": {
   "display_name": "Python 3",
   "language": "python",
   "name": "python3"
  },
  "language_info": {
   "codemirror_mode": {
    "name": "ipython",
    "version": 3
   },
   "file_extension": ".py",
   "mimetype": "text/x-python",
   "name": "python",
   "nbconvert_exporter": "python",
   "pygments_lexer": "ipython3",
   "version": "3.8.8"
  }
 },
 "nbformat": 4,
 "nbformat_minor": 4
}
