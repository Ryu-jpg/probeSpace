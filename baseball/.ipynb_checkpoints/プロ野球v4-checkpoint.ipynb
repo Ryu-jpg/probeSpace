{
 "cells": [
  {
   "cell_type": "markdown",
   "metadata": {
    "id": "kTi7Is-0Uu7m"
   },
   "source": [
    "# データのロード\n",
    "まずはデータを読み込んで見ましょう。csvデータの読み込みは複数のやり方がありえますが、pandasのread_csv関数はその中でも機能が豊富で、扱いやすいためこれを使います。\n",
    "これを使うと、csvデータを読み込み、pandas.DataFrameにして返してくれます。"
   ]
  },
  {
   "cell_type": "code",
   "execution_count": 925,
   "metadata": {},
   "outputs": [],
   "source": [
    "import numpy as np\n",
    "import pandas as pd\n",
    "import pandas_profiling as pdp\n",
    "import matplotlib.pyplot as plt\n",
    "%matplotlib inline\n",
    "from mpl_toolkits.mplot3d import Axes3D\n",
    "import seaborn as sns\n",
    "import pickle\n",
    "from sklearn.model_selection import train_test_split,GridSearchCV\n",
    "from sklearn.decomposition import PCA\n",
    "from sklearn.manifold import TSNE\n",
    "from sklearn.preprocessing import StandardScaler\n",
    "from sklearn.ensemble import RandomForestRegressor\n",
    "from sklearn.metrics import r2_score\n",
    "from sklearn.metrics import mean_absolute_error\n",
    "import xgboost as xgb\n",
    "#import lightgbm as lgb\n",
    "from optuna.integration import lightgbm as gbm\n",
    "import warnings\n",
    "warnings.simplefilter('ignore')"
   ]
  },
  {
   "cell_type": "code",
   "execution_count": 926,
   "metadata": {},
   "outputs": [
    {
     "name": "stdout",
     "output_type": "stream",
     "text": [
      "Requirement already satisfied: optuna in c:\\programdata\\anaconda3\\lib\\site-packages (2.7.0)\n",
      "Requirement already satisfied: cmaes>=0.8.2 in c:\\programdata\\anaconda3\\lib\\site-packages (from optuna) (0.8.2)\n",
      "Requirement already satisfied: packaging>=20.0 in c:\\programdata\\anaconda3\\lib\\site-packages (from optuna) (20.1)\n",
      "Requirement already satisfied: cliff in c:\\programdata\\anaconda3\\lib\\site-packages (from optuna) (3.7.0)\n",
      "Requirement already satisfied: colorlog in c:\\programdata\\anaconda3\\lib\\site-packages (from optuna) (5.0.1)\n",
      "Requirement already satisfied: scipy!=1.4.0 in c:\\programdata\\anaconda3\\lib\\site-packages (from optuna) (1.4.1)\n",
      "Requirement already satisfied: sqlalchemy>=1.1.0 in c:\\programdata\\anaconda3\\lib\\site-packages (from optuna) (1.3.13)\n",
      "Requirement already satisfied: tqdm in c:\\programdata\\anaconda3\\lib\\site-packages (from optuna) (4.42.1)\n",
      "Requirement already satisfied: alembic in c:\\programdata\\anaconda3\\lib\\site-packages (from optuna) (1.5.8)\n",
      "Requirement already satisfied: numpy in c:\\programdata\\anaconda3\\lib\\site-packages (from optuna) (1.18.1)\n",
      "Requirement already satisfied: pyparsing>=2.0.2 in c:\\programdata\\anaconda3\\lib\\site-packages (from packaging>=20.0->optuna) (2.4.6)\n",
      "Requirement already satisfied: six in c:\\programdata\\anaconda3\\lib\\site-packages (from packaging>=20.0->optuna) (1.14.0)\n",
      "Requirement already satisfied: stevedore>=2.0.1 in c:\\programdata\\anaconda3\\lib\\site-packages (from cliff->optuna) (3.3.0)\n",
      "Requirement already satisfied: pbr!=2.1.0,>=2.0.0 in c:\\programdata\\anaconda3\\lib\\site-packages (from cliff->optuna) (5.6.0)\n",
      "Requirement already satisfied: PyYAML>=3.12 in c:\\programdata\\anaconda3\\lib\\site-packages (from cliff->optuna) (5.3)\n",
      "Requirement already satisfied: cmd2>=1.0.0 in c:\\programdata\\anaconda3\\lib\\site-packages (from cliff->optuna) (1.5.0)\n",
      "Requirement already satisfied: PrettyTable>=0.7.2 in c:\\programdata\\anaconda3\\lib\\site-packages (from cliff->optuna) (2.1.0)\n",
      "Requirement already satisfied: colorama; sys_platform == \"win32\" in c:\\programdata\\anaconda3\\lib\\site-packages (from colorlog->optuna) (0.4.3)\n",
      "Requirement already satisfied: python-editor>=0.3 in c:\\programdata\\anaconda3\\lib\\site-packages (from alembic->optuna) (1.0.4)\n",
      "Requirement already satisfied: Mako in c:\\programdata\\anaconda3\\lib\\site-packages (from alembic->optuna) (1.1.4)\n",
      "Requirement already satisfied: python-dateutil in c:\\programdata\\anaconda3\\lib\\site-packages (from alembic->optuna) (2.8.1)\n",
      "Requirement already satisfied: importlib-metadata>=1.7.0; python_version < \"3.8\" in c:\\programdata\\anaconda3\\lib\\site-packages (from stevedore>=2.0.1->cliff->optuna) (4.0.1)\n",
      "Requirement already satisfied: attrs>=16.3.0 in c:\\programdata\\anaconda3\\lib\\site-packages (from cmd2>=1.0.0->cliff->optuna) (19.3.0)\n",
      "Requirement already satisfied: pyreadline; sys_platform == \"win32\" and python_version < \"3.8\" in c:\\programdata\\anaconda3\\lib\\site-packages (from cmd2>=1.0.0->cliff->optuna) (2.1)\n",
      "Requirement already satisfied: wcwidth>=0.1.7 in c:\\programdata\\anaconda3\\lib\\site-packages (from cmd2>=1.0.0->cliff->optuna) (0.1.8)\n",
      "Requirement already satisfied: pyperclip>=1.6 in c:\\programdata\\anaconda3\\lib\\site-packages (from cmd2>=1.0.0->cliff->optuna) (1.8.2)\n",
      "Requirement already satisfied: MarkupSafe>=0.9.2 in c:\\programdata\\anaconda3\\lib\\site-packages (from Mako->alembic->optuna) (1.1.1)\n",
      "Requirement already satisfied: zipp>=0.5 in c:\\programdata\\anaconda3\\lib\\site-packages (from importlib-metadata>=1.7.0; python_version < \"3.8\"->stevedore>=2.0.1->cliff->optuna) (2.2.0)\n",
      "Requirement already satisfied: typing-extensions>=3.6.4; python_version < \"3.8\" in c:\\programdata\\anaconda3\\lib\\site-packages (from importlib-metadata>=1.7.0; python_version < \"3.8\"->stevedore>=2.0.1->cliff->optuna) (3.7.4.3)\n"
     ]
    }
   ],
   "source": [
    "!pip install optuna"
   ]
  },
  {
   "cell_type": "code",
   "execution_count": 927,
   "metadata": {
    "colab": {
     "base_uri": "https://localhost:8080/"
    },
    "executionInfo": {
     "elapsed": 3233,
     "status": "ok",
     "timestamp": 1619347309720,
     "user": {
      "displayName": "リュウイチ",
      "photoUrl": "https://lh3.googleusercontent.com/a-/AOh14GgpfSmscxJ-11scyWjhwzMwqt6MwzUnP-eb4LKWyg=s64",
      "userId": "09516200488397919357"
     },
     "user_tz": -540
    },
    "id": "HRP_nWzSIWTG",
    "outputId": "27977b77-7a05-4bdf-d77b-eac381287098"
   },
   "outputs": [
    {
     "name": "stdout",
     "output_type": "stream",
     "text": [
      "(20400, 23)\n",
      "(33808, 13)\n",
      "    totalPitchingCount  B  S  O     b1     b2     b3  pitcher pitcherHand  \\\n",
      "id                                                                          \n",
      "0                    2  1  0  0  False  False  False    遠藤 淳志           R   \n",
      "1                    1  0  0  0  False  False  False  バンデンハーク           R   \n",
      "2                    7  3  2  2   True  False  False     スアレス           R   \n",
      "3                    1  0  0  2   True  False  False      クック           R   \n",
      "4                    2  0  0  2  False  False  False    則本 昂大           R   \n",
      "\n",
      "   batter batterHand    gameID inning  \n",
      "id                                     \n",
      "0    乙坂 智          L  20202564    2回表  \n",
      "1   西川 遥輝          L  20202106    3回裏  \n",
      "2   堂林 翔太          R  20203305    9回裏  \n",
      "3   井領 雅貴          L  20202650    3回裏  \n",
      "4   安達 了一          R  20202339    2回表  \n"
     ]
    }
   ],
   "source": [
    "#データの読み込みと前処理\n",
    "import pandas as pd\n",
    "train = pd.read_csv(\"train_data.csv\", index_col='id')\n",
    "test = pd.read_csv(\"test_data.csv\", index_col='id')\n",
    "game = pd.read_csv(\"game_info.csv\")\n",
    "target = train['y']\n",
    "game = game.drop('Unnamed: 0',axis=1)\n",
    "print(train.shape)\n",
    "print(test.shape)\n",
    "print(test.head())\n",
    "\n"
   ]
  },
  {
   "cell_type": "code",
   "execution_count": 928,
   "metadata": {},
   "outputs": [
    {
     "data": {
      "text/plain": [
       "id\n",
       "0        0\n",
       "1        1\n",
       "2        0\n",
       "3        2\n",
       "4        4\n",
       "        ..\n",
       "20395    2\n",
       "20396    0\n",
       "20397    1\n",
       "20398    0\n",
       "20399    1\n",
       "Name: y, Length: 20400, dtype: int64"
      ]
     },
     "execution_count": 928,
     "metadata": {},
     "output_type": "execute_result"
    }
   ],
   "source": [
    "train['y']"
   ]
  },
  {
   "cell_type": "code",
   "execution_count": 929,
   "metadata": {
    "colab": {
     "base_uri": "https://localhost:8080/"
    },
    "executionInfo": {
     "elapsed": 939,
     "status": "ok",
     "timestamp": 1619347313104,
     "user": {
      "displayName": "リュウイチ",
      "photoUrl": "https://lh3.googleusercontent.com/a-/AOh14GgpfSmscxJ-11scyWjhwzMwqt6MwzUnP-eb4LKWyg=s64",
      "userId": "09516200488397919357"
     },
     "user_tz": -540
    },
    "id": "vECQAEhgt-KC",
    "outputId": "5e62cec9-b832-4498-e837-0741e76e4179"
   },
   "outputs": [],
   "source": [
    "train = pd.merge(train, game, on='gameID')\n",
    "test = pd.merge(test, game, on='gameID')"
   ]
  },
  {
   "cell_type": "code",
   "execution_count": 930,
   "metadata": {},
   "outputs": [],
   "source": [
    "num_data=train.select_dtypes(include='int64')\n",
    "obj_data=train.select_dtypes(include='object')\n",
    "lostlist=obj_data.columns[obj_data.isnull().sum()!=0]\n",
    "complist=obj_data.columns[obj_data.isnull().sum()==0]\n",
    "lost_obj_data=obj_data[lostlist]\n",
    "comp_obj_data=obj_data[complist]"
   ]
  },
  {
   "cell_type": "code",
   "execution_count": 931,
   "metadata": {},
   "outputs": [
    {
     "data": {
      "text/plain": [
       "0        0\n",
       "1        1\n",
       "2        0\n",
       "3        2\n",
       "4        4\n",
       "        ..\n",
       "20395    2\n",
       "20396    0\n",
       "20397    1\n",
       "20398    0\n",
       "20399    1\n",
       "Name: y, Length: 20400, dtype: int64"
      ]
     },
     "execution_count": 931,
     "metadata": {},
     "output_type": "execute_result"
    }
   ],
   "source": [
    "train['y']"
   ]
  },
  {
   "cell_type": "code",
   "execution_count": 932,
   "metadata": {},
   "outputs": [
    {
     "data": {
      "text/plain": [
       "pitcher                  0\n",
       "pitcherHand             45\n",
       "batter                   0\n",
       "batterHand              45\n",
       "inning                   0\n",
       "pitchType                0\n",
       "speed                    0\n",
       "ballPositionLabel        0\n",
       "ballY                    0\n",
       "dir                  16758\n",
       "battingType          16758\n",
       "isOuts               15234\n",
       "startTime                0\n",
       "bottomTeam               0\n",
       "topTeam                  0\n",
       "place                    0\n",
       "startDayTime             0\n",
       "dtype: int64"
      ]
     },
     "execution_count": 932,
     "metadata": {},
     "output_type": "execute_result"
    }
   ],
   "source": [
    "obj_data.isnull().sum()"
   ]
  },
  {
   "cell_type": "code",
   "execution_count": 933,
   "metadata": {},
   "outputs": [
    {
     "data": {
      "text/plain": [
       "Index(['pitcherHand', 'batterHand', 'dir', 'battingType', 'isOuts'], dtype='object')"
      ]
     },
     "execution_count": 933,
     "metadata": {},
     "output_type": "execute_result"
    }
   ],
   "source": [
    "lostlist"
   ]
  },
  {
   "cell_type": "code",
   "execution_count": 934,
   "metadata": {
    "colab": {
     "base_uri": "https://localhost:8080/"
    },
    "executionInfo": {
     "elapsed": 1129,
     "status": "ok",
     "timestamp": 1619347323900,
     "user": {
      "displayName": "リュウイチ",
      "photoUrl": "https://lh3.googleusercontent.com/a-/AOh14GgpfSmscxJ-11scyWjhwzMwqt6MwzUnP-eb4LKWyg=s64",
      "userId": "09516200488397919357"
     },
     "user_tz": -540
    },
    "id": "OV12HYAXPwef",
    "outputId": "3bae85f5-76da-46d2-aaac-abab59bc294f"
   },
   "outputs": [
    {
     "name": "stdout",
     "output_type": "stream",
     "text": [
      "       totalPitchingCount  B  S  O     b1     b2     b3 pitcher pitcherHand  \\\n",
      "0                       1  0  0  0  False  False  False   今永 昇太           L   \n",
      "1                       2  1  0  0  False  False  False   今永 昇太           L   \n",
      "2                       3  1  1  0  False  False  False   今永 昇太           L   \n",
      "3                       4  2  1  0  False  False  False   今永 昇太           L   \n",
      "4                       5  2  2  0  False  False  False   今永 昇太           L   \n",
      "...                   ... .. .. ..    ...    ...    ...     ...         ...   \n",
      "20152                   2  1  0  2  False  False  False    森 唯斗           R   \n",
      "20153                   3  1  1  2  False  False  False    森 唯斗           R   \n",
      "20154                   4  2  1  2  False  False  False    森 唯斗           R   \n",
      "20155                   5  2  2  2  False  False  False    森 唯斗           R   \n",
      "20156                   6  3  2  2  False  False  False    森 唯斗           R   \n",
      "\n",
      "      batter  ... battingType  isOuts  y startTime bottomTeam bgBottom  \\\n",
      "0        ピレラ  ...         NaN     NaN  0     18:00       DeNA        3   \n",
      "1        ピレラ  ...         NaN     NaN  1     18:00       DeNA        3   \n",
      "2        ピレラ  ...         NaN     NaN  0     18:00       DeNA        3   \n",
      "3        ピレラ  ...         NaN     NaN  2     18:00       DeNA        3   \n",
      "4        ピレラ  ...           G   False  4     18:00       DeNA        3   \n",
      "...      ...  ...         ...     ... ..       ...        ...      ...   \n",
      "20152  大田 泰示  ...         NaN     NaN  2     18:00       日本ハム        8   \n",
      "20153  大田 泰示  ...         NaN     NaN  0     18:00       日本ハム        8   \n",
      "20154  大田 泰示  ...         NaN     NaN  1     18:00       日本ハム        8   \n",
      "20155  大田 泰示  ...         NaN     NaN  0     18:00       日本ハム        8   \n",
      "20156  大田 泰示  ...         NaN    True  1     18:00       日本ハム        8   \n",
      "\n",
      "       topTeam  place         startDayTime  bgTop  \n",
      "0           広島     横浜  2020-06-19 18:00:00      6  \n",
      "1           広島     横浜  2020-06-19 18:00:00      6  \n",
      "2           広島     横浜  2020-06-19 18:00:00      6  \n",
      "3           広島     横浜  2020-06-19 18:00:00      6  \n",
      "4           広島     横浜  2020-06-19 18:00:00      6  \n",
      "...        ...    ...                  ...    ...  \n",
      "20152   ソフトバンク  札幌ドーム  2020-06-30 18:00:00     12  \n",
      "20153   ソフトバンク  札幌ドーム  2020-06-30 18:00:00     12  \n",
      "20154   ソフトバンク  札幌ドーム  2020-06-30 18:00:00     12  \n",
      "20155   ソフトバンク  札幌ドーム  2020-06-30 18:00:00     12  \n",
      "20156   ソフトバンク  札幌ドーム  2020-06-30 18:00:00     12  \n",
      "\n",
      "[17136 rows x 30 columns]\n"
     ]
    }
   ],
   "source": [
    "#重複データの表示\n",
    "#print(train[train_data.duplicated()])\n",
    "\n",
    "#重複データの削除\n",
    "#2040-3264=\n",
    "train = train.drop_duplicates()\n",
    "print(train)"
   ]
  },
  {
   "cell_type": "markdown",
   "metadata": {},
   "source": [
    "##量的変数だけで、データクレンジング\n",
    "---\n",
    "回帰編４を参考\n"
   ]
  },
  {
   "cell_type": "markdown",
   "metadata": {},
   "source": [
    "**データの説明**\n",
    "\n",
    "- `totalPitchingCount`：各打席の投球が何球目か\n",
    "- `B` `S` `O`:ボールカウント、ストライクカウント、アウトカウント\n",
    "- `b1` `b2` `b3`:1塁にランナーがいるか、2塁にランナーがいるか、3塁にランナーがいるか\n",
    "\n",
    "\n",
    "- `pitcher`：ピッチャー名（NaNを含む）\n",
    "- `pitcherHand`：右投げか左投げかdd\n",
    "- `pitchType`：球種\n",
    "- `pitchType`：打球方向(A-Z)\n",
    "\n",
    "- `batter`：バッター名（NaNを含む）\n",
    "- `batterHand`：右打ちか左打ちか\n",
    "- `battingType`：打球種類(B:バント, G:ゴロ, P:ポップフライ, F:フライ, L:ライナー)\n",
    "\n",
    "- `isOuts`：isOuts\n",
    "\n",
    "- `gameID`：試合ID\n",
    "- `place`：試合会場\n",
    "- `inning`：イニング　一回表\n",
    "- `startDayTime`：試合開始日時\n",
    "- `startTime`：\t試合開始時間\n",
    "- `topTeam`：先攻チーム名\n",
    "- `bottomTeam`：後攻チーム名\n",
    "- `bgBottom`：試合ID\n",
    "\t\t\t\t\t\t"
   ]
  },
  {
   "cell_type": "markdown",
   "metadata": {},
   "source": [
    "下記を削除\n",
    "- 値が1つしかない量的変数\n",
    "- サンプルごとに固有の値を持つ量的変数\n",
    "- trainにあってtestにないカラム"
   ]
  },
  {
   "cell_type": "code",
   "execution_count": 935,
   "metadata": {},
   "outputs": [],
   "source": [
    "# trainにあってtestにないカラムを削除\n",
    "drop_cols = ['pitchType','speed','ballPositionLabel','ballX','ballY','dir','dist','battingType','isOuts']\n",
    "train = train.drop(drop_cols, axis='columns')\n"
   ]
  },
  {
   "cell_type": "code",
   "execution_count": 936,
   "metadata": {},
   "outputs": [],
   "source": [
    "#サンプルごとに固有の値を持つ質的変数 時系列データの削除\n",
    "drop_cols = ['startDayTime','startTime']\n",
    "train = train.drop(drop_cols, axis='columns')\n",
    "test = test.drop(drop_cols,axis='columns')"
   ]
  },
  {
   "cell_type": "code",
   "execution_count": 937,
   "metadata": {},
   "outputs": [
    {
     "data": {
      "text/plain": [
       "0        0\n",
       "1        1\n",
       "2        0\n",
       "3        2\n",
       "4        4\n",
       "        ..\n",
       "20152    2\n",
       "20153    0\n",
       "20154    1\n",
       "20155    0\n",
       "20156    1\n",
       "Name: y, Length: 17136, dtype: int64"
      ]
     },
     "execution_count": 937,
     "metadata": {},
     "output_type": "execute_result"
    }
   ],
   "source": [
    "train['y']"
   ]
  },
  {
   "cell_type": "code",
   "execution_count": 938,
   "metadata": {},
   "outputs": [
    {
     "data": {
      "text/plain": [
       "Index(['totalPitchingCount', 'B', 'S', 'O', 'b1', 'b2', 'b3', 'pitcher',\n",
       "       'pitcherHand', 'batter', 'batterHand', 'gameID', 'inning', 'y',\n",
       "       'bottomTeam', 'bgBottom', 'topTeam', 'place', 'bgTop'],\n",
       "      dtype='object')"
      ]
     },
     "execution_count": 938,
     "metadata": {},
     "output_type": "execute_result"
    }
   ],
   "source": [
    "train.columns"
   ]
  },
  {
   "cell_type": "code",
   "execution_count": 939,
   "metadata": {},
   "outputs": [
    {
     "data": {
      "text/plain": [
       "Index(['totalPitchingCount', 'B', 'S', 'O', 'b1', 'b2', 'b3', 'pitcher',\n",
       "       'pitcherHand', 'batter', 'batterHand', 'gameID', 'inning', 'bottomTeam',\n",
       "       'bgBottom', 'topTeam', 'place', 'bgTop'],\n",
       "      dtype='object')"
      ]
     },
     "execution_count": 939,
     "metadata": {},
     "output_type": "execute_result"
    }
   ],
   "source": [
    "test.columns"
   ]
  },
  {
   "cell_type": "markdown",
   "metadata": {},
   "source": [
    "## 質的データの整理　欠損値がある部分"
   ]
  },
  {
   "cell_type": "code",
   "execution_count": 940,
   "metadata": {},
   "outputs": [
    {
     "data": {
      "text/plain": [
       "Index(['pitcherHand', 'batterHand', 'dir', 'battingType', 'isOuts'], dtype='object')"
      ]
     },
     "execution_count": 940,
     "metadata": {},
     "output_type": "execute_result"
    }
   ],
   "source": [
    "lostlist"
   ]
  },
  {
   "cell_type": "code",
   "execution_count": 941,
   "metadata": {},
   "outputs": [
    {
     "data": {
      "text/plain": [
       "R    12078\n",
       "L     5027\n",
       "Name: pitcherHand, dtype: int64"
      ]
     },
     "execution_count": 941,
     "metadata": {},
     "output_type": "execute_result"
    }
   ],
   "source": [
    "train[\"pitcherHand\"].value_counts()"
   ]
  },
  {
   "cell_type": "code",
   "execution_count": 942,
   "metadata": {},
   "outputs": [
    {
     "data": {
      "text/plain": [
       "R    9019\n",
       "L    8086\n",
       "Name: batterHand, dtype: int64"
      ]
     },
     "execution_count": 942,
     "metadata": {},
     "output_type": "execute_result"
    }
   ],
   "source": [
    "train[\"batterHand\"].value_counts()"
   ]
  },
  {
   "cell_type": "code",
   "execution_count": 943,
   "metadata": {},
   "outputs": [
    {
     "data": {
      "text/plain": [
       "0        False\n",
       "1        False\n",
       "2        False\n",
       "3        False\n",
       "4        False\n",
       "         ...  \n",
       "20152    False\n",
       "20153    False\n",
       "20154    False\n",
       "20155    False\n",
       "20156    False\n",
       "Name: pitcherHand, Length: 17136, dtype: bool"
      ]
     },
     "execution_count": 943,
     "metadata": {},
     "output_type": "execute_result"
    }
   ],
   "source": [
    "train['pitcherHand'].isnull()"
   ]
  },
  {
   "cell_type": "code",
   "execution_count": 944,
   "metadata": {},
   "outputs": [
    {
     "data": {
      "text/html": [
       "<div>\n",
       "<style scoped>\n",
       "    .dataframe tbody tr th:only-of-type {\n",
       "        vertical-align: middle;\n",
       "    }\n",
       "\n",
       "    .dataframe tbody tr th {\n",
       "        vertical-align: top;\n",
       "    }\n",
       "\n",
       "    .dataframe thead th {\n",
       "        text-align: right;\n",
       "    }\n",
       "</style>\n",
       "<table border=\"1\" class=\"dataframe\">\n",
       "  <thead>\n",
       "    <tr style=\"text-align: right;\">\n",
       "      <th></th>\n",
       "      <th>totalPitchingCount</th>\n",
       "      <th>B</th>\n",
       "      <th>S</th>\n",
       "      <th>O</th>\n",
       "      <th>b1</th>\n",
       "      <th>b2</th>\n",
       "      <th>b3</th>\n",
       "      <th>pitcher</th>\n",
       "      <th>pitcherHand</th>\n",
       "      <th>batter</th>\n",
       "      <th>batterHand</th>\n",
       "      <th>gameID</th>\n",
       "      <th>inning</th>\n",
       "      <th>y</th>\n",
       "      <th>bottomTeam</th>\n",
       "      <th>bgBottom</th>\n",
       "      <th>topTeam</th>\n",
       "      <th>place</th>\n",
       "      <th>bgTop</th>\n",
       "    </tr>\n",
       "  </thead>\n",
       "  <tbody>\n",
       "    <tr>\n",
       "      <th>986</th>\n",
       "      <td>1</td>\n",
       "      <td>0</td>\n",
       "      <td>0</td>\n",
       "      <td>2</td>\n",
       "      <td>True</td>\n",
       "      <td>False</td>\n",
       "      <td>True</td>\n",
       "      <td>東浜 巨</td>\n",
       "      <td>NaN</td>\n",
       "      <td>角中 勝也</td>\n",
       "      <td>NaN</td>\n",
       "      <td>20202170</td>\n",
       "      <td>3回表</td>\n",
       "      <td>1</td>\n",
       "      <td>ソフトバンク</td>\n",
       "      <td>12</td>\n",
       "      <td>ロッテ</td>\n",
       "      <td>PayPayドーム</td>\n",
       "      <td>9</td>\n",
       "    </tr>\n",
       "    <tr>\n",
       "      <th>987</th>\n",
       "      <td>2</td>\n",
       "      <td>0</td>\n",
       "      <td>1</td>\n",
       "      <td>2</td>\n",
       "      <td>True</td>\n",
       "      <td>False</td>\n",
       "      <td>True</td>\n",
       "      <td>東浜 巨</td>\n",
       "      <td>NaN</td>\n",
       "      <td>角中 勝也</td>\n",
       "      <td>NaN</td>\n",
       "      <td>20202170</td>\n",
       "      <td>3回表</td>\n",
       "      <td>0</td>\n",
       "      <td>ソフトバンク</td>\n",
       "      <td>12</td>\n",
       "      <td>ロッテ</td>\n",
       "      <td>PayPayドーム</td>\n",
       "      <td>9</td>\n",
       "    </tr>\n",
       "    <tr>\n",
       "      <th>988</th>\n",
       "      <td>3</td>\n",
       "      <td>1</td>\n",
       "      <td>1</td>\n",
       "      <td>2</td>\n",
       "      <td>True</td>\n",
       "      <td>False</td>\n",
       "      <td>True</td>\n",
       "      <td>東浜 巨</td>\n",
       "      <td>NaN</td>\n",
       "      <td>角中 勝也</td>\n",
       "      <td>NaN</td>\n",
       "      <td>20202170</td>\n",
       "      <td>3回表</td>\n",
       "      <td>1</td>\n",
       "      <td>ソフトバンク</td>\n",
       "      <td>12</td>\n",
       "      <td>ロッテ</td>\n",
       "      <td>PayPayドーム</td>\n",
       "      <td>9</td>\n",
       "    </tr>\n",
       "    <tr>\n",
       "      <th>2975</th>\n",
       "      <td>1</td>\n",
       "      <td>0</td>\n",
       "      <td>0</td>\n",
       "      <td>2</td>\n",
       "      <td>True</td>\n",
       "      <td>False</td>\n",
       "      <td>True</td>\n",
       "      <td>松井 裕樹</td>\n",
       "      <td>NaN</td>\n",
       "      <td>大城 滉二</td>\n",
       "      <td>NaN</td>\n",
       "      <td>20202165</td>\n",
       "      <td>1回裏</td>\n",
       "      <td>0</td>\n",
       "      <td>オリックス</td>\n",
       "      <td>11</td>\n",
       "      <td>楽天</td>\n",
       "      <td>京セラD大阪</td>\n",
       "      <td>10</td>\n",
       "    </tr>\n",
       "    <tr>\n",
       "      <th>2976</th>\n",
       "      <td>2</td>\n",
       "      <td>1</td>\n",
       "      <td>0</td>\n",
       "      <td>2</td>\n",
       "      <td>True</td>\n",
       "      <td>False</td>\n",
       "      <td>True</td>\n",
       "      <td>松井 裕樹</td>\n",
       "      <td>NaN</td>\n",
       "      <td>大城 滉二</td>\n",
       "      <td>NaN</td>\n",
       "      <td>20202165</td>\n",
       "      <td>1回裏</td>\n",
       "      <td>1</td>\n",
       "      <td>オリックス</td>\n",
       "      <td>11</td>\n",
       "      <td>楽天</td>\n",
       "      <td>京セラD大阪</td>\n",
       "      <td>10</td>\n",
       "    </tr>\n",
       "    <tr>\n",
       "      <th>2977</th>\n",
       "      <td>3</td>\n",
       "      <td>1</td>\n",
       "      <td>1</td>\n",
       "      <td>2</td>\n",
       "      <td>True</td>\n",
       "      <td>False</td>\n",
       "      <td>True</td>\n",
       "      <td>松井 裕樹</td>\n",
       "      <td>NaN</td>\n",
       "      <td>大城 滉二</td>\n",
       "      <td>NaN</td>\n",
       "      <td>20202165</td>\n",
       "      <td>1回裏</td>\n",
       "      <td>2</td>\n",
       "      <td>オリックス</td>\n",
       "      <td>11</td>\n",
       "      <td>楽天</td>\n",
       "      <td>京セラD大阪</td>\n",
       "      <td>10</td>\n",
       "    </tr>\n",
       "    <tr>\n",
       "      <th>3910</th>\n",
       "      <td>1</td>\n",
       "      <td>0</td>\n",
       "      <td>0</td>\n",
       "      <td>2</td>\n",
       "      <td>True</td>\n",
       "      <td>False</td>\n",
       "      <td>False</td>\n",
       "      <td>サンチェス</td>\n",
       "      <td>NaN</td>\n",
       "      <td>糸原 健斗</td>\n",
       "      <td>NaN</td>\n",
       "      <td>20202163</td>\n",
       "      <td>3回表</td>\n",
       "      <td>1</td>\n",
       "      <td>巨人</td>\n",
       "      <td>1</td>\n",
       "      <td>阪神</td>\n",
       "      <td>東京ドーム</td>\n",
       "      <td>5</td>\n",
       "    </tr>\n",
       "    <tr>\n",
       "      <th>3911</th>\n",
       "      <td>3</td>\n",
       "      <td>0</td>\n",
       "      <td>1</td>\n",
       "      <td>2</td>\n",
       "      <td>True</td>\n",
       "      <td>False</td>\n",
       "      <td>False</td>\n",
       "      <td>サンチェス</td>\n",
       "      <td>NaN</td>\n",
       "      <td>糸原 健斗</td>\n",
       "      <td>NaN</td>\n",
       "      <td>20202163</td>\n",
       "      <td>3回表</td>\n",
       "      <td>1</td>\n",
       "      <td>巨人</td>\n",
       "      <td>1</td>\n",
       "      <td>阪神</td>\n",
       "      <td>東京ドーム</td>\n",
       "      <td>5</td>\n",
       "    </tr>\n",
       "    <tr>\n",
       "      <th>3912</th>\n",
       "      <td>4</td>\n",
       "      <td>1</td>\n",
       "      <td>2</td>\n",
       "      <td>2</td>\n",
       "      <td>True</td>\n",
       "      <td>False</td>\n",
       "      <td>False</td>\n",
       "      <td>サンチェス</td>\n",
       "      <td>NaN</td>\n",
       "      <td>糸原 健斗</td>\n",
       "      <td>NaN</td>\n",
       "      <td>20202163</td>\n",
       "      <td>3回表</td>\n",
       "      <td>2</td>\n",
       "      <td>巨人</td>\n",
       "      <td>1</td>\n",
       "      <td>阪神</td>\n",
       "      <td>東京ドーム</td>\n",
       "      <td>5</td>\n",
       "    </tr>\n",
       "    <tr>\n",
       "      <th>3913</th>\n",
       "      <td>5</td>\n",
       "      <td>1</td>\n",
       "      <td>2</td>\n",
       "      <td>2</td>\n",
       "      <td>True</td>\n",
       "      <td>False</td>\n",
       "      <td>False</td>\n",
       "      <td>サンチェス</td>\n",
       "      <td>NaN</td>\n",
       "      <td>糸原 健斗</td>\n",
       "      <td>NaN</td>\n",
       "      <td>20202163</td>\n",
       "      <td>3回表</td>\n",
       "      <td>0</td>\n",
       "      <td>巨人</td>\n",
       "      <td>1</td>\n",
       "      <td>阪神</td>\n",
       "      <td>東京ドーム</td>\n",
       "      <td>5</td>\n",
       "    </tr>\n",
       "    <tr>\n",
       "      <th>5924</th>\n",
       "      <td>1</td>\n",
       "      <td>0</td>\n",
       "      <td>0</td>\n",
       "      <td>2</td>\n",
       "      <td>True</td>\n",
       "      <td>False</td>\n",
       "      <td>False</td>\n",
       "      <td>戸郷 翔征</td>\n",
       "      <td>NaN</td>\n",
       "      <td>安部 友裕</td>\n",
       "      <td>NaN</td>\n",
       "      <td>20202157</td>\n",
       "      <td>3回表</td>\n",
       "      <td>0</td>\n",
       "      <td>巨人</td>\n",
       "      <td>1</td>\n",
       "      <td>広島</td>\n",
       "      <td>東京ドーム</td>\n",
       "      <td>6</td>\n",
       "    </tr>\n",
       "    <tr>\n",
       "      <th>5925</th>\n",
       "      <td>2</td>\n",
       "      <td>1</td>\n",
       "      <td>0</td>\n",
       "      <td>2</td>\n",
       "      <td>True</td>\n",
       "      <td>False</td>\n",
       "      <td>False</td>\n",
       "      <td>戸郷 翔征</td>\n",
       "      <td>NaN</td>\n",
       "      <td>安部 友裕</td>\n",
       "      <td>NaN</td>\n",
       "      <td>20202157</td>\n",
       "      <td>3回表</td>\n",
       "      <td>1</td>\n",
       "      <td>巨人</td>\n",
       "      <td>1</td>\n",
       "      <td>広島</td>\n",
       "      <td>東京ドーム</td>\n",
       "      <td>6</td>\n",
       "    </tr>\n",
       "    <tr>\n",
       "      <th>5926</th>\n",
       "      <td>3</td>\n",
       "      <td>1</td>\n",
       "      <td>1</td>\n",
       "      <td>2</td>\n",
       "      <td>True</td>\n",
       "      <td>False</td>\n",
       "      <td>False</td>\n",
       "      <td>戸郷 翔征</td>\n",
       "      <td>NaN</td>\n",
       "      <td>安部 友裕</td>\n",
       "      <td>NaN</td>\n",
       "      <td>20202157</td>\n",
       "      <td>3回表</td>\n",
       "      <td>3</td>\n",
       "      <td>巨人</td>\n",
       "      <td>1</td>\n",
       "      <td>広島</td>\n",
       "      <td>東京ドーム</td>\n",
       "      <td>6</td>\n",
       "    </tr>\n",
       "    <tr>\n",
       "      <th>8184</th>\n",
       "      <td>1</td>\n",
       "      <td>0</td>\n",
       "      <td>0</td>\n",
       "      <td>2</td>\n",
       "      <td>True</td>\n",
       "      <td>False</td>\n",
       "      <td>False</td>\n",
       "      <td>石川 柊太</td>\n",
       "      <td>NaN</td>\n",
       "      <td>源田 壮亮</td>\n",
       "      <td>NaN</td>\n",
       "      <td>20202147</td>\n",
       "      <td>2回裏</td>\n",
       "      <td>0</td>\n",
       "      <td>西武</td>\n",
       "      <td>7</td>\n",
       "      <td>ソフトバンク</td>\n",
       "      <td>メットライフ</td>\n",
       "      <td>12</td>\n",
       "    </tr>\n",
       "    <tr>\n",
       "      <th>10105</th>\n",
       "      <td>1</td>\n",
       "      <td>0</td>\n",
       "      <td>0</td>\n",
       "      <td>2</td>\n",
       "      <td>True</td>\n",
       "      <td>False</td>\n",
       "      <td>False</td>\n",
       "      <td>塩見 貴洋</td>\n",
       "      <td>NaN</td>\n",
       "      <td>近藤 健介</td>\n",
       "      <td>NaN</td>\n",
       "      <td>20202142</td>\n",
       "      <td>3回表</td>\n",
       "      <td>2</td>\n",
       "      <td>楽天</td>\n",
       "      <td>10</td>\n",
       "      <td>日本ハム</td>\n",
       "      <td>楽天生命パーク</td>\n",
       "      <td>8</td>\n",
       "    </tr>\n",
       "    <tr>\n",
       "      <th>10106</th>\n",
       "      <td>2</td>\n",
       "      <td>0</td>\n",
       "      <td>1</td>\n",
       "      <td>2</td>\n",
       "      <td>True</td>\n",
       "      <td>False</td>\n",
       "      <td>False</td>\n",
       "      <td>塩見 貴洋</td>\n",
       "      <td>NaN</td>\n",
       "      <td>近藤 健介</td>\n",
       "      <td>NaN</td>\n",
       "      <td>20202142</td>\n",
       "      <td>3回表</td>\n",
       "      <td>0</td>\n",
       "      <td>楽天</td>\n",
       "      <td>10</td>\n",
       "      <td>日本ハム</td>\n",
       "      <td>楽天生命パーク</td>\n",
       "      <td>8</td>\n",
       "    </tr>\n",
       "    <tr>\n",
       "      <th>10107</th>\n",
       "      <td>3</td>\n",
       "      <td>1</td>\n",
       "      <td>1</td>\n",
       "      <td>2</td>\n",
       "      <td>True</td>\n",
       "      <td>False</td>\n",
       "      <td>False</td>\n",
       "      <td>塩見 貴洋</td>\n",
       "      <td>NaN</td>\n",
       "      <td>近藤 健介</td>\n",
       "      <td>NaN</td>\n",
       "      <td>20202142</td>\n",
       "      <td>3回表</td>\n",
       "      <td>0</td>\n",
       "      <td>楽天</td>\n",
       "      <td>10</td>\n",
       "      <td>日本ハム</td>\n",
       "      <td>楽天生命パーク</td>\n",
       "      <td>8</td>\n",
       "    </tr>\n",
       "    <tr>\n",
       "      <th>15265</th>\n",
       "      <td>1</td>\n",
       "      <td>0</td>\n",
       "      <td>0</td>\n",
       "      <td>2</td>\n",
       "      <td>True</td>\n",
       "      <td>False</td>\n",
       "      <td>False</td>\n",
       "      <td>中田 賢一</td>\n",
       "      <td>NaN</td>\n",
       "      <td>ソト</td>\n",
       "      <td>NaN</td>\n",
       "      <td>20202126</td>\n",
       "      <td>4回裏</td>\n",
       "      <td>0</td>\n",
       "      <td>DeNA</td>\n",
       "      <td>3</td>\n",
       "      <td>阪神</td>\n",
       "      <td>横浜</td>\n",
       "      <td>5</td>\n",
       "    </tr>\n",
       "    <tr>\n",
       "      <th>15266</th>\n",
       "      <td>2</td>\n",
       "      <td>1</td>\n",
       "      <td>0</td>\n",
       "      <td>2</td>\n",
       "      <td>True</td>\n",
       "      <td>False</td>\n",
       "      <td>False</td>\n",
       "      <td>中田 賢一</td>\n",
       "      <td>NaN</td>\n",
       "      <td>ソト</td>\n",
       "      <td>NaN</td>\n",
       "      <td>20202126</td>\n",
       "      <td>4回裏</td>\n",
       "      <td>2</td>\n",
       "      <td>DeNA</td>\n",
       "      <td>3</td>\n",
       "      <td>阪神</td>\n",
       "      <td>横浜</td>\n",
       "      <td>5</td>\n",
       "    </tr>\n",
       "    <tr>\n",
       "      <th>15267</th>\n",
       "      <td>3</td>\n",
       "      <td>1</td>\n",
       "      <td>1</td>\n",
       "      <td>2</td>\n",
       "      <td>True</td>\n",
       "      <td>False</td>\n",
       "      <td>False</td>\n",
       "      <td>中田 賢一</td>\n",
       "      <td>NaN</td>\n",
       "      <td>ソト</td>\n",
       "      <td>NaN</td>\n",
       "      <td>20202126</td>\n",
       "      <td>4回裏</td>\n",
       "      <td>1</td>\n",
       "      <td>DeNA</td>\n",
       "      <td>3</td>\n",
       "      <td>阪神</td>\n",
       "      <td>横浜</td>\n",
       "      <td>5</td>\n",
       "    </tr>\n",
       "    <tr>\n",
       "      <th>15865</th>\n",
       "      <td>1</td>\n",
       "      <td>0</td>\n",
       "      <td>0</td>\n",
       "      <td>2</td>\n",
       "      <td>True</td>\n",
       "      <td>False</td>\n",
       "      <td>False</td>\n",
       "      <td>二保 旭</td>\n",
       "      <td>NaN</td>\n",
       "      <td>金子 侑司</td>\n",
       "      <td>NaN</td>\n",
       "      <td>20202123</td>\n",
       "      <td>4回裏</td>\n",
       "      <td>0</td>\n",
       "      <td>西武</td>\n",
       "      <td>7</td>\n",
       "      <td>ソフトバンク</td>\n",
       "      <td>メットライフ</td>\n",
       "      <td>12</td>\n",
       "    </tr>\n",
       "    <tr>\n",
       "      <th>15866</th>\n",
       "      <td>2</td>\n",
       "      <td>1</td>\n",
       "      <td>0</td>\n",
       "      <td>2</td>\n",
       "      <td>True</td>\n",
       "      <td>False</td>\n",
       "      <td>False</td>\n",
       "      <td>二保 旭</td>\n",
       "      <td>NaN</td>\n",
       "      <td>金子 侑司</td>\n",
       "      <td>NaN</td>\n",
       "      <td>20202123</td>\n",
       "      <td>4回裏</td>\n",
       "      <td>2</td>\n",
       "      <td>西武</td>\n",
       "      <td>7</td>\n",
       "      <td>ソフトバンク</td>\n",
       "      <td>メットライフ</td>\n",
       "      <td>12</td>\n",
       "    </tr>\n",
       "    <tr>\n",
       "      <th>17068</th>\n",
       "      <td>1</td>\n",
       "      <td>0</td>\n",
       "      <td>0</td>\n",
       "      <td>2</td>\n",
       "      <td>True</td>\n",
       "      <td>False</td>\n",
       "      <td>True</td>\n",
       "      <td>山本 由伸</td>\n",
       "      <td>NaN</td>\n",
       "      <td>荻野 貴司</td>\n",
       "      <td>NaN</td>\n",
       "      <td>20202122</td>\n",
       "      <td>4回裏</td>\n",
       "      <td>1</td>\n",
       "      <td>ロッテ</td>\n",
       "      <td>9</td>\n",
       "      <td>オリックス</td>\n",
       "      <td>ZOZOマリン</td>\n",
       "      <td>11</td>\n",
       "    </tr>\n",
       "    <tr>\n",
       "      <th>17069</th>\n",
       "      <td>2</td>\n",
       "      <td>0</td>\n",
       "      <td>1</td>\n",
       "      <td>2</td>\n",
       "      <td>True</td>\n",
       "      <td>False</td>\n",
       "      <td>True</td>\n",
       "      <td>山本 由伸</td>\n",
       "      <td>NaN</td>\n",
       "      <td>荻野 貴司</td>\n",
       "      <td>NaN</td>\n",
       "      <td>20202122</td>\n",
       "      <td>4回裏</td>\n",
       "      <td>0</td>\n",
       "      <td>ロッテ</td>\n",
       "      <td>9</td>\n",
       "      <td>オリックス</td>\n",
       "      <td>ZOZOマリン</td>\n",
       "      <td>11</td>\n",
       "    </tr>\n",
       "    <tr>\n",
       "      <th>17070</th>\n",
       "      <td>3</td>\n",
       "      <td>1</td>\n",
       "      <td>1</td>\n",
       "      <td>2</td>\n",
       "      <td>True</td>\n",
       "      <td>False</td>\n",
       "      <td>True</td>\n",
       "      <td>山本 由伸</td>\n",
       "      <td>NaN</td>\n",
       "      <td>荻野 貴司</td>\n",
       "      <td>NaN</td>\n",
       "      <td>20202122</td>\n",
       "      <td>4回裏</td>\n",
       "      <td>2</td>\n",
       "      <td>ロッテ</td>\n",
       "      <td>9</td>\n",
       "      <td>オリックス</td>\n",
       "      <td>ZOZOマリン</td>\n",
       "      <td>11</td>\n",
       "    </tr>\n",
       "    <tr>\n",
       "      <th>17071</th>\n",
       "      <td>4</td>\n",
       "      <td>1</td>\n",
       "      <td>2</td>\n",
       "      <td>2</td>\n",
       "      <td>True</td>\n",
       "      <td>False</td>\n",
       "      <td>True</td>\n",
       "      <td>山本 由伸</td>\n",
       "      <td>NaN</td>\n",
       "      <td>荻野 貴司</td>\n",
       "      <td>NaN</td>\n",
       "      <td>20202122</td>\n",
       "      <td>4回裏</td>\n",
       "      <td>2</td>\n",
       "      <td>ロッテ</td>\n",
       "      <td>9</td>\n",
       "      <td>オリックス</td>\n",
       "      <td>ZOZOマリン</td>\n",
       "      <td>11</td>\n",
       "    </tr>\n",
       "    <tr>\n",
       "      <th>18688</th>\n",
       "      <td>1</td>\n",
       "      <td>0</td>\n",
       "      <td>0</td>\n",
       "      <td>2</td>\n",
       "      <td>True</td>\n",
       "      <td>False</td>\n",
       "      <td>False</td>\n",
       "      <td>高橋 光成</td>\n",
       "      <td>NaN</td>\n",
       "      <td>ジョーンズ</td>\n",
       "      <td>NaN</td>\n",
       "      <td>20202116</td>\n",
       "      <td>1回表</td>\n",
       "      <td>0</td>\n",
       "      <td>西武</td>\n",
       "      <td>7</td>\n",
       "      <td>オリックス</td>\n",
       "      <td>メットライフ</td>\n",
       "      <td>11</td>\n",
       "    </tr>\n",
       "    <tr>\n",
       "      <th>18689</th>\n",
       "      <td>2</td>\n",
       "      <td>1</td>\n",
       "      <td>0</td>\n",
       "      <td>2</td>\n",
       "      <td>True</td>\n",
       "      <td>False</td>\n",
       "      <td>False</td>\n",
       "      <td>高橋 光成</td>\n",
       "      <td>NaN</td>\n",
       "      <td>ジョーンズ</td>\n",
       "      <td>NaN</td>\n",
       "      <td>20202116</td>\n",
       "      <td>1回表</td>\n",
       "      <td>1</td>\n",
       "      <td>西武</td>\n",
       "      <td>7</td>\n",
       "      <td>オリックス</td>\n",
       "      <td>メットライフ</td>\n",
       "      <td>11</td>\n",
       "    </tr>\n",
       "    <tr>\n",
       "      <th>18690</th>\n",
       "      <td>3</td>\n",
       "      <td>1</td>\n",
       "      <td>1</td>\n",
       "      <td>2</td>\n",
       "      <td>True</td>\n",
       "      <td>False</td>\n",
       "      <td>False</td>\n",
       "      <td>高橋 光成</td>\n",
       "      <td>NaN</td>\n",
       "      <td>ジョーンズ</td>\n",
       "      <td>NaN</td>\n",
       "      <td>20202116</td>\n",
       "      <td>1回表</td>\n",
       "      <td>1</td>\n",
       "      <td>西武</td>\n",
       "      <td>7</td>\n",
       "      <td>オリックス</td>\n",
       "      <td>メットライフ</td>\n",
       "      <td>11</td>\n",
       "    </tr>\n",
       "    <tr>\n",
       "      <th>18691</th>\n",
       "      <td>4</td>\n",
       "      <td>1</td>\n",
       "      <td>2</td>\n",
       "      <td>2</td>\n",
       "      <td>True</td>\n",
       "      <td>False</td>\n",
       "      <td>False</td>\n",
       "      <td>高橋 光成</td>\n",
       "      <td>NaN</td>\n",
       "      <td>ジョーンズ</td>\n",
       "      <td>NaN</td>\n",
       "      <td>20202116</td>\n",
       "      <td>1回表</td>\n",
       "      <td>2</td>\n",
       "      <td>西武</td>\n",
       "      <td>7</td>\n",
       "      <td>オリックス</td>\n",
       "      <td>メットライフ</td>\n",
       "      <td>11</td>\n",
       "    </tr>\n",
       "    <tr>\n",
       "      <th>18846</th>\n",
       "      <td>1</td>\n",
       "      <td>0</td>\n",
       "      <td>0</td>\n",
       "      <td>2</td>\n",
       "      <td>True</td>\n",
       "      <td>False</td>\n",
       "      <td>False</td>\n",
       "      <td>神戸 文也</td>\n",
       "      <td>NaN</td>\n",
       "      <td>森 友哉</td>\n",
       "      <td>NaN</td>\n",
       "      <td>20202116</td>\n",
       "      <td>5回裏</td>\n",
       "      <td>0</td>\n",
       "      <td>西武</td>\n",
       "      <td>7</td>\n",
       "      <td>オリックス</td>\n",
       "      <td>メットライフ</td>\n",
       "      <td>11</td>\n",
       "    </tr>\n",
       "  </tbody>\n",
       "</table>\n",
       "</div>"
      ],
      "text/plain": [
       "       totalPitchingCount  B  S  O    b1     b2     b3 pitcher pitcherHand  \\\n",
       "986                     1  0  0  2  True  False   True    東浜 巨         NaN   \n",
       "987                     2  0  1  2  True  False   True    東浜 巨         NaN   \n",
       "988                     3  1  1  2  True  False   True    東浜 巨         NaN   \n",
       "2975                    1  0  0  2  True  False   True   松井 裕樹         NaN   \n",
       "2976                    2  1  0  2  True  False   True   松井 裕樹         NaN   \n",
       "2977                    3  1  1  2  True  False   True   松井 裕樹         NaN   \n",
       "3910                    1  0  0  2  True  False  False   サンチェス         NaN   \n",
       "3911                    3  0  1  2  True  False  False   サンチェス         NaN   \n",
       "3912                    4  1  2  2  True  False  False   サンチェス         NaN   \n",
       "3913                    5  1  2  2  True  False  False   サンチェス         NaN   \n",
       "5924                    1  0  0  2  True  False  False   戸郷 翔征         NaN   \n",
       "5925                    2  1  0  2  True  False  False   戸郷 翔征         NaN   \n",
       "5926                    3  1  1  2  True  False  False   戸郷 翔征         NaN   \n",
       "8184                    1  0  0  2  True  False  False   石川 柊太         NaN   \n",
       "10105                   1  0  0  2  True  False  False   塩見 貴洋         NaN   \n",
       "10106                   2  0  1  2  True  False  False   塩見 貴洋         NaN   \n",
       "10107                   3  1  1  2  True  False  False   塩見 貴洋         NaN   \n",
       "15265                   1  0  0  2  True  False  False   中田 賢一         NaN   \n",
       "15266                   2  1  0  2  True  False  False   中田 賢一         NaN   \n",
       "15267                   3  1  1  2  True  False  False   中田 賢一         NaN   \n",
       "15865                   1  0  0  2  True  False  False    二保 旭         NaN   \n",
       "15866                   2  1  0  2  True  False  False    二保 旭         NaN   \n",
       "17068                   1  0  0  2  True  False   True   山本 由伸         NaN   \n",
       "17069                   2  0  1  2  True  False   True   山本 由伸         NaN   \n",
       "17070                   3  1  1  2  True  False   True   山本 由伸         NaN   \n",
       "17071                   4  1  2  2  True  False   True   山本 由伸         NaN   \n",
       "18688                   1  0  0  2  True  False  False   高橋 光成         NaN   \n",
       "18689                   2  1  0  2  True  False  False   高橋 光成         NaN   \n",
       "18690                   3  1  1  2  True  False  False   高橋 光成         NaN   \n",
       "18691                   4  1  2  2  True  False  False   高橋 光成         NaN   \n",
       "18846                   1  0  0  2  True  False  False   神戸 文也         NaN   \n",
       "\n",
       "      batter batterHand    gameID inning  y bottomTeam  bgBottom topTeam  \\\n",
       "986    角中 勝也        NaN  20202170    3回表  1     ソフトバンク        12     ロッテ   \n",
       "987    角中 勝也        NaN  20202170    3回表  0     ソフトバンク        12     ロッテ   \n",
       "988    角中 勝也        NaN  20202170    3回表  1     ソフトバンク        12     ロッテ   \n",
       "2975   大城 滉二        NaN  20202165    1回裏  0      オリックス        11      楽天   \n",
       "2976   大城 滉二        NaN  20202165    1回裏  1      オリックス        11      楽天   \n",
       "2977   大城 滉二        NaN  20202165    1回裏  2      オリックス        11      楽天   \n",
       "3910   糸原 健斗        NaN  20202163    3回表  1         巨人         1      阪神   \n",
       "3911   糸原 健斗        NaN  20202163    3回表  1         巨人         1      阪神   \n",
       "3912   糸原 健斗        NaN  20202163    3回表  2         巨人         1      阪神   \n",
       "3913   糸原 健斗        NaN  20202163    3回表  0         巨人         1      阪神   \n",
       "5924   安部 友裕        NaN  20202157    3回表  0         巨人         1      広島   \n",
       "5925   安部 友裕        NaN  20202157    3回表  1         巨人         1      広島   \n",
       "5926   安部 友裕        NaN  20202157    3回表  3         巨人         1      広島   \n",
       "8184   源田 壮亮        NaN  20202147    2回裏  0         西武         7  ソフトバンク   \n",
       "10105  近藤 健介        NaN  20202142    3回表  2         楽天        10    日本ハム   \n",
       "10106  近藤 健介        NaN  20202142    3回表  0         楽天        10    日本ハム   \n",
       "10107  近藤 健介        NaN  20202142    3回表  0         楽天        10    日本ハム   \n",
       "15265     ソト        NaN  20202126    4回裏  0       DeNA         3      阪神   \n",
       "15266     ソト        NaN  20202126    4回裏  2       DeNA         3      阪神   \n",
       "15267     ソト        NaN  20202126    4回裏  1       DeNA         3      阪神   \n",
       "15865  金子 侑司        NaN  20202123    4回裏  0         西武         7  ソフトバンク   \n",
       "15866  金子 侑司        NaN  20202123    4回裏  2         西武         7  ソフトバンク   \n",
       "17068  荻野 貴司        NaN  20202122    4回裏  1        ロッテ         9   オリックス   \n",
       "17069  荻野 貴司        NaN  20202122    4回裏  0        ロッテ         9   オリックス   \n",
       "17070  荻野 貴司        NaN  20202122    4回裏  2        ロッテ         9   オリックス   \n",
       "17071  荻野 貴司        NaN  20202122    4回裏  2        ロッテ         9   オリックス   \n",
       "18688  ジョーンズ        NaN  20202116    1回表  0         西武         7   オリックス   \n",
       "18689  ジョーンズ        NaN  20202116    1回表  1         西武         7   オリックス   \n",
       "18690  ジョーンズ        NaN  20202116    1回表  1         西武         7   オリックス   \n",
       "18691  ジョーンズ        NaN  20202116    1回表  2         西武         7   オリックス   \n",
       "18846   森 友哉        NaN  20202116    5回裏  0         西武         7   オリックス   \n",
       "\n",
       "           place  bgTop  \n",
       "986    PayPayドーム      9  \n",
       "987    PayPayドーム      9  \n",
       "988    PayPayドーム      9  \n",
       "2975      京セラD大阪     10  \n",
       "2976      京セラD大阪     10  \n",
       "2977      京セラD大阪     10  \n",
       "3910       東京ドーム      5  \n",
       "3911       東京ドーム      5  \n",
       "3912       東京ドーム      5  \n",
       "3913       東京ドーム      5  \n",
       "5924       東京ドーム      6  \n",
       "5925       東京ドーム      6  \n",
       "5926       東京ドーム      6  \n",
       "8184      メットライフ     12  \n",
       "10105    楽天生命パーク      8  \n",
       "10106    楽天生命パーク      8  \n",
       "10107    楽天生命パーク      8  \n",
       "15265         横浜      5  \n",
       "15266         横浜      5  \n",
       "15267         横浜      5  \n",
       "15865     メットライフ     12  \n",
       "15866     メットライフ     12  \n",
       "17068    ZOZOマリン     11  \n",
       "17069    ZOZOマリン     11  \n",
       "17070    ZOZOマリン     11  \n",
       "17071    ZOZOマリン     11  \n",
       "18688     メットライフ     11  \n",
       "18689     メットライフ     11  \n",
       "18690     メットライフ     11  \n",
       "18691     メットライフ     11  \n",
       "18846     メットライフ     11  "
      ]
     },
     "execution_count": 944,
     "metadata": {},
     "output_type": "execute_result"
    }
   ],
   "source": [
    "#train[train['pitcherHand'].isnull()]\n",
    "train[train['batterHand'].isnull()]"
   ]
  },
  {
   "cell_type": "code",
   "execution_count": 945,
   "metadata": {},
   "outputs": [
    {
     "name": "stdout",
     "output_type": "stream",
     "text": [
      "Index(['荻野 貴司', 'ジョーンズ', '糸原 健斗', '角中 勝也', '大城 滉二', 'ソト', '近藤 健介', '安部 友裕',\n",
      "       '金子 侑司', '森 友哉', '源田 壮亮'],\n",
      "      dtype='object')\n"
     ]
    }
   ],
   "source": [
    "train_test= train[train['batterHand'].isnull()]\n",
    "batters= train_test['batter'].value_counts()\n",
    "##Index(['高橋 光成', 'サンチェス', '山本 由伸', '松井 裕樹', '戸郷 翔征', '中田 賢一', '東浜 巨', '塩見 貴洋','二保 旭', '石川 柊太', '神戸 文也'],dtype='object')\n",
    "#print(pitchers.index)\n",
    "print(batters.index)\n"
   ]
  },
  {
   "cell_type": "code",
   "execution_count": 946,
   "metadata": {},
   "outputs": [],
   "source": [
    "#ピッチャーの投げる手のnullを補完\n",
    "com_train= train[train['pitcherHand'].isnull()]\n",
    "for index, row in train.iterrows():    \n",
    "    #print(index, row)\n",
    "    #print(row.at['pitcher'] )\n",
    "    if row.at['pitcher'] in pitchers.index:\n",
    "        if row.at['pitcher'] in ['松井 裕樹','塩見 貴洋']:\n",
    "            #print(row.at['pitcher'])\n",
    "            train.at['pitcherHand'] ='L'\n",
    "           # print(row.at['pitcherHand'])\n",
    "        if row.at['pitcher'] in ['神戸 文也','石川 柊太','高橋 光成','中田 賢一','サンチェス','山本 由伸','戸郷 翔征','東浜 巨','二保 旭']:\n",
    "            #print(row.at['pitcher'])\n",
    "            train.at['pitcherHand'] ='R'\n",
    "            #print(row.at['pitcherHand'])\n",
    "#for rt in com_train:\n",
    "#    print(rt)"
   ]
  },
  {
   "cell_type": "code",
   "execution_count": 947,
   "metadata": {},
   "outputs": [],
   "source": [
    "#バッターの打つ手のnullを補完\n",
    "# yにbatterHand Lが混ざってしまう。\n",
    "train_test= train[train['batterHand'].isnull()]\n",
    "batters= train_test['batter'].value_counts()\n",
    "com_train= train[train['batter'].isnull()]\n",
    "\n",
    "for index, row in train.iterrows():    \n",
    "    if row.at['batter'] in batters.index:\n",
    "        if row.at['batter'] in ['糸原 健斗','角中 勝也','近藤 健介','安部 友裕','金子 侑司','森 友哉','源田 壮亮']:\n",
    "            train.at['batterHand'] ='L'\n",
    "        if row.at['batter'] in ['荻野 貴司','ジョーンズ','大城 滉二','ソト']:\n",
    "            train.at['batterHand'] ='R'\n"
   ]
  },
  {
   "cell_type": "code",
   "execution_count": 948,
   "metadata": {},
   "outputs": [
    {
     "data": {
      "text/plain": [
       "0             0\n",
       "1             1\n",
       "2             0\n",
       "3             2\n",
       "4             4\n",
       "             ..\n",
       "20153         0\n",
       "20154         1\n",
       "20155         0\n",
       "20156         1\n",
       "batterHand    L\n",
       "Name: y, Length: 17137, dtype: object"
      ]
     },
     "execution_count": 948,
     "metadata": {},
     "output_type": "execute_result"
    }
   ],
   "source": [
    "train['y']"
   ]
  },
  {
   "cell_type": "code",
   "execution_count": 949,
   "metadata": {},
   "outputs": [
    {
     "data": {
      "text/plain": [
       "totalPitchingCount    0\n",
       "B                     0\n",
       "S                     0\n",
       "O                     0\n",
       "b1                    0\n",
       "b2                    0\n",
       "b3                    0\n",
       "pitcher               0\n",
       "batter                0\n",
       "gameID                0\n",
       "inning                0\n",
       "y                     0\n",
       "bottomTeam            0\n",
       "bgBottom              0\n",
       "topTeam               0\n",
       "place                 0\n",
       "bgTop                 0\n",
       "dtype: int64"
      ]
     },
     "execution_count": 949,
     "metadata": {},
     "output_type": "execute_result"
    }
   ],
   "source": [
    "imp_data.isnull().sum()"
   ]
  },
  {
   "cell_type": "code",
   "execution_count": 950,
   "metadata": {},
   "outputs": [
    {
     "data": {
      "text/plain": [
       "0             0\n",
       "1             1\n",
       "2             0\n",
       "3             2\n",
       "4             4\n",
       "             ..\n",
       "20153         0\n",
       "20154         1\n",
       "20155         0\n",
       "20156         1\n",
       "batterHand    L\n",
       "Name: y, Length: 17137, dtype: object"
      ]
     },
     "execution_count": 950,
     "metadata": {},
     "output_type": "execute_result"
    }
   ],
   "source": [
    "train['y']"
   ]
  },
  {
   "cell_type": "code",
   "execution_count": 951,
   "metadata": {},
   "outputs": [],
   "source": [
    "del train['pitcherHand']\n",
    "del test['pitcherHand']\n",
    "del train['batterHand']\n",
    "del test['batterHand']"
   ]
  },
  {
   "cell_type": "code",
   "execution_count": 952,
   "metadata": {},
   "outputs": [
    {
     "data": {
      "text/html": [
       "<div>\n",
       "<style scoped>\n",
       "    .dataframe tbody tr th:only-of-type {\n",
       "        vertical-align: middle;\n",
       "    }\n",
       "\n",
       "    .dataframe tbody tr th {\n",
       "        vertical-align: top;\n",
       "    }\n",
       "\n",
       "    .dataframe thead th {\n",
       "        text-align: right;\n",
       "    }\n",
       "</style>\n",
       "<table border=\"1\" class=\"dataframe\">\n",
       "  <thead>\n",
       "    <tr style=\"text-align: right;\">\n",
       "      <th></th>\n",
       "      <th>totalPitchingCount</th>\n",
       "      <th>B</th>\n",
       "      <th>S</th>\n",
       "      <th>O</th>\n",
       "      <th>b1</th>\n",
       "      <th>b2</th>\n",
       "      <th>b3</th>\n",
       "      <th>pitcher</th>\n",
       "      <th>batter</th>\n",
       "      <th>gameID</th>\n",
       "      <th>inning</th>\n",
       "      <th>y</th>\n",
       "      <th>bottomTeam</th>\n",
       "      <th>bgBottom</th>\n",
       "      <th>topTeam</th>\n",
       "      <th>place</th>\n",
       "      <th>bgTop</th>\n",
       "    </tr>\n",
       "  </thead>\n",
       "  <tbody>\n",
       "    <tr>\n",
       "      <th>0</th>\n",
       "      <td>1</td>\n",
       "      <td>0</td>\n",
       "      <td>0</td>\n",
       "      <td>0</td>\n",
       "      <td>False</td>\n",
       "      <td>False</td>\n",
       "      <td>False</td>\n",
       "      <td>今永 昇太</td>\n",
       "      <td>ピレラ</td>\n",
       "      <td>2.02022e+07</td>\n",
       "      <td>1回表</td>\n",
       "      <td>0</td>\n",
       "      <td>DeNA</td>\n",
       "      <td>3</td>\n",
       "      <td>広島</td>\n",
       "      <td>横浜</td>\n",
       "      <td>6</td>\n",
       "    </tr>\n",
       "    <tr>\n",
       "      <th>1</th>\n",
       "      <td>2</td>\n",
       "      <td>1</td>\n",
       "      <td>0</td>\n",
       "      <td>0</td>\n",
       "      <td>False</td>\n",
       "      <td>False</td>\n",
       "      <td>False</td>\n",
       "      <td>今永 昇太</td>\n",
       "      <td>ピレラ</td>\n",
       "      <td>2.02022e+07</td>\n",
       "      <td>1回表</td>\n",
       "      <td>1</td>\n",
       "      <td>DeNA</td>\n",
       "      <td>3</td>\n",
       "      <td>広島</td>\n",
       "      <td>横浜</td>\n",
       "      <td>6</td>\n",
       "    </tr>\n",
       "    <tr>\n",
       "      <th>2</th>\n",
       "      <td>3</td>\n",
       "      <td>1</td>\n",
       "      <td>1</td>\n",
       "      <td>0</td>\n",
       "      <td>False</td>\n",
       "      <td>False</td>\n",
       "      <td>False</td>\n",
       "      <td>今永 昇太</td>\n",
       "      <td>ピレラ</td>\n",
       "      <td>2.02022e+07</td>\n",
       "      <td>1回表</td>\n",
       "      <td>0</td>\n",
       "      <td>DeNA</td>\n",
       "      <td>3</td>\n",
       "      <td>広島</td>\n",
       "      <td>横浜</td>\n",
       "      <td>6</td>\n",
       "    </tr>\n",
       "    <tr>\n",
       "      <th>3</th>\n",
       "      <td>4</td>\n",
       "      <td>2</td>\n",
       "      <td>1</td>\n",
       "      <td>0</td>\n",
       "      <td>False</td>\n",
       "      <td>False</td>\n",
       "      <td>False</td>\n",
       "      <td>今永 昇太</td>\n",
       "      <td>ピレラ</td>\n",
       "      <td>2.02022e+07</td>\n",
       "      <td>1回表</td>\n",
       "      <td>2</td>\n",
       "      <td>DeNA</td>\n",
       "      <td>3</td>\n",
       "      <td>広島</td>\n",
       "      <td>横浜</td>\n",
       "      <td>6</td>\n",
       "    </tr>\n",
       "    <tr>\n",
       "      <th>4</th>\n",
       "      <td>5</td>\n",
       "      <td>2</td>\n",
       "      <td>2</td>\n",
       "      <td>0</td>\n",
       "      <td>False</td>\n",
       "      <td>False</td>\n",
       "      <td>False</td>\n",
       "      <td>今永 昇太</td>\n",
       "      <td>ピレラ</td>\n",
       "      <td>2.02022e+07</td>\n",
       "      <td>1回表</td>\n",
       "      <td>4</td>\n",
       "      <td>DeNA</td>\n",
       "      <td>3</td>\n",
       "      <td>広島</td>\n",
       "      <td>横浜</td>\n",
       "      <td>6</td>\n",
       "    </tr>\n",
       "    <tr>\n",
       "      <th>...</th>\n",
       "      <td>...</td>\n",
       "      <td>...</td>\n",
       "      <td>...</td>\n",
       "      <td>...</td>\n",
       "      <td>...</td>\n",
       "      <td>...</td>\n",
       "      <td>...</td>\n",
       "      <td>...</td>\n",
       "      <td>...</td>\n",
       "      <td>...</td>\n",
       "      <td>...</td>\n",
       "      <td>...</td>\n",
       "      <td>...</td>\n",
       "      <td>...</td>\n",
       "      <td>...</td>\n",
       "      <td>...</td>\n",
       "      <td>...</td>\n",
       "    </tr>\n",
       "    <tr>\n",
       "      <th>20153</th>\n",
       "      <td>3</td>\n",
       "      <td>1</td>\n",
       "      <td>1</td>\n",
       "      <td>2</td>\n",
       "      <td>False</td>\n",
       "      <td>False</td>\n",
       "      <td>False</td>\n",
       "      <td>森 唯斗</td>\n",
       "      <td>大田 泰示</td>\n",
       "      <td>2.02021e+07</td>\n",
       "      <td>9回裏</td>\n",
       "      <td>0</td>\n",
       "      <td>日本ハム</td>\n",
       "      <td>8</td>\n",
       "      <td>ソフトバンク</td>\n",
       "      <td>札幌ドーム</td>\n",
       "      <td>12</td>\n",
       "    </tr>\n",
       "    <tr>\n",
       "      <th>20154</th>\n",
       "      <td>4</td>\n",
       "      <td>2</td>\n",
       "      <td>1</td>\n",
       "      <td>2</td>\n",
       "      <td>False</td>\n",
       "      <td>False</td>\n",
       "      <td>False</td>\n",
       "      <td>森 唯斗</td>\n",
       "      <td>大田 泰示</td>\n",
       "      <td>2.02021e+07</td>\n",
       "      <td>9回裏</td>\n",
       "      <td>1</td>\n",
       "      <td>日本ハム</td>\n",
       "      <td>8</td>\n",
       "      <td>ソフトバンク</td>\n",
       "      <td>札幌ドーム</td>\n",
       "      <td>12</td>\n",
       "    </tr>\n",
       "    <tr>\n",
       "      <th>20155</th>\n",
       "      <td>5</td>\n",
       "      <td>2</td>\n",
       "      <td>2</td>\n",
       "      <td>2</td>\n",
       "      <td>False</td>\n",
       "      <td>False</td>\n",
       "      <td>False</td>\n",
       "      <td>森 唯斗</td>\n",
       "      <td>大田 泰示</td>\n",
       "      <td>2.02021e+07</td>\n",
       "      <td>9回裏</td>\n",
       "      <td>0</td>\n",
       "      <td>日本ハム</td>\n",
       "      <td>8</td>\n",
       "      <td>ソフトバンク</td>\n",
       "      <td>札幌ドーム</td>\n",
       "      <td>12</td>\n",
       "    </tr>\n",
       "    <tr>\n",
       "      <th>20156</th>\n",
       "      <td>6</td>\n",
       "      <td>3</td>\n",
       "      <td>2</td>\n",
       "      <td>2</td>\n",
       "      <td>False</td>\n",
       "      <td>False</td>\n",
       "      <td>False</td>\n",
       "      <td>森 唯斗</td>\n",
       "      <td>大田 泰示</td>\n",
       "      <td>2.02021e+07</td>\n",
       "      <td>9回裏</td>\n",
       "      <td>1</td>\n",
       "      <td>日本ハム</td>\n",
       "      <td>8</td>\n",
       "      <td>ソフトバンク</td>\n",
       "      <td>札幌ドーム</td>\n",
       "      <td>12</td>\n",
       "    </tr>\n",
       "    <tr>\n",
       "      <th>batterHand</th>\n",
       "      <td>L</td>\n",
       "      <td>L</td>\n",
       "      <td>L</td>\n",
       "      <td>L</td>\n",
       "      <td>L</td>\n",
       "      <td>L</td>\n",
       "      <td>L</td>\n",
       "      <td>L</td>\n",
       "      <td>L</td>\n",
       "      <td>L</td>\n",
       "      <td>L</td>\n",
       "      <td>L</td>\n",
       "      <td>L</td>\n",
       "      <td>L</td>\n",
       "      <td>L</td>\n",
       "      <td>L</td>\n",
       "      <td>L</td>\n",
       "    </tr>\n",
       "  </tbody>\n",
       "</table>\n",
       "<p>17137 rows × 17 columns</p>\n",
       "</div>"
      ],
      "text/plain": [
       "           totalPitchingCount  B  S  O     b1     b2     b3 pitcher batter  \\\n",
       "0                           1  0  0  0  False  False  False   今永 昇太    ピレラ   \n",
       "1                           2  1  0  0  False  False  False   今永 昇太    ピレラ   \n",
       "2                           3  1  1  0  False  False  False   今永 昇太    ピレラ   \n",
       "3                           4  2  1  0  False  False  False   今永 昇太    ピレラ   \n",
       "4                           5  2  2  0  False  False  False   今永 昇太    ピレラ   \n",
       "...                       ... .. .. ..    ...    ...    ...     ...    ...   \n",
       "20153                       3  1  1  2  False  False  False    森 唯斗  大田 泰示   \n",
       "20154                       4  2  1  2  False  False  False    森 唯斗  大田 泰示   \n",
       "20155                       5  2  2  2  False  False  False    森 唯斗  大田 泰示   \n",
       "20156                       6  3  2  2  False  False  False    森 唯斗  大田 泰示   \n",
       "batterHand                  L  L  L  L      L      L      L       L      L   \n",
       "\n",
       "                 gameID inning  y bottomTeam bgBottom topTeam  place bgTop  \n",
       "0           2.02022e+07    1回表  0       DeNA        3      広島     横浜     6  \n",
       "1           2.02022e+07    1回表  1       DeNA        3      広島     横浜     6  \n",
       "2           2.02022e+07    1回表  0       DeNA        3      広島     横浜     6  \n",
       "3           2.02022e+07    1回表  2       DeNA        3      広島     横浜     6  \n",
       "4           2.02022e+07    1回表  4       DeNA        3      広島     横浜     6  \n",
       "...                 ...    ... ..        ...      ...     ...    ...   ...  \n",
       "20153       2.02021e+07    9回裏  0       日本ハム        8  ソフトバンク  札幌ドーム    12  \n",
       "20154       2.02021e+07    9回裏  1       日本ハム        8  ソフトバンク  札幌ドーム    12  \n",
       "20155       2.02021e+07    9回裏  0       日本ハム        8  ソフトバンク  札幌ドーム    12  \n",
       "20156       2.02021e+07    9回裏  1       日本ハム        8  ソフトバンク  札幌ドーム    12  \n",
       "batterHand            L      L  L          L        L       L      L     L  \n",
       "\n",
       "[17137 rows x 17 columns]"
      ]
     },
     "execution_count": 952,
     "metadata": {},
     "output_type": "execute_result"
    }
   ],
   "source": [
    "imp_data = train\n",
    "imp_data"
   ]
  },
  {
   "cell_type": "code",
   "execution_count": 953,
   "metadata": {},
   "outputs": [],
   "source": [
    "with open('imp_data.csv', mode='wb') as f:\n",
    "    pickle.dump(imp_data, f)"
   ]
  },
  {
   "cell_type": "code",
   "execution_count": 954,
   "metadata": {},
   "outputs": [],
   "source": [
    "with open('imp_data.csv', mode='rb') as f:\n",
    "    imp_data = pickle.load(f)"
   ]
  },
  {
   "cell_type": "markdown",
   "metadata": {},
   "source": [
    "## 質的変数の数値化(エンコーディング)"
   ]
  },
  {
   "cell_type": "code",
   "execution_count": 955,
   "metadata": {},
   "outputs": [
    {
     "data": {
      "text/html": [
       "<div>\n",
       "<style scoped>\n",
       "    .dataframe tbody tr th:only-of-type {\n",
       "        vertical-align: middle;\n",
       "    }\n",
       "\n",
       "    .dataframe tbody tr th {\n",
       "        vertical-align: top;\n",
       "    }\n",
       "\n",
       "    .dataframe thead th {\n",
       "        text-align: right;\n",
       "    }\n",
       "</style>\n",
       "<table border=\"1\" class=\"dataframe\">\n",
       "  <thead>\n",
       "    <tr style=\"text-align: right;\">\n",
       "      <th></th>\n",
       "      <th>totalPitchingCount</th>\n",
       "      <th>B</th>\n",
       "      <th>S</th>\n",
       "      <th>O</th>\n",
       "      <th>b1</th>\n",
       "      <th>b2</th>\n",
       "      <th>b3</th>\n",
       "      <th>pitcher</th>\n",
       "      <th>batter</th>\n",
       "      <th>gameID</th>\n",
       "      <th>inning</th>\n",
       "      <th>y</th>\n",
       "      <th>bottomTeam</th>\n",
       "      <th>bgBottom</th>\n",
       "      <th>topTeam</th>\n",
       "      <th>place</th>\n",
       "      <th>bgTop</th>\n",
       "    </tr>\n",
       "  </thead>\n",
       "  <tbody>\n",
       "    <tr>\n",
       "      <th>count</th>\n",
       "      <td>17137.0</td>\n",
       "      <td>17137.0</td>\n",
       "      <td>17137.0</td>\n",
       "      <td>17137.0</td>\n",
       "      <td>17137</td>\n",
       "      <td>17137</td>\n",
       "      <td>17137</td>\n",
       "      <td>17137</td>\n",
       "      <td>17137</td>\n",
       "      <td>17137.0</td>\n",
       "      <td>17137</td>\n",
       "      <td>17137.0</td>\n",
       "      <td>17137</td>\n",
       "      <td>17137.0</td>\n",
       "      <td>17137</td>\n",
       "      <td>17137</td>\n",
       "      <td>17137.0</td>\n",
       "    </tr>\n",
       "    <tr>\n",
       "      <th>unique</th>\n",
       "      <td>18.0</td>\n",
       "      <td>5.0</td>\n",
       "      <td>4.0</td>\n",
       "      <td>4.0</td>\n",
       "      <td>3</td>\n",
       "      <td>3</td>\n",
       "      <td>3</td>\n",
       "      <td>189</td>\n",
       "      <td>237</td>\n",
       "      <td>60.0</td>\n",
       "      <td>19</td>\n",
       "      <td>9.0</td>\n",
       "      <td>11</td>\n",
       "      <td>11.0</td>\n",
       "      <td>11</td>\n",
       "      <td>11</td>\n",
       "      <td>11.0</td>\n",
       "    </tr>\n",
       "    <tr>\n",
       "      <th>top</th>\n",
       "      <td>1.0</td>\n",
       "      <td>0.0</td>\n",
       "      <td>0.0</td>\n",
       "      <td>2.0</td>\n",
       "      <td>False</td>\n",
       "      <td>False</td>\n",
       "      <td>False</td>\n",
       "      <td>大瀬良 大地</td>\n",
       "      <td>西川 遥輝</td>\n",
       "      <td>20202130.0</td>\n",
       "      <td>4回裏</td>\n",
       "      <td>0.0</td>\n",
       "      <td>西武</td>\n",
       "      <td>7.0</td>\n",
       "      <td>阪神</td>\n",
       "      <td>メットライフ</td>\n",
       "      <td>5.0</td>\n",
       "    </tr>\n",
       "    <tr>\n",
       "      <th>freq</th>\n",
       "      <td>4359.0</td>\n",
       "      <td>7429.0</td>\n",
       "      <td>6945.0</td>\n",
       "      <td>5931.0</td>\n",
       "      <td>12056</td>\n",
       "      <td>13896</td>\n",
       "      <td>15555</td>\n",
       "      <td>248</td>\n",
       "      <td>224</td>\n",
       "      <td>374.0</td>\n",
       "      <td>1045</td>\n",
       "      <td>6333.0</td>\n",
       "      <td>3006</td>\n",
       "      <td>3006.0</td>\n",
       "      <td>2816</td>\n",
       "      <td>3006</td>\n",
       "      <td>2816.0</td>\n",
       "    </tr>\n",
       "  </tbody>\n",
       "</table>\n",
       "</div>"
      ],
      "text/plain": [
       "        totalPitchingCount        B        S        O     b1     b2     b3  \\\n",
       "count              17137.0  17137.0  17137.0  17137.0  17137  17137  17137   \n",
       "unique                18.0      5.0      4.0      4.0      3      3      3   \n",
       "top                    1.0      0.0      0.0      2.0  False  False  False   \n",
       "freq                4359.0   7429.0   6945.0   5931.0  12056  13896  15555   \n",
       "\n",
       "       pitcher batter      gameID inning        y bottomTeam  bgBottom  \\\n",
       "count    17137  17137     17137.0  17137  17137.0      17137   17137.0   \n",
       "unique     189    237        60.0     19      9.0         11      11.0   \n",
       "top     大瀬良 大地  西川 遥輝  20202130.0    4回裏      0.0         西武       7.0   \n",
       "freq       248    224       374.0   1045   6333.0       3006    3006.0   \n",
       "\n",
       "       topTeam   place    bgTop  \n",
       "count    17137   17137  17137.0  \n",
       "unique      11      11     11.0  \n",
       "top         阪神  メットライフ      5.0  \n",
       "freq      2816    3006   2816.0  "
      ]
     },
     "execution_count": 955,
     "metadata": {},
     "output_type": "execute_result"
    }
   ],
   "source": [
    "#カテゴリ変数の確認\n",
    "cat_cols = [col for col in imp_data.columns[:29] if imp_data[col].dtype in ['O']]\n",
    "imp_data[cat_cols].describe() "
   ]
  },
  {
   "cell_type": "code",
   "execution_count": 956,
   "metadata": {},
   "outputs": [
    {
     "data": {
      "text/plain": [
       "Index(['totalPitchingCount', 'B', 'S', 'O', 'b1', 'b2', 'b3', 'pitcher',\n",
       "       'batter', 'gameID', 'inning', 'bottomTeam', 'bgBottom', 'topTeam',\n",
       "       'place', 'bgTop'],\n",
       "      dtype='object')"
      ]
     },
     "execution_count": 956,
     "metadata": {},
     "output_type": "execute_result"
    }
   ],
   "source": [
    "test.columns"
   ]
  },
  {
   "cell_type": "code",
   "execution_count": 957,
   "metadata": {},
   "outputs": [
    {
     "data": {
      "text/plain": [
       "Index(['totalPitchingCount', 'B', 'S', 'O', 'b1', 'b2', 'b3', 'pitcher',\n",
       "       'batter', 'gameID', 'inning', 'y', 'bottomTeam', 'bgBottom', 'topTeam',\n",
       "       'place', 'bgTop'],\n",
       "      dtype='object')"
      ]
     },
     "execution_count": 957,
     "metadata": {},
     "output_type": "execute_result"
    }
   ],
   "source": [
    "imp_data.columns"
   ]
  },
  {
   "cell_type": "code",
   "execution_count": null,
   "metadata": {},
   "outputs": [],
   "source": []
  },
  {
   "cell_type": "code",
   "execution_count": 958,
   "metadata": {},
   "outputs": [
    {
     "ename": "TypeError",
     "evalue": "argument must be a string or number",
     "output_type": "error",
     "traceback": [
      "\u001b[1;31m---------------------------------------------------------------------------\u001b[0m",
      "\u001b[1;31mTypeError\u001b[0m                                 Traceback (most recent call last)",
      "\u001b[1;32mC:\\ProgramData\\Anaconda3\\lib\\site-packages\\sklearn\\preprocessing\\_label.py\u001b[0m in \u001b[0;36m_encode\u001b[1;34m(values, uniques, encode, check_unknown)\u001b[0m\n\u001b[0;32m    111\u001b[0m         \u001b[1;32mtry\u001b[0m\u001b[1;33m:\u001b[0m\u001b[1;33m\u001b[0m\u001b[1;33m\u001b[0m\u001b[0m\n\u001b[1;32m--> 112\u001b[1;33m             \u001b[0mres\u001b[0m \u001b[1;33m=\u001b[0m \u001b[0m_encode_python\u001b[0m\u001b[1;33m(\u001b[0m\u001b[0mvalues\u001b[0m\u001b[1;33m,\u001b[0m \u001b[0muniques\u001b[0m\u001b[1;33m,\u001b[0m \u001b[0mencode\u001b[0m\u001b[1;33m)\u001b[0m\u001b[1;33m\u001b[0m\u001b[1;33m\u001b[0m\u001b[0m\n\u001b[0m\u001b[0;32m    113\u001b[0m         \u001b[1;32mexcept\u001b[0m \u001b[0mTypeError\u001b[0m\u001b[1;33m:\u001b[0m\u001b[1;33m\u001b[0m\u001b[1;33m\u001b[0m\u001b[0m\n",
      "\u001b[1;32mC:\\ProgramData\\Anaconda3\\lib\\site-packages\\sklearn\\preprocessing\\_label.py\u001b[0m in \u001b[0;36m_encode_python\u001b[1;34m(values, uniques, encode)\u001b[0m\n\u001b[0;32m     59\u001b[0m     \u001b[1;32mif\u001b[0m \u001b[0muniques\u001b[0m \u001b[1;32mis\u001b[0m \u001b[1;32mNone\u001b[0m\u001b[1;33m:\u001b[0m\u001b[1;33m\u001b[0m\u001b[1;33m\u001b[0m\u001b[0m\n\u001b[1;32m---> 60\u001b[1;33m         \u001b[0muniques\u001b[0m \u001b[1;33m=\u001b[0m \u001b[0msorted\u001b[0m\u001b[1;33m(\u001b[0m\u001b[0mset\u001b[0m\u001b[1;33m(\u001b[0m\u001b[0mvalues\u001b[0m\u001b[1;33m)\u001b[0m\u001b[1;33m)\u001b[0m\u001b[1;33m\u001b[0m\u001b[1;33m\u001b[0m\u001b[0m\n\u001b[0m\u001b[0;32m     61\u001b[0m         \u001b[0muniques\u001b[0m \u001b[1;33m=\u001b[0m \u001b[0mnp\u001b[0m\u001b[1;33m.\u001b[0m\u001b[0marray\u001b[0m\u001b[1;33m(\u001b[0m\u001b[0muniques\u001b[0m\u001b[1;33m,\u001b[0m \u001b[0mdtype\u001b[0m\u001b[1;33m=\u001b[0m\u001b[0mvalues\u001b[0m\u001b[1;33m.\u001b[0m\u001b[0mdtype\u001b[0m\u001b[1;33m)\u001b[0m\u001b[1;33m\u001b[0m\u001b[1;33m\u001b[0m\u001b[0m\n",
      "\u001b[1;31mTypeError\u001b[0m: '<' not supported between instances of 'str' and 'float'",
      "\nDuring handling of the above exception, another exception occurred:\n",
      "\u001b[1;31mTypeError\u001b[0m                                 Traceback (most recent call last)",
      "\u001b[1;32m<ipython-input-958-226113c51d75>\u001b[0m in \u001b[0;36m<module>\u001b[1;34m\u001b[0m\n\u001b[0;32m     10\u001b[0m \u001b[0mimp_data\u001b[0m\u001b[1;33m[\u001b[0m\u001b[1;34m\"place\"\u001b[0m\u001b[1;33m]\u001b[0m \u001b[1;33m=\u001b[0m\u001b[0mLE\u001b[0m\u001b[1;33m.\u001b[0m\u001b[0mfit_transform\u001b[0m\u001b[1;33m(\u001b[0m\u001b[0mimp_data\u001b[0m\u001b[1;33m[\u001b[0m\u001b[1;34m\"place\"\u001b[0m\u001b[1;33m]\u001b[0m\u001b[1;33m)\u001b[0m\u001b[1;33m\u001b[0m\u001b[1;33m\u001b[0m\u001b[0m\n\u001b[0;32m     11\u001b[0m \u001b[1;33m\u001b[0m\u001b[0m\n\u001b[1;32m---> 12\u001b[1;33m \u001b[0mtest\u001b[0m\u001b[1;33m[\u001b[0m\u001b[1;34m\"pitcher\"\u001b[0m\u001b[1;33m]\u001b[0m \u001b[1;33m=\u001b[0m \u001b[0mLE\u001b[0m\u001b[1;33m.\u001b[0m\u001b[0mfit_transform\u001b[0m\u001b[1;33m(\u001b[0m\u001b[0mtest\u001b[0m\u001b[1;33m[\u001b[0m\u001b[1;34m\"pitcher\"\u001b[0m\u001b[1;33m]\u001b[0m\u001b[1;33m)\u001b[0m\u001b[1;33m\u001b[0m\u001b[1;33m\u001b[0m\u001b[0m\n\u001b[0m\u001b[0;32m     13\u001b[0m \u001b[0mtest\u001b[0m\u001b[1;33m[\u001b[0m\u001b[1;34m\"batter\"\u001b[0m\u001b[1;33m]\u001b[0m \u001b[1;33m=\u001b[0m\u001b[0mLE\u001b[0m\u001b[1;33m.\u001b[0m\u001b[0mfit_transform\u001b[0m\u001b[1;33m(\u001b[0m\u001b[0mtest\u001b[0m\u001b[1;33m[\u001b[0m\u001b[1;34m\"batter\"\u001b[0m\u001b[1;33m]\u001b[0m\u001b[1;33m)\u001b[0m\u001b[1;33m\u001b[0m\u001b[1;33m\u001b[0m\u001b[0m\n\u001b[0;32m     14\u001b[0m \u001b[0mtest\u001b[0m\u001b[1;33m[\u001b[0m\u001b[1;34m\"bottomTeam\"\u001b[0m\u001b[1;33m]\u001b[0m \u001b[1;33m=\u001b[0m\u001b[0mLE\u001b[0m\u001b[1;33m.\u001b[0m\u001b[0mfit_transform\u001b[0m\u001b[1;33m(\u001b[0m\u001b[0mtest\u001b[0m\u001b[1;33m[\u001b[0m\u001b[1;34m\"bottomTeam\"\u001b[0m\u001b[1;33m]\u001b[0m\u001b[1;33m)\u001b[0m\u001b[1;33m\u001b[0m\u001b[1;33m\u001b[0m\u001b[0m\n",
      "\u001b[1;32mC:\\ProgramData\\Anaconda3\\lib\\site-packages\\sklearn\\preprocessing\\_label.py\u001b[0m in \u001b[0;36mfit_transform\u001b[1;34m(self, y)\u001b[0m\n\u001b[0;32m    250\u001b[0m         \"\"\"\n\u001b[0;32m    251\u001b[0m         \u001b[0my\u001b[0m \u001b[1;33m=\u001b[0m \u001b[0mcolumn_or_1d\u001b[0m\u001b[1;33m(\u001b[0m\u001b[0my\u001b[0m\u001b[1;33m,\u001b[0m \u001b[0mwarn\u001b[0m\u001b[1;33m=\u001b[0m\u001b[1;32mTrue\u001b[0m\u001b[1;33m)\u001b[0m\u001b[1;33m\u001b[0m\u001b[1;33m\u001b[0m\u001b[0m\n\u001b[1;32m--> 252\u001b[1;33m         \u001b[0mself\u001b[0m\u001b[1;33m.\u001b[0m\u001b[0mclasses_\u001b[0m\u001b[1;33m,\u001b[0m \u001b[0my\u001b[0m \u001b[1;33m=\u001b[0m \u001b[0m_encode\u001b[0m\u001b[1;33m(\u001b[0m\u001b[0my\u001b[0m\u001b[1;33m,\u001b[0m \u001b[0mencode\u001b[0m\u001b[1;33m=\u001b[0m\u001b[1;32mTrue\u001b[0m\u001b[1;33m)\u001b[0m\u001b[1;33m\u001b[0m\u001b[1;33m\u001b[0m\u001b[0m\n\u001b[0m\u001b[0;32m    253\u001b[0m         \u001b[1;32mreturn\u001b[0m \u001b[0my\u001b[0m\u001b[1;33m\u001b[0m\u001b[1;33m\u001b[0m\u001b[0m\n\u001b[0;32m    254\u001b[0m \u001b[1;33m\u001b[0m\u001b[0m\n",
      "\u001b[1;32mC:\\ProgramData\\Anaconda3\\lib\\site-packages\\sklearn\\preprocessing\\_label.py\u001b[0m in \u001b[0;36m_encode\u001b[1;34m(values, uniques, encode, check_unknown)\u001b[0m\n\u001b[0;32m    112\u001b[0m             \u001b[0mres\u001b[0m \u001b[1;33m=\u001b[0m \u001b[0m_encode_python\u001b[0m\u001b[1;33m(\u001b[0m\u001b[0mvalues\u001b[0m\u001b[1;33m,\u001b[0m \u001b[0muniques\u001b[0m\u001b[1;33m,\u001b[0m \u001b[0mencode\u001b[0m\u001b[1;33m)\u001b[0m\u001b[1;33m\u001b[0m\u001b[1;33m\u001b[0m\u001b[0m\n\u001b[0;32m    113\u001b[0m         \u001b[1;32mexcept\u001b[0m \u001b[0mTypeError\u001b[0m\u001b[1;33m:\u001b[0m\u001b[1;33m\u001b[0m\u001b[1;33m\u001b[0m\u001b[0m\n\u001b[1;32m--> 114\u001b[1;33m             \u001b[1;32mraise\u001b[0m \u001b[0mTypeError\u001b[0m\u001b[1;33m(\u001b[0m\u001b[1;34m\"argument must be a string or number\"\u001b[0m\u001b[1;33m)\u001b[0m\u001b[1;33m\u001b[0m\u001b[1;33m\u001b[0m\u001b[0m\n\u001b[0m\u001b[0;32m    115\u001b[0m         \u001b[1;32mreturn\u001b[0m \u001b[0mres\u001b[0m\u001b[1;33m\u001b[0m\u001b[1;33m\u001b[0m\u001b[0m\n\u001b[0;32m    116\u001b[0m     \u001b[1;32melse\u001b[0m\u001b[1;33m:\u001b[0m\u001b[1;33m\u001b[0m\u001b[1;33m\u001b[0m\u001b[0m\n",
      "\u001b[1;31mTypeError\u001b[0m: argument must be a string or number"
     ]
    }
   ],
   "source": [
    "from sklearn.preprocessing import LabelEncoder\n",
    "\n",
    "LE=LabelEncoder()\n",
    "\n",
    "imp_data[\"pitcher\"] = LE.fit_transform(imp_data[\"pitcher\"])\n",
    "imp_data[\"batter\"] =LE.fit_transform(imp_data[\"batter\"])\n",
    "imp_data[\"bottomTeam\"] =LE.fit_transform(imp_data[\"bottomTeam\"])\n",
    "imp_data[\"topTeam\"] =LE.fit_transform(imp_data[\"topTeam\"])\n",
    "imp_data[\"inning\"] =LE.fit_transform(imp_data[\"inning\"])\n",
    "imp_data[\"place\"] =LE.fit_transform(imp_data[\"place\"])\n",
    "\n",
    "test[\"pitcher\"] = LE.fit_transform(test[\"pitcher\"])\n",
    "test[\"batter\"] =LE.fit_transform(test[\"batter\"])\n",
    "test[\"bottomTeam\"] =LE.fit_transform(test[\"bottomTeam\"])\n",
    "test[\"topTeam\"] =LE.fit_transform(test[\"topTeam\"])\n",
    "test[\"inning\"] =LE.fit_transform(test[\"inning\"])\n",
    "test[\"place\"] =LE.fit_transform(test[\"place\"])"
   ]
  },
  {
   "cell_type": "code",
   "execution_count": 866,
   "metadata": {},
   "outputs": [
    {
     "name": "stdout",
     "output_type": "stream",
     "text": [
      "<class 'pandas.core.frame.DataFrame'>\n",
      "Int64Index: 17136 entries, 0 to 20156\n",
      "Data columns (total 17 columns):\n",
      " #   Column              Non-Null Count  Dtype\n",
      "---  ------              --------------  -----\n",
      " 0   totalPitchingCount  17136 non-null  int64\n",
      " 1   B                   17136 non-null  int64\n",
      " 2   S                   17136 non-null  int64\n",
      " 3   O                   17136 non-null  int64\n",
      " 4   b1                  17136 non-null  bool \n",
      " 5   b2                  17136 non-null  bool \n",
      " 6   b3                  17136 non-null  bool \n",
      " 7   pitcher             17136 non-null  int64\n",
      " 8   batter              17136 non-null  int64\n",
      " 9   gameID              17136 non-null  int64\n",
      " 10  inning              17136 non-null  int32\n",
      " 11  y                   17136 non-null  int64\n",
      " 12  bottomTeam          17136 non-null  int32\n",
      " 13  bgBottom            17136 non-null  int64\n",
      " 14  topTeam             17136 non-null  int32\n",
      " 15  place               17136 non-null  int32\n",
      " 16  bgTop               17136 non-null  int64\n",
      "dtypes: bool(3), int32(4), int64(10)\n",
      "memory usage: 1.7 MB\n"
     ]
    }
   ],
   "source": [
    "imp_data.info()"
   ]
  },
  {
   "cell_type": "code",
   "execution_count": 871,
   "metadata": {},
   "outputs": [
    {
     "name": "stdout",
     "output_type": "stream",
     "text": [
      "<class 'pandas.core.frame.DataFrame'>\n",
      "Int64Index: 17136 entries, 0 to 20156\n",
      "Data columns (total 17 columns):\n",
      " #   Column              Non-Null Count  Dtype\n",
      "---  ------              --------------  -----\n",
      " 0   totalPitchingCount  17136 non-null  int64\n",
      " 1   B                   17136 non-null  int64\n",
      " 2   S                   17136 non-null  int64\n",
      " 3   O                   17136 non-null  int64\n",
      " 4   b1                  17136 non-null  bool \n",
      " 5   b2                  17136 non-null  bool \n",
      " 6   b3                  17136 non-null  bool \n",
      " 7   pitcher             17136 non-null  int64\n",
      " 8   batter              17136 non-null  int64\n",
      " 9   gameID              17136 non-null  int64\n",
      " 10  inning              17136 non-null  int32\n",
      " 11  y                   17136 non-null  int64\n",
      " 12  bottomTeam          17136 non-null  int32\n",
      " 13  bgBottom            17136 non-null  int64\n",
      " 14  topTeam             17136 non-null  int32\n",
      " 15  place               17136 non-null  int32\n",
      " 16  bgTop               17136 non-null  int64\n",
      "dtypes: bool(3), int32(4), int64(10)\n",
      "memory usage: 1.7 MB\n"
     ]
    }
   ],
   "source": [
    "imp_data.info()\n",
    "#imp_data[['totalPitchingCount','B','S','O','b1','b2','b3','gameID','y','bgBottom','bgTop','pitcherHand']].astype(int)"
   ]
  },
  {
   "cell_type": "code",
   "execution_count": 872,
   "metadata": {},
   "outputs": [
    {
     "data": {
      "text/html": [
       "<div>\n",
       "<style scoped>\n",
       "    .dataframe tbody tr th:only-of-type {\n",
       "        vertical-align: middle;\n",
       "    }\n",
       "\n",
       "    .dataframe tbody tr th {\n",
       "        vertical-align: top;\n",
       "    }\n",
       "\n",
       "    .dataframe thead th {\n",
       "        text-align: right;\n",
       "    }\n",
       "</style>\n",
       "<table border=\"1\" class=\"dataframe\">\n",
       "  <thead>\n",
       "    <tr style=\"text-align: right;\">\n",
       "      <th></th>\n",
       "      <th>totalPitchingCount</th>\n",
       "      <th>B</th>\n",
       "      <th>S</th>\n",
       "      <th>O</th>\n",
       "      <th>b1</th>\n",
       "      <th>b2</th>\n",
       "      <th>b3</th>\n",
       "      <th>pitcher</th>\n",
       "      <th>batter</th>\n",
       "      <th>gameID</th>\n",
       "      <th>inning</th>\n",
       "      <th>y</th>\n",
       "      <th>bottomTeam</th>\n",
       "      <th>bgBottom</th>\n",
       "      <th>topTeam</th>\n",
       "      <th>place</th>\n",
       "      <th>bgTop</th>\n",
       "    </tr>\n",
       "  </thead>\n",
       "  <tbody>\n",
       "    <tr>\n",
       "      <th>0</th>\n",
       "      <td>1</td>\n",
       "      <td>0</td>\n",
       "      <td>0</td>\n",
       "      <td>0</td>\n",
       "      <td>False</td>\n",
       "      <td>False</td>\n",
       "      <td>False</td>\n",
       "      <td>46</td>\n",
       "      <td>16</td>\n",
       "      <td>20202173</td>\n",
       "      <td>0</td>\n",
       "      <td>0</td>\n",
       "      <td>0</td>\n",
       "      <td>3</td>\n",
       "      <td>6</td>\n",
       "      <td>8</td>\n",
       "      <td>6</td>\n",
       "    </tr>\n",
       "    <tr>\n",
       "      <th>1</th>\n",
       "      <td>2</td>\n",
       "      <td>1</td>\n",
       "      <td>0</td>\n",
       "      <td>0</td>\n",
       "      <td>False</td>\n",
       "      <td>False</td>\n",
       "      <td>False</td>\n",
       "      <td>46</td>\n",
       "      <td>16</td>\n",
       "      <td>20202173</td>\n",
       "      <td>0</td>\n",
       "      <td>1</td>\n",
       "      <td>0</td>\n",
       "      <td>3</td>\n",
       "      <td>6</td>\n",
       "      <td>8</td>\n",
       "      <td>6</td>\n",
       "    </tr>\n",
       "    <tr>\n",
       "      <th>2</th>\n",
       "      <td>3</td>\n",
       "      <td>1</td>\n",
       "      <td>1</td>\n",
       "      <td>0</td>\n",
       "      <td>False</td>\n",
       "      <td>False</td>\n",
       "      <td>False</td>\n",
       "      <td>46</td>\n",
       "      <td>16</td>\n",
       "      <td>20202173</td>\n",
       "      <td>0</td>\n",
       "      <td>0</td>\n",
       "      <td>0</td>\n",
       "      <td>3</td>\n",
       "      <td>6</td>\n",
       "      <td>8</td>\n",
       "      <td>6</td>\n",
       "    </tr>\n",
       "    <tr>\n",
       "      <th>3</th>\n",
       "      <td>4</td>\n",
       "      <td>2</td>\n",
       "      <td>1</td>\n",
       "      <td>0</td>\n",
       "      <td>False</td>\n",
       "      <td>False</td>\n",
       "      <td>False</td>\n",
       "      <td>46</td>\n",
       "      <td>16</td>\n",
       "      <td>20202173</td>\n",
       "      <td>0</td>\n",
       "      <td>2</td>\n",
       "      <td>0</td>\n",
       "      <td>3</td>\n",
       "      <td>6</td>\n",
       "      <td>8</td>\n",
       "      <td>6</td>\n",
       "    </tr>\n",
       "    <tr>\n",
       "      <th>4</th>\n",
       "      <td>5</td>\n",
       "      <td>2</td>\n",
       "      <td>2</td>\n",
       "      <td>0</td>\n",
       "      <td>False</td>\n",
       "      <td>False</td>\n",
       "      <td>False</td>\n",
       "      <td>46</td>\n",
       "      <td>16</td>\n",
       "      <td>20202173</td>\n",
       "      <td>0</td>\n",
       "      <td>4</td>\n",
       "      <td>0</td>\n",
       "      <td>3</td>\n",
       "      <td>6</td>\n",
       "      <td>8</td>\n",
       "      <td>6</td>\n",
       "    </tr>\n",
       "    <tr>\n",
       "      <th>...</th>\n",
       "      <td>...</td>\n",
       "      <td>...</td>\n",
       "      <td>...</td>\n",
       "      <td>...</td>\n",
       "      <td>...</td>\n",
       "      <td>...</td>\n",
       "      <td>...</td>\n",
       "      <td>...</td>\n",
       "      <td>...</td>\n",
       "      <td>...</td>\n",
       "      <td>...</td>\n",
       "      <td>...</td>\n",
       "      <td>...</td>\n",
       "      <td>...</td>\n",
       "      <td>...</td>\n",
       "      <td>...</td>\n",
       "      <td>...</td>\n",
       "    </tr>\n",
       "    <tr>\n",
       "      <th>20152</th>\n",
       "      <td>2</td>\n",
       "      <td>1</td>\n",
       "      <td>0</td>\n",
       "      <td>2</td>\n",
       "      <td>False</td>\n",
       "      <td>False</td>\n",
       "      <td>False</td>\n",
       "      <td>116</td>\n",
       "      <td>89</td>\n",
       "      <td>20202118</td>\n",
       "      <td>17</td>\n",
       "      <td>2</td>\n",
       "      <td>7</td>\n",
       "      <td>8</td>\n",
       "      <td>2</td>\n",
       "      <td>5</td>\n",
       "      <td>12</td>\n",
       "    </tr>\n",
       "    <tr>\n",
       "      <th>20153</th>\n",
       "      <td>3</td>\n",
       "      <td>1</td>\n",
       "      <td>1</td>\n",
       "      <td>2</td>\n",
       "      <td>False</td>\n",
       "      <td>False</td>\n",
       "      <td>False</td>\n",
       "      <td>116</td>\n",
       "      <td>89</td>\n",
       "      <td>20202118</td>\n",
       "      <td>17</td>\n",
       "      <td>0</td>\n",
       "      <td>7</td>\n",
       "      <td>8</td>\n",
       "      <td>2</td>\n",
       "      <td>5</td>\n",
       "      <td>12</td>\n",
       "    </tr>\n",
       "    <tr>\n",
       "      <th>20154</th>\n",
       "      <td>4</td>\n",
       "      <td>2</td>\n",
       "      <td>1</td>\n",
       "      <td>2</td>\n",
       "      <td>False</td>\n",
       "      <td>False</td>\n",
       "      <td>False</td>\n",
       "      <td>116</td>\n",
       "      <td>89</td>\n",
       "      <td>20202118</td>\n",
       "      <td>17</td>\n",
       "      <td>1</td>\n",
       "      <td>7</td>\n",
       "      <td>8</td>\n",
       "      <td>2</td>\n",
       "      <td>5</td>\n",
       "      <td>12</td>\n",
       "    </tr>\n",
       "    <tr>\n",
       "      <th>20155</th>\n",
       "      <td>5</td>\n",
       "      <td>2</td>\n",
       "      <td>2</td>\n",
       "      <td>2</td>\n",
       "      <td>False</td>\n",
       "      <td>False</td>\n",
       "      <td>False</td>\n",
       "      <td>116</td>\n",
       "      <td>89</td>\n",
       "      <td>20202118</td>\n",
       "      <td>17</td>\n",
       "      <td>0</td>\n",
       "      <td>7</td>\n",
       "      <td>8</td>\n",
       "      <td>2</td>\n",
       "      <td>5</td>\n",
       "      <td>12</td>\n",
       "    </tr>\n",
       "    <tr>\n",
       "      <th>20156</th>\n",
       "      <td>6</td>\n",
       "      <td>3</td>\n",
       "      <td>2</td>\n",
       "      <td>2</td>\n",
       "      <td>False</td>\n",
       "      <td>False</td>\n",
       "      <td>False</td>\n",
       "      <td>116</td>\n",
       "      <td>89</td>\n",
       "      <td>20202118</td>\n",
       "      <td>17</td>\n",
       "      <td>1</td>\n",
       "      <td>7</td>\n",
       "      <td>8</td>\n",
       "      <td>2</td>\n",
       "      <td>5</td>\n",
       "      <td>12</td>\n",
       "    </tr>\n",
       "  </tbody>\n",
       "</table>\n",
       "<p>17136 rows × 17 columns</p>\n",
       "</div>"
      ],
      "text/plain": [
       "       totalPitchingCount  B  S  O     b1     b2     b3  pitcher  batter  \\\n",
       "0                       1  0  0  0  False  False  False       46      16   \n",
       "1                       2  1  0  0  False  False  False       46      16   \n",
       "2                       3  1  1  0  False  False  False       46      16   \n",
       "3                       4  2  1  0  False  False  False       46      16   \n",
       "4                       5  2  2  0  False  False  False       46      16   \n",
       "...                   ... .. .. ..    ...    ...    ...      ...     ...   \n",
       "20152                   2  1  0  2  False  False  False      116      89   \n",
       "20153                   3  1  1  2  False  False  False      116      89   \n",
       "20154                   4  2  1  2  False  False  False      116      89   \n",
       "20155                   5  2  2  2  False  False  False      116      89   \n",
       "20156                   6  3  2  2  False  False  False      116      89   \n",
       "\n",
       "         gameID  inning  y  bottomTeam  bgBottom  topTeam  place  bgTop  \n",
       "0      20202173       0  0           0         3        6      8      6  \n",
       "1      20202173       0  1           0         3        6      8      6  \n",
       "2      20202173       0  0           0         3        6      8      6  \n",
       "3      20202173       0  2           0         3        6      8      6  \n",
       "4      20202173       0  4           0         3        6      8      6  \n",
       "...         ...     ... ..         ...       ...      ...    ...    ...  \n",
       "20152  20202118      17  2           7         8        2      5     12  \n",
       "20153  20202118      17  0           7         8        2      5     12  \n",
       "20154  20202118      17  1           7         8        2      5     12  \n",
       "20155  20202118      17  0           7         8        2      5     12  \n",
       "20156  20202118      17  1           7         8        2      5     12  \n",
       "\n",
       "[17136 rows x 17 columns]"
      ]
     },
     "execution_count": 872,
     "metadata": {},
     "output_type": "execute_result"
    }
   ],
   "source": [
    "imp_data"
   ]
  },
  {
   "cell_type": "code",
   "execution_count": 873,
   "metadata": {},
   "outputs": [],
   "source": [
    "with open('imp_data.csv', mode='wb') as f:\n",
    "    pickle.dump(imp_data, f)\n",
    "    "
   ]
  },
  {
   "cell_type": "code",
   "execution_count": 885,
   "metadata": {},
   "outputs": [],
   "source": [
    "#データ分割\n",
    "y_target = imp_data['y']\n",
    "col = imp_data.columns.tolist()\n",
    "col.remove('y')\n",
    "x_explanatory = imp_data[col]\n",
    "x_train,x_test,y_train, y_test = train_test_split(x_explanatory, y_target, random_state = 1)"
   ]
  },
  {
   "cell_type": "code",
   "execution_count": 886,
   "metadata": {},
   "outputs": [
    {
     "data": {
      "text/plain": [
       "19589    1\n",
       "12589    0\n",
       "1258     2\n",
       "9299     2\n",
       "4369     0\n",
       "        ..\n",
       "7813     3\n",
       "10955    2\n",
       "5192     2\n",
       "12172    0\n",
       "235      1\n",
       "Name: y, Length: 12852, dtype: int64"
      ]
     },
     "execution_count": 886,
     "metadata": {},
     "output_type": "execute_result"
    }
   ],
   "source": [
    "y_train"
   ]
  },
  {
   "cell_type": "code",
   "execution_count": 887,
   "metadata": {},
   "outputs": [
    {
     "data": {
      "text/plain": [
       "RandomForestRegressor(bootstrap=True, ccp_alpha=0.0, criterion='mse',\n",
       "                      max_depth=None, max_features='auto', max_leaf_nodes=None,\n",
       "                      max_samples=None, min_impurity_decrease=0.0,\n",
       "                      min_impurity_split=None, min_samples_leaf=1,\n",
       "                      min_samples_split=2, min_weight_fraction_leaf=0.0,\n",
       "                      n_estimators=100, n_jobs=None, oob_score=False,\n",
       "                      random_state=None, verbose=0, warm_start=False)"
      ]
     },
     "execution_count": 887,
     "metadata": {},
     "output_type": "execute_result"
    }
   ],
   "source": [
    "#ランダムフォレストの学習\n",
    "rf_model = RandomForestRegressor()\n",
    "rf_model.fit(x_train,y_train)"
   ]
  },
  {
   "cell_type": "code",
   "execution_count": 893,
   "metadata": {},
   "outputs": [
    {
     "data": {
      "text/plain": [
       "array([1.71, 1.67, 1.35, ..., 0.97, 1.81, 0.84])"
      ]
     },
     "execution_count": 893,
     "metadata": {},
     "output_type": "execute_result"
    }
   ],
   "source": [
    "#予測\n",
    "rf_pred = rf_model.predict(x_test)\n",
    "rf_pred"
   ]
  },
  {
   "cell_type": "code",
   "execution_count": 894,
   "metadata": {},
   "outputs": [
    {
     "name": "stdout",
     "output_type": "stream",
     "text": [
      "ランダムフォレストモデルの平均絶対誤差は 1.0884056956115782\n",
      "ランダムフォレストモデルの決定係数は -0.053735304963443475\n"
     ]
    }
   ],
   "source": [
    "X=mean_absolute_error(y_test, rf_pred)\n",
    "print(\"ランダムフォレストモデルの平均絶対誤差は\",X)\n",
    "Y=r2_score(y_test, rf_pred)\n",
    "print(\"ランダムフォレストモデルの決定係数は\",Y)"
   ]
  },
  {
   "cell_type": "code",
   "execution_count": 898,
   "metadata": {},
   "outputs": [
    {
     "data": {
      "text/plain": [
       "4.7"
      ]
     },
     "execution_count": 898,
     "metadata": {},
     "output_type": "execute_result"
    }
   ],
   "source": [
    "rf_pred.max()"
   ]
  },
  {
   "cell_type": "code",
   "execution_count": 899,
   "metadata": {},
   "outputs": [
    {
     "data": {
      "text/plain": [
       "7"
      ]
     },
     "execution_count": 899,
     "metadata": {},
     "output_type": "execute_result"
    }
   ],
   "source": [
    "y_test.max()"
   ]
  },
  {
   "cell_type": "code",
   "execution_count": 902,
   "metadata": {},
   "outputs": [
    {
     "data": {
      "image/png": "[encoded data removed]",
      "text/plain": [
       "<Figure size 432x360 with 1 Axes>"
      ]
     },
     "metadata": {
      "needs_background": "light"
     },
     "output_type": "display_data"
    }
   ],
   "source": [
    "fig = plt.figure(figsize=(6,5))\n",
    "\n",
    "plt.scatter(y_test,rf_pred,color=\"blue\")\n",
    "x = np.arange(0, 7)\n",
    "plt.plot(x,x,color=\"red\")\n",
    "plt.title(\"predicted_data & test_data\")\n",
    "plt.xlabel(\"test_data\")\n",
    "plt.ylabel(\"predicted_data\")\n",
    "\n",
    "plt.show()"
   ]
  },
  {
   "cell_type": "code",
   "execution_count": 903,
   "metadata": {},
   "outputs": [
    {
     "data": {
      "image/png": "[encoded data removed]",
      "text/plain": [
       "<Figure size 432x288 with 1 Axes>"
      ]
     },
     "metadata": {
      "needs_background": "light"
     },
     "output_type": "display_data"
    }
   ],
   "source": [
    "plt.scatter(rf_pred, rf_pred - y_test, color = 'blue')      # 残差をプロット \n",
    "plt.hlines(y = 0, xmin = 0, xmax = 7, color = 'black') # x軸に沿った直線をプロット\n",
    "plt.title('Residual Plot')                                # 図のタイトル\n",
    "plt.xlabel('Predicted Values')                            # x軸のラベル\n",
    "plt.ylabel('Residuals')                                   # y軸のラベル\n",
    "plt.grid()                                                # グリッド線を表示\n",
    "\n",
    "plt.show()                                               # 図の表示"
   ]
  },
  {
   "cell_type": "code",
   "execution_count": 742,
   "metadata": {},
   "outputs": [
    {
     "data": {
      "image/png": "[encoded data removed]",
      "text/plain": [
       "<Figure size 432x360 with 1 Axes>"
      ]
     },
     "metadata": {
      "needs_background": "light"
     },
     "output_type": "display_data"
    }
   ],
   "source": [
    "features = x_train.columns\n",
    "importances = rf_model.feature_importances_\n",
    "indices = np.argsort(importances)\n",
    "\n",
    "plt.figure(figsize=(6,5))\n",
    "plt.barh(range(len(indices)), importances[indices],  align='center')\n",
    "plt.yticks(range(len(indices)), features[indices])\n",
    "plt.show()"
   ]
  },
  {
   "cell_type": "code",
   "execution_count": 904,
   "metadata": {},
   "outputs": [
    {
     "data": {
      "text/plain": [
       "XGBRegressor(base_score=0.5, booster='gbtree', colsample_bylevel=1,\n",
       "             colsample_bynode=1, colsample_bytree=1, gamma=0, gpu_id=-1,\n",
       "             importance_type='gain', interaction_constraints='',\n",
       "             learning_rate=0.300000012, max_delta_step=0, max_depth=6,\n",
       "             min_child_weight=1, missing=nan, monotone_constraints='()',\n",
       "             n_estimators=100, n_jobs=6, num_parallel_tree=1,\n",
       "             objective='reg:squarederror', random_state=0, reg_alpha=0,\n",
       "             reg_lambda=1, scale_pos_weight=1, subsample=1, tree_method='exact',\n",
       "             validate_parameters=1, verbosity=None)"
      ]
     },
     "execution_count": 904,
     "metadata": {},
     "output_type": "execute_result"
    }
   ],
   "source": [
    "xgb_model = xgb.XGBRegressor()\n",
    "xgb_model.fit(x_train,y_train)"
   ]
  },
  {
   "cell_type": "code",
   "execution_count": 905,
   "metadata": {},
   "outputs": [
    {
     "ename": "XGBoostError",
     "evalue": "[10:44:12] c:\\users\\administrator\\workspace\\xgboost-win64_release_1.4.0\\src\\data\\array_interface.h:139: Check failed: typestr.size() == 3 (2 vs. 3) : `typestr' should be of format <endian><type><size of type in bytes>.",
     "output_type": "error",
     "traceback": [
      "\u001b[1;31m---------------------------------------------------------------------------\u001b[0m",
      "\u001b[1;31mXGBoostError\u001b[0m                              Traceback (most recent call last)",
      "\u001b[1;32m<ipython-input-905-2443c6fd0fa6>\u001b[0m in \u001b[0;36m<module>\u001b[1;34m\u001b[0m\n\u001b[1;32m----> 1\u001b[1;33m \u001b[0mxgb_pred\u001b[0m \u001b[1;33m=\u001b[0m \u001b[0mxgb_model\u001b[0m\u001b[1;33m.\u001b[0m\u001b[0mpredict\u001b[0m\u001b[1;33m(\u001b[0m\u001b[0mx_test\u001b[0m\u001b[1;33m)\u001b[0m\u001b[1;33m\u001b[0m\u001b[1;33m\u001b[0m\u001b[0m\n\u001b[0m\u001b[0;32m      2\u001b[0m \u001b[0mxgb_pred\u001b[0m\u001b[1;33m\u001b[0m\u001b[1;33m\u001b[0m\u001b[0m\n",
      "\u001b[1;32mC:\\ProgramData\\Anaconda3\\lib\\site-packages\\xgboost\\sklearn.py\u001b[0m in \u001b[0;36mpredict\u001b[1;34m(self, X, output_margin, ntree_limit, validate_features, base_margin, iteration_range)\u001b[0m\n\u001b[0;32m    824\u001b[0m                     \u001b[0mmissing\u001b[0m\u001b[1;33m=\u001b[0m\u001b[0mself\u001b[0m\u001b[1;33m.\u001b[0m\u001b[0mmissing\u001b[0m\u001b[1;33m,\u001b[0m\u001b[1;33m\u001b[0m\u001b[1;33m\u001b[0m\u001b[0m\n\u001b[0;32m    825\u001b[0m                     \u001b[0mbase_margin\u001b[0m\u001b[1;33m=\u001b[0m\u001b[0mbase_margin\u001b[0m\u001b[1;33m,\u001b[0m\u001b[1;33m\u001b[0m\u001b[1;33m\u001b[0m\u001b[0m\n\u001b[1;32m--> 826\u001b[1;33m                     \u001b[0mvalidate_features\u001b[0m\u001b[1;33m=\u001b[0m\u001b[0mvalidate_features\u001b[0m\u001b[1;33m,\u001b[0m\u001b[1;33m\u001b[0m\u001b[1;33m\u001b[0m\u001b[0m\n\u001b[0m\u001b[0;32m    827\u001b[0m                 )\n\u001b[0;32m    828\u001b[0m                 \u001b[1;32mif\u001b[0m \u001b[0m_is_cupy_array\u001b[0m\u001b[1;33m(\u001b[0m\u001b[0mpredts\u001b[0m\u001b[1;33m)\u001b[0m\u001b[1;33m:\u001b[0m\u001b[1;33m\u001b[0m\u001b[1;33m\u001b[0m\u001b[0m\n",
      "\u001b[1;32mC:\\ProgramData\\Anaconda3\\lib\\site-packages\\xgboost\\core.py\u001b[0m in \u001b[0;36minplace_predict\u001b[1;34m(self, data, iteration_range, predict_type, missing, validate_features, base_margin, strict_shape)\u001b[0m\n\u001b[0;32m   1852\u001b[0m                     \u001b[0mctypes\u001b[0m\u001b[1;33m.\u001b[0m\u001b[0mbyref\u001b[0m\u001b[1;33m(\u001b[0m\u001b[0mshape\u001b[0m\u001b[1;33m)\u001b[0m\u001b[1;33m,\u001b[0m\u001b[1;33m\u001b[0m\u001b[1;33m\u001b[0m\u001b[0m\n\u001b[0;32m   1853\u001b[0m                     \u001b[0mctypes\u001b[0m\u001b[1;33m.\u001b[0m\u001b[0mbyref\u001b[0m\u001b[1;33m(\u001b[0m\u001b[0mdims\u001b[0m\u001b[1;33m)\u001b[0m\u001b[1;33m,\u001b[0m\u001b[1;33m\u001b[0m\u001b[1;33m\u001b[0m\u001b[0m\n\u001b[1;32m-> 1854\u001b[1;33m                     \u001b[0mctypes\u001b[0m\u001b[1;33m.\u001b[0m\u001b[0mbyref\u001b[0m\u001b[1;33m(\u001b[0m\u001b[0mpreds\u001b[0m\u001b[1;33m)\u001b[0m\u001b[1;33m,\u001b[0m\u001b[1;33m\u001b[0m\u001b[1;33m\u001b[0m\u001b[0m\n\u001b[0m\u001b[0;32m   1855\u001b[0m                 )\n\u001b[0;32m   1856\u001b[0m             )\n",
      "\u001b[1;32mC:\\ProgramData\\Anaconda3\\lib\\site-packages\\xgboost\\core.py\u001b[0m in \u001b[0;36m_check_call\u001b[1;34m(ret)\u001b[0m\n\u001b[0;32m    208\u001b[0m     \"\"\"\n\u001b[0;32m    209\u001b[0m     \u001b[1;32mif\u001b[0m \u001b[0mret\u001b[0m \u001b[1;33m!=\u001b[0m \u001b[1;36m0\u001b[0m\u001b[1;33m:\u001b[0m\u001b[1;33m\u001b[0m\u001b[1;33m\u001b[0m\u001b[0m\n\u001b[1;32m--> 210\u001b[1;33m         \u001b[1;32mraise\u001b[0m \u001b[0mXGBoostError\u001b[0m\u001b[1;33m(\u001b[0m\u001b[0mpy_str\u001b[0m\u001b[1;33m(\u001b[0m\u001b[0m_LIB\u001b[0m\u001b[1;33m.\u001b[0m\u001b[0mXGBGetLastError\u001b[0m\u001b[1;33m(\u001b[0m\u001b[1;33m)\u001b[0m\u001b[1;33m)\u001b[0m\u001b[1;33m)\u001b[0m\u001b[1;33m\u001b[0m\u001b[1;33m\u001b[0m\u001b[0m\n\u001b[0m\u001b[0;32m    211\u001b[0m \u001b[1;33m\u001b[0m\u001b[0m\n\u001b[0;32m    212\u001b[0m \u001b[1;33m\u001b[0m\u001b[0m\n",
      "\u001b[1;31mXGBoostError\u001b[0m: [10:44:12] c:\\users\\administrator\\workspace\\xgboost-win64_release_1.4.0\\src\\data\\array_interface.h:139: Check failed: typestr.size() == 3 (2 vs. 3) : `typestr' should be of format <endian><type><size of type in bytes>."
     ]
    }
   ],
   "source": [
    "xgb_pred = xgb_model.predict(x_test)\n",
    "xgb_pred"
   ]
  },
  {
   "cell_type": "code",
   "execution_count": 750,
   "metadata": {},
   "outputs": [
    {
     "data": {
      "text/html": [
       "<div>\n",
       "<style scoped>\n",
       "    .dataframe tbody tr th:only-of-type {\n",
       "        vertical-align: middle;\n",
       "    }\n",
       "\n",
       "    .dataframe tbody tr th {\n",
       "        vertical-align: top;\n",
       "    }\n",
       "\n",
       "    .dataframe thead th {\n",
       "        text-align: right;\n",
       "    }\n",
       "</style>\n",
       "<table border=\"1\" class=\"dataframe\">\n",
       "  <thead>\n",
       "    <tr style=\"text-align: right;\">\n",
       "      <th></th>\n",
       "      <th>B</th>\n",
       "      <th>S</th>\n",
       "      <th>O</th>\n",
       "      <th>b1</th>\n",
       "      <th>b2</th>\n",
       "      <th>b3</th>\n",
       "      <th>pitcher</th>\n",
       "      <th>batter</th>\n",
       "      <th>gameID</th>\n",
       "      <th>inning</th>\n",
       "      <th>bottomTeam</th>\n",
       "      <th>bgBottom</th>\n",
       "      <th>topTeam</th>\n",
       "      <th>place</th>\n",
       "      <th>startDayTime</th>\n",
       "      <th>bgTop</th>\n",
       "    </tr>\n",
       "  </thead>\n",
       "  <tbody>\n",
       "    <tr>\n",
       "      <th>9146</th>\n",
       "      <td>0</td>\n",
       "      <td>2</td>\n",
       "      <td>0</td>\n",
       "      <td>False</td>\n",
       "      <td>False</td>\n",
       "      <td>False</td>\n",
       "      <td>26</td>\n",
       "      <td>29</td>\n",
       "      <td>20202144</td>\n",
       "      <td>14</td>\n",
       "      <td>3</td>\n",
       "      <td>2</td>\n",
       "      <td>9</td>\n",
       "      <td>9</td>\n",
       "      <td>6</td>\n",
       "      <td>5</td>\n",
       "    </tr>\n",
       "    <tr>\n",
       "      <th>5024</th>\n",
       "      <td>2</td>\n",
       "      <td>2</td>\n",
       "      <td>2</td>\n",
       "      <td>True</td>\n",
       "      <td>True</td>\n",
       "      <td>True</td>\n",
       "      <td>104</td>\n",
       "      <td>11</td>\n",
       "      <td>20202160</td>\n",
       "      <td>3</td>\n",
       "      <td>9</td>\n",
       "      <td>7</td>\n",
       "      <td>7</td>\n",
       "      <td>3</td>\n",
       "      <td>3</td>\n",
       "      <td>8</td>\n",
       "    </tr>\n",
       "    <tr>\n",
       "      <th>10854</th>\n",
       "      <td>1</td>\n",
       "      <td>0</td>\n",
       "      <td>2</td>\n",
       "      <td>True</td>\n",
       "      <td>False</td>\n",
       "      <td>False</td>\n",
       "      <td>77</td>\n",
       "      <td>53</td>\n",
       "      <td>20202138</td>\n",
       "      <td>15</td>\n",
       "      <td>0</td>\n",
       "      <td>3</td>\n",
       "      <td>9</td>\n",
       "      <td>8</td>\n",
       "      <td>7</td>\n",
       "      <td>5</td>\n",
       "    </tr>\n",
       "    <tr>\n",
       "      <th>1246</th>\n",
       "      <td>1</td>\n",
       "      <td>1</td>\n",
       "      <td>0</td>\n",
       "      <td>False</td>\n",
       "      <td>False</td>\n",
       "      <td>False</td>\n",
       "      <td>50</td>\n",
       "      <td>188</td>\n",
       "      <td>20202171</td>\n",
       "      <td>5</td>\n",
       "      <td>1</td>\n",
       "      <td>11</td>\n",
       "      <td>8</td>\n",
       "      <td>4</td>\n",
       "      <td>0</td>\n",
       "      <td>10</td>\n",
       "    </tr>\n",
       "    <tr>\n",
       "      <th>7883</th>\n",
       "      <td>0</td>\n",
       "      <td>0</td>\n",
       "      <td>0</td>\n",
       "      <td>False</td>\n",
       "      <td>False</td>\n",
       "      <td>False</td>\n",
       "      <td>76</td>\n",
       "      <td>37</td>\n",
       "      <td>20202146</td>\n",
       "      <td>2</td>\n",
       "      <td>4</td>\n",
       "      <td>9</td>\n",
       "      <td>1</td>\n",
       "      <td>1</td>\n",
       "      <td>5</td>\n",
       "      <td>11</td>\n",
       "    </tr>\n",
       "    <tr>\n",
       "      <th>...</th>\n",
       "      <td>...</td>\n",
       "      <td>...</td>\n",
       "      <td>...</td>\n",
       "      <td>...</td>\n",
       "      <td>...</td>\n",
       "      <td>...</td>\n",
       "      <td>...</td>\n",
       "      <td>...</td>\n",
       "      <td>...</td>\n",
       "      <td>...</td>\n",
       "      <td>...</td>\n",
       "      <td>...</td>\n",
       "      <td>...</td>\n",
       "      <td>...</td>\n",
       "      <td>...</td>\n",
       "      <td>...</td>\n",
       "    </tr>\n",
       "    <tr>\n",
       "      <th>1030</th>\n",
       "      <td>0</td>\n",
       "      <td>2</td>\n",
       "      <td>2</td>\n",
       "      <td>False</td>\n",
       "      <td>False</td>\n",
       "      <td>False</td>\n",
       "      <td>145</td>\n",
       "      <td>219</td>\n",
       "      <td>20202170</td>\n",
       "      <td>7</td>\n",
       "      <td>2</td>\n",
       "      <td>12</td>\n",
       "      <td>3</td>\n",
       "      <td>0</td>\n",
       "      <td>0</td>\n",
       "      <td>9</td>\n",
       "    </tr>\n",
       "    <tr>\n",
       "      <th>246</th>\n",
       "      <td>2</td>\n",
       "      <td>2</td>\n",
       "      <td>1</td>\n",
       "      <td>False</td>\n",
       "      <td>False</td>\n",
       "      <td>False</td>\n",
       "      <td>66</td>\n",
       "      <td>43</td>\n",
       "      <td>20202173</td>\n",
       "      <td>17</td>\n",
       "      <td>0</td>\n",
       "      <td>3</td>\n",
       "      <td>6</td>\n",
       "      <td>8</td>\n",
       "      <td>0</td>\n",
       "      <td>6</td>\n",
       "    </tr>\n",
       "    <tr>\n",
       "      <th>4258</th>\n",
       "      <td>1</td>\n",
       "      <td>0</td>\n",
       "      <td>1</td>\n",
       "      <td>False</td>\n",
       "      <td>True</td>\n",
       "      <td>False</td>\n",
       "      <td>97</td>\n",
       "      <td>16</td>\n",
       "      <td>20202161</td>\n",
       "      <td>8</td>\n",
       "      <td>0</td>\n",
       "      <td>3</td>\n",
       "      <td>6</td>\n",
       "      <td>8</td>\n",
       "      <td>3</td>\n",
       "      <td>6</td>\n",
       "    </tr>\n",
       "    <tr>\n",
       "      <th>11570</th>\n",
       "      <td>1</td>\n",
       "      <td>2</td>\n",
       "      <td>1</td>\n",
       "      <td>True</td>\n",
       "      <td>False</td>\n",
       "      <td>False</td>\n",
       "      <td>108</td>\n",
       "      <td>214</td>\n",
       "      <td>20202135</td>\n",
       "      <td>3</td>\n",
       "      <td>9</td>\n",
       "      <td>7</td>\n",
       "      <td>2</td>\n",
       "      <td>3</td>\n",
       "      <td>7</td>\n",
       "      <td>12</td>\n",
       "    </tr>\n",
       "    <tr>\n",
       "      <th>7102</th>\n",
       "      <td>1</td>\n",
       "      <td>0</td>\n",
       "      <td>2</td>\n",
       "      <td>True</td>\n",
       "      <td>True</td>\n",
       "      <td>True</td>\n",
       "      <td>43</td>\n",
       "      <td>207</td>\n",
       "      <td>20202149</td>\n",
       "      <td>6</td>\n",
       "      <td>0</td>\n",
       "      <td>3</td>\n",
       "      <td>4</td>\n",
       "      <td>8</td>\n",
       "      <td>5</td>\n",
       "      <td>4</td>\n",
       "    </tr>\n",
       "  </tbody>\n",
       "</table>\n",
       "<p>4284 rows × 16 columns</p>\n",
       "</div>"
      ],
      "text/plain": [
       "       B  S  O     b1     b2     b3  pitcher  batter    gameID  inning  \\\n",
       "9146   0  2  0  False  False  False       26      29  20202144      14   \n",
       "5024   2  2  2   True   True   True      104      11  20202160       3   \n",
       "10854  1  0  2   True  False  False       77      53  20202138      15   \n",
       "1246   1  1  0  False  False  False       50     188  20202171       5   \n",
       "7883   0  0  0  False  False  False       76      37  20202146       2   \n",
       "...   .. .. ..    ...    ...    ...      ...     ...       ...     ...   \n",
       "1030   0  2  2  False  False  False      145     219  20202170       7   \n",
       "246    2  2  1  False  False  False       66      43  20202173      17   \n",
       "4258   1  0  1  False   True  False       97      16  20202161       8   \n",
       "11570  1  2  1   True  False  False      108     214  20202135       3   \n",
       "7102   1  0  2   True   True   True       43     207  20202149       6   \n",
       "\n",
       "       bottomTeam  bgBottom  topTeam  place  startDayTime  bgTop  \n",
       "9146            3         2        9      9             6      5  \n",
       "5024            9         7        7      3             3      8  \n",
       "10854           0         3        9      8             7      5  \n",
       "1246            1        11        8      4             0     10  \n",
       "7883            4         9        1      1             5     11  \n",
       "...           ...       ...      ...    ...           ...    ...  \n",
       "1030            2        12        3      0             0      9  \n",
       "246             0         3        6      8             0      6  \n",
       "4258            0         3        6      8             3      6  \n",
       "11570           9         7        2      3             7     12  \n",
       "7102            0         3        4      8             5      4  \n",
       "\n",
       "[4284 rows x 16 columns]"
      ]
     },
     "execution_count": 750,
     "metadata": {},
     "output_type": "execute_result"
    }
   ],
   "source": [
    "x_test"
   ]
  },
  {
   "cell_type": "code",
   "execution_count": 766,
   "metadata": {},
   "outputs": [],
   "source": [
    "lgb_train = lgb.Dataset(x_train, y_train)\n",
    "lgb_eval = lgb.Dataset(x_test, y_test)"
   ]
  },
  {
   "cell_type": "code",
   "execution_count": 767,
   "metadata": {},
   "outputs": [],
   "source": [
    "params = {'metric': {'mse'},'max_depth' : 7}"
   ]
  },
  {
   "cell_type": "code",
   "execution_count": 768,
   "metadata": {},
   "outputs": [
    {
     "name": "stdout",
     "output_type": "stream",
     "text": [
      "[LightGBM] [Warning] Accuracy may be bad since you didn't explicitly set num_leaves OR 2^max_depth > num_leaves. (num_leaves=31).\n",
      "[LightGBM] [Warning] Accuracy may be bad since you didn't explicitly set num_leaves OR 2^max_depth > num_leaves. (num_leaves=31).\n",
      "[LightGBM] [Warning] Auto-choosing row-wise multi-threading, the overhead of testing was 0.001577 seconds.\n",
      "You can set `force_row_wise=true` to remove the overhead.\n",
      "And if memory is not enough, you can set `force_col_wise=true`.\n",
      "[LightGBM] [Info] Total Bins 544\n",
      "[LightGBM] [Info] Number of data points in the train set: 12852, number of used features: 16\n",
      "[LightGBM] [Warning] Accuracy may be bad since you didn't explicitly set num_leaves OR 2^max_depth > num_leaves. (num_leaves=31).\n",
      "[LightGBM] [Info] Start training from score 1.260193\n",
      "[1]\ttraining's l2: 1.74911\tvalid_1's l2: 1.76363\n",
      "[2]\ttraining's l2: 1.73182\tvalid_1's l2: 1.75312\n",
      "[3]\ttraining's l2: 1.71751\tvalid_1's l2: 1.74468\n",
      "[4]\ttraining's l2: 1.70513\tvalid_1's l2: 1.73763\n",
      "[5]\ttraining's l2: 1.69442\tvalid_1's l2: 1.73248\n",
      "[6]\ttraining's l2: 1.68505\tvalid_1's l2: 1.72858\n",
      "[7]\ttraining's l2: 1.67672\tvalid_1's l2: 1.72534\n",
      "[8]\ttraining's l2: 1.66919\tvalid_1's l2: 1.7232\n",
      "[9]\ttraining's l2: 1.66218\tvalid_1's l2: 1.72093\n",
      "[10]\ttraining's l2: 1.65654\tvalid_1's l2: 1.7193\n",
      "[11]\ttraining's l2: 1.65083\tvalid_1's l2: 1.71826\n",
      "[12]\ttraining's l2: 1.64524\tvalid_1's l2: 1.71829\n",
      "[13]\ttraining's l2: 1.64076\tvalid_1's l2: 1.71837\n",
      "[14]\ttraining's l2: 1.63623\tvalid_1's l2: 1.71747\n",
      "[15]\ttraining's l2: 1.63178\tvalid_1's l2: 1.71703\n",
      "[16]\ttraining's l2: 1.62715\tvalid_1's l2: 1.71738\n",
      "[17]\ttraining's l2: 1.62278\tvalid_1's l2: 1.71704\n",
      "[18]\ttraining's l2: 1.61904\tvalid_1's l2: 1.71636\n",
      "[19]\ttraining's l2: 1.61519\tvalid_1's l2: 1.71643\n",
      "[20]\ttraining's l2: 1.61076\tvalid_1's l2: 1.717\n",
      "[21]\ttraining's l2: 1.60693\tvalid_1's l2: 1.71789\n",
      "[22]\ttraining's l2: 1.60301\tvalid_1's l2: 1.71859\n",
      "[23]\ttraining's l2: 1.59938\tvalid_1's l2: 1.71855\n",
      "[24]\ttraining's l2: 1.59594\tvalid_1's l2: 1.719\n",
      "[25]\ttraining's l2: 1.5932\tvalid_1's l2: 1.71859\n",
      "[26]\ttraining's l2: 1.58943\tvalid_1's l2: 1.71834\n",
      "[27]\ttraining's l2: 1.58628\tvalid_1's l2: 1.71774\n",
      "[28]\ttraining's l2: 1.58235\tvalid_1's l2: 1.71837\n",
      "[29]\ttraining's l2: 1.57924\tvalid_1's l2: 1.71914\n",
      "[30]\ttraining's l2: 1.57619\tvalid_1's l2: 1.71875\n",
      "[31]\ttraining's l2: 1.57286\tvalid_1's l2: 1.7183\n",
      "[32]\ttraining's l2: 1.57036\tvalid_1's l2: 1.71838\n",
      "[33]\ttraining's l2: 1.56788\tvalid_1's l2: 1.719\n",
      "[34]\ttraining's l2: 1.56405\tvalid_1's l2: 1.71968\n",
      "[35]\ttraining's l2: 1.561\tvalid_1's l2: 1.72078\n",
      "[36]\ttraining's l2: 1.55861\tvalid_1's l2: 1.72151\n",
      "[37]\ttraining's l2: 1.55574\tvalid_1's l2: 1.72135\n",
      "[38]\ttraining's l2: 1.55308\tvalid_1's l2: 1.72211\n",
      "[39]\ttraining's l2: 1.54996\tvalid_1's l2: 1.72288\n",
      "[40]\ttraining's l2: 1.54803\tvalid_1's l2: 1.72373\n",
      "[41]\ttraining's l2: 1.54532\tvalid_1's l2: 1.7247\n",
      "[42]\ttraining's l2: 1.54265\tvalid_1's l2: 1.7249\n",
      "[43]\ttraining's l2: 1.53976\tvalid_1's l2: 1.72527\n",
      "[44]\ttraining's l2: 1.5373\tvalid_1's l2: 1.72581\n",
      "[45]\ttraining's l2: 1.53421\tvalid_1's l2: 1.7267\n",
      "[46]\ttraining's l2: 1.53158\tvalid_1's l2: 1.72678\n",
      "[47]\ttraining's l2: 1.52882\tvalid_1's l2: 1.72618\n",
      "[48]\ttraining's l2: 1.52642\tvalid_1's l2: 1.72707\n",
      "[49]\ttraining's l2: 1.52419\tvalid_1's l2: 1.72763\n",
      "[50]\ttraining's l2: 1.52159\tvalid_1's l2: 1.72849\n",
      "[51]\ttraining's l2: 1.51929\tvalid_1's l2: 1.72841\n",
      "[52]\ttraining's l2: 1.51702\tvalid_1's l2: 1.72963\n",
      "[53]\ttraining's l2: 1.51448\tvalid_1's l2: 1.73017\n",
      "[54]\ttraining's l2: 1.51213\tvalid_1's l2: 1.73003\n",
      "[55]\ttraining's l2: 1.51014\tvalid_1's l2: 1.73084\n",
      "[56]\ttraining's l2: 1.50814\tvalid_1's l2: 1.73072\n",
      "[57]\ttraining's l2: 1.50584\tvalid_1's l2: 1.731\n",
      "[58]\ttraining's l2: 1.50367\tvalid_1's l2: 1.7315\n",
      "[59]\ttraining's l2: 1.50145\tvalid_1's l2: 1.7312\n",
      "[60]\ttraining's l2: 1.49895\tvalid_1's l2: 1.732\n",
      "[61]\ttraining's l2: 1.49652\tvalid_1's l2: 1.73204\n",
      "[62]\ttraining's l2: 1.49493\tvalid_1's l2: 1.7316\n",
      "[63]\ttraining's l2: 1.49222\tvalid_1's l2: 1.73206\n",
      "[64]\ttraining's l2: 1.48998\tvalid_1's l2: 1.73237\n",
      "[65]\ttraining's l2: 1.48791\tvalid_1's l2: 1.73294\n",
      "[66]\ttraining's l2: 1.48566\tvalid_1's l2: 1.73372\n",
      "[67]\ttraining's l2: 1.48392\tvalid_1's l2: 1.73366\n",
      "[68]\ttraining's l2: 1.48163\tvalid_1's l2: 1.73463\n",
      "[69]\ttraining's l2: 1.47977\tvalid_1's l2: 1.73543\n",
      "[70]\ttraining's l2: 1.4773\tvalid_1's l2: 1.73651\n",
      "[71]\ttraining's l2: 1.47524\tvalid_1's l2: 1.73696\n",
      "[72]\ttraining's l2: 1.47275\tvalid_1's l2: 1.73769\n",
      "[73]\ttraining's l2: 1.47103\tvalid_1's l2: 1.73774\n",
      "[74]\ttraining's l2: 1.46816\tvalid_1's l2: 1.73801\n",
      "[75]\ttraining's l2: 1.46586\tvalid_1's l2: 1.73804\n",
      "[76]\ttraining's l2: 1.46423\tvalid_1's l2: 1.73845\n",
      "[77]\ttraining's l2: 1.46232\tvalid_1's l2: 1.7394\n",
      "[78]\ttraining's l2: 1.46051\tvalid_1's l2: 1.74004\n",
      "[79]\ttraining's l2: 1.45857\tvalid_1's l2: 1.74122\n",
      "[80]\ttraining's l2: 1.45653\tvalid_1's l2: 1.74102\n",
      "[81]\ttraining's l2: 1.45428\tvalid_1's l2: 1.74134\n",
      "[82]\ttraining's l2: 1.45238\tvalid_1's l2: 1.74167\n",
      "[83]\ttraining's l2: 1.45047\tvalid_1's l2: 1.74185\n",
      "[84]\ttraining's l2: 1.44772\tvalid_1's l2: 1.7425\n",
      "[85]\ttraining's l2: 1.44531\tvalid_1's l2: 1.74339\n",
      "[86]\ttraining's l2: 1.44352\tvalid_1's l2: 1.74332\n",
      "[87]\ttraining's l2: 1.44194\tvalid_1's l2: 1.74358\n",
      "[88]\ttraining's l2: 1.43983\tvalid_1's l2: 1.74405\n",
      "[89]\ttraining's l2: 1.43824\tvalid_1's l2: 1.74487\n",
      "[90]\ttraining's l2: 1.4365\tvalid_1's l2: 1.74523\n",
      "[91]\ttraining's l2: 1.43442\tvalid_1's l2: 1.7462\n",
      "[92]\ttraining's l2: 1.43284\tvalid_1's l2: 1.74613\n",
      "[93]\ttraining's l2: 1.43136\tvalid_1's l2: 1.74616\n",
      "[94]\ttraining's l2: 1.42995\tvalid_1's l2: 1.74672\n",
      "[95]\ttraining's l2: 1.42822\tvalid_1's l2: 1.74705\n",
      "[96]\ttraining's l2: 1.42632\tvalid_1's l2: 1.74799\n",
      "[97]\ttraining's l2: 1.4244\tvalid_1's l2: 1.74944\n",
      "[98]\ttraining's l2: 1.42236\tvalid_1's l2: 1.75032\n",
      "[99]\ttraining's l2: 1.42028\tvalid_1's l2: 1.75148\n",
      "[100]\ttraining's l2: 1.41886\tvalid_1's l2: 1.75255\n"
     ]
    }
   ],
   "source": [
    "gbm_model = lgb.train(params,lgb_train,valid_sets=(lgb_train, lgb_eval))"
   ]
  },
  {
   "cell_type": "code",
   "execution_count": 769,
   "metadata": {},
   "outputs": [
    {
     "data": {
      "text/plain": [
       "array([1.5678764 , 1.84636441, 1.13064694, ..., 1.17888951, 1.51999313,\n",
       "       0.86473524])"
      ]
     },
     "execution_count": 769,
     "metadata": {},
     "output_type": "execute_result"
    }
   ],
   "source": [
    "gbm_pred = gbm_model.predict(x_test)\n",
    "gbm_pred"
   ]
  },
  {
   "cell_type": "code",
   "execution_count": 770,
   "metadata": {},
   "outputs": [
    {
     "name": "stdout",
     "output_type": "stream",
     "text": [
      "LightGBMモデルの平均絶対誤差は 1.0433960575758203\n",
      "LightGBMモデルの決定係数は 0.014745704927568104\n"
     ]
    }
   ],
   "source": [
    "X=mean_absolute_error(y_test, gbm_pred)\n",
    "print(\"LightGBMモデルの平均絶対誤差は\",X)\n",
    "Y=r2_score(y_test, gbm_pred)\n",
    "print(\"LightGBMモデルの決定係数は\",Y)"
   ]
  },
  {
   "cell_type": "code",
   "execution_count": 771,
   "metadata": {},
   "outputs": [
    {
     "data": {
      "image/png": "[encoded data removed]",
      "text/plain": [
       "<Figure size 720x1728 with 3 Axes>"
      ]
     },
     "metadata": {
      "needs_background": "light"
     },
     "output_type": "display_data"
    }
   ],
   "source": [
    "fig = plt.figure(figsize=(10,24))\n",
    "\n",
    "ax1 = fig.add_subplot(3, 1, 1)\n",
    "plt.scatter(y_test,gbm_pred,color=\"blue\")\n",
    "x = np.arange(0, 40000)\n",
    "plt.plot(x,x,color=\"red\")\n",
    "plt.title(\"predicted_data & test_data\")\n",
    "plt.xlabel(\"test_data\")\n",
    "plt.ylabel(\"predicted_data\")\n",
    "\n",
    "ax2 = fig.add_subplot(3, 1, 2)\n",
    "plt.scatter(gbm_pred, gbm_pred - y_test, color = 'blue')      # 残差をプロット \n",
    "plt.hlines(y = 0, xmin = -2000, xmax = 38000, color = 'black') # x軸に沿った直線をプロット\n",
    "plt.title('Residual Plot')                                # 図のタイトル\n",
    "plt.xlabel('Predicted Values')                            # x軸のラベル\n",
    "plt.ylabel('Residuals')                                   # y軸のラベル\n",
    "plt.grid()                                                # グリッド線を表示\n",
    "\n",
    "\n",
    "ax3 = fig.add_subplot(3, 1, 3)\n",
    "features = x_train.columns\n",
    "importances = gbm_model.feature_importance()\n",
    "indices = np.argsort(importances)\n",
    "plt.barh(range(len(indices)),importances[indices],align='center')\n",
    "plt.yticks(range(len(indices)), features[indices])\n",
    "plt.title(\"feature_importances\")\n",
    "plt.xlabel(\"importance\")\n",
    "plt.ylabel(\"feature\")\n",
    "\n",
    "plt.show()"
   ]
  },
  {
   "cell_type": "code",
   "execution_count": 772,
   "metadata": {},
   "outputs": [],
   "source": [
    "with open('rf_model.txt', mode='wb') as f:\n",
    "    pickle.dump(rf_model, f)\n",
    "\n",
    "#with open('xgb_model.txt', mode='wb') as f:\n",
    "#    pickle.dump(xgb_model, f)\n",
    "    \n",
    "with open('gbm_model.txt', mode='wb') as f:\n",
    "    pickle.dump(gbm_model, f)"
   ]
  },
  {
   "cell_type": "markdown",
   "metadata": {},
   "source": [
    "## パラメータ調整\n"
   ]
  },
  {
   "cell_type": "code",
   "execution_count": 773,
   "metadata": {},
   "outputs": [],
   "source": [
    "params = {'max_depth':[4,6,8]}\n"
   ]
  },
  {
   "cell_type": "code",
   "execution_count": 774,
   "metadata": {},
   "outputs": [],
   "source": [
    "grid_rf_model = GridSearchCV(\n",
    "    RandomForestRegressor(random_state=1),\n",
    "    param_grid=params,\n",
    "    cv=5,\n",
    "    scoring = 'r2',\n",
    "    n_jobs=-1\n",
    "    )"
   ]
  },
  {
   "cell_type": "code",
   "execution_count": 775,
   "metadata": {},
   "outputs": [
    {
     "data": {
      "text/plain": [
       "GridSearchCV(cv=5, error_score=nan,\n",
       "             estimator=RandomForestRegressor(bootstrap=True, ccp_alpha=0.0,\n",
       "                                             criterion='mse', max_depth=None,\n",
       "                                             max_features='auto',\n",
       "                                             max_leaf_nodes=None,\n",
       "                                             max_samples=None,\n",
       "                                             min_impurity_decrease=0.0,\n",
       "                                             min_impurity_split=None,\n",
       "                                             min_samples_leaf=1,\n",
       "                                             min_samples_split=2,\n",
       "                                             min_weight_fraction_leaf=0.0,\n",
       "                                             n_estimators=100, n_jobs=None,\n",
       "                                             oob_score=False, random_state=1,\n",
       "                                             verbose=0, warm_start=False),\n",
       "             iid='deprecated', n_jobs=-1, param_grid={'max_depth': [4, 6, 8]},\n",
       "             pre_dispatch='2*n_jobs', refit=True, return_train_score=False,\n",
       "             scoring='r2', verbose=0)"
      ]
     },
     "execution_count": 775,
     "metadata": {},
     "output_type": "execute_result"
    }
   ],
   "source": [
    "grid_rf_model.fit(x_train, y_train)"
   ]
  },
  {
   "cell_type": "code",
   "execution_count": 776,
   "metadata": {},
   "outputs": [
    {
     "data": {
      "text/plain": [
       "RandomForestRegressor(bootstrap=True, ccp_alpha=0.0, criterion='mse',\n",
       "                      max_depth=4, max_features='auto', max_leaf_nodes=None,\n",
       "                      max_samples=None, min_impurity_decrease=0.0,\n",
       "                      min_impurity_split=None, min_samples_leaf=1,\n",
       "                      min_samples_split=2, min_weight_fraction_leaf=0.0,\n",
       "                      n_estimators=100, n_jobs=None, oob_score=False,\n",
       "                      random_state=1, verbose=0, warm_start=False)"
      ]
     },
     "execution_count": 776,
     "metadata": {},
     "output_type": "execute_result"
    }
   ],
   "source": [
    "grid_rf_model.best_estimator_"
   ]
  },
  {
   "cell_type": "code",
   "execution_count": 777,
   "metadata": {},
   "outputs": [],
   "source": [
    "with open('grid_rf_model.txt', mode='wb') as f:\n",
    "    pickle.dump(grid_rf_model.best_estimator_, f)"
   ]
  },
  {
   "cell_type": "code",
   "execution_count": 778,
   "metadata": {},
   "outputs": [],
   "source": [
    "gridParams = {\n",
    "        'max_depth': [4,6,8],\n",
    "        'learning_rate':[0.1,0.3,0.5],\n",
    "        'min_data_in_leaf': [15,20,25],\n",
    "        'num_leaves':[27,31,35]\n",
    "        }"
   ]
  },
  {
   "cell_type": "code",
   "execution_count": 779,
   "metadata": {},
   "outputs": [],
   "source": [
    "fitParams = {'early_stopping_rounds': 10,\n",
    "              'eval_set': [[x_test, y_test]]}"
   ]
  },
  {
   "cell_type": "code",
   "execution_count": 780,
   "metadata": {},
   "outputs": [],
   "source": [
    "lgb_train = lgb.Dataset(x_train, y_train)\n",
    "lgb_eval = lgb.Dataset(x_test, y_test)"
   ]
  },
  {
   "cell_type": "code",
   "execution_count": 781,
   "metadata": {},
   "outputs": [],
   "source": [
    "grid_gbm_model = GridSearchCV(\n",
    "    lgb.LGBMRegressor(random_state=1),\n",
    "    param_grid=gridParams,\n",
    "    cv=5,\n",
    "    scoring='r2',\n",
    "    n_jobs=-1\n",
    "    )"
   ]
  },
  {
   "cell_type": "code",
   "execution_count": 782,
   "metadata": {},
   "outputs": [
    {
     "name": "stdout",
     "output_type": "stream",
     "text": [
      "[LightGBM] [Warning] min_data_in_leaf is set=20, min_child_samples=20 will be ignored. Current value: min_data_in_leaf=20\n",
      "Training until validation scores don't improve for 10 rounds\n",
      "[2]\tvalid_0's l2: 1.75489\n",
      "[4]\tvalid_0's l2: 1.73946\n",
      "[6]\tvalid_0's l2: 1.73001\n",
      "[8]\tvalid_0's l2: 1.72365\n",
      "[10]\tvalid_0's l2: 1.7205\n",
      "[12]\tvalid_0's l2: 1.71844\n",
      "[14]\tvalid_0's l2: 1.71725\n",
      "[16]\tvalid_0's l2: 1.71596\n",
      "[18]\tvalid_0's l2: 1.71621\n",
      "[20]\tvalid_0's l2: 1.71655\n",
      "[22]\tvalid_0's l2: 1.71579\n",
      "[24]\tvalid_0's l2: 1.71686\n",
      "[26]\tvalid_0's l2: 1.71721\n",
      "[28]\tvalid_0's l2: 1.7179\n",
      "[30]\tvalid_0's l2: 1.71787\n",
      "[32]\tvalid_0's l2: 1.71784\n",
      "Early stopping, best iteration is:\n",
      "[22]\tvalid_0's l2: 1.71579\n"
     ]
    },
    {
     "data": {
      "text/plain": [
       "GridSearchCV(cv=5, error_score=nan,\n",
       "             estimator=LGBMRegressor(boosting_type='gbdt', class_weight=None,\n",
       "                                     colsample_bytree=1.0,\n",
       "                                     importance_type='split', learning_rate=0.1,\n",
       "                                     max_depth=-1, min_child_samples=20,\n",
       "                                     min_child_weight=0.001, min_split_gain=0.0,\n",
       "                                     n_estimators=100, n_jobs=-1, num_leaves=31,\n",
       "                                     objective=None, random_state=1,\n",
       "                                     reg_alpha=0.0, reg_lambda=0.0, silent=True,\n",
       "                                     subsample=1.0, subsample_for_bin=200000,\n",
       "                                     subsample_freq=0),\n",
       "             iid='deprecated', n_jobs=-1,\n",
       "             param_grid={'learning_rate': [0.1, 0.3, 0.5],\n",
       "                         'max_depth': [4, 6, 8],\n",
       "                         'min_data_in_leaf': [15, 20, 25],\n",
       "                         'num_leaves': [27, 31, 35]},\n",
       "             pre_dispatch='2*n_jobs', refit=True, return_train_score=False,\n",
       "             scoring='r2', verbose=0)"
      ]
     },
     "execution_count": 782,
     "metadata": {},
     "output_type": "execute_result"
    }
   ],
   "source": [
    "grid_gbm_model.fit(\n",
    "    x_train,\n",
    "    y_train,\n",
    "    **fitParams,\n",
    "    verbose=2)"
   ]
  },
  {
   "cell_type": "code",
   "execution_count": 783,
   "metadata": {},
   "outputs": [
    {
     "data": {
      "text/plain": [
       "LGBMRegressor(boosting_type='gbdt', class_weight=None, colsample_bytree=1.0,\n",
       "              importance_type='split', learning_rate=0.1, max_depth=4,\n",
       "              min_child_samples=20, min_child_weight=0.001, min_data_in_leaf=20,\n",
       "              min_split_gain=0.0, n_estimators=100, n_jobs=-1, num_leaves=27,\n",
       "              objective=None, random_state=1, reg_alpha=0.0, reg_lambda=0.0,\n",
       "              silent=True, subsample=1.0, subsample_for_bin=200000,\n",
       "              subsample_freq=0)"
      ]
     },
     "execution_count": 783,
     "metadata": {},
     "output_type": "execute_result"
    }
   ],
   "source": [
    "grid_gbm_model.best_estimator_"
   ]
  },
  {
   "cell_type": "code",
   "execution_count": 784,
   "metadata": {},
   "outputs": [],
   "source": [
    "with open('grid_gbm_model.txt', mode='wb') as f:\n",
    "    pickle.dump(grid_gbm_model.best_estimator_, f)"
   ]
  },
  {
   "cell_type": "markdown",
   "metadata": {},
   "source": [
    "##  最適化されたモデルによる予測・評価"
   ]
  },
  {
   "cell_type": "code",
   "execution_count": 786,
   "metadata": {},
   "outputs": [],
   "source": [
    "with open('grid_rf_model.txt', mode='rb') as f:\n",
    "    rf_best_model = pickle.load(f)"
   ]
  },
  {
   "cell_type": "code",
   "execution_count": 787,
   "metadata": {},
   "outputs": [
    {
     "data": {
      "text/plain": [
       "array([1.1654447 , 1.59089636, 1.32963877, ..., 1.31169497, 1.40675543,\n",
       "       1.37082279])"
      ]
     },
     "execution_count": 787,
     "metadata": {},
     "output_type": "execute_result"
    }
   ],
   "source": [
    "rf_pred = rf_best_model.predict(x_test)\n",
    "rf_pred"
   ]
  },
  {
   "cell_type": "code",
   "execution_count": 788,
   "metadata": {},
   "outputs": [
    {
     "name": "stdout",
     "output_type": "stream",
     "text": [
      "モデルの平均絶対誤差は 1.0361989704852068\n",
      "モデルの決定係数は 0.035613402167098185\n"
     ]
    }
   ],
   "source": [
    "X=mean_absolute_error(y_test, rf_pred)\n",
    "print(\"モデルの平均絶対誤差は\",X)\n",
    "Y=r2_score(y_test, rf_pred)\n",
    "print(\"モデルの決定係数は\",Y)"
   ]
  },
  {
   "cell_type": "code",
   "execution_count": 908,
   "metadata": {},
   "outputs": [
    {
     "data": {
      "image/png": "[encoded data removed]",
      "text/plain": [
       "<Figure size 576x1728 with 3 Axes>"
      ]
     },
     "metadata": {
      "needs_background": "light"
     },
     "output_type": "display_data"
    }
   ],
   "source": [
    "fig = plt.figure(figsize=(8,24))\n",
    "\n",
    "ax1 = fig.add_subplot(3, 1, 1)\n",
    "plt.scatter(y_test,rf_pred,color=\"blue\")\n",
    "x = np.arange(0, 7)\n",
    "plt.plot(x,x,color=\"red\")\n",
    "plt.title(\"predicted_data & test_data\")\n",
    "plt.xlabel(\"test_data\")\n",
    "plt.ylabel(\"predicted_data\")\n",
    "\n",
    "ax2 = fig.add_subplot(3, 1, 2)\n",
    "plt.scatter(rf_pred, rf_pred - y_test, color = 'blue')      # 残差をプロット \n",
    "plt.hlines(y = 0, xmin = 0, xmax = 7, color = 'black') # x軸に沿った直線をプロット\n",
    "plt.title('Residual Plot')                                # 図のタイトル\n",
    "plt.xlabel('Predicted Values')                            # x軸のラベル\n",
    "plt.ylabel('Residuals')                                   # y軸のラベル\n",
    "plt.grid()                                                # グリッド線を表示\n",
    "\n",
    "\n",
    "ax3 = fig.add_subplot(3, 1, 3)\n",
    "features = x_train.columns\n",
    "importances = rf_best_model.feature_importances_\n",
    "indices = np.argsort(importances)\n",
    "plt.barh(range(len(indices)),importances[indices],align='center')\n",
    "plt.yticks(range(len(indices)), features[indices])\n",
    "plt.title(\"feature_importances\")\n",
    "plt.xlabel(\"importance\")\n",
    "plt.ylabel(\"feature\")\n",
    "\n",
    "plt.show()\n"
   ]
  },
  {
   "cell_type": "code",
   "execution_count": 790,
   "metadata": {},
   "outputs": [],
   "source": [
    "with open('grid_gbm_model.txt', mode='rb') as f:\n",
    "    gbm_best_model = pickle.load(f)"
   ]
  },
  {
   "cell_type": "code",
   "execution_count": 791,
   "metadata": {},
   "outputs": [
    {
     "data": {
      "text/plain": [
       "array([1.20898355, 1.48353702, 1.30410729, ..., 1.2907283 , 1.39244124,\n",
       "       1.31667179])"
      ]
     },
     "execution_count": 791,
     "metadata": {},
     "output_type": "execute_result"
    }
   ],
   "source": [
    "gbm_pred = gbm_best_model.predict(x_test)\n",
    "gbm_pred"
   ]
  },
  {
   "cell_type": "code",
   "execution_count": 792,
   "metadata": {},
   "outputs": [
    {
     "name": "stdout",
     "output_type": "stream",
     "text": [
      "モデルの平均絶対誤差は 1.0373003849800038\n",
      "モデルの決定係数は 0.03541231641137765\n"
     ]
    }
   ],
   "source": [
    "X=mean_absolute_error(y_test, gbm_pred)\n",
    "print(\"モデルの平均絶対誤差は\",X)\n",
    "Y=r2_score(y_test, gbm_pred)\n",
    "print(\"モデルの決定係数は\",Y)"
   ]
  },
  {
   "cell_type": "code",
   "execution_count": 907,
   "metadata": {},
   "outputs": [
    {
     "data": {
      "image/png": "[encoded data removed]",
      "text/plain": [
       "<Figure size 576x1728 with 3 Axes>"
      ]
     },
     "metadata": {
      "needs_background": "light"
     },
     "output_type": "display_data"
    }
   ],
   "source": [
    "fig = plt.figure(figsize=(8,24))\n",
    "\n",
    "ax1 = fig.add_subplot(3, 1, 1)\n",
    "plt.scatter(y_test,gbm_pred,color=\"blue\")\n",
    "x = np.arange(0, 7)\n",
    "plt.plot(x,x,color=\"red\")\n",
    "plt.title(\"predicted_data & test_data\")\n",
    "plt.xlabel(\"test_data\")\n",
    "plt.ylabel(\"predicted_data\")\n",
    "\n",
    "ax2 = fig.add_subplot(3, 1, 2)\n",
    "plt.scatter(gbm_pred, gbm_pred - y_test, color = 'blue')      # 残差をプロット \n",
    "plt.hlines(y = 0, xmin = 0, xmax = 7, color = 'black') # x軸に沿った直線をプロット\n",
    "plt.title('Residual Plot')                                # 図のタイトル\n",
    "plt.xlabel('Predicted Values')                            # x軸のラベル\n",
    "plt.ylabel('Residuals')                                   # y軸のラベル\n",
    "plt.grid()                                                # グリッド線を表示\n",
    "\n",
    "\n",
    "ax3 = fig.add_subplot(3, 1, 3)\n",
    "features = x_train.columns\n",
    "importances = gbm_best_model.feature_importances_\n",
    "indices = np.argsort(importances)\n",
    "plt.barh(range(len(indices)),importances[indices],align='center')\n",
    "plt.yticks(range(len(indices)), features[indices])\n",
    "plt.title(\"feature_importances\")\n",
    "plt.xlabel(\"importance\")\n",
    "plt.ylabel(\"feature\")\n",
    "\n",
    "plt.show()"
   ]
  },
  {
   "cell_type": "code",
   "execution_count": 909,
   "metadata": {},
   "outputs": [
    {
     "data": {
      "image/png": "[encoded data removed]",
      "text/plain": [
       "<Figure size 1440x1440 with 2 Axes>"
      ]
     },
     "metadata": {
      "needs_background": "light"
     },
     "output_type": "display_data"
    }
   ],
   "source": [
    "plt.figure(figsize=(20,20))\n",
    "corr = imp_data.corr()\n",
    "cmap = sns.color_palette(\"coolwarm\", 200)\n",
    "sns.heatmap(corr,xticklabels=corr.columns,\n",
    "            yticklabels=corr.columns,\n",
    "            square=True, \n",
    "            annot=True,\n",
    "            cmap=cmap)\n",
    "plt.show()"
   ]
  },
  {
   "cell_type": "code",
   "execution_count": 923,
   "metadata": {},
   "outputs": [
    {
     "ename": "ValueError",
     "evalue": "DataFrame.dtypes for data must be int, float or bool.\nDid not expect the data types in the following fields: pitcher, batter, inning, bottomTeam, topTeam, place",
     "output_type": "error",
     "traceback": [
      "\u001b[1;31m---------------------------------------------------------------------------\u001b[0m",
      "\u001b[1;31mValueError\u001b[0m                                Traceback (most recent call last)",
      "\u001b[1;32m<ipython-input-923-c362a1693c1d>\u001b[0m in \u001b[0;36m<module>\u001b[1;34m\u001b[0m\n\u001b[0;32m      1\u001b[0m \u001b[1;31m#テスト結果の出力\u001b[0m\u001b[1;33m\u001b[0m\u001b[1;33m\u001b[0m\u001b[1;33m\u001b[0m\u001b[0m\n\u001b[1;32m----> 2\u001b[1;33m \u001b[0mtest_predicted\u001b[0m \u001b[1;33m=\u001b[0m \u001b[0mgbm_model\u001b[0m\u001b[1;33m.\u001b[0m\u001b[0mpredict\u001b[0m\u001b[1;33m(\u001b[0m\u001b[0mtest\u001b[0m\u001b[1;33m)\u001b[0m\u001b[1;33m\u001b[0m\u001b[1;33m\u001b[0m\u001b[0m\n\u001b[0m\u001b[0;32m      3\u001b[0m \u001b[0msubmit_df\u001b[0m \u001b[1;33m=\u001b[0m \u001b[0mpd\u001b[0m\u001b[1;33m.\u001b[0m\u001b[0mDataFrame\u001b[0m\u001b[1;33m(\u001b[0m\u001b[1;33m{\u001b[0m\u001b[1;34m'y'\u001b[0m\u001b[1;33m:\u001b[0m \u001b[0mtest_predicted\u001b[0m\u001b[1;33m}\u001b[0m\u001b[1;33m)\u001b[0m\u001b[1;33m\u001b[0m\u001b[1;33m\u001b[0m\u001b[0m\n\u001b[0;32m      4\u001b[0m \u001b[0msubmit_df\u001b[0m\u001b[1;33m.\u001b[0m\u001b[0mindex\u001b[0m\u001b[1;33m.\u001b[0m\u001b[0mname\u001b[0m \u001b[1;33m=\u001b[0m \u001b[1;34m'id'\u001b[0m\u001b[1;33m\u001b[0m\u001b[1;33m\u001b[0m\u001b[0m\n\u001b[0;32m      5\u001b[0m \u001b[0msubmit_df\u001b[0m\u001b[1;33m.\u001b[0m\u001b[0mto_csv\u001b[0m\u001b[1;33m(\u001b[0m\u001b[1;34m'submission.csv'\u001b[0m\u001b[1;33m)\u001b[0m\u001b[1;33m\u001b[0m\u001b[1;33m\u001b[0m\u001b[0m\n",
      "\u001b[1;32mC:\\ProgramData\\Anaconda3\\lib\\site-packages\\lightgbm\\basic.py\u001b[0m in \u001b[0;36mpredict\u001b[1;34m(self, data, start_iteration, num_iteration, raw_score, pred_leaf, pred_contrib, data_has_header, is_reshape, **kwargs)\u001b[0m\n\u001b[0;32m   3142\u001b[0m         return predictor.predict(data, start_iteration, num_iteration,\n\u001b[0;32m   3143\u001b[0m                                  \u001b[0mraw_score\u001b[0m\u001b[1;33m,\u001b[0m \u001b[0mpred_leaf\u001b[0m\u001b[1;33m,\u001b[0m \u001b[0mpred_contrib\u001b[0m\u001b[1;33m,\u001b[0m\u001b[1;33m\u001b[0m\u001b[1;33m\u001b[0m\u001b[0m\n\u001b[1;32m-> 3144\u001b[1;33m                                  data_has_header, is_reshape)\n\u001b[0m\u001b[0;32m   3145\u001b[0m \u001b[1;33m\u001b[0m\u001b[0m\n\u001b[0;32m   3146\u001b[0m     \u001b[1;32mdef\u001b[0m \u001b[0mrefit\u001b[0m\u001b[1;33m(\u001b[0m\u001b[0mself\u001b[0m\u001b[1;33m,\u001b[0m \u001b[0mdata\u001b[0m\u001b[1;33m,\u001b[0m \u001b[0mlabel\u001b[0m\u001b[1;33m,\u001b[0m \u001b[0mdecay_rate\u001b[0m\u001b[1;33m=\u001b[0m\u001b[1;36m0.9\u001b[0m\u001b[1;33m,\u001b[0m \u001b[1;33m**\u001b[0m\u001b[0mkwargs\u001b[0m\u001b[1;33m)\u001b[0m\u001b[1;33m:\u001b[0m\u001b[1;33m\u001b[0m\u001b[1;33m\u001b[0m\u001b[0m\n",
      "\u001b[1;32mC:\\ProgramData\\Anaconda3\\lib\\site-packages\\lightgbm\\basic.py\u001b[0m in \u001b[0;36mpredict\u001b[1;34m(self, data, start_iteration, num_iteration, raw_score, pred_leaf, pred_contrib, data_has_header, is_reshape)\u001b[0m\n\u001b[0;32m    696\u001b[0m         \u001b[1;32mif\u001b[0m \u001b[0misinstance\u001b[0m\u001b[1;33m(\u001b[0m\u001b[0mdata\u001b[0m\u001b[1;33m,\u001b[0m \u001b[0mDataset\u001b[0m\u001b[1;33m)\u001b[0m\u001b[1;33m:\u001b[0m\u001b[1;33m\u001b[0m\u001b[1;33m\u001b[0m\u001b[0m\n\u001b[0;32m    697\u001b[0m             \u001b[1;32mraise\u001b[0m \u001b[0mTypeError\u001b[0m\u001b[1;33m(\u001b[0m\u001b[1;34m\"Cannot use Dataset instance for prediction, please use raw data instead\"\u001b[0m\u001b[1;33m)\u001b[0m\u001b[1;33m\u001b[0m\u001b[1;33m\u001b[0m\u001b[0m\n\u001b[1;32m--> 698\u001b[1;33m         \u001b[0mdata\u001b[0m \u001b[1;33m=\u001b[0m \u001b[0m_data_from_pandas\u001b[0m\u001b[1;33m(\u001b[0m\u001b[0mdata\u001b[0m\u001b[1;33m,\u001b[0m \u001b[1;32mNone\u001b[0m\u001b[1;33m,\u001b[0m \u001b[1;32mNone\u001b[0m\u001b[1;33m,\u001b[0m \u001b[0mself\u001b[0m\u001b[1;33m.\u001b[0m\u001b[0mpandas_categorical\u001b[0m\u001b[1;33m)\u001b[0m\u001b[1;33m[\u001b[0m\u001b[1;36m0\u001b[0m\u001b[1;33m]\u001b[0m\u001b[1;33m\u001b[0m\u001b[1;33m\u001b[0m\u001b[0m\n\u001b[0m\u001b[0;32m    699\u001b[0m         \u001b[0mpredict_type\u001b[0m \u001b[1;33m=\u001b[0m \u001b[0mC_API_PREDICT_NORMAL\u001b[0m\u001b[1;33m\u001b[0m\u001b[1;33m\u001b[0m\u001b[0m\n\u001b[0;32m    700\u001b[0m         \u001b[1;32mif\u001b[0m \u001b[0mraw_score\u001b[0m\u001b[1;33m:\u001b[0m\u001b[1;33m\u001b[0m\u001b[1;33m\u001b[0m\u001b[0m\n",
      "\u001b[1;32mC:\\ProgramData\\Anaconda3\\lib\\site-packages\\lightgbm\\basic.py\u001b[0m in \u001b[0;36m_data_from_pandas\u001b[1;34m(data, feature_name, categorical_feature, pandas_categorical)\u001b[0m\n\u001b[0;32m    537\u001b[0m             raise ValueError(\"DataFrame.dtypes for data must be int, float or bool.\\n\"\n\u001b[0;32m    538\u001b[0m                              \u001b[1;34m\"Did not expect the data types in the following fields: \"\u001b[0m\u001b[1;33m\u001b[0m\u001b[1;33m\u001b[0m\u001b[0m\n\u001b[1;32m--> 539\u001b[1;33m                              + ', '.join(data.columns[bad_indices]))\n\u001b[0m\u001b[0;32m    540\u001b[0m         \u001b[0mdata\u001b[0m \u001b[1;33m=\u001b[0m \u001b[0mdata\u001b[0m\u001b[1;33m.\u001b[0m\u001b[0mvalues\u001b[0m\u001b[1;33m\u001b[0m\u001b[1;33m\u001b[0m\u001b[0m\n\u001b[0;32m    541\u001b[0m         \u001b[1;32mif\u001b[0m \u001b[0mdata\u001b[0m\u001b[1;33m.\u001b[0m\u001b[0mdtype\u001b[0m \u001b[1;33m!=\u001b[0m \u001b[0mnp\u001b[0m\u001b[1;33m.\u001b[0m\u001b[0mfloat32\u001b[0m \u001b[1;32mand\u001b[0m \u001b[0mdata\u001b[0m\u001b[1;33m.\u001b[0m\u001b[0mdtype\u001b[0m \u001b[1;33m!=\u001b[0m \u001b[0mnp\u001b[0m\u001b[1;33m.\u001b[0m\u001b[0mfloat64\u001b[0m\u001b[1;33m:\u001b[0m\u001b[1;33m\u001b[0m\u001b[1;33m\u001b[0m\u001b[0m\n",
      "\u001b[1;31mValueError\u001b[0m: DataFrame.dtypes for data must be int, float or bool.\nDid not expect the data types in the following fields: pitcher, batter, inning, bottomTeam, topTeam, place"
     ]
    }
   ],
   "source": [
    "#テスト結果の出力\n",
    "test_predicted = gbm_model.predict(test)\n",
    "submit_df = pd.DataFrame({'y': test_predicted})\n",
    "submit_df.index.name = 'id'\n",
    "submit_df.to_csv('submission.csv')"
   ]
  },
  {
   "cell_type": "code",
   "execution_count": null,
   "metadata": {},
   "outputs": [],
   "source": []
  }
 ],
 "metadata": {
  "colab": {
   "authorship_tag": "ABX9TyPQGTQepWPyEYi/498kk0FZ",
   "mount_file_id": "1c3Ho576UNgaujfdeswIFZkRJ10kEncPQ",
   "name": "ProbeSpaceプロ野球v2.ipynb",
   "provenance": [],
   "toc_visible": true
  },
  "kernelspec": {
   "display_name": "Python 3",
   "language": "python",
   "name": "python3"
  },
  "language_info": {
   "codemirror_mode": {
    "name": "ipython",
    "version": 3
   },
   "file_extension": ".py",
   "mimetype": "text/x-python",
   "name": "python",
   "nbconvert_exporter": "python",
   "pygments_lexer": "ipython3",
   "version": "3.7.6"
  }
 },
 "nbformat": 4,
 "nbformat_minor": 1
}
